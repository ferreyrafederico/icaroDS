{
 "cells": [
  {
   "cell_type": "markdown",
   "metadata": {},
   "source": [
    "#### Operaciones DataFrames"
   ]
  },
  {
   "cell_type": "markdown",
   "metadata": {},
   "source": [
    "##### Definición de 2 DataFrames"
   ]
  },
  {
   "cell_type": "code",
   "execution_count": 1,
   "metadata": {},
   "outputs": [],
   "source": [
    "import pandas as pd\n",
    "import numpy as np"
   ]
  },
  {
   "cell_type": "code",
   "execution_count": 2,
   "metadata": {},
   "outputs": [
    {
     "data": {
      "text/html": [
       "<div>\n",
       "<style scoped>\n",
       "    .dataframe tbody tr th:only-of-type {\n",
       "        vertical-align: middle;\n",
       "    }\n",
       "\n",
       "    .dataframe tbody tr th {\n",
       "        vertical-align: top;\n",
       "    }\n",
       "\n",
       "    .dataframe thead th {\n",
       "        text-align: right;\n",
       "    }\n",
       "</style>\n",
       "<table border=\"1\" class=\"dataframe\">\n",
       "  <thead>\n",
       "    <tr style=\"text-align: right;\">\n",
       "      <th></th>\n",
       "      <th>Col1</th>\n",
       "      <th>Col2</th>\n",
       "      <th>Col3</th>\n",
       "    </tr>\n",
       "  </thead>\n",
       "  <tbody>\n",
       "    <tr>\n",
       "      <th>0</th>\n",
       "      <td>7</td>\n",
       "      <td>6</td>\n",
       "      <td>3</td>\n",
       "    </tr>\n",
       "    <tr>\n",
       "      <th>1</th>\n",
       "      <td>10</td>\n",
       "      <td>1</td>\n",
       "      <td>4</td>\n",
       "    </tr>\n",
       "    <tr>\n",
       "      <th>2</th>\n",
       "      <td>4</td>\n",
       "      <td>2</td>\n",
       "      <td>5</td>\n",
       "    </tr>\n",
       "    <tr>\n",
       "      <th>3</th>\n",
       "      <td>12</td>\n",
       "      <td>5</td>\n",
       "      <td>11</td>\n",
       "    </tr>\n",
       "  </tbody>\n",
       "</table>\n",
       "</div>"
      ],
      "text/plain": [
       "   Col1  Col2  Col3\n",
       "0     7     6     3\n",
       "1    10     1     4\n",
       "2     4     2     5\n",
       "3    12     5    11"
      ]
     },
     "execution_count": 2,
     "metadata": {},
     "output_type": "execute_result"
    }
   ],
   "source": [
    "datos = [[7, 6, 3], [10, 1, 4], [4, 2, 5], [12, 5, 11]]\n",
    "df1 = pd.DataFrame(datos, columns=[\"Col1\", \"Col2\", \"Col3\"])\n",
    "df1"
   ]
  },
  {
   "cell_type": "code",
   "execution_count": 3,
   "metadata": {},
   "outputs": [
    {
     "data": {
      "text/html": [
       "<div>\n",
       "<style scoped>\n",
       "    .dataframe tbody tr th:only-of-type {\n",
       "        vertical-align: middle;\n",
       "    }\n",
       "\n",
       "    .dataframe tbody tr th {\n",
       "        vertical-align: top;\n",
       "    }\n",
       "\n",
       "    .dataframe thead th {\n",
       "        text-align: right;\n",
       "    }\n",
       "</style>\n",
       "<table border=\"1\" class=\"dataframe\">\n",
       "  <thead>\n",
       "    <tr style=\"text-align: right;\">\n",
       "      <th></th>\n",
       "      <th>Col2</th>\n",
       "      <th>Col3</th>\n",
       "      <th>Col4</th>\n",
       "      <th>Col5</th>\n",
       "      <th>Col6</th>\n",
       "    </tr>\n",
       "  </thead>\n",
       "  <tbody>\n",
       "    <tr>\n",
       "      <th>0</th>\n",
       "      <td>A</td>\n",
       "      <td>C</td>\n",
       "      <td>B</td>\n",
       "      <td>M</td>\n",
       "      <td>P</td>\n",
       "    </tr>\n",
       "    <tr>\n",
       "      <th>1</th>\n",
       "      <td>F</td>\n",
       "      <td>K</td>\n",
       "      <td>G</td>\n",
       "      <td>Y</td>\n",
       "      <td>E</td>\n",
       "    </tr>\n",
       "    <tr>\n",
       "      <th>2</th>\n",
       "      <td>S</td>\n",
       "      <td>D</td>\n",
       "      <td>H</td>\n",
       "      <td>Z</td>\n",
       "      <td>W</td>\n",
       "    </tr>\n",
       "  </tbody>\n",
       "</table>\n",
       "</div>"
      ],
      "text/plain": [
       "  Col2 Col3 Col4 Col5 Col6\n",
       "0    A    C    B    M    P\n",
       "1    F    K    G    Y    E\n",
       "2    S    D    H    Z    W"
      ]
     },
     "execution_count": 3,
     "metadata": {},
     "output_type": "execute_result"
    }
   ],
   "source": [
    "filas = [\n",
    "    [\"A\", \"C\", \"B\", \"M\", \"P\"],\n",
    "    [\"F\", \"K\", \"G\", \"Y\", \"E\"],\n",
    "    [\"S\", \"D\", \"H\", \"Z\", \"W\"],\n",
    "]\n",
    "\n",
    "\n",
    "columnas = [\"Col2\", \"Col3\", \"Col4\", \"Col5\", \"Col6\"]\n",
    "\n",
    "\n",
    "dicc = dict(zip(columnas, zip(*filas)))\n",
    "\n",
    "\n",
    "df2 = pd.DataFrame(dicc)\n",
    "\n",
    "\n",
    "df2"
   ]
  },
  {
   "cell_type": "markdown",
   "metadata": {},
   "source": [
    "#### Concat de concatenar"
   ]
  },
  {
   "cell_type": "code",
   "execution_count": 4,
   "metadata": {},
   "outputs": [
    {
     "data": {
      "text/html": [
       "<div>\n",
       "<style scoped>\n",
       "    .dataframe tbody tr th:only-of-type {\n",
       "        vertical-align: middle;\n",
       "    }\n",
       "\n",
       "    .dataframe tbody tr th {\n",
       "        vertical-align: top;\n",
       "    }\n",
       "\n",
       "    .dataframe thead th {\n",
       "        text-align: right;\n",
       "    }\n",
       "</style>\n",
       "<table border=\"1\" class=\"dataframe\">\n",
       "  <thead>\n",
       "    <tr style=\"text-align: right;\">\n",
       "      <th></th>\n",
       "      <th>Col1</th>\n",
       "      <th>Col2</th>\n",
       "      <th>Col3</th>\n",
       "      <th>Col4</th>\n",
       "      <th>Col5</th>\n",
       "      <th>Col6</th>\n",
       "    </tr>\n",
       "  </thead>\n",
       "  <tbody>\n",
       "    <tr>\n",
       "      <th>0</th>\n",
       "      <td>7.0</td>\n",
       "      <td>6</td>\n",
       "      <td>3</td>\n",
       "      <td>NaN</td>\n",
       "      <td>NaN</td>\n",
       "      <td>NaN</td>\n",
       "    </tr>\n",
       "    <tr>\n",
       "      <th>1</th>\n",
       "      <td>10.0</td>\n",
       "      <td>1</td>\n",
       "      <td>4</td>\n",
       "      <td>NaN</td>\n",
       "      <td>NaN</td>\n",
       "      <td>NaN</td>\n",
       "    </tr>\n",
       "    <tr>\n",
       "      <th>2</th>\n",
       "      <td>4.0</td>\n",
       "      <td>2</td>\n",
       "      <td>5</td>\n",
       "      <td>NaN</td>\n",
       "      <td>NaN</td>\n",
       "      <td>NaN</td>\n",
       "    </tr>\n",
       "    <tr>\n",
       "      <th>3</th>\n",
       "      <td>12.0</td>\n",
       "      <td>5</td>\n",
       "      <td>11</td>\n",
       "      <td>NaN</td>\n",
       "      <td>NaN</td>\n",
       "      <td>NaN</td>\n",
       "    </tr>\n",
       "    <tr>\n",
       "      <th>0</th>\n",
       "      <td>NaN</td>\n",
       "      <td>A</td>\n",
       "      <td>C</td>\n",
       "      <td>B</td>\n",
       "      <td>M</td>\n",
       "      <td>P</td>\n",
       "    </tr>\n",
       "    <tr>\n",
       "      <th>1</th>\n",
       "      <td>NaN</td>\n",
       "      <td>F</td>\n",
       "      <td>K</td>\n",
       "      <td>G</td>\n",
       "      <td>Y</td>\n",
       "      <td>E</td>\n",
       "    </tr>\n",
       "    <tr>\n",
       "      <th>2</th>\n",
       "      <td>NaN</td>\n",
       "      <td>S</td>\n",
       "      <td>D</td>\n",
       "      <td>H</td>\n",
       "      <td>Z</td>\n",
       "      <td>W</td>\n",
       "    </tr>\n",
       "  </tbody>\n",
       "</table>\n",
       "</div>"
      ],
      "text/plain": [
       "   Col1 Col2 Col3 Col4 Col5 Col6\n",
       "0   7.0    6    3  NaN  NaN  NaN\n",
       "1  10.0    1    4  NaN  NaN  NaN\n",
       "2   4.0    2    5  NaN  NaN  NaN\n",
       "3  12.0    5   11  NaN  NaN  NaN\n",
       "0   NaN    A    C    B    M    P\n",
       "1   NaN    F    K    G    Y    E\n",
       "2   NaN    S    D    H    Z    W"
      ]
     },
     "execution_count": 4,
     "metadata": {},
     "output_type": "execute_result"
    }
   ],
   "source": [
    "df3 = pd.concat([df1, df2], axis=0, join=\"outer\")\n",
    "df3"
   ]
  },
  {
   "cell_type": "markdown",
   "metadata": {},
   "source": [
    "##### Leer un dataframe, head, tail, atributos, métodos."
   ]
  },
  {
   "cell_type": "code",
   "execution_count": 5,
   "metadata": {},
   "outputs": [
    {
     "data": {
      "text/html": [
       "<div>\n",
       "<style scoped>\n",
       "    .dataframe tbody tr th:only-of-type {\n",
       "        vertical-align: middle;\n",
       "    }\n",
       "\n",
       "    .dataframe tbody tr th {\n",
       "        vertical-align: top;\n",
       "    }\n",
       "\n",
       "    .dataframe thead th {\n",
       "        text-align: right;\n",
       "    }\n",
       "</style>\n",
       "<table border=\"1\" class=\"dataframe\">\n",
       "  <thead>\n",
       "    <tr style=\"text-align: right;\">\n",
       "      <th></th>\n",
       "      <th>sexo</th>\n",
       "      <th>País</th>\n",
       "      <th>Altura_media</th>\n",
       "      <th>Peso</th>\n",
       "      <th>IMC</th>\n",
       "    </tr>\n",
       "  </thead>\n",
       "  <tbody>\n",
       "    <tr>\n",
       "      <th>0</th>\n",
       "      <td>m</td>\n",
       "      <td>Países Bajos</td>\n",
       "      <td>1.84</td>\n",
       "      <td>87.9</td>\n",
       "      <td>26.1</td>\n",
       "    </tr>\n",
       "    <tr>\n",
       "      <th>1</th>\n",
       "      <td>m</td>\n",
       "      <td>Montenegro</td>\n",
       "      <td>1.83</td>\n",
       "      <td>90.4</td>\n",
       "      <td>27.0</td>\n",
       "    </tr>\n",
       "    <tr>\n",
       "      <th>2</th>\n",
       "      <td>m</td>\n",
       "      <td>Estonia</td>\n",
       "      <td>1.82</td>\n",
       "      <td>89.9</td>\n",
       "      <td>27.0</td>\n",
       "    </tr>\n",
       "    <tr>\n",
       "      <th>3</th>\n",
       "      <td>m</td>\n",
       "      <td>Dinamarca</td>\n",
       "      <td>1.82</td>\n",
       "      <td>86.8</td>\n",
       "      <td>26.3</td>\n",
       "    </tr>\n",
       "    <tr>\n",
       "      <th>4</th>\n",
       "      <td>m</td>\n",
       "      <td>Bosnia y Hercegovina</td>\n",
       "      <td>1.82</td>\n",
       "      <td>87.1</td>\n",
       "      <td>26.4</td>\n",
       "    </tr>\n",
       "    <tr>\n",
       "      <th>...</th>\n",
       "      <td>...</td>\n",
       "      <td>...</td>\n",
       "      <td>...</td>\n",
       "      <td>...</td>\n",
       "      <td>...</td>\n",
       "    </tr>\n",
       "    <tr>\n",
       "      <th>243</th>\n",
       "      <td>f</td>\n",
       "      <td>Nepal</td>\n",
       "      <td>1.52</td>\n",
       "      <td>51.6</td>\n",
       "      <td>22.3</td>\n",
       "    </tr>\n",
       "    <tr>\n",
       "      <th>244</th>\n",
       "      <td>f</td>\n",
       "      <td>Guatemala</td>\n",
       "      <td>1.51</td>\n",
       "      <td>61.9</td>\n",
       "      <td>27.3</td>\n",
       "    </tr>\n",
       "    <tr>\n",
       "      <th>245</th>\n",
       "      <td>f</td>\n",
       "      <td>Yemen</td>\n",
       "      <td>1.54</td>\n",
       "      <td>56.9</td>\n",
       "      <td>24.0</td>\n",
       "    </tr>\n",
       "    <tr>\n",
       "      <th>246</th>\n",
       "      <td>f</td>\n",
       "      <td>Laos</td>\n",
       "      <td>1.53</td>\n",
       "      <td>53.7</td>\n",
       "      <td>23.0</td>\n",
       "    </tr>\n",
       "    <tr>\n",
       "      <th>247</th>\n",
       "      <td>f</td>\n",
       "      <td>Timor Oriental</td>\n",
       "      <td>1.52</td>\n",
       "      <td>49.0</td>\n",
       "      <td>21.2</td>\n",
       "    </tr>\n",
       "  </tbody>\n",
       "</table>\n",
       "<p>248 rows × 5 columns</p>\n",
       "</div>"
      ],
      "text/plain": [
       "    sexo                  País  Altura_media  Peso   IMC\n",
       "0      m          Países Bajos          1.84  87.9  26.1\n",
       "1      m            Montenegro          1.83  90.4  27.0\n",
       "2      m               Estonia          1.82  89.9  27.0\n",
       "3      m             Dinamarca          1.82  86.8  26.3\n",
       "4      m  Bosnia y Hercegovina          1.82  87.1  26.4\n",
       "..   ...                   ...           ...   ...   ...\n",
       "243    f                 Nepal          1.52  51.6  22.3\n",
       "244    f             Guatemala          1.51  61.9  27.3\n",
       "245    f                 Yemen          1.54  56.9  24.0\n",
       "246    f                  Laos          1.53  53.7  23.0\n",
       "247    f        Timor Oriental          1.52  49.0  21.2\n",
       "\n",
       "[248 rows x 5 columns]"
      ]
     },
     "execution_count": 5,
     "metadata": {},
     "output_type": "execute_result"
    }
   ],
   "source": [
    "df = pd.read_csv(\"Pesos_alturas_mundo.csv\")\n",
    "df"
   ]
  },
  {
   "cell_type": "code",
   "execution_count": 6,
   "metadata": {},
   "outputs": [
    {
     "data": {
      "text/html": [
       "<div>\n",
       "<style scoped>\n",
       "    .dataframe tbody tr th:only-of-type {\n",
       "        vertical-align: middle;\n",
       "    }\n",
       "\n",
       "    .dataframe tbody tr th {\n",
       "        vertical-align: top;\n",
       "    }\n",
       "\n",
       "    .dataframe thead th {\n",
       "        text-align: right;\n",
       "    }\n",
       "</style>\n",
       "<table border=\"1\" class=\"dataframe\">\n",
       "  <thead>\n",
       "    <tr style=\"text-align: right;\">\n",
       "      <th></th>\n",
       "      <th>sexo</th>\n",
       "      <th>País</th>\n",
       "      <th>Altura_media</th>\n",
       "      <th>Peso</th>\n",
       "      <th>IMC</th>\n",
       "    </tr>\n",
       "  </thead>\n",
       "  <tbody>\n",
       "    <tr>\n",
       "      <th>0</th>\n",
       "      <td>m</td>\n",
       "      <td>Países Bajos</td>\n",
       "      <td>1.84</td>\n",
       "      <td>87.9</td>\n",
       "      <td>26.1</td>\n",
       "    </tr>\n",
       "    <tr>\n",
       "      <th>1</th>\n",
       "      <td>m</td>\n",
       "      <td>Montenegro</td>\n",
       "      <td>1.83</td>\n",
       "      <td>90.4</td>\n",
       "      <td>27.0</td>\n",
       "    </tr>\n",
       "    <tr>\n",
       "      <th>2</th>\n",
       "      <td>m</td>\n",
       "      <td>Estonia</td>\n",
       "      <td>1.82</td>\n",
       "      <td>89.9</td>\n",
       "      <td>27.0</td>\n",
       "    </tr>\n",
       "    <tr>\n",
       "      <th>3</th>\n",
       "      <td>m</td>\n",
       "      <td>Dinamarca</td>\n",
       "      <td>1.82</td>\n",
       "      <td>86.8</td>\n",
       "      <td>26.3</td>\n",
       "    </tr>\n",
       "    <tr>\n",
       "      <th>4</th>\n",
       "      <td>m</td>\n",
       "      <td>Bosnia y Hercegovina</td>\n",
       "      <td>1.82</td>\n",
       "      <td>87.1</td>\n",
       "      <td>26.4</td>\n",
       "    </tr>\n",
       "  </tbody>\n",
       "</table>\n",
       "</div>"
      ],
      "text/plain": [
       "  sexo                  País  Altura_media  Peso   IMC\n",
       "0    m          Países Bajos          1.84  87.9  26.1\n",
       "1    m            Montenegro          1.83  90.4  27.0\n",
       "2    m               Estonia          1.82  89.9  27.0\n",
       "3    m             Dinamarca          1.82  86.8  26.3\n",
       "4    m  Bosnia y Hercegovina          1.82  87.1  26.4"
      ]
     },
     "execution_count": 6,
     "metadata": {},
     "output_type": "execute_result"
    }
   ],
   "source": [
    "df.head()"
   ]
  },
  {
   "cell_type": "code",
   "execution_count": 7,
   "metadata": {},
   "outputs": [
    {
     "data": {
      "text/html": [
       "<div>\n",
       "<style scoped>\n",
       "    .dataframe tbody tr th:only-of-type {\n",
       "        vertical-align: middle;\n",
       "    }\n",
       "\n",
       "    .dataframe tbody tr th {\n",
       "        vertical-align: top;\n",
       "    }\n",
       "\n",
       "    .dataframe thead th {\n",
       "        text-align: right;\n",
       "    }\n",
       "</style>\n",
       "<table border=\"1\" class=\"dataframe\">\n",
       "  <thead>\n",
       "    <tr style=\"text-align: right;\">\n",
       "      <th></th>\n",
       "      <th>sexo</th>\n",
       "      <th>País</th>\n",
       "      <th>Altura_media</th>\n",
       "      <th>Peso</th>\n",
       "      <th>IMC</th>\n",
       "    </tr>\n",
       "  </thead>\n",
       "  <tbody>\n",
       "    <tr>\n",
       "      <th>243</th>\n",
       "      <td>f</td>\n",
       "      <td>Nepal</td>\n",
       "      <td>1.52</td>\n",
       "      <td>51.6</td>\n",
       "      <td>22.3</td>\n",
       "    </tr>\n",
       "    <tr>\n",
       "      <th>244</th>\n",
       "      <td>f</td>\n",
       "      <td>Guatemala</td>\n",
       "      <td>1.51</td>\n",
       "      <td>61.9</td>\n",
       "      <td>27.3</td>\n",
       "    </tr>\n",
       "    <tr>\n",
       "      <th>245</th>\n",
       "      <td>f</td>\n",
       "      <td>Yemen</td>\n",
       "      <td>1.54</td>\n",
       "      <td>56.9</td>\n",
       "      <td>24.0</td>\n",
       "    </tr>\n",
       "    <tr>\n",
       "      <th>246</th>\n",
       "      <td>f</td>\n",
       "      <td>Laos</td>\n",
       "      <td>1.53</td>\n",
       "      <td>53.7</td>\n",
       "      <td>23.0</td>\n",
       "    </tr>\n",
       "    <tr>\n",
       "      <th>247</th>\n",
       "      <td>f</td>\n",
       "      <td>Timor Oriental</td>\n",
       "      <td>1.52</td>\n",
       "      <td>49.0</td>\n",
       "      <td>21.2</td>\n",
       "    </tr>\n",
       "  </tbody>\n",
       "</table>\n",
       "</div>"
      ],
      "text/plain": [
       "    sexo            País  Altura_media  Peso   IMC\n",
       "243    f           Nepal          1.52  51.6  22.3\n",
       "244    f       Guatemala          1.51  61.9  27.3\n",
       "245    f           Yemen          1.54  56.9  24.0\n",
       "246    f            Laos          1.53  53.7  23.0\n",
       "247    f  Timor Oriental          1.52  49.0  21.2"
      ]
     },
     "execution_count": 7,
     "metadata": {},
     "output_type": "execute_result"
    }
   ],
   "source": [
    "df.tail()"
   ]
  },
  {
   "cell_type": "code",
   "execution_count": 8,
   "metadata": {},
   "outputs": [
    {
     "data": {
      "text/plain": [
       "(248, 5)"
      ]
     },
     "execution_count": 8,
     "metadata": {},
     "output_type": "execute_result"
    }
   ],
   "source": [
    "df.shape"
   ]
  },
  {
   "cell_type": "code",
   "execution_count": 9,
   "metadata": {},
   "outputs": [
    {
     "data": {
      "text/plain": [
       "array([['m', 'Países Bajos', 1.84, 87.9, 26.1],\n",
       "       ['m', 'Montenegro', 1.83, 90.4, 27.0],\n",
       "       ['m', 'Estonia', 1.82, 89.9, 27.0],\n",
       "       ...,\n",
       "       ['f', 'Yemen', 1.54, 56.9, 24.0],\n",
       "       ['f', 'Laos', 1.53, 53.7, 23.0],\n",
       "       ['f', 'Timor Oriental', 1.52, 49.0, 21.2]], dtype=object)"
      ]
     },
     "execution_count": 9,
     "metadata": {},
     "output_type": "execute_result"
    }
   ],
   "source": [
    "df.values"
   ]
  },
  {
   "cell_type": "code",
   "execution_count": 10,
   "metadata": {},
   "outputs": [
    {
     "data": {
      "text/plain": [
       "RangeIndex(start=0, stop=248, step=1)"
      ]
     },
     "execution_count": 10,
     "metadata": {},
     "output_type": "execute_result"
    }
   ],
   "source": [
    "df.index"
   ]
  },
  {
   "cell_type": "code",
   "execution_count": 11,
   "metadata": {},
   "outputs": [
    {
     "data": {
      "text/plain": [
       "Index(['sexo', 'País', 'Altura_media', 'Peso', 'IMC'], dtype='object')"
      ]
     },
     "execution_count": 11,
     "metadata": {},
     "output_type": "execute_result"
    }
   ],
   "source": [
    "df.columns"
   ]
  },
  {
   "cell_type": "code",
   "execution_count": 12,
   "metadata": {},
   "outputs": [
    {
     "data": {
      "text/plain": [
       "1240"
      ]
     },
     "execution_count": 12,
     "metadata": {},
     "output_type": "execute_result"
    }
   ],
   "source": [
    "df.size"
   ]
  },
  {
   "cell_type": "code",
   "execution_count": 13,
   "metadata": {},
   "outputs": [
    {
     "name": "stdout",
     "output_type": "stream",
     "text": [
      "<class 'pandas.core.frame.DataFrame'>\n",
      "RangeIndex: 248 entries, 0 to 247\n",
      "Data columns (total 5 columns):\n",
      " #   Column        Non-Null Count  Dtype  \n",
      "---  ------        --------------  -----  \n",
      " 0   sexo          248 non-null    object \n",
      " 1   País          248 non-null    object \n",
      " 2   Altura_media  248 non-null    float64\n",
      " 3   Peso          248 non-null    float64\n",
      " 4   IMC           248 non-null    float64\n",
      "dtypes: float64(3), object(2)\n",
      "memory usage: 9.8+ KB\n"
     ]
    }
   ],
   "source": [
    "df.info()"
   ]
  },
  {
   "cell_type": "code",
   "execution_count": 14,
   "metadata": {},
   "outputs": [
    {
     "data": {
      "text/html": [
       "<div>\n",
       "<style scoped>\n",
       "    .dataframe tbody tr th:only-of-type {\n",
       "        vertical-align: middle;\n",
       "    }\n",
       "\n",
       "    .dataframe tbody tr th {\n",
       "        vertical-align: top;\n",
       "    }\n",
       "\n",
       "    .dataframe thead th {\n",
       "        text-align: right;\n",
       "    }\n",
       "</style>\n",
       "<table border=\"1\" class=\"dataframe\">\n",
       "  <thead>\n",
       "    <tr style=\"text-align: right;\">\n",
       "      <th></th>\n",
       "      <th>Altura_media</th>\n",
       "      <th>Peso</th>\n",
       "      <th>IMC</th>\n",
       "    </tr>\n",
       "  </thead>\n",
       "  <tbody>\n",
       "    <tr>\n",
       "      <th>count</th>\n",
       "      <td>248.000000</td>\n",
       "      <td>248.000000</td>\n",
       "      <td>248.000000</td>\n",
       "    </tr>\n",
       "    <tr>\n",
       "      <th>mean</th>\n",
       "      <td>1.676774</td>\n",
       "      <td>74.999194</td>\n",
       "      <td>26.570565</td>\n",
       "    </tr>\n",
       "    <tr>\n",
       "      <th>std</th>\n",
       "      <td>0.079600</td>\n",
       "      <td>11.286519</td>\n",
       "      <td>2.765120</td>\n",
       "    </tr>\n",
       "    <tr>\n",
       "      <th>min</th>\n",
       "      <td>1.510000</td>\n",
       "      <td>49.000000</td>\n",
       "      <td>20.100000</td>\n",
       "    </tr>\n",
       "    <tr>\n",
       "      <th>25%</th>\n",
       "      <td>1.617500</td>\n",
       "      <td>68.375000</td>\n",
       "      <td>25.100000</td>\n",
       "    </tr>\n",
       "    <tr>\n",
       "      <th>50%</th>\n",
       "      <td>1.670000</td>\n",
       "      <td>74.550000</td>\n",
       "      <td>26.700000</td>\n",
       "    </tr>\n",
       "    <tr>\n",
       "      <th>75%</th>\n",
       "      <td>1.740000</td>\n",
       "      <td>84.000000</td>\n",
       "      <td>27.900000</td>\n",
       "    </tr>\n",
       "    <tr>\n",
       "      <th>max</th>\n",
       "      <td>1.840000</td>\n",
       "      <td>103.700000</td>\n",
       "      <td>35.200000</td>\n",
       "    </tr>\n",
       "  </tbody>\n",
       "</table>\n",
       "</div>"
      ],
      "text/plain": [
       "       Altura_media        Peso         IMC\n",
       "count    248.000000  248.000000  248.000000\n",
       "mean       1.676774   74.999194   26.570565\n",
       "std        0.079600   11.286519    2.765120\n",
       "min        1.510000   49.000000   20.100000\n",
       "25%        1.617500   68.375000   25.100000\n",
       "50%        1.670000   74.550000   26.700000\n",
       "75%        1.740000   84.000000   27.900000\n",
       "max        1.840000  103.700000   35.200000"
      ]
     },
     "execution_count": 14,
     "metadata": {},
     "output_type": "execute_result"
    }
   ],
   "source": [
    "df.describe()"
   ]
  },
  {
   "cell_type": "code",
   "execution_count": 15,
   "metadata": {},
   "outputs": [
    {
     "data": {
      "text/html": [
       "<div>\n",
       "<style scoped>\n",
       "    .dataframe tbody tr th:only-of-type {\n",
       "        vertical-align: middle;\n",
       "    }\n",
       "\n",
       "    .dataframe tbody tr th {\n",
       "        vertical-align: top;\n",
       "    }\n",
       "\n",
       "    .dataframe thead th {\n",
       "        text-align: right;\n",
       "    }\n",
       "</style>\n",
       "<table border=\"1\" class=\"dataframe\">\n",
       "  <thead>\n",
       "    <tr style=\"text-align: right;\">\n",
       "      <th></th>\n",
       "      <th>sexo</th>\n",
       "      <th>Altura_media</th>\n",
       "      <th>Peso</th>\n",
       "      <th>IMC</th>\n",
       "    </tr>\n",
       "    <tr>\n",
       "      <th>País</th>\n",
       "      <th></th>\n",
       "      <th></th>\n",
       "      <th></th>\n",
       "      <th></th>\n",
       "    </tr>\n",
       "  </thead>\n",
       "  <tbody>\n",
       "    <tr>\n",
       "      <th>Países Bajos</th>\n",
       "      <td>m</td>\n",
       "      <td>1.84</td>\n",
       "      <td>87.9</td>\n",
       "      <td>26.1</td>\n",
       "    </tr>\n",
       "    <tr>\n",
       "      <th>Montenegro</th>\n",
       "      <td>m</td>\n",
       "      <td>1.83</td>\n",
       "      <td>90.4</td>\n",
       "      <td>27.0</td>\n",
       "    </tr>\n",
       "    <tr>\n",
       "      <th>Estonia</th>\n",
       "      <td>m</td>\n",
       "      <td>1.82</td>\n",
       "      <td>89.9</td>\n",
       "      <td>27.0</td>\n",
       "    </tr>\n",
       "    <tr>\n",
       "      <th>Dinamarca</th>\n",
       "      <td>m</td>\n",
       "      <td>1.82</td>\n",
       "      <td>86.8</td>\n",
       "      <td>26.3</td>\n",
       "    </tr>\n",
       "    <tr>\n",
       "      <th>Bosnia y Hercegovina</th>\n",
       "      <td>m</td>\n",
       "      <td>1.82</td>\n",
       "      <td>87.1</td>\n",
       "      <td>26.4</td>\n",
       "    </tr>\n",
       "    <tr>\n",
       "      <th>...</th>\n",
       "      <td>...</td>\n",
       "      <td>...</td>\n",
       "      <td>...</td>\n",
       "      <td>...</td>\n",
       "    </tr>\n",
       "    <tr>\n",
       "      <th>Nepal</th>\n",
       "      <td>f</td>\n",
       "      <td>1.52</td>\n",
       "      <td>51.6</td>\n",
       "      <td>22.3</td>\n",
       "    </tr>\n",
       "    <tr>\n",
       "      <th>Guatemala</th>\n",
       "      <td>f</td>\n",
       "      <td>1.51</td>\n",
       "      <td>61.9</td>\n",
       "      <td>27.3</td>\n",
       "    </tr>\n",
       "    <tr>\n",
       "      <th>Yemen</th>\n",
       "      <td>f</td>\n",
       "      <td>1.54</td>\n",
       "      <td>56.9</td>\n",
       "      <td>24.0</td>\n",
       "    </tr>\n",
       "    <tr>\n",
       "      <th>Laos</th>\n",
       "      <td>f</td>\n",
       "      <td>1.53</td>\n",
       "      <td>53.7</td>\n",
       "      <td>23.0</td>\n",
       "    </tr>\n",
       "    <tr>\n",
       "      <th>Timor Oriental</th>\n",
       "      <td>f</td>\n",
       "      <td>1.52</td>\n",
       "      <td>49.0</td>\n",
       "      <td>21.2</td>\n",
       "    </tr>\n",
       "  </tbody>\n",
       "</table>\n",
       "<p>248 rows × 4 columns</p>\n",
       "</div>"
      ],
      "text/plain": [
       "                     sexo  Altura_media  Peso   IMC\n",
       "País                                               \n",
       "Países Bajos            m          1.84  87.9  26.1\n",
       "Montenegro              m          1.83  90.4  27.0\n",
       "Estonia                 m          1.82  89.9  27.0\n",
       "Dinamarca               m          1.82  86.8  26.3\n",
       "Bosnia y Hercegovina    m          1.82  87.1  26.4\n",
       "...                   ...           ...   ...   ...\n",
       "Nepal                   f          1.52  51.6  22.3\n",
       "Guatemala               f          1.51  61.9  27.3\n",
       "Yemen                   f          1.54  56.9  24.0\n",
       "Laos                    f          1.53  53.7  23.0\n",
       "Timor Oriental          f          1.52  49.0  21.2\n",
       "\n",
       "[248 rows x 4 columns]"
      ]
     },
     "execution_count": 15,
     "metadata": {},
     "output_type": "execute_result"
    }
   ],
   "source": [
    "df.set_index(\"País\")"
   ]
  },
  {
   "cell_type": "code",
   "execution_count": 16,
   "metadata": {},
   "outputs": [
    {
     "data": {
      "text/html": [
       "<div>\n",
       "<style scoped>\n",
       "    .dataframe tbody tr th:only-of-type {\n",
       "        vertical-align: middle;\n",
       "    }\n",
       "\n",
       "    .dataframe tbody tr th {\n",
       "        vertical-align: top;\n",
       "    }\n",
       "\n",
       "    .dataframe thead th {\n",
       "        text-align: right;\n",
       "    }\n",
       "</style>\n",
       "<table border=\"1\" class=\"dataframe\">\n",
       "  <thead>\n",
       "    <tr style=\"text-align: right;\">\n",
       "      <th></th>\n",
       "      <th>sexo</th>\n",
       "      <th>Altura_media</th>\n",
       "      <th>Peso</th>\n",
       "      <th>IMC</th>\n",
       "    </tr>\n",
       "    <tr>\n",
       "      <th>País</th>\n",
       "      <th></th>\n",
       "      <th></th>\n",
       "      <th></th>\n",
       "      <th></th>\n",
       "    </tr>\n",
       "  </thead>\n",
       "  <tbody>\n",
       "    <tr>\n",
       "      <th>Países Bajos</th>\n",
       "      <td>m</td>\n",
       "      <td>1.84</td>\n",
       "      <td>87.9</td>\n",
       "      <td>26.1</td>\n",
       "    </tr>\n",
       "    <tr>\n",
       "      <th>Montenegro</th>\n",
       "      <td>m</td>\n",
       "      <td>1.83</td>\n",
       "      <td>90.4</td>\n",
       "      <td>27.0</td>\n",
       "    </tr>\n",
       "    <tr>\n",
       "      <th>Estonia</th>\n",
       "      <td>m</td>\n",
       "      <td>1.82</td>\n",
       "      <td>89.9</td>\n",
       "      <td>27.0</td>\n",
       "    </tr>\n",
       "    <tr>\n",
       "      <th>Dinamarca</th>\n",
       "      <td>m</td>\n",
       "      <td>1.82</td>\n",
       "      <td>86.8</td>\n",
       "      <td>26.3</td>\n",
       "    </tr>\n",
       "    <tr>\n",
       "      <th>Bosnia y Hercegovina</th>\n",
       "      <td>m</td>\n",
       "      <td>1.82</td>\n",
       "      <td>87.1</td>\n",
       "      <td>26.4</td>\n",
       "    </tr>\n",
       "    <tr>\n",
       "      <th>...</th>\n",
       "      <td>...</td>\n",
       "      <td>...</td>\n",
       "      <td>...</td>\n",
       "      <td>...</td>\n",
       "    </tr>\n",
       "    <tr>\n",
       "      <th>Nepal</th>\n",
       "      <td>f</td>\n",
       "      <td>1.52</td>\n",
       "      <td>51.6</td>\n",
       "      <td>22.3</td>\n",
       "    </tr>\n",
       "    <tr>\n",
       "      <th>Guatemala</th>\n",
       "      <td>f</td>\n",
       "      <td>1.51</td>\n",
       "      <td>61.9</td>\n",
       "      <td>27.3</td>\n",
       "    </tr>\n",
       "    <tr>\n",
       "      <th>Yemen</th>\n",
       "      <td>f</td>\n",
       "      <td>1.54</td>\n",
       "      <td>56.9</td>\n",
       "      <td>24.0</td>\n",
       "    </tr>\n",
       "    <tr>\n",
       "      <th>Laos</th>\n",
       "      <td>f</td>\n",
       "      <td>1.53</td>\n",
       "      <td>53.7</td>\n",
       "      <td>23.0</td>\n",
       "    </tr>\n",
       "    <tr>\n",
       "      <th>Timor Oriental</th>\n",
       "      <td>f</td>\n",
       "      <td>1.52</td>\n",
       "      <td>49.0</td>\n",
       "      <td>21.2</td>\n",
       "    </tr>\n",
       "  </tbody>\n",
       "</table>\n",
       "<p>248 rows × 4 columns</p>\n",
       "</div>"
      ],
      "text/plain": [
       "                     sexo  Altura_media  Peso   IMC\n",
       "País                                               \n",
       "Países Bajos            m          1.84  87.9  26.1\n",
       "Montenegro              m          1.83  90.4  27.0\n",
       "Estonia                 m          1.82  89.9  27.0\n",
       "Dinamarca               m          1.82  86.8  26.3\n",
       "Bosnia y Hercegovina    m          1.82  87.1  26.4\n",
       "...                   ...           ...   ...   ...\n",
       "Nepal                   f          1.52  51.6  22.3\n",
       "Guatemala               f          1.51  61.9  27.3\n",
       "Yemen                   f          1.54  56.9  24.0\n",
       "Laos                    f          1.53  53.7  23.0\n",
       "Timor Oriental          f          1.52  49.0  21.2\n",
       "\n",
       "[248 rows x 4 columns]"
      ]
     },
     "execution_count": 16,
     "metadata": {},
     "output_type": "execute_result"
    }
   ],
   "source": [
    "df.set_index(\"País\", inplace=True)\n",
    "df"
   ]
  },
  {
   "cell_type": "code",
   "execution_count": 17,
   "metadata": {},
   "outputs": [
    {
     "data": {
      "text/html": [
       "<div>\n",
       "<style scoped>\n",
       "    .dataframe tbody tr th:only-of-type {\n",
       "        vertical-align: middle;\n",
       "    }\n",
       "\n",
       "    .dataframe tbody tr th {\n",
       "        vertical-align: top;\n",
       "    }\n",
       "\n",
       "    .dataframe thead th {\n",
       "        text-align: right;\n",
       "    }\n",
       "</style>\n",
       "<table border=\"1\" class=\"dataframe\">\n",
       "  <thead>\n",
       "    <tr style=\"text-align: right;\">\n",
       "      <th></th>\n",
       "      <th>País</th>\n",
       "      <th>sexo</th>\n",
       "      <th>Altura_media</th>\n",
       "      <th>Peso</th>\n",
       "      <th>IMC</th>\n",
       "    </tr>\n",
       "  </thead>\n",
       "  <tbody>\n",
       "    <tr>\n",
       "      <th>0</th>\n",
       "      <td>Países Bajos</td>\n",
       "      <td>m</td>\n",
       "      <td>1.84</td>\n",
       "      <td>87.9</td>\n",
       "      <td>26.1</td>\n",
       "    </tr>\n",
       "    <tr>\n",
       "      <th>1</th>\n",
       "      <td>Montenegro</td>\n",
       "      <td>m</td>\n",
       "      <td>1.83</td>\n",
       "      <td>90.4</td>\n",
       "      <td>27.0</td>\n",
       "    </tr>\n",
       "    <tr>\n",
       "      <th>2</th>\n",
       "      <td>Estonia</td>\n",
       "      <td>m</td>\n",
       "      <td>1.82</td>\n",
       "      <td>89.9</td>\n",
       "      <td>27.0</td>\n",
       "    </tr>\n",
       "    <tr>\n",
       "      <th>3</th>\n",
       "      <td>Dinamarca</td>\n",
       "      <td>m</td>\n",
       "      <td>1.82</td>\n",
       "      <td>86.8</td>\n",
       "      <td>26.3</td>\n",
       "    </tr>\n",
       "    <tr>\n",
       "      <th>4</th>\n",
       "      <td>Bosnia y Hercegovina</td>\n",
       "      <td>m</td>\n",
       "      <td>1.82</td>\n",
       "      <td>87.1</td>\n",
       "      <td>26.4</td>\n",
       "    </tr>\n",
       "    <tr>\n",
       "      <th>...</th>\n",
       "      <td>...</td>\n",
       "      <td>...</td>\n",
       "      <td>...</td>\n",
       "      <td>...</td>\n",
       "      <td>...</td>\n",
       "    </tr>\n",
       "    <tr>\n",
       "      <th>243</th>\n",
       "      <td>Nepal</td>\n",
       "      <td>f</td>\n",
       "      <td>1.52</td>\n",
       "      <td>51.6</td>\n",
       "      <td>22.3</td>\n",
       "    </tr>\n",
       "    <tr>\n",
       "      <th>244</th>\n",
       "      <td>Guatemala</td>\n",
       "      <td>f</td>\n",
       "      <td>1.51</td>\n",
       "      <td>61.9</td>\n",
       "      <td>27.3</td>\n",
       "    </tr>\n",
       "    <tr>\n",
       "      <th>245</th>\n",
       "      <td>Yemen</td>\n",
       "      <td>f</td>\n",
       "      <td>1.54</td>\n",
       "      <td>56.9</td>\n",
       "      <td>24.0</td>\n",
       "    </tr>\n",
       "    <tr>\n",
       "      <th>246</th>\n",
       "      <td>Laos</td>\n",
       "      <td>f</td>\n",
       "      <td>1.53</td>\n",
       "      <td>53.7</td>\n",
       "      <td>23.0</td>\n",
       "    </tr>\n",
       "    <tr>\n",
       "      <th>247</th>\n",
       "      <td>Timor Oriental</td>\n",
       "      <td>f</td>\n",
       "      <td>1.52</td>\n",
       "      <td>49.0</td>\n",
       "      <td>21.2</td>\n",
       "    </tr>\n",
       "  </tbody>\n",
       "</table>\n",
       "<p>248 rows × 5 columns</p>\n",
       "</div>"
      ],
      "text/plain": [
       "                     País sexo  Altura_media  Peso   IMC\n",
       "0            Países Bajos    m          1.84  87.9  26.1\n",
       "1              Montenegro    m          1.83  90.4  27.0\n",
       "2                 Estonia    m          1.82  89.9  27.0\n",
       "3               Dinamarca    m          1.82  86.8  26.3\n",
       "4    Bosnia y Hercegovina    m          1.82  87.1  26.4\n",
       "..                    ...  ...           ...   ...   ...\n",
       "243                 Nepal    f          1.52  51.6  22.3\n",
       "244             Guatemala    f          1.51  61.9  27.3\n",
       "245                 Yemen    f          1.54  56.9  24.0\n",
       "246                  Laos    f          1.53  53.7  23.0\n",
       "247        Timor Oriental    f          1.52  49.0  21.2\n",
       "\n",
       "[248 rows x 5 columns]"
      ]
     },
     "execution_count": 17,
     "metadata": {},
     "output_type": "execute_result"
    }
   ],
   "source": [
    "df.reset_index(inplace=True)\n",
    "df"
   ]
  },
  {
   "cell_type": "code",
   "execution_count": 18,
   "metadata": {},
   "outputs": [
    {
     "data": {
      "text/html": [
       "<div>\n",
       "<style scoped>\n",
       "    .dataframe tbody tr th:only-of-type {\n",
       "        vertical-align: middle;\n",
       "    }\n",
       "\n",
       "    .dataframe tbody tr th {\n",
       "        vertical-align: top;\n",
       "    }\n",
       "\n",
       "    .dataframe thead th {\n",
       "        text-align: right;\n",
       "    }\n",
       "</style>\n",
       "<table border=\"1\" class=\"dataframe\">\n",
       "  <thead>\n",
       "    <tr style=\"text-align: right;\">\n",
       "      <th></th>\n",
       "      <th></th>\n",
       "      <th>Altura_media</th>\n",
       "      <th>IMC</th>\n",
       "    </tr>\n",
       "    <tr>\n",
       "      <th>País</th>\n",
       "      <th>sexo</th>\n",
       "      <th></th>\n",
       "      <th></th>\n",
       "    </tr>\n",
       "  </thead>\n",
       "  <tbody>\n",
       "    <tr>\n",
       "      <th>Australia</th>\n",
       "      <th>f</th>\n",
       "      <td>1.65</td>\n",
       "      <td>26.8</td>\n",
       "    </tr>\n",
       "    <tr>\n",
       "      <th>Irlanda</th>\n",
       "      <th>f</th>\n",
       "      <td>1.64</td>\n",
       "      <td>27.1</td>\n",
       "    </tr>\n",
       "  </tbody>\n",
       "</table>\n",
       "</div>"
      ],
      "text/plain": [
       "                Altura_media   IMC\n",
       "País      sexo                    \n",
       "Australia f             1.65  26.8\n",
       "Irlanda   f             1.64  27.1"
      ]
     },
     "execution_count": 18,
     "metadata": {},
     "output_type": "execute_result"
    }
   ],
   "source": [
    "df = pd.read_csv(\"Pesos_alturas_mundo.csv\", index_col=[\"País\", \"sexo\"])\n",
    "df.iloc[149:150, :2]  # df.iloc [fila,columna] en ese orden sino funciona mal.\n",
    "df.iloc[[149, 150], [0, 2]]  # Solo fila 149 y 150 y altura y imc no pone el peso.\n",
    "# df[149:150]['Peso'] # Slice solo funciona en filas no funciona para columnas\n",
    "# df.loc['Australia',['Altura_media','Peso']] #df.loc[fila,columna] en ese orden sino no funciona\n",
    "# df['Peso']['Australia'] #df[columna][fila] en ese orden sino no funciona"
   ]
  },
  {
   "cell_type": "code",
   "execution_count": 19,
   "metadata": {},
   "outputs": [
    {
     "name": "stdout",
     "output_type": "stream",
     "text": [
      "<class 'pandas.core.frame.DataFrame'>\n",
      "RangeIndex: 248 entries, 0 to 247\n",
      "Data columns (total 5 columns):\n",
      " #   Column        Non-Null Count  Dtype  \n",
      "---  ------        --------------  -----  \n",
      " 0   sexo          248 non-null    object \n",
      " 1   País          248 non-null    object \n",
      " 2   Altura_media  248 non-null    float64\n",
      " 3   Peso          248 non-null    float64\n",
      " 4   IMC           248 non-null    float64\n",
      "dtypes: float64(3), object(2)\n",
      "memory usage: 9.8+ KB\n"
     ]
    }
   ],
   "source": [
    "df = pd.read_csv(\"Pesos_alturas_mundo.csv\")\n",
    "df.info()"
   ]
  },
  {
   "cell_type": "code",
   "execution_count": 20,
   "metadata": {},
   "outputs": [
    {
     "data": {
      "text/html": [
       "<div>\n",
       "<style scoped>\n",
       "    .dataframe tbody tr th:only-of-type {\n",
       "        vertical-align: middle;\n",
       "    }\n",
       "\n",
       "    .dataframe tbody tr th {\n",
       "        vertical-align: top;\n",
       "    }\n",
       "\n",
       "    .dataframe thead th {\n",
       "        text-align: right;\n",
       "    }\n",
       "</style>\n",
       "<table border=\"1\" class=\"dataframe\">\n",
       "  <thead>\n",
       "    <tr style=\"text-align: right;\">\n",
       "      <th></th>\n",
       "      <th>0</th>\n",
       "      <th>1</th>\n",
       "      <th>2</th>\n",
       "      <th>3</th>\n",
       "      <th>4</th>\n",
       "      <th>5</th>\n",
       "      <th>6</th>\n",
       "    </tr>\n",
       "  </thead>\n",
       "  <tbody>\n",
       "    <tr>\n",
       "      <th>0</th>\n",
       "      <td>0</td>\n",
       "      <td>1</td>\n",
       "      <td>2</td>\n",
       "      <td>3</td>\n",
       "      <td>4</td>\n",
       "      <td>5</td>\n",
       "      <td>6</td>\n",
       "    </tr>\n",
       "    <tr>\n",
       "      <th>1</th>\n",
       "      <td>0</td>\n",
       "      <td>1</td>\n",
       "      <td>2</td>\n",
       "      <td>3</td>\n",
       "      <td>4</td>\n",
       "      <td>5</td>\n",
       "      <td>6</td>\n",
       "    </tr>\n",
       "    <tr>\n",
       "      <th>2</th>\n",
       "      <td>0</td>\n",
       "      <td>1</td>\n",
       "      <td>2</td>\n",
       "      <td>3</td>\n",
       "      <td>4</td>\n",
       "      <td>5</td>\n",
       "      <td>6</td>\n",
       "    </tr>\n",
       "    <tr>\n",
       "      <th>3</th>\n",
       "      <td>0</td>\n",
       "      <td>1</td>\n",
       "      <td>2</td>\n",
       "      <td>3</td>\n",
       "      <td>4</td>\n",
       "      <td>5</td>\n",
       "      <td>6</td>\n",
       "    </tr>\n",
       "    <tr>\n",
       "      <th>4</th>\n",
       "      <td>0</td>\n",
       "      <td>1</td>\n",
       "      <td>2</td>\n",
       "      <td>3</td>\n",
       "      <td>4</td>\n",
       "      <td>5</td>\n",
       "      <td>6</td>\n",
       "    </tr>\n",
       "  </tbody>\n",
       "</table>\n",
       "</div>"
      ],
      "text/plain": [
       "   0  1  2  3  4  5  6\n",
       "0  0  1  2  3  4  5  6\n",
       "1  0  1  2  3  4  5  6\n",
       "2  0  1  2  3  4  5  6\n",
       "3  0  1  2  3  4  5  6\n",
       "4  0  1  2  3  4  5  6"
      ]
     },
     "execution_count": 20,
     "metadata": {},
     "output_type": "execute_result"
    }
   ],
   "source": [
    "dicc = {i: range(7) for i in range(5)}\n",
    "dff = pd.DataFrame(dicc).T\n",
    "dff"
   ]
  },
  {
   "cell_type": "markdown",
   "metadata": {},
   "source": [
    "##### Filtros"
   ]
  },
  {
   "cell_type": "code",
   "execution_count": 21,
   "metadata": {},
   "outputs": [
    {
     "data": {
      "text/html": [
       "<div>\n",
       "<style scoped>\n",
       "    .dataframe tbody tr th:only-of-type {\n",
       "        vertical-align: middle;\n",
       "    }\n",
       "\n",
       "    .dataframe tbody tr th {\n",
       "        vertical-align: top;\n",
       "    }\n",
       "\n",
       "    .dataframe thead th {\n",
       "        text-align: right;\n",
       "    }\n",
       "</style>\n",
       "<table border=\"1\" class=\"dataframe\">\n",
       "  <thead>\n",
       "    <tr style=\"text-align: right;\">\n",
       "      <th></th>\n",
       "      <th>sexo</th>\n",
       "      <th>País</th>\n",
       "      <th>Altura_media</th>\n",
       "      <th>Peso</th>\n",
       "      <th>IMC</th>\n",
       "    </tr>\n",
       "  </thead>\n",
       "  <tbody>\n",
       "    <tr>\n",
       "      <th>124</th>\n",
       "      <td>f</td>\n",
       "      <td>Países Bajos</td>\n",
       "      <td>1.7</td>\n",
       "      <td>73.2</td>\n",
       "      <td>25.3</td>\n",
       "    </tr>\n",
       "    <tr>\n",
       "      <th>125</th>\n",
       "      <td>f</td>\n",
       "      <td>Montenegro</td>\n",
       "      <td>1.7</td>\n",
       "      <td>75.3</td>\n",
       "      <td>26.2</td>\n",
       "    </tr>\n",
       "  </tbody>\n",
       "</table>\n",
       "</div>"
      ],
      "text/plain": [
       "    sexo          País  Altura_media  Peso   IMC\n",
       "124    f  Países Bajos           1.7  73.2  25.3\n",
       "125    f    Montenegro           1.7  75.3  26.2"
      ]
     },
     "execution_count": 21,
     "metadata": {},
     "output_type": "execute_result"
    }
   ],
   "source": [
    "filtro = df[\"Altura_media\"] >= 1.7\n",
    "filtro2 = df.Altura_media >= 1.7\n",
    "filtro3 = df.sexo == \"f\"\n",
    "\n",
    "df[filtro2 & filtro3]"
   ]
  },
  {
   "cell_type": "markdown",
   "metadata": {},
   "source": [
    "##### Ordenamientos"
   ]
  },
  {
   "cell_type": "code",
   "execution_count": 22,
   "metadata": {},
   "outputs": [
    {
     "data": {
      "text/html": [
       "<div>\n",
       "<style scoped>\n",
       "    .dataframe tbody tr th:only-of-type {\n",
       "        vertical-align: middle;\n",
       "    }\n",
       "\n",
       "    .dataframe tbody tr th {\n",
       "        vertical-align: top;\n",
       "    }\n",
       "\n",
       "    .dataframe thead th {\n",
       "        text-align: right;\n",
       "    }\n",
       "</style>\n",
       "<table border=\"1\" class=\"dataframe\">\n",
       "  <thead>\n",
       "    <tr style=\"text-align: right;\">\n",
       "      <th></th>\n",
       "      <th>sexo</th>\n",
       "      <th>País</th>\n",
       "      <th>Altura_media</th>\n",
       "      <th>Peso</th>\n",
       "      <th>IMC</th>\n",
       "    </tr>\n",
       "  </thead>\n",
       "  <tbody>\n",
       "    <tr>\n",
       "      <th>0</th>\n",
       "      <td>m</td>\n",
       "      <td>Países Bajos</td>\n",
       "      <td>1.84</td>\n",
       "      <td>87.9</td>\n",
       "      <td>26.1</td>\n",
       "    </tr>\n",
       "    <tr>\n",
       "      <th>1</th>\n",
       "      <td>m</td>\n",
       "      <td>Montenegro</td>\n",
       "      <td>1.83</td>\n",
       "      <td>90.4</td>\n",
       "      <td>27.0</td>\n",
       "    </tr>\n",
       "    <tr>\n",
       "      <th>2</th>\n",
       "      <td>m</td>\n",
       "      <td>Estonia</td>\n",
       "      <td>1.82</td>\n",
       "      <td>89.9</td>\n",
       "      <td>27.0</td>\n",
       "    </tr>\n",
       "    <tr>\n",
       "      <th>3</th>\n",
       "      <td>m</td>\n",
       "      <td>Dinamarca</td>\n",
       "      <td>1.82</td>\n",
       "      <td>86.8</td>\n",
       "      <td>26.3</td>\n",
       "    </tr>\n",
       "    <tr>\n",
       "      <th>4</th>\n",
       "      <td>m</td>\n",
       "      <td>Bosnia y Hercegovina</td>\n",
       "      <td>1.82</td>\n",
       "      <td>87.1</td>\n",
       "      <td>26.4</td>\n",
       "    </tr>\n",
       "    <tr>\n",
       "      <th>...</th>\n",
       "      <td>...</td>\n",
       "      <td>...</td>\n",
       "      <td>...</td>\n",
       "      <td>...</td>\n",
       "      <td>...</td>\n",
       "    </tr>\n",
       "    <tr>\n",
       "      <th>246</th>\n",
       "      <td>f</td>\n",
       "      <td>Laos</td>\n",
       "      <td>1.53</td>\n",
       "      <td>53.7</td>\n",
       "      <td>23.0</td>\n",
       "    </tr>\n",
       "    <tr>\n",
       "      <th>242</th>\n",
       "      <td>f</td>\n",
       "      <td>Bangladesh</td>\n",
       "      <td>1.52</td>\n",
       "      <td>50.5</td>\n",
       "      <td>21.8</td>\n",
       "    </tr>\n",
       "    <tr>\n",
       "      <th>243</th>\n",
       "      <td>f</td>\n",
       "      <td>Nepal</td>\n",
       "      <td>1.52</td>\n",
       "      <td>51.6</td>\n",
       "      <td>22.3</td>\n",
       "    </tr>\n",
       "    <tr>\n",
       "      <th>247</th>\n",
       "      <td>f</td>\n",
       "      <td>Timor Oriental</td>\n",
       "      <td>1.52</td>\n",
       "      <td>49.0</td>\n",
       "      <td>21.2</td>\n",
       "    </tr>\n",
       "    <tr>\n",
       "      <th>244</th>\n",
       "      <td>f</td>\n",
       "      <td>Guatemala</td>\n",
       "      <td>1.51</td>\n",
       "      <td>61.9</td>\n",
       "      <td>27.3</td>\n",
       "    </tr>\n",
       "  </tbody>\n",
       "</table>\n",
       "<p>248 rows × 5 columns</p>\n",
       "</div>"
      ],
      "text/plain": [
       "    sexo                  País  Altura_media  Peso   IMC\n",
       "0      m          Países Bajos          1.84  87.9  26.1\n",
       "1      m            Montenegro          1.83  90.4  27.0\n",
       "2      m               Estonia          1.82  89.9  27.0\n",
       "3      m             Dinamarca          1.82  86.8  26.3\n",
       "4      m  Bosnia y Hercegovina          1.82  87.1  26.4\n",
       "..   ...                   ...           ...   ...   ...\n",
       "246    f                  Laos          1.53  53.7  23.0\n",
       "242    f            Bangladesh          1.52  50.5  21.8\n",
       "243    f                 Nepal          1.52  51.6  22.3\n",
       "247    f        Timor Oriental          1.52  49.0  21.2\n",
       "244    f             Guatemala          1.51  61.9  27.3\n",
       "\n",
       "[248 rows x 5 columns]"
      ]
     },
     "execution_count": 22,
     "metadata": {},
     "output_type": "execute_result"
    }
   ],
   "source": [
    "df = pd.read_csv(\"Pesos_alturas_mundo.csv\")\n",
    "df.sort_values(by=\"Altura_media\", ascending=False)"
   ]
  },
  {
   "cell_type": "code",
   "execution_count": 23,
   "metadata": {},
   "outputs": [
    {
     "data": {
      "text/html": [
       "<div>\n",
       "<style scoped>\n",
       "    .dataframe tbody tr th:only-of-type {\n",
       "        vertical-align: middle;\n",
       "    }\n",
       "\n",
       "    .dataframe tbody tr th {\n",
       "        vertical-align: top;\n",
       "    }\n",
       "\n",
       "    .dataframe thead th {\n",
       "        text-align: right;\n",
       "    }\n",
       "</style>\n",
       "<table border=\"1\" class=\"dataframe\">\n",
       "  <thead>\n",
       "    <tr style=\"text-align: right;\">\n",
       "      <th></th>\n",
       "      <th></th>\n",
       "      <th>Altura_media</th>\n",
       "      <th>Peso</th>\n",
       "      <th>IMC</th>\n",
       "    </tr>\n",
       "    <tr>\n",
       "      <th>sexo</th>\n",
       "      <th>País</th>\n",
       "      <th></th>\n",
       "      <th></th>\n",
       "      <th></th>\n",
       "    </tr>\n",
       "  </thead>\n",
       "  <tbody>\n",
       "    <tr>\n",
       "      <th rowspan=\"4\" valign=\"top\">f</th>\n",
       "      <th>Uruguay</th>\n",
       "      <td>1.61</td>\n",
       "      <td>71.3</td>\n",
       "      <td>27.4</td>\n",
       "    </tr>\n",
       "    <tr>\n",
       "      <th>Venezuela</th>\n",
       "      <td>1.60</td>\n",
       "      <td>68.5</td>\n",
       "      <td>26.9</td>\n",
       "    </tr>\n",
       "    <tr>\n",
       "      <th>Vietnam</th>\n",
       "      <td>1.58</td>\n",
       "      <td>54.0</td>\n",
       "      <td>21.7</td>\n",
       "    </tr>\n",
       "    <tr>\n",
       "      <th>Yemen</th>\n",
       "      <td>1.54</td>\n",
       "      <td>56.9</td>\n",
       "      <td>24.0</td>\n",
       "    </tr>\n",
       "    <tr>\n",
       "      <th rowspan=\"6\" valign=\"top\">m</th>\n",
       "      <th>Afganistán</th>\n",
       "      <td>1.68</td>\n",
       "      <td>63.6</td>\n",
       "      <td>22.6</td>\n",
       "    </tr>\n",
       "    <tr>\n",
       "      <th>Albania</th>\n",
       "      <td>1.74</td>\n",
       "      <td>81.4</td>\n",
       "      <td>27.0</td>\n",
       "    </tr>\n",
       "    <tr>\n",
       "      <th>Alemania</th>\n",
       "      <td>1.80</td>\n",
       "      <td>88.7</td>\n",
       "      <td>27.4</td>\n",
       "    </tr>\n",
       "    <tr>\n",
       "      <th>Andorra</th>\n",
       "      <td>1.78</td>\n",
       "      <td>87.3</td>\n",
       "      <td>27.5</td>\n",
       "    </tr>\n",
       "    <tr>\n",
       "      <th>Antigua y Barbuda</th>\n",
       "      <td>1.78</td>\n",
       "      <td>81.6</td>\n",
       "      <td>25.7</td>\n",
       "    </tr>\n",
       "    <tr>\n",
       "      <th>Arabia Saudita</th>\n",
       "      <td>1.70</td>\n",
       "      <td>80.9</td>\n",
       "      <td>28.0</td>\n",
       "    </tr>\n",
       "  </tbody>\n",
       "</table>\n",
       "</div>"
      ],
      "text/plain": [
       "                        Altura_media  Peso   IMC\n",
       "sexo País                                       \n",
       "f    Uruguay                    1.61  71.3  27.4\n",
       "     Venezuela                  1.60  68.5  26.9\n",
       "     Vietnam                    1.58  54.0  21.7\n",
       "     Yemen                      1.54  56.9  24.0\n",
       "m    Afganistán                 1.68  63.6  22.6\n",
       "     Albania                    1.74  81.4  27.0\n",
       "     Alemania                   1.80  88.7  27.4\n",
       "     Andorra                    1.78  87.3  27.5\n",
       "     Antigua y Barbuda          1.78  81.6  25.7\n",
       "     Arabia Saudita             1.70  80.9  28.0"
      ]
     },
     "execution_count": 23,
     "metadata": {},
     "output_type": "execute_result"
    }
   ],
   "source": [
    "df.set_index([\"sexo\", \"País\"]).sort_index()[120:130]"
   ]
  },
  {
   "cell_type": "markdown",
   "metadata": {},
   "source": [
    "Supongamos que tienes un conjunto de datos que representa las calificaciones de estudiantes en diferentes materias. Crea un DataFrame con esta información y realiza algunas operaciones básicas:\n",
    "\n",
    "Crea un DataFrame llamado calificaciones con las siguientes columnas: \"Estudiante\", \"Materia\", \"Calificación\".\n",
    "\n",
    "Agrega al menos 10 filas de datos ficticios al DataFrame.\n",
    "\n",
    "Muestra las primeras 5 filas del DataFrame.\n",
    "\n",
    "Encuentra el promedio de calificaciones.\n",
    "\n",
    "Encuentra la calificación más alta en cada materia.\n",
    "\n",
    "Agrega una nueva columna llamada \"Aprobado\" que contenga True si la calificación es mayor o igual a 60, y False en caso contrario.\n",
    "\n",
    "Guarda el DataFrame resultante en un archivo CSV llamado \"calificaciones.csv\".\n",
    "\n",
    "Aquí tienes un punto de partida en código:"
   ]
  },
  {
   "cell_type": "code",
   "execution_count": 24,
   "metadata": {},
   "outputs": [
    {
     "data": {
      "text/html": [
       "<div>\n",
       "<style scoped>\n",
       "    .dataframe tbody tr th:only-of-type {\n",
       "        vertical-align: middle;\n",
       "    }\n",
       "\n",
       "    .dataframe tbody tr th {\n",
       "        vertical-align: top;\n",
       "    }\n",
       "\n",
       "    .dataframe thead th {\n",
       "        text-align: right;\n",
       "    }\n",
       "</style>\n",
       "<table border=\"1\" class=\"dataframe\">\n",
       "  <thead>\n",
       "    <tr style=\"text-align: right;\">\n",
       "      <th></th>\n",
       "      <th>Tienda</th>\n",
       "      <th>Producto</th>\n",
       "      <th>CantidadVendida</th>\n",
       "      <th>PrecioUnitario</th>\n",
       "      <th>Venta</th>\n",
       "    </tr>\n",
       "  </thead>\n",
       "  <tbody>\n",
       "    <tr>\n",
       "      <th>0</th>\n",
       "      <td>Tienda1</td>\n",
       "      <td>ProdA</td>\n",
       "      <td>6</td>\n",
       "      <td>35.835765</td>\n",
       "      <td>215.014587</td>\n",
       "    </tr>\n",
       "    <tr>\n",
       "      <th>1</th>\n",
       "      <td>Tienda2</td>\n",
       "      <td>ProdA</td>\n",
       "      <td>1</td>\n",
       "      <td>27.503488</td>\n",
       "      <td>27.503488</td>\n",
       "    </tr>\n",
       "    <tr>\n",
       "      <th>2</th>\n",
       "      <td>Tienda1</td>\n",
       "      <td>ProdA</td>\n",
       "      <td>4</td>\n",
       "      <td>45.670920</td>\n",
       "      <td>182.683680</td>\n",
       "    </tr>\n",
       "    <tr>\n",
       "      <th>3</th>\n",
       "      <td>Tienda2</td>\n",
       "      <td>ProdB</td>\n",
       "      <td>4</td>\n",
       "      <td>48.546510</td>\n",
       "      <td>194.186042</td>\n",
       "    </tr>\n",
       "    <tr>\n",
       "      <th>4</th>\n",
       "      <td>Tienda1</td>\n",
       "      <td>ProdB</td>\n",
       "      <td>8</td>\n",
       "      <td>25.337661</td>\n",
       "      <td>202.701286</td>\n",
       "    </tr>\n",
       "    <tr>\n",
       "      <th>5</th>\n",
       "      <td>Tienda2</td>\n",
       "      <td>ProdB</td>\n",
       "      <td>4</td>\n",
       "      <td>41.669002</td>\n",
       "      <td>166.676006</td>\n",
       "    </tr>\n",
       "  </tbody>\n",
       "</table>\n",
       "</div>"
      ],
      "text/plain": [
       "    Tienda Producto  CantidadVendida  PrecioUnitario       Venta\n",
       "0  Tienda1    ProdA                6       35.835765  215.014587\n",
       "1  Tienda2    ProdA                1       27.503488   27.503488\n",
       "2  Tienda1    ProdA                4       45.670920  182.683680\n",
       "3  Tienda2    ProdB                4       48.546510  194.186042\n",
       "4  Tienda1    ProdB                8       25.337661  202.701286\n",
       "5  Tienda2    ProdB                4       41.669002  166.676006"
      ]
     },
     "execution_count": 24,
     "metadata": {},
     "output_type": "execute_result"
    }
   ],
   "source": [
    "import pandas as pd\n",
    "import numpy as np\n",
    "\n",
    "# Paso 1: Crear DataFrame\n",
    "np.random.seed(0)\n",
    "data = {\n",
    "    \"Tienda\": [\"Tienda1\", \"Tienda2\", \"Tienda1\", \"Tienda2\", \"Tienda1\", \"Tienda2\"],\n",
    "    \"Producto\": [\"ProdA\", \"ProdA\", \"ProdA\", \"ProdB\", \"ProdB\", \"ProdB\"],\n",
    "    \"CantidadVendida\": np.random.randint(1, 10, 6),\n",
    "    \"PrecioUnitario\": np.random.uniform(10, 50, 6),\n",
    "}\n",
    "ventas = pd.DataFrame(data)\n",
    "ventas\n",
    "\n",
    "# Paso 2: Agregar la columna \"Venta\"\n",
    "\n",
    "ventas[\"Venta\"] = ventas[\"CantidadVendida\"] * ventas[\"PrecioUnitario\"]\n",
    "ventas\n",
    "# Paso 3: Encontrar el total de ventas por tienda\n",
    "# ventasXTienda = ventas.groupby('Tienda')[['Venta']].sum()\n",
    "# ventasXTienda\n",
    "\n",
    "# Paso 4: Encontrar el producto más vendido por tienda\n",
    "# vt2=ventas.groupby(['Tienda','Producto'])[['CantidadVendida']].sum().reset_index()\n",
    "# vt2\n",
    "# maximos=vt2.groupby('Tienda').CantidadVendida.idxmax()\n",
    "# maximos\n",
    "# vt2=vt2.loc[maximos][['Tienda','Producto']]\n",
    "# vt2\n",
    "# Paso 5: Calcular el monto total de ventas por producto\n",
    "# ventasxProd=ventas.groupby('Producto')[['Venta']].sum()\n",
    "# ventasxProd\n",
    "# Paso 6: Encontrar la tienda con el mayor monto total de ventas\n",
    "# tiendamax=ventas.groupby('Tienda')[['Venta']].sum().idxmax().values[0]\n",
    "# tiendamax\n",
    "# Paso 7: Calcular el precio promedio de cada producto\n",
    "# res=ventas.groupby('Producto')[['PrecioUnitario']].mean()\n",
    "# res =res.rename(columns={'PrecioUnitario':'PrecioPromedio'})\n",
    "# res\n",
    "# Paso 8: Guardar el DataFrame en un archivo CSV\n",
    "# ventas.to_csv('analisis_ventas.csv', index=False)\n",
    "# print(\"DataFrame guardado en 'analisis_ventas.csv'\")"
   ]
  },
  {
   "cell_type": "markdown",
   "metadata": {},
   "source": [
    "#### Otro Ejercicio"
   ]
  },
  {
   "cell_type": "code",
   "execution_count": 25,
   "metadata": {},
   "outputs": [],
   "source": [
    "import pandas as pd\n",
    "import numpy as np\n",
    "\n",
    "# Paso 1: Crear DataFrame\n",
    "np.random.seed(0)\n",
    "data = {\n",
    "    \"Tienda\": [\"Tienda1\", \"Tienda2\", \"Tienda1\", \"Tienda2\", \"Tienda1\", \"Tienda2\"],\n",
    "    \"Producto\": [\"ProdB\", \"ProdB\", \"ProdA\", \"ProdB\", \"ProdA\", \"ProdA\"],\n",
    "    \"Ventas\": np.random.randint(10, 50, 6),\n",
    "    \"Devoluciones\": np.random.randint(1, 10, 6),\n",
    "    \"PrecioUnitario\": np.random.uniform(20, 100, 6),\n",
    "}\n",
    "\n",
    "df = pd.DataFrame(data)\n",
    "df\n",
    "# Paso 2: Agregar la columna \"MontoNetoVentas\"\n",
    "df[\"MontoNetoVentas\"] = (df.Ventas - df.Devoluciones) * df.PrecioUnitario\n",
    "# df\n",
    "# Paso 3: Encontrar el monto total de ventas netas por tienda\n",
    "# ventaxTienda_df=df.groupby('Tienda')[['MontoNetoVentas']].sum()\n",
    "# ventaxTienda_df\n",
    "# Paso 4: Encontrar el producto con el precio unitario más alto por tienda\n",
    "# ipumax=df.groupby('Tienda')['PrecioUnitario'].idxmax()\n",
    "# ipumax\n",
    "# df.iloc[ipumax.values,[0,1]]\n",
    "# Paso 5: Encontrar la tienda con el mayor monto total de ventas netas\n",
    "# tiendaNetod_df=df.groupby('Tienda')[['MontoNetoVentas']].sum()['MontoNetoVentas'].idxmax()\n",
    "# tiendaNetod_df\n",
    "# Paso 6: Calcular el porcentaje de devoluciones con respecto a las ventas por producto\n",
    "# Mostrar el DataFrame con la nueva columna\n",
    "# df['PorcDevol']=round(df['Devoluciones']*100/df['Ventas'],2)\n",
    "# df"
   ]
  },
  {
   "cell_type": "code",
   "execution_count": 26,
   "metadata": {},
   "outputs": [],
   "source": [
    "import pandas as pd\n",
    "import numpy as np\n",
    "\n",
    "np.random.seed(3)  # Para reproducibilidad\n",
    "sz = 100\n",
    "productos = [\"ProdA\", \"ProdB\", \"ProdC\", \"ProdD\"]\n",
    "producto_precio = [[producto, np.random.uniform(20, 100)] for producto in productos]\n",
    "indices = np.random.choice(len(producto_precio), size=sz)\n",
    "\n",
    "data = {\n",
    "    \"Tienda\": np.random.choice([\"Tienda1\", \"Tienda2\", \"Tienda3\"], size=sz),\n",
    "    \"Producto\": [producto_precio[i][0] for i in indices],\n",
    "    \"Ventas\": np.random.randint(10, 50, sz),\n",
    "    \"Devoluciones\": np.random.randint(1, 10, sz),\n",
    "    \"PrecioUnitario\": [producto_precio[i][1] for i in indices],\n",
    "}\n",
    "\n",
    "df = pd.DataFrame(data)\n",
    "\n",
    "# Paso 2: Agregar la columna \"VentasNetas\"\n",
    "df[\"VentasNetas\"] = (df[\"Ventas\"] - df[\"Devoluciones\"]) * df[\"PrecioUnitario\"]\n",
    "\n",
    "# # Paso 3: Encontrar el monto total de ventas netas por tienda\n",
    "# df.groupby('Tienda')[['VentasNetas']].sum()\n",
    "\n",
    "# Paso 4: Encontrar el producto más vendido por tienda\n",
    "# vpt_df=df.groupby(['Tienda','Producto'])[['VentasNetas']].sum().reset_index()\n",
    "# imax=vpt_df.groupby('Tienda')['VentasNetas'].idxmax()\n",
    "# vpt_df.iloc[imax]\n",
    "\n",
    "# Paso 5: Encontrar el porcentaje de devoluciones con respecto a las ventas por producto\n",
    "# Mostrar el DataFrame con la nueva columna\n",
    "# df['pdevol']=100*df['Devoluciones']/df['Ventas']\n",
    "\n",
    "# Paso 6: Encontrar la tienda con el mayor monto total de ventas netas\n",
    "# df.groupby('Tienda')[['VentasNetas']].sum().idxmax().values[0]\n",
    "\n",
    "# Paso 7: Encontrar el producto con la mayor cantidad total de devoluciones\n",
    "# df.groupby('Producto')[['Devoluciones']].sum().idxmax().values[0]\n",
    "\n",
    "\n",
    "# Paso 8: Calcular el promedio de ventas netas por producto\n",
    "# prom_df=df.groupby('Producto')[['VentasNetas']].mean()\n",
    "# prom_df=prom_df.rename(columns={'VentasNetas':'VentasNetasPromedio'})\n",
    "# prom_df\n",
    "\n",
    "# df.groupby('Producto')[['VentasNetas']].agg('mean')"
   ]
  },
  {
   "cell_type": "code",
   "execution_count": 27,
   "metadata": {},
   "outputs": [
    {
     "data": {
      "text/html": [
       "<div>\n",
       "<style scoped>\n",
       "    .dataframe tbody tr th:only-of-type {\n",
       "        vertical-align: middle;\n",
       "    }\n",
       "\n",
       "    .dataframe tbody tr th {\n",
       "        vertical-align: top;\n",
       "    }\n",
       "\n",
       "    .dataframe thead th {\n",
       "        text-align: right;\n",
       "    }\n",
       "</style>\n",
       "<table border=\"1\" class=\"dataframe\">\n",
       "  <thead>\n",
       "    <tr style=\"text-align: right;\">\n",
       "      <th></th>\n",
       "      <th>A</th>\n",
       "      <th>B</th>\n",
       "      <th>C</th>\n",
       "    </tr>\n",
       "  </thead>\n",
       "  <tbody>\n",
       "    <tr>\n",
       "      <th>0</th>\n",
       "      <td>1</td>\n",
       "      <td>4</td>\n",
       "      <td>7</td>\n",
       "    </tr>\n",
       "    <tr>\n",
       "      <th>1</th>\n",
       "      <td>2</td>\n",
       "      <td>5</td>\n",
       "      <td>8</td>\n",
       "    </tr>\n",
       "    <tr>\n",
       "      <th>2</th>\n",
       "      <td>3</td>\n",
       "      <td>6</td>\n",
       "      <td>9</td>\n",
       "    </tr>\n",
       "  </tbody>\n",
       "</table>\n",
       "</div>"
      ],
      "text/plain": [
       "   A  B  C\n",
       "0  1  4  7\n",
       "1  2  5  8\n",
       "2  3  6  9"
      ]
     },
     "execution_count": 27,
     "metadata": {},
     "output_type": "execute_result"
    }
   ],
   "source": [
    "import pandas as pd\n",
    "\n",
    "data = {\"A\": [1, 2, 3], \"B\": [4, 5, 6], \"C\": [7, 8, 9], \"D\": [\"aa\", \"bb\", \"cc\"]}\n",
    "df = pd.DataFrame(data)\n",
    "\n",
    "# result = df.agg(['sum'])\n",
    "# result = df.agg({'A': ['sum'], 'B': ['sum'], 'C': ['min']})\n",
    "numeric_columns = df.select_dtypes(include=\"number\")\n",
    "numeric_columns\n",
    "# df"
   ]
  },
  {
   "cell_type": "markdown",
   "metadata": {},
   "source": [
    "##### **Ejercicio de Regresión Lineal Múltiple** (4 variables independientes)  \n",
    "Dados 11 registros de propiedades (Tabla 1), con las características de ***Valor de la propiedad***, ***antigüedad***, ***accesos***, ***oficinas*** y ***superficie***.  \n",
    "Determine a partir de una regresión lineal múltiple en que medida estas características pueden predecir el ***valor de la propiedad***.   \n",
    "  \n",
    "**Obtenga:**  \n",
    "1) Los Coeficientes de regresion para cada variable y su desviación estandar.  \n",
    "2) Error esperado en la prediccion del valor de la propiedad o intervalo de confianza.\n",
    "\n",
    "**Ecuaciones:**  \n",
    "  \n",
    "$$ \\begin{pmatrix}\n",
    "y_1 \\\\\n",
    "y_2 \\\\\n",
    "\\vdots \\\\\n",
    "y_{n}\\end{pmatrix}=\n",
    "\\begin{pmatrix}\n",
    "1 & x_{1,1} & x_{1,2} & \\cdots & x_{1,k} \\\\\n",
    "1 & x_{2,1} & x_{2,2} & \\cdots & x_{2,k} \\\\\n",
    "\\vdots  & \\vdots  & \\ddots & \\vdots  \\\\\n",
    "1 & x_{n,1} & x_{n,2} & \\cdots & x_{n,k} \n",
    "\\end{pmatrix}\n",
    "\\begin{pmatrix}\n",
    "b_0 \\\\\n",
    "b_1 \\\\\n",
    "\\vdots \\\\\n",
    "b_k\\end{pmatrix} +\n",
    "\\begin{pmatrix}\n",
    "u_1 \\\\\n",
    "u_2 \\\\\n",
    "\\vdots \\\\\n",
    "u_n\\end{pmatrix} \\quad \\text{en adelante} \\quad y=Xb+u$$  \n",
    "en donde   \n",
    "$n=$ *número de registros de la muestra* (en este caso $n=11$)   \n",
    "$k=$ *número de variables* independientes (en este caso $k=4$)  \n",
    "$b=$ vector de coeficientes de la regresión  \n",
    "$X=$ matriz de variables donde se agrega una columna de unos, ***\"matriz de diseño\"***.  \n",
    "$u = $ vector de perturbaciones aleatorias  \n",
    "**Una estimación para $y$ será entonces:**\n",
    "$$\\hat{y}=X\\hat{b}$$\n",
    "y para obtener esos $\\hat{b}$ en regresión lineal múltiple se minimizan los cuadrados de los residuos, es decir la función:\n",
    "$$(e^Te)=(y-Xb)^T(y-Xb)$$  \n",
    "$$e=y-y(b)$$\n",
    "para cierto $\\hat{b}$ la función $(e^Te)=(y-Xb)^T(y-Xb)$ tendrá un mínimo.  \n",
    "Entonces:  \n",
    "$$\\frac{\\partial{e^Te}}{\\partial{b}}=\\frac{\\partial}{\\partial{b}}{(y-Xb)^T(y-Xb)}=\\frac{\\partial}{\\partial{b}}\\big({y^Ty-(Xb)^Ty-y^TXb+(Xb)^TXb}\\big)$$  \n",
    "$$\\frac{\\partial}{\\partial{b}}\\big({(Xb)^TXb-2y^TXb}\\big)=2X^TXb-2y^TX$$  \n",
    "$$X^TX\\hat{b}-y^TX=0 \\quad \\implies \\quad X^TX\\hat{b}=y^TX \\quad \\implies \\quad \\hat{b}=(X^TX)^{-1}y^TX= (X^TX)^{-1}X^Ty$$  \n",
    "$$\\hat{b}={(X^TX)}^{-1}X^Ty \\quad\\text {son los coeficientes estimados de la regresión}$$  \n",
    "**Ahora se puede calcular la varianza para los coeficientes estimados $\\hat{b}$:**  \n",
    "$$\\hat{b}-b={(X^TX)}^{-1}X^Ty-b={(X^TX)}^{-1}X^T(Xb+u)-b=b+(X^TX)^{-1}X^Tu-b$$\n",
    "$$(\\hat{b}-b)=(X^TX)^{-1}X^Tu$$\n",
    "$$(\\hat{b}-b)^T=u^TX(X^TX)^{-1}$$\n",
    "$$V_{\\hat{b}}=E\\big[(\\hat{b}-b)^T(\\hat{b}-b)\\big]=E\\big[(X^TX)^{-1}X^Tuu^TX(X^TX)^{-1}\\big]=(X^TX)^{-1}X^TE\\big[uu^T\\big]X(X^TX)^{-1}$$  \n",
    "$$E\\big[uu^T\\big]\\quad\\text{puede estimarse por}\\quad v_{\\hat{y}}=\\frac{\\hat{e}^T\\hat{e}}{n-(k+1)}\\quad\\text{de modo que:}$$\n",
    "$$V_{\\hat{b}}=v_{\\hat{y}}X(X^TX)^{-1}=\\frac{\\hat{e}^T\\hat{e}}{n-(k+1)}X(X^TX)^{-1}$$\n",
    "$V_{\\hat{b}} \\quad \\text {es la matriz de varianzas covarianzas de los coeficientes de la regresión}$  \n",
    "$E[\\quad]\\text{\\quad es el valor esperado}$  \n",
    "$\\hat{e}=y-\\hat{y}$  "
   ]
  },
  {
   "cell_type": "markdown",
   "metadata": {},
   "source": [
    "**Resumen de Fórmulas básicas de la regresión lineal múltiple:**  \n",
    "$$\\hat{b}={(X^TX)}^{-1}X^Ty$$\n",
    "$$\\hat{e}=y-\\hat{y}\\quad\\text{en donde}\\quad \\hat{y}=X\\hat{b} \\quad\\text{son los valores ajustados}$$\n",
    "$$ v_{\\hat{y}} = \\frac{\\hat{e}^T\\hat{e}}{n - (k+1)} \\quad \\sigma_{\\hat{y}} = \\sqrt{v_{\\hat{y}}} \\quad \\text{es la desviación de los residuos.}$$\n",
    "$$V_{\\hat{b}} = v_{\\hat{y}}(X^TX)^{-1}=v_{ij}$$ \n",
    "$$\\sigma_D=\\begin{pmatrix}\\sqrt{v_{00}},&\\sqrt{v_{11}},&\\dots,\\sqrt{v_{kk}}\\end{pmatrix}\\quad\\text{son las desviaciones estandar de los coeficientes de la regresión.}$$"
   ]
  },
  {
   "cell_type": "markdown",
   "metadata": {},
   "source": [
    "#### Presentación de los datos en el dataframe."
   ]
  },
  {
   "cell_type": "code",
   "execution_count": 28,
   "metadata": {},
   "outputs": [
    {
     "data": {
      "text/html": [
       "<div>\n",
       "<style scoped>\n",
       "    .dataframe tbody tr th:only-of-type {\n",
       "        vertical-align: middle;\n",
       "    }\n",
       "\n",
       "    .dataframe tbody tr th {\n",
       "        vertical-align: top;\n",
       "    }\n",
       "\n",
       "    .dataframe thead th {\n",
       "        text-align: right;\n",
       "    }\n",
       "</style>\n",
       "<table border=\"1\" class=\"dataframe\">\n",
       "  <thead>\n",
       "    <tr style=\"text-align: right;\">\n",
       "      <th></th>\n",
       "      <th>Valor</th>\n",
       "      <th>Antigüedad</th>\n",
       "      <th>Accesos</th>\n",
       "      <th>Oficinas</th>\n",
       "      <th>Superficie</th>\n",
       "    </tr>\n",
       "  </thead>\n",
       "  <tbody>\n",
       "    <tr>\n",
       "      <th>0</th>\n",
       "      <td>142.0</td>\n",
       "      <td>20</td>\n",
       "      <td>2.0</td>\n",
       "      <td>2</td>\n",
       "      <td>2310</td>\n",
       "    </tr>\n",
       "    <tr>\n",
       "      <th>1</th>\n",
       "      <td>144.0</td>\n",
       "      <td>12</td>\n",
       "      <td>2.0</td>\n",
       "      <td>2</td>\n",
       "      <td>2333</td>\n",
       "    </tr>\n",
       "    <tr>\n",
       "      <th>2</th>\n",
       "      <td>151.0</td>\n",
       "      <td>33</td>\n",
       "      <td>1.5</td>\n",
       "      <td>3</td>\n",
       "      <td>2356</td>\n",
       "    </tr>\n",
       "    <tr>\n",
       "      <th>3</th>\n",
       "      <td>360.0</td>\n",
       "      <td>40</td>\n",
       "      <td>2.0</td>\n",
       "      <td>3</td>\n",
       "      <td>2273</td>\n",
       "    </tr>\n",
       "    <tr>\n",
       "      <th>4</th>\n",
       "      <td>139.0</td>\n",
       "      <td>53</td>\n",
       "      <td>3.0</td>\n",
       "      <td>2</td>\n",
       "      <td>2402</td>\n",
       "    </tr>\n",
       "    <tr>\n",
       "      <th>5</th>\n",
       "      <td>169.0</td>\n",
       "      <td>23</td>\n",
       "      <td>2.0</td>\n",
       "      <td>4</td>\n",
       "      <td>2425</td>\n",
       "    </tr>\n",
       "    <tr>\n",
       "      <th>6</th>\n",
       "      <td>126.0</td>\n",
       "      <td>99</td>\n",
       "      <td>1.5</td>\n",
       "      <td>2</td>\n",
       "      <td>2448</td>\n",
       "    </tr>\n",
       "    <tr>\n",
       "      <th>7</th>\n",
       "      <td>142.9</td>\n",
       "      <td>34</td>\n",
       "      <td>2.0</td>\n",
       "      <td>2</td>\n",
       "      <td>2471</td>\n",
       "    </tr>\n",
       "    <tr>\n",
       "      <th>8</th>\n",
       "      <td>163.0</td>\n",
       "      <td>23</td>\n",
       "      <td>3.0</td>\n",
       "      <td>3</td>\n",
       "      <td>2494</td>\n",
       "    </tr>\n",
       "    <tr>\n",
       "      <th>9</th>\n",
       "      <td>189.0</td>\n",
       "      <td>55</td>\n",
       "      <td>4.0</td>\n",
       "      <td>4</td>\n",
       "      <td>2517</td>\n",
       "    </tr>\n",
       "    <tr>\n",
       "      <th>10</th>\n",
       "      <td>149.0</td>\n",
       "      <td>22</td>\n",
       "      <td>3.0</td>\n",
       "      <td>2</td>\n",
       "      <td>2540</td>\n",
       "    </tr>\n",
       "  </tbody>\n",
       "</table>\n",
       "</div>"
      ],
      "text/plain": [
       "    Valor  Antigüedad  Accesos  Oficinas  Superficie\n",
       "0   142.0          20      2.0         2        2310\n",
       "1   144.0          12      2.0         2        2333\n",
       "2   151.0          33      1.5         3        2356\n",
       "3   360.0          40      2.0         3        2273\n",
       "4   139.0          53      3.0         2        2402\n",
       "5   169.0          23      2.0         4        2425\n",
       "6   126.0          99      1.5         2        2448\n",
       "7   142.9          34      2.0         2        2471\n",
       "8   163.0          23      3.0         3        2494\n",
       "9   189.0          55      4.0         4        2517\n",
       "10  149.0          22      3.0         2        2540"
      ]
     },
     "execution_count": 28,
     "metadata": {},
     "output_type": "execute_result"
    }
   ],
   "source": [
    "import numpy as np\n",
    "import pandas as pd\n",
    "\n",
    "data = pd.read_csv(\"ValorInmueble.csv\")\n",
    "df = pd.DataFrame(data)\n",
    "df"
   ]
  },
  {
   "cell_type": "markdown",
   "metadata": {},
   "source": [
    "#### Ejemplo de Regresión Lineal Múltiple\n",
    "\n",
    "##### Datos\n",
    "\n",
    "| Valor $y$ | Antigüedad $x_1$| Accesos $x_2$ | Oficinas $x_3$| Superficie $x_4$ |\n",
    "|-------|------------|---------|----------|------------|\n",
    "| 142.0 | 20         | 2.0     | 2        | 2310       |\n",
    "| 144.0 | 12         | 2.0     | 2        | 2333       |\n",
    "| 151.0 | 33         | 1.5     | 3        | 2356       |\n",
    "| 360.0 | 40         | 2.0     | 3        | 2273       |\n",
    "| 139.0 | 53         | 3.0     | 2        | 2402       |\n",
    "| 169.0 | 23         | 2.0     | 4        | 2425       |\n",
    "| 126.0 | 99         | 1.5     | 2        | 2448       |\n",
    "| 142.9 | 34         | 2.0     | 2        | 2471       |\n",
    "| 163.0 | 23         | 3.0     | 3        | 2494       |\n",
    "| 189.0 | 55         | 4.0     | 4        | 2517       |\n",
    "| 149.0 | 22         | 3.0     | 2        | 2540       |\n",
    "\n",
    "\n",
    "##### Matrices y Vectores\n",
    "\n",
    "Se construye la matriz **X** agregando una columna de \"unos\" (1) al principio:\n",
    "\n",
    "$$\n",
    "\\begin{bmatrix}\n",
    "1 & 20 & 2.0 & 2 & 2310 \\\\\n",
    "1 & 12 & 2.0 & 2 & 2333 \\\\\n",
    "1 & 33 & 1.5 & 3 & 2356 \\\\\n",
    "1 & 40 & 2.0 & 3 & 2273 \\\\\n",
    "1 & 53 & 3.0 & 2 & 2402 \\\\\n",
    "1 & 23 & 2.0 & 4 & 2425 \\\\\n",
    "1 & 99 & 1.5 & 2 & 2448 \\\\\n",
    "1 & 34 & 2.0 & 2 & 2471 \\\\\n",
    "1 & 23 & 3.0 & 3 & 2494 \\\\\n",
    "1 & 55 & 4.0 & 4 & 2517 \\\\\n",
    "1 & 22 & 3.0 & 2 & 2540 \\\\\n",
    "\\end{bmatrix}\n",
    "$$\n",
    "\n",
    "El vector de la variable dependiente **y** es:\n",
    "\n",
    "$$ y =\n",
    "\\begin{bmatrix}\n",
    "142.0 \\\\\n",
    "144.0 \\\\\n",
    "151.0 \\\\\n",
    "360.0 \\\\\n",
    "139.0 \\\\\n",
    "169.0 \\\\\n",
    "126.0 \\\\\n",
    "142.9 \\\\\n",
    "163.0 \\\\\n",
    "189.0 \\\\\n",
    "149.0 \\\\\n",
    "\\end{bmatrix}\n",
    "$$"
   ]
  },
  {
   "cell_type": "code",
   "execution_count": 29,
   "metadata": {},
   "outputs": [],
   "source": [
    "import numpy as np\n",
    "\n",
    "x = np.array(\n",
    "    [\n",
    "        [1, 20, 2.0, 2, 2310],\n",
    "        [1, 12, 2.0, 2, 2333],\n",
    "        [1, 33, 1.5, 3, 2356],\n",
    "        [1, 40, 2.0, 3, 2273],\n",
    "        [1, 53, 3.0, 2, 2402],\n",
    "        [1, 23, 2.0, 4, 2425],\n",
    "        [1, 99, 1.5, 2, 2448],\n",
    "        [1, 34, 2.0, 2, 2471],\n",
    "        [1, 23, 3.0, 3, 2494],\n",
    "        [1, 55, 4.0, 4, 2517],\n",
    "        [1, 22, 3.0, 2, 2540],\n",
    "    ]\n",
    ")\n",
    "k = len(x[0]) - 1"
   ]
  },
  {
   "cell_type": "markdown",
   "metadata": {},
   "source": [
    "##### Ecuación Matricial\n",
    "\n",
    "La ecuación matricial es:\n",
    "\n",
    "$$ \\begin{bmatrix}\n",
    "142.0 \\\\\n",
    "144.0 \\\\\n",
    "151.0 \\\\\n",
    "360.0 \\\\\n",
    "139.0 \\\\\n",
    "169.0 \\\\\n",
    "126.0 \\\\\n",
    "142.9 \\\\\n",
    "163.0 \\\\\n",
    "189.0 \\\\\n",
    "149.0 \\\\\n",
    "\\end{bmatrix} = \n",
    "\\begin{bmatrix}\n",
    "1 & 20 & 2.0 & 2 & 2310 \\\\\n",
    "1 & 12 & 2.0 & 2 & 2333 \\\\\n",
    "1 & 33 & 1.5 & 3 & 2356 \\\\\n",
    "1 & 40 & 2.0 & 3 & 2273 \\\\\n",
    "1 & 53 & 3.0 & 2 & 2402 \\\\\n",
    "1 & 23 & 2.0 & 4 & 2425 \\\\\n",
    "1 & 99 & 1.5 & 2 & 2448 \\\\\n",
    "1 & 34 & 2.0 & 2 & 2471 \\\\\n",
    "1 & 23 & 3.0 & 3 & 2494 \\\\\n",
    "1 & 55 & 4.0 & 4 & 2517 \\\\\n",
    "1 & 22 & 3.0 & 2 & 2540 \\\\\n",
    "\\end{bmatrix}\n",
    "·\n",
    "\\begin{bmatrix} b_0 \\\\ b_1 \\\\ b_2 \\\\ b_3 \\\\b_4 \\end{bmatrix}\n",
    "$$\n",
    "\n",
    "##### Solución\n",
    "\n",
    "La solución para el vector de coeficientes **b** se obtiene utilizando la fórmula:\n",
    "\n",
    "$$ \\hat{b} = (X^T X)^{-1} X^T y $$\n",
    "\n",
    "Calcular $X^T X$:\n",
    "\n",
    "$$\n",
    "\\begin{bmatrix}\n",
    "11 & 414 & 26 & 29 & 26569 \\\\\n",
    "414 & 21566 & 970 & 1080 & 1003988 \\\\\n",
    "26 & 970 & 67.5 & 70.5 & 63206 \\\\\n",
    "29 & 1080 & 70.5 & 83 & 70145 \\\\\n",
    "26569 & 1003988 & 63206 & 70145 & 64251953 \\\\\n",
    "\\end{bmatrix}\n",
    "$$"
   ]
  },
  {
   "cell_type": "code",
   "execution_count": 30,
   "metadata": {},
   "outputs": [
    {
     "data": {
      "text/plain": [
       "array([[1.1000000e+01, 4.1400000e+02, 2.6000000e+01, 2.9000000e+01,\n",
       "        2.6569000e+04],\n",
       "       [4.1400000e+02, 2.1566000e+04, 9.7000000e+02, 1.0800000e+03,\n",
       "        1.0039880e+06],\n",
       "       [2.6000000e+01, 9.7000000e+02, 6.7500000e+01, 7.0500000e+01,\n",
       "        6.3206000e+04],\n",
       "       [2.9000000e+01, 1.0800000e+03, 7.0500000e+01, 8.3000000e+01,\n",
       "        7.0145000e+04],\n",
       "       [2.6569000e+04, 1.0039880e+06, 6.3206000e+04, 7.0145000e+04,\n",
       "        6.4251953e+07]])"
      ]
     },
     "execution_count": 30,
     "metadata": {},
     "output_type": "execute_result"
    }
   ],
   "source": [
    "import numpy as np\n",
    "\n",
    "xt = x.T  # Se calcula la traspuesta de X con el método .T\n",
    "xtx = np.dot(\n",
    "    xt, x\n",
    ")  # Se calcula el producto entre XT y X es un producto matricial (producto punto).\n",
    "xtx"
   ]
  },
  {
   "cell_type": "markdown",
   "metadata": {},
   "source": [
    "Calcular $(X^T X)^{-1}$:\n",
    "\n",
    "$$\n",
    "(\\mathbf{X}^T \\mathbf{X})^{-1} = \n",
    "\\begin{bmatrix}\n",
    "1.07665224 \\times 10^2 & 2.88525398 \\times 10^{-2} & 3.00540699  & -5.30286799 \\times 10^{-1} & -4.73493426 \\times 10^{-2} \\\\\n",
    "2.88525398 \\times 10^{-2} & 1.80180546 \\times 10^{-4} & 1.28723649 \\times 10^{-3} & 1.77174972 \\times 10^{-4} & -1.62060637 \\times 10^{-5} \\\\\n",
    "3.00540699 & 1.28723649 \\times 10^{-3} & 2.86286108 \\times 10^{-1} & -6.07756694 \\times 10^{-2} & -1.47816392 \\times 10^{-3} \\\\\n",
    "-5.30286799 \\times 10^{-1} & 1.77174972 \\times 10^{-4} & -6.07756694 \\times 10^{-2} & 1.69855498 \\times 10^{-1} & 9.08638756 \\times 10^{-5} \\\\\n",
    "-4.73493426 \\times 10^{-2} & -1.62060637 \\times 10^{-5} & -1.47816392 \\times 10^{-3} & 9.08638756 \\times 10^{-5} & 2.12032553 \\times 10^{-5} \\\\\n",
    "\\end{bmatrix}\n",
    "$$"
   ]
  },
  {
   "cell_type": "code",
   "execution_count": 31,
   "metadata": {},
   "outputs": [
    {
     "data": {
      "text/plain": [
       "array([[ 1.07665224e+02,  2.88525398e-02,  3.00540699e+00,\n",
       "        -5.30286799e-01, -4.73493426e-02],\n",
       "       [ 2.88525398e-02,  1.80180546e-04,  1.28723649e-03,\n",
       "         1.77174972e-04, -1.62060637e-05],\n",
       "       [ 3.00540699e+00,  1.28723649e-03,  2.86286108e-01,\n",
       "        -6.07756694e-02, -1.47816392e-03],\n",
       "       [-5.30286799e-01,  1.77174972e-04, -6.07756694e-02,\n",
       "         1.69855498e-01,  9.08638756e-05],\n",
       "       [-4.73493426e-02, -1.62060637e-05, -1.47816392e-03,\n",
       "         9.08638756e-05,  2.12032553e-05]])"
      ]
     },
     "execution_count": 31,
     "metadata": {},
     "output_type": "execute_result"
    }
   ],
   "source": [
    "xtx_1 = np.linalg.inv(\n",
    "    xtx\n",
    ")  # Se calcula la inversa del resultado anterior con el metodo .linalg.inv()\n",
    "\n",
    "\n",
    "xtx_1"
   ]
  },
  {
   "cell_type": "markdown",
   "metadata": {},
   "source": [
    "Calcular $X^T y$:\n",
    "\n",
    "$$ X^T y = \n",
    "\\begin{bmatrix}\n",
    "1874.9 \\\\\n",
    "69959.6 \\\\\n",
    "4440.3 \\\\\n",
    "5139.8 \\\\\n",
    "4503959.9 \\\\\n",
    "\\end{bmatrix}\n",
    "$$"
   ]
  },
  {
   "cell_type": "code",
   "execution_count": 32,
   "metadata": {},
   "outputs": [
    {
     "data": {
      "text/plain": [
       "array([1.8749000e+03, 6.9959600e+04, 4.4403000e+03, 5.1398000e+03,\n",
       "       4.5039599e+06])"
      ]
     },
     "execution_count": 32,
     "metadata": {},
     "output_type": "execute_result"
    }
   ],
   "source": [
    "y = df[\"Valor\"]  # Se establece \"y\" con los valores medidos.\n",
    "n = len(y)\n",
    "xty = np.dot(\n",
    "    xt, y\n",
    ")  # Se obtiene el producto de la traspuesta de X por \"y\" con el método .dot() (producto punto)\n",
    "xty"
   ]
  },
  {
   "cell_type": "markdown",
   "metadata": {},
   "source": [
    "Multiplicar $(X^T X)^{-1}$ por $X^T y$ para obtener **b**:\n",
    "\n",
    "$$ (X^T X)^{-1}·X^Ty = \\hat{b} = \n",
    "\\begin{bmatrix}\n",
    "1239.8414 \\\\\n",
    "0.3359 \\\\\n",
    "26.1225 \\\\\n",
    "30.5687 \\\\\n",
    "-0.5069 \\\\\n",
    "\\end{bmatrix}\n",
    "$$"
   ]
  },
  {
   "cell_type": "code",
   "execution_count": 33,
   "metadata": {},
   "outputs": [
    {
     "data": {
      "text/plain": [
       "array([ 1.23984142e+03,  3.35884808e-01,  2.61225137e+01,  3.05687069e+01,\n",
       "       -5.06909926e-01])"
      ]
     },
     "execution_count": 33,
     "metadata": {},
     "output_type": "execute_result"
    }
   ],
   "source": [
    "b = np.dot(xtx_1, xty)\n",
    "b"
   ]
  },
  {
   "cell_type": "markdown",
   "metadata": {},
   "source": [
    "Se calcula ahora $\\hat{e}=y-\\hat{y}=y-X\\hat{b}$:"
   ]
  },
  {
   "cell_type": "code",
   "execution_count": 34,
   "metadata": {},
   "outputs": [
    {
     "data": {
      "text/plain": [
       "0     -46.979632\n",
       "1     -30.633625\n",
       "2     -36.535728\n",
       "3     114.978298\n",
       "4     -40.550631\n",
       "5     -23.830058\n",
       "6      -6.499705\n",
       "7      30.830479\n",
       "8       9.592920\n",
       "9     -20.187687\n",
       "10     49.815368\n",
       "Name: Valor, dtype: float64"
      ]
     },
     "execution_count": 34,
     "metadata": {},
     "output_type": "execute_result"
    }
   ],
   "source": [
    "ys = np.dot(x, b)\n",
    "e = y - ys\n",
    "e"
   ]
  },
  {
   "cell_type": "markdown",
   "metadata": {},
   "source": [
    "Se calcula la varianza $v_{\\hat{y}} = \\frac{1}{n - (k+1)}\\hat{e}^T\\hat{e}=3981.08$:"
   ]
  },
  {
   "cell_type": "code",
   "execution_count": 58,
   "metadata": {},
   "outputs": [
    {
     "data": {
      "text/plain": [
       "3981.083467464503"
      ]
     },
     "execution_count": 58,
     "metadata": {},
     "output_type": "execute_result"
    }
   ],
   "source": [
    "et = e.T\n",
    "vy = (1 / (n - k - 1)) * np.dot(et, e)\n",
    "vy"
   ]
  },
  {
   "cell_type": "markdown",
   "metadata": {},
   "source": [
    "Se calcula la desviación en y $\\sigma_{\\hat{y}}=\\sqrt{v_{\\hat{y}}}=63$:"
   ]
  },
  {
   "cell_type": "code",
   "execution_count": 36,
   "metadata": {},
   "outputs": [
    {
     "data": {
      "text/plain": [
       "63.095827654960694"
      ]
     },
     "execution_count": 36,
     "metadata": {},
     "output_type": "execute_result"
    }
   ],
   "source": [
    "sy = np.sqrt(vy)\n",
    "sy"
   ]
  },
  {
   "cell_type": "markdown",
   "metadata": {},
   "source": [
    "Ahora se calcula la matriz de varianza-covarianza de la regresión:\n",
    "$$V_{\\hat{b}} = v_{\\hat{y}}(X^TX)^{-1}=v_{ij}$$ \n",
    "\n",
    "$$\n",
    "\\begin{bmatrix}\n",
    "428624.245 & 114.864369 & 11964.7761 & -2111.11601 & -188.501685 \\\\\n",
    "114.864369 & 0.717313791 & 5.12459589 & 0.705348352 & -0.0645176923 \\\\\n",
    "11964.7761 & 5.12459589 & 1139.72889 & -241.953012 & -5.88469395 \\\\\n",
    "-2111.11601 & 0.705348352 & -241.953012 & 676.208915 & 0.361736673 \\\\\n",
    "-188.501685 & -0.0645176923 & -5.88469395 & 0.361736673 & 0.084411929\n",
    "\\end{bmatrix}\n",
    "$$"
   ]
  },
  {
   "cell_type": "code",
   "execution_count": 37,
   "metadata": {},
   "outputs": [
    {
     "data": {
      "text/plain": [
       "array([[ 4.28624245e+05,  1.14864369e+02,  1.19647761e+04,\n",
       "        -2.11111601e+03, -1.88501685e+02],\n",
       "       [ 1.14864369e+02,  7.17313791e-01,  5.12459589e+00,\n",
       "         7.05348352e-01, -6.45176923e-02],\n",
       "       [ 1.19647761e+04,  5.12459589e+00,  1.13972889e+03,\n",
       "        -2.41953012e+02, -5.88469395e+00],\n",
       "       [-2.11111601e+03,  7.05348352e-01, -2.41953012e+02,\n",
       "         6.76208915e+02,  3.61736673e-01],\n",
       "       [-1.88501685e+02, -6.45176923e-02, -5.88469395e+00,\n",
       "         3.61736673e-01,  8.44119290e-02]])"
      ]
     },
     "execution_count": 37,
     "metadata": {},
     "output_type": "execute_result"
    }
   ],
   "source": [
    "vb = vy * xtx_1\n",
    "vb"
   ]
  },
  {
   "cell_type": "markdown",
   "metadata": {},
   "source": [
    "Ahora se extrae la diagonal y se realiza la raiz cuadrada para obtener las desviaciones de los coeficientes de la regresión:\n",
    "$$\\sigma_D=\\begin{pmatrix}\\sqrt{v_{00}},&\\sqrt{v_{11}},&\\dots,\\sqrt{v_{kk}}\\end{pmatrix}$$\n",
    "$$\\sigma_D=\n",
    "\\begin{pmatrix}\n",
    "654.6940, & 0.8469, & 33.7599, & 26.0040, & 0.2905 \\\\\n",
    "\\end{pmatrix}\n",
    "$$"
   ]
  },
  {
   "cell_type": "code",
   "execution_count": 38,
   "metadata": {},
   "outputs": [
    {
     "data": {
      "text/plain": [
       "array([6.54694009e+02, 8.46943794e-01, 3.37598710e+01, 2.60040173e+01,\n",
       "       2.90537311e-01])"
      ]
     },
     "execution_count": 38,
     "metadata": {},
     "output_type": "execute_result"
    }
   ],
   "source": [
    "vd = np.diagonal(vb)\n",
    "sd = np.sqrt(vd)\n",
    "sd"
   ]
  },
  {
   "cell_type": "markdown",
   "metadata": {},
   "source": [
    "Se puede calcular también el coeficiente de determinación $R^2$:\n",
    "$$R^2=1-\\frac{(y-\\hat y)^T(y-\\hat y)}{(y-\\bar y)^T(y-\\bar y)}=1-\\frac{\\hat{e}^T\\hat{e}}{\\bar{e}^T\\bar{e}}=0.4367$$\n",
    "y el coeficiente de correlación múltiple, $\\sqrt{R^2}=R$:  \n",
    "$$R=0.6608$$"
   ]
  },
  {
   "cell_type": "code",
   "execution_count": 39,
   "metadata": {},
   "outputs": [
    {
     "data": {
      "text/plain": [
       "0.43666872376417354"
      ]
     },
     "execution_count": 39,
     "metadata": {},
     "output_type": "execute_result"
    }
   ],
   "source": [
    "ym = df[\"Valor\"].mean()\n",
    "ym = np.full(11, ym)\n",
    "em = y - ym\n",
    "r2 = 1 - np.dot(et, e) / np.dot(em.T, em)\n",
    "r2"
   ]
  },
  {
   "cell_type": "markdown",
   "metadata": {},
   "source": [
    "El coeficiente de determinación ajustado $R^2_{\\text{ajustado}}$ se calcula utilizando la siguiente fórmula:\n",
    "\n",
    "$$\n",
    "R^2_{\\text{ajustado}} = 1 - \\frac{  (n - 1)}{(n - 1) - k}\\cdot(1 - R^2)=0.0611\n",
    "$$\n",
    "\n",
    "Donde:\n",
    "- $R^2$ es el coeficiente de determinación.\n",
    "- $n$ es el número de observaciones.\n",
    "- $k$ es el número de predictores (variables independientes).\n",
    "\n",
    "Esta fórmula ajusta el $R^2$ para tener en cuenta el número de predictores en el modelo y el número total de observaciones. Cuanto mayor sea el $R^2_{\\text{ajustado}}$, mejor se ajusta el modelo a los datos, considerando el número de predictores.\n"
   ]
  },
  {
   "cell_type": "code",
   "execution_count": 40,
   "metadata": {},
   "outputs": [
    {
     "data": {
      "text/plain": [
       "0.0611145396069559"
      ]
     },
     "execution_count": 40,
     "metadata": {},
     "output_type": "execute_result"
    }
   ],
   "source": [
    "ra2 = 1 - (1 - r2) * (n - 1) / (n - k - 1)\n",
    "ra2"
   ]
  },
  {
   "cell_type": "markdown",
   "metadata": {},
   "source": [
    "El estadístico F puede expresarse de la siguiente manera:\n",
    "\n",
    "$$ F =\\frac{MSR}{MSE}= \\frac{(\\bar Y-\\hat Y)^T(\\bar Y-\\hat Y)/k}{(Y-\\hat Y)^T(Y-\\hat Y)/(n-k-1)} = 1.1627$$\n",
    "\n",
    "\n",
    "Donde:\n",
    "- MSR (Mean Square Regression) es la media de los cuadrados de la regresión.\n",
    "- MSE (Mean Square Error) es la media de los cuadrados del error.\n",
    "- $ Y $ es el vector de observaciones de la variable dependiente.\n",
    "- $ \\hat{Y} $ es el vector de valores predichos por el modelo de regresión.\n",
    "- $ \\bar{Y}$ es el vector cuyas componentes es la media de los $Y$.\n",
    "- $ k $ es el número de parámetros en el modelo.\n",
    "- $ n $ es el número de observaciones.\n",
    "\n",
    "El estadístico F evalúa la significancia global del modelo de regresión. El numerador mide la reducción de la variabilidad explicada por el modelo, y el denominador mide la variabilidad no explicada por el modelo. La comparación entre estas dos cantidades proporciona información sobre si el modelo en su conjunto es estadísticamente significativo."
   ]
  },
  {
   "cell_type": "code",
   "execution_count": 41,
   "metadata": {},
   "outputs": [
    {
     "data": {
      "text/plain": [
       "1.1627316168615074"
      ]
     },
     "execution_count": 41,
     "metadata": {},
     "output_type": "execute_result"
    }
   ],
   "source": [
    "ysym = ys - ym\n",
    "yys = y - ys\n",
    "ve = np.dot(ysym.T, ysym) / 4\n",
    "vne = np.dot(yys.T, yys) / (11 - 4 - 1)\n",
    "F = ve / vne\n",
    "F"
   ]
  },
  {
   "cell_type": "markdown",
   "metadata": {},
   "source": [
    "#### Coeficiente de Durbin-Watson:\n",
    "$$dw=\\frac{\\displaystyle\\sum_{i=2}^{n} (\\hat{e}_i-\\hat{e}_{i-1})^2}{\\displaystyle\\sum_{i=1}^{n} \\hat{e}_i^2}$$  \n",
    "En forma matricial:\n",
    "$$dw=\\frac{\\hat{e}_r^T\\hat{e}_r}{\\hat{e}^T\\hat{e}}$$  \n",
    "$$dw=2.330$$\n",
    "En donde:  \n",
    "  \n",
    "$\\hat{e}_r=\\hat{e}[1:]-\\hat{e}[:-1]$  \n",
    "$\\hat{e}=y-\\hat{y}$"
   ]
  },
  {
   "cell_type": "code",
   "execution_count": 42,
   "metadata": {},
   "outputs": [
    {
     "data": {
      "text/plain": [
       "2.33016892195727"
      ]
     },
     "execution_count": 42,
     "metadata": {},
     "output_type": "execute_result"
    }
   ],
   "source": [
    "er = e[1:].reset_index(drop=True) - e[:-1]\n",
    "dw = np.dot(er.T, er) / np.dot(e.T, e)\n",
    "dw"
   ]
  },
  {
   "cell_type": "markdown",
   "metadata": {},
   "source": [
    "##### Kurtosis de los residuos  \n",
    "$$K=\\frac{\\mu_4}{V^2}=\\frac{\\frac{1}{n}\\displaystyle\\sum_{i=1}^{n}(\\hat{e}_i-\\bar{\\hat{e}})^4}{\\Big(\\frac{1}{n}\\displaystyle\\sum_{i=1}^{n}(\\hat{e}_i-\\bar{\\hat{e}})^2\\Big)^2}=\\frac{\\frac{1}{n}\\displaystyle\\sum_{i=1}^{n}E_i^4}{\\Big(\\frac{1}{n}\\displaystyle\\sum_{i=1}^{n}E_i^2\\Big)^2}$$\n",
    "$$K=n\\frac{E^TE_DE_DE}{(E^TE)^2}=n\\frac{E_2^TE_2}{(E^TE)^2}=3.7125$$"
   ]
  },
  {
   "cell_type": "code",
   "execution_count": 43,
   "metadata": {},
   "outputs": [
    {
     "data": {
      "text/plain": [
       "3.7125209308622495"
      ]
     },
     "execution_count": 43,
     "metadata": {},
     "output_type": "execute_result"
    }
   ],
   "source": [
    "emn = e.mean()\n",
    "E = e - emn\n",
    "E2 = E**2\n",
    "K = n * (np.dot(E2.T, E2) / np.dot(E.T, E) ** 2)\n",
    "K"
   ]
  },
  {
   "cell_type": "markdown",
   "metadata": {},
   "source": [
    "##### Asimetría de la muestra (skew):\n",
    "$$S=\\frac{\\frac{1}{n}\\displaystyle\\sum_{i=1}^{n}(\\hat{e}_i-\\bar{\\hat{e}})^3}{\\Big(\\frac{1}{n}\\displaystyle\\sum_{i=1}^{n}(\\hat{e}_i-\\bar{\\hat{e}})^2\\Big)^{\\frac{3}{2}}}=\\frac{\\frac{1}{n}\\displaystyle\\sum_{i=1}^{n}E_i^3}{\\Big(\\frac{1}{n}\\displaystyle\\sum_{i=1}^{n}E_i^2\\Big)^{\\frac{3}{2}}}$$\n",
    "$$S=\\sqrt{n}\\frac{E^TE_DE}{(E^TE)^{\\frac{3}{2}}}=\\sqrt{n}\\frac{E_2^TE}{(E^TE)^{\\frac{3}{2}}}=1.2613$$"
   ]
  },
  {
   "cell_type": "code",
   "execution_count": 44,
   "metadata": {},
   "outputs": [
    {
     "data": {
      "text/plain": [
       "1.2612600491455257"
      ]
     },
     "execution_count": 44,
     "metadata": {},
     "output_type": "execute_result"
    }
   ],
   "source": [
    "S = np.sqrt(n) * (np.dot(E2.T, E) / np.dot(E.T, E) ** (3 / 2))\n",
    "S"
   ]
  },
  {
   "cell_type": "markdown",
   "metadata": {},
   "source": [
    "##### Jarque-Bera\n",
    "$$JB=\\frac{n}{6}\\Big(S^2+\\frac{1}{4}(K-3)^2\\Big)=3.1591$$"
   ]
  },
  {
   "cell_type": "code",
   "execution_count": 45,
   "metadata": {},
   "outputs": [
    {
     "data": {
      "text/plain": [
       "3.1491137897995882"
      ]
     },
     "execution_count": 45,
     "metadata": {},
     "output_type": "execute_result"
    }
   ],
   "source": [
    "JB = (n / 6) * (S**2 + (1 / 4) * (K - 3) ** 2)\n",
    "JB"
   ]
  },
  {
   "cell_type": "markdown",
   "metadata": {},
   "source": [
    "##### Omnibus\n",
    "$$OM=\\frac{\\frac{1}{4}(S^2+K^2)}{\\frac{1}{6}S^2\\frac{1}{24}K^2}=36\\Bigg(\\frac{S^2+K^2}{S^2K^2}\\Bigg)$$"
   ]
  },
  {
   "cell_type": "code",
   "execution_count": 46,
   "metadata": {},
   "outputs": [
    {
     "data": {
      "text/plain": [
       "0.839413304515525"
      ]
     },
     "execution_count": 46,
     "metadata": {},
     "output_type": "execute_result"
    }
   ],
   "source": [
    "OM = 36 * ((S**2 + K**2) / (S**2 * K**2))\n",
    "OM\n",
    "S**2 / 6 + K**2 / 24"
   ]
  },
  {
   "cell_type": "markdown",
   "metadata": {},
   "source": [
    "##### Distribución de Fisher-Snedecor\n",
    "$$f(x,df1,df2)=\\frac{\\sqrt{\\frac{(df1x)^{df1}df2^{df2}}{(df1x+df2)^{df1+df2}}}}{xBeta(\\frac{df1}{2},\\frac{df2}{2})}\n",
    "=\\frac{1}{Beta(\\frac{df1}{2},\\frac{df2}{2})}\\Big(\\frac{df1}{df2}\\Big)^\\frac{df1}{2}x^{(\\frac{df1}{2}-1)}(1+\\frac{df1}{df2}x)^{-(\\frac{df1+df2}{2})}$$\n",
    "\n",
    "$$P(F\\leq x)=\\frac{Beta(\\frac{d_1x}{d_1x+d_2},\\frac{d_1}{2},\\frac{d_2}{2})}{Beta(1,\\frac{d_1}{2},\\frac{d_2}{2})}=I\\Bigg(\\frac{d_1x}{d_1x+d_2},\\frac{d_1}{2},\\frac{d_2}{2}\\Bigg)$$\n",
    "$$P(F\\geq x)=1-P(F\\leq x)$$\n",
    "$Beta(z,a,b)=\\int_0^z t^{a-1}(1-t)^{b-1} \\mathrm{d}t$\n",
    "$$P(F\\leq x)=\\frac{Beta(\\frac{4 \\cdot 1.163}{4 \\cdot 1.163+6},\\frac{4}{2},\\frac{6}{2})}{Beta(1,\\frac{4}{2},\\frac{6}{2})}=0.587$$\n",
    "$$P(F\\geq x)=1-0.587=0.413$$"
   ]
  },
  {
   "cell_type": "markdown",
   "metadata": {},
   "source": [
    "##### Función beta incompleta inferior regularizada:\n",
    "$$I(x,a,b)=\\frac{Beta(x,a,b)}{Beta(a,b)}$$\n",
    "para el caso de Fisher-Snedecor:\n",
    "$$P(F\\geq x)=1-I\\Bigg(\\frac{d_1x}{d_1x+d_2},\\frac{d_1}{2},\\frac{d_2}{2}\\Bigg)$$\n",
    "para el caso de la t-Student:\n",
    "$$P(t\\geq x)=\\frac{1}{2}I\\Bigg(\\frac{v}{v+t^2},\\frac{v}{2},\\frac{1}{2}\\Bigg)$$\n",
    "$$P(|t|\\geq x)=I\\Bigg(\\frac{v}{v+t^2},\\frac{v}{2},\\frac{1}{2}\\Bigg)$$\n"
   ]
  },
  {
   "cell_type": "code",
   "execution_count": 47,
   "metadata": {},
   "outputs": [
    {
     "data": {
      "text/plain": [
       "0.4129569048435814"
      ]
     },
     "execution_count": 47,
     "metadata": {},
     "output_type": "execute_result"
    }
   ],
   "source": [
    "from scipy import integrate\n",
    "\n",
    "\n",
    "\n",
    "def betaF(a, b, x=1):\n",
    "    i, e = integrate.quad(lambda t: t ** (a - 1) * (1 - t) ** (b - 1), 0, x)\n",
    "    return i\n",
    "\n",
    "\n",
    "\n",
    "def FisherP(d1, d2, p):\n",
    "\n",
    "    x = d1 * p / (d1 * p + d2)\n",
    "\n",
    "    a, b = d1 / 2, d2 / 2\n",
    "\n",
    "    fm = betaF(a, b, x) / betaF(a, b)\n",
    "\n",
    "    return 1 - fm\n",
    "\n",
    "\n",
    "\n",
    "FisherP(4, 6, 1.1627316168615074)"
   ]
  },
  {
   "cell_type": "code",
   "execution_count": 48,
   "metadata": {},
   "outputs": [
    {
     "data": {
      "text/plain": [
       "0.10705673423352648"
      ]
     },
     "execution_count": 48,
     "metadata": {},
     "output_type": "execute_result"
    }
   ],
   "source": [
    "def PStudent(dr, t):\n",
    "    x = dr / (dr + t**2)\n",
    "    a = dr / 2\n",
    "    ps = betaF(a, 0.5, x) / betaF(a, 0.5)\n",
    "    return ps\n",
    "\n",
    "\n",
    "PStudent(6, 1.894)"
   ]
  },
  {
   "cell_type": "markdown",
   "metadata": {},
   "source": [
    "##### Inversa de la función de distribución acumulada de Student e inversa de la beta incompleta inferior:\n"
   ]
  },
  {
   "cell_type": "markdown",
   "metadata": {},
   "source": [
    "##### Resumen:\n",
    "El valor de una propiedad se puede estimar con la siguiente expresión lineal:\n",
    "###### $$ \\textbf{valor prop}(\\pm63)=(1239\\pm655)+(0.33\\pm0.85)·\\textbf{Antigüedad}+(26\\pm34)·\\textbf{Accesos}+(30\\pm26)·\\textbf{Oficinas}-(0.51\\pm0.29)·\\textbf{Superficie}$$"
   ]
  },
  {
   "cell_type": "markdown",
   "metadata": {},
   "source": [
    "##### Biblioteca Statsmodels\n",
    "\n"
   ]
  },
  {
   "cell_type": "code",
   "execution_count": 49,
   "metadata": {},
   "outputs": [
    {
     "name": "stdout",
     "output_type": "stream",
     "text": [
      "                            OLS Regression Results                            \n",
      "==============================================================================\n",
      "Dep. Variable:                      y   R-squared:                       0.437\n",
      "Model:                            OLS   Adj. R-squared:                  0.061\n",
      "Method:                 Least Squares   F-statistic:                     1.163\n",
      "Date:                Fri, 08 Dec 2023   Prob (F-statistic):              0.413\n",
      "Time:                        15:22:19   Log-Likelihood:                -57.866\n",
      "No. Observations:                  11   AIC:                             125.7\n",
      "Df Residuals:                       6   BIC:                             127.7\n",
      "Df Model:                           4                                         \n",
      "Covariance Type:            nonrobust                                         \n",
      "==============================================================================\n",
      "                 coef    std err          t      P>|t|      [0.025      0.975]\n",
      "------------------------------------------------------------------------------\n",
      "const       1239.8414    654.694      1.894      0.107    -362.137    2841.820\n",
      "x1             0.3359      0.847      0.397      0.705      -1.737       2.408\n",
      "x2            26.1225     33.760      0.774      0.468     -56.485     108.730\n",
      "x3            30.5687     26.004      1.176      0.284     -33.061      94.198\n",
      "x4            -0.5069      0.291     -1.745      0.132      -1.218       0.204\n",
      "==============================================================================\n",
      "Omnibus:                        6.912   Durbin-Watson:                   2.330\n",
      "Prob(Omnibus):                  0.032   Jarque-Bera (JB):                3.149\n",
      "Skew:                           1.261   Prob(JB):                        0.207\n",
      "Kurtosis:                       3.713   Cond. No.                     8.32e+04\n",
      "==============================================================================\n",
      "\n",
      "Notes:\n",
      "[1] Standard Errors assume that the covariance matrix of the errors is correctly specified.\n",
      "[2] The condition number is large, 8.32e+04. This might indicate that there are\n",
      "strong multicollinearity or other numerical problems.\n"
     ]
    },
    {
     "name": "stderr",
     "output_type": "stream",
     "text": [
      "c:\\Users\\admin\\Desktop\\Icaro\\Codigo\\Resumen\\.venv\\Lib\\site-packages\\scipy\\stats\\_stats_py.py:1806: UserWarning: kurtosistest only valid for n>=20 ... continuing anyway, n=11\n",
      "  warnings.warn(\"kurtosistest only valid for n>=20 ... continuing \"\n"
     ]
    }
   ],
   "source": [
    "import numpy as np\n",
    "import statsmodels.api as sm\n",
    "\n",
    "# Datos de entrada\n",
    "x = np.array(\n",
    "    [\n",
    "        [1, 20, 2.0, 2, 2310],\n",
    "        [1, 12, 2.0, 2, 2333],\n",
    "        [1, 33, 1.5, 3, 2356],\n",
    "        [1, 40, 2.0, 3, 2273],\n",
    "        [1, 53, 3.0, 2, 2402],\n",
    "        [1, 23, 2.0, 4, 2425],\n",
    "        [1, 99, 1.5, 2, 2448],\n",
    "        [1, 34, 2.0, 2, 2471],\n",
    "        [1, 23, 3.0, 3, 2494],\n",
    "        [1, 55, 4.0, 4, 2517],\n",
    "        [1, 22, 3.0, 2, 2540],\n",
    "    ]\n",
    ")\n",
    "\n",
    "y = np.array(\n",
    "    [142.0, 144.0, 151.0, 360.0, 139.0, 169.0, 126.0, 142.9, 163.0, 189.0, 149.0]\n",
    ")\n",
    "\n",
    "# Ajuste de la regresión lineal múltiple\n",
    "model = sm.OLS(y, x).fit()\n",
    "\n",
    "# Imprimir los resultados\n",
    "print(model.summary())"
   ]
  },
  {
   "cell_type": "code",
   "execution_count": 50,
   "metadata": {},
   "outputs": [
    {
     "name": "stdout",
     "output_type": "stream",
     "text": [
      "Inverse of Beta Incomplete Function: 0.500526487827301\n"
     ]
    }
   ],
   "source": [
    "import numpy as np\n",
    "from scipy.special import betainc, betaincinv\n",
    "\n",
    "\n",
    "def inverse_beta_inc_interpolation(a, b, p, tol=1e-9, max_iter=100):\n",
    "    # Establecer límites para la búsqueda\n",
    "    lower_limit = 0.0\n",
    "    upper_limit = 1.0\n",
    "\n",
    "    # Realizar búsqueda binaria para encontrar un punto cercano a la solución\n",
    "    for _ in range(max_iter):\n",
    "        midpoint = (lower_limit + upper_limit) / 2.0\n",
    "        cdf_midpoint = betainc(a, b, midpoint)\n",
    "\n",
    "        if np.abs(cdf_midpoint - p) < tol:\n",
    "            return midpoint\n",
    "\n",
    "        if cdf_midpoint < p:\n",
    "            lower_limit = midpoint\n",
    "        else:\n",
    "            upper_limit = midpoint\n",
    "\n",
    "    # Si la búsqueda binaria no converge, usar el método de interpolación\n",
    "    x = np.linspace(lower_limit, upper_limit, 1000)\n",
    "    cdf_values = betainc(a, b, x)\n",
    "    inverse_interp = np.interp(p, cdf_values, x)\n",
    "\n",
    "    return inverse_interp\n",
    "\n",
    "\n",
    "# Ejemplo de uso\n",
    "a = 3.0\n",
    "b = 0.5\n",
    "p = 0.05\n",
    "\n",
    "result = inverse_beta_inc_interpolation(a, b, p)\n",
    "print(\"Inverse of Beta Incomplete Function:\", result)"
   ]
  },
  {
   "cell_type": "code",
   "execution_count": 51,
   "metadata": {},
   "outputs": [
    {
     "data": {
      "text/plain": [
       "2.446911846234417"
      ]
     },
     "execution_count": 51,
     "metadata": {},
     "output_type": "execute_result"
    }
   ],
   "source": [
    "pp = 0.500526487827301\n",
    "np.sqrt((6 - 6 * pp) / pp)"
   ]
  }
 ],
 "metadata": {
  "kernelspec": {
   "display_name": ".venv",
   "language": "python",
   "name": "python3"
  },
  "language_info": {
   "codemirror_mode": {
    "name": "ipython",
    "version": 3
   },
   "file_extension": ".py",
   "mimetype": "text/x-python",
   "name": "python",
   "nbconvert_exporter": "python",
   "pygments_lexer": "ipython3",
   "version": "3.11.5"
  }
 },
 "nbformat": 4,
 "nbformat_minor": 2
}
