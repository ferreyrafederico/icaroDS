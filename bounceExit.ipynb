{
 "cells": [
  {
   "cell_type": "code",
   "execution_count": 75,
   "metadata": {},
   "outputs": [],
   "source": [
    "import pandas as pd\n",
    "import numpy as np\n",
    "import matplotlib.pyplot as plt\n",
    "import seaborn as sns\n",
    "\n",
    "df = pd.read_csv('bounceExit.csv')"
   ]
  },
  {
   "cell_type": "code",
   "execution_count": 79,
   "metadata": {},
   "outputs": [
    {
     "data": {
      "text/plain": [
       "8199"
      ]
     },
     "execution_count": 79,
     "metadata": {},
     "output_type": "execute_result"
    }
   ],
   "source": [
    "cd=df['ExitRates'].notna()\n",
    "dfr=df.loc[cd,['BounceRates','ExitRates']]\n",
    "X=dfr['BounceRates']\n",
    "Y=dfr['ExitRates']\n",
    "X.shape[0]\n",
    "# dfr.head()\n",
    "# # plt.scatter(x,y)"
   ]
  },
  {
   "cell_type": "code",
   "execution_count": 80,
   "metadata": {},
   "outputs": [
    {
     "data": {
      "text/plain": [
       "count    8199.000000\n",
       "mean        0.021594\n",
       "std         0.047193\n",
       "min         0.000000\n",
       "25%         0.000000\n",
       "50%         0.003774\n",
       "75%         0.016667\n",
       "max         0.200000\n",
       "Name: BounceRates, dtype: float64"
      ]
     },
     "execution_count": 80,
     "metadata": {},
     "output_type": "execute_result"
    }
   ],
   "source": [
    "dfr['BounceRates'].describe()"
   ]
  },
  {
   "cell_type": "code",
   "execution_count": 84,
   "metadata": {},
   "outputs": [
    {
     "name": "stdout",
     "output_type": "stream",
     "text": [
      "a2 = 0.6097148667370242, b2 = 0.05961379401047612, c2 = -0.22372361709172728\n",
      "sa2 = ± 0.03757581189258332, sb2 = ± 0.009704849124978243, sc2 = ± 0.01973893237158304\n"
     ]
    },
    {
     "data": {
      "text/html": [
       "<h2>Fit Result</h2> <p>Model: Model(inter2)</p> <table class=\"jp-toc-ignore\"><caption class=\"jp-toc-ignore\">Fit Statistics</caption><tr><td style='text-align:left'>fitting method</td><td style='text-align:right'>leastsq</td></tr><tr><td style='text-align:left'># function evals</td><td style='text-align:right'>78</td></tr><tr><td style='text-align:left'># data points</td><td style='text-align:right'>8199</td></tr><tr><td style='text-align:left'># variables</td><td style='text-align:right'>3</td></tr><tr><td style='text-align:left'>chi-square</td><td style='text-align:right'> 2.91226458</td></tr><tr><td style='text-align:left'>reduced chi-square</td><td style='text-align:right'> 3.5533e-04</td></tr><tr><td style='text-align:left'>Akaike info crit.</td><td style='text-align:right'>-65117.3164</td></tr><tr><td style='text-align:left'>Bayesian info crit.</td><td style='text-align:right'>-65096.2811</td></tr><tr><td style='text-align:left'>R-squared</td><td style='text-align:right'> 0.84403663</td></tr></table><table class=\"jp-toc-ignore\"><caption>Parameters</caption><tr><th style='text-align:left'>name</th><th style='text-align:left'>value</th><th style='text-align:left'>standard error</th><th style='text-align:left'>relative error</th><th style='text-align:left'>initial value</th><th style='text-align:left'>min</th><th style='text-align:left'>max</th><th style='text-align:right'>vary</th></tr><tr><td style='text-align:left'>a2</td><td style='text-align:left'> 0.60971487</td><td style='text-align:left'> 0.03757581</td><td style='text-align:left'>(6.16%)</td><td style='text-align:left'>0.1</td><td style='text-align:left'>       -inf</td><td style='text-align:left'>        inf</td><td style='text-align:right'>True</td></tr><tr><td style='text-align:left'>b2</td><td style='text-align:left'> 0.05961379</td><td style='text-align:left'> 0.00970485</td><td style='text-align:left'>(16.28%)</td><td style='text-align:left'>0.0005</td><td style='text-align:left'>       -inf</td><td style='text-align:left'>        inf</td><td style='text-align:right'>True</td></tr><tr><td style='text-align:left'>c2</td><td style='text-align:left'>-0.22372362</td><td style='text-align:left'> 0.01973893</td><td style='text-align:left'>(8.82%)</td><td style='text-align:left'>0.004</td><td style='text-align:left'>       -inf</td><td style='text-align:left'>        inf</td><td style='text-align:right'>True</td></tr></table><table class=\"jp-toc-ignore\"><caption>Correlations (unreported values are < 0.100)</caption><tr><th style='text-align:left'>Parameter1</th><th style='text-align:left'>Parameter 2</th><th style='text-align:right'>Correlation</th></tr><tr><td style='text-align:left'>b2</td><td style='text-align:left'>c2</td><td style='text-align:right'>-0.9999</td></tr><tr><td style='text-align:left'>a2</td><td style='text-align:left'>c2</td><td style='text-align:right'>-0.9958</td></tr><tr><td style='text-align:left'>a2</td><td style='text-align:left'>b2</td><td style='text-align:right'>+0.9954</td></tr></table>"
      ],
      "text/plain": [
       "<lmfit.model.ModelResult at 0x1a477bc9e90>"
      ]
     },
     "execution_count": 84,
     "metadata": {},
     "output_type": "execute_result"
    }
   ],
   "source": [
    "from lmfit import Parameters, Minimizer, Model\n",
    "from scipy import constants\n",
    "from matplotlib import rcParams\n",
    "\n",
    "def inter2(x,a2,b2,c2,data=None):\n",
    "    model=(a2*x+b2)**0.5+c2\n",
    "    if data is None:\n",
    "        return model\n",
    "    else:\n",
    "        return model-data\n",
    "\n",
    "# Crear un objeto Model\n",
    "modelo = Model(inter2)\n",
    "\n",
    "# Crear parámetros iniciales\n",
    "params = modelo.make_params(a2=0.1, b2=0.0005, c2=0.004)\n",
    "\n",
    "# Ajustar el modelo a los datos\n",
    "res = modelo.fit(Y, params, x=X)\n",
    "\n",
    "# Coeficientes de la regresion\n",
    "a2,b2,c2=[res.params['a2'].value,res.params['b2'].value,res.params['c2'].value]\n",
    "# Errores en los Coeficientes de la regresion\n",
    "sa2,sb2,sc2=[res.params['a2'].stderr,res.params['b2'].stderr,res.params['c2'].stderr]\n",
    "\n",
    "print(f'a2 = {a2}, b2 = {b2}, c2 = {c2}')\n",
    "print(f'sa2 = ± {sa2}, sb2 = ± {sb2}, sc2 = ± {sc2}')\n",
    "res"
   ]
  },
  {
   "cell_type": "code",
   "execution_count": 68,
   "metadata": {},
   "outputs": [
    {
     "data": {
      "text/plain": [
       "[<matplotlib.lines.Line2D at 0x1a477c1ec50>]"
      ]
     },
     "execution_count": 68,
     "metadata": {},
     "output_type": "execute_result"
    },
    {
     "data": {
      "image/png": "[encoded data removed]",
      "text/plain": [
       "<Figure size 640x480 with 1 Axes>"
      ]
     },
     "metadata": {},
     "output_type": "display_data"
    }
   ],
   "source": [
    "X=np.array([0.04,0.05,0.06,0.07,0.08,0.09,0.1,0.11,0.12,0.13])\n",
    "\n",
    "Y=np.array([0.2, 0.25 , 0.27171068,0.28560254, 0.3,\n",
    "       0.3128034 , 0.32147449, 0.33328757, 0.34014213, 0.35])\n",
    "# Y=np.sqrt(X/4-0.01)+0.2\n",
    "# Y\n",
    "plt.plot(X,Y)\n"
   ]
  },
  {
   "cell_type": "code",
   "execution_count": 85,
   "metadata": {},
   "outputs": [
    {
     "name": "stdout",
     "output_type": "stream",
     "text": [
      "DataFrame original:\n",
      "   ID    Fruta\n",
      "0   1  Manzana\n",
      "1   2  Plátano\n",
      "2   3  Manzana\n",
      "3   4    Fresa\n",
      "\n",
      "DataFrame después de la codificación one-hot:\n",
      "   ID  Fruta_Fresa  Fruta_Manzana  Fruta_Plátano\n",
      "0   1        False           True          False\n",
      "1   2        False          False           True\n",
      "2   3        False           True          False\n",
      "3   4         True          False          False\n"
     ]
    }
   ],
   "source": [
    "import pandas as pd\n",
    "\n",
    "# Crear un DataFrame de ejemplo\n",
    "datos = pd.DataFrame({\n",
    "    'ID': [1, 2, 3, 4],\n",
    "    'Fruta': ['Manzana', 'Plátano', 'Manzana', 'Fresa']\n",
    "})\n",
    "\n",
    "print(\"DataFrame original:\")\n",
    "print(datos)\n",
    "\n",
    "# Aplicar codificación one-hot a la columna 'Fruta'\n",
    "datos = pd.get_dummies(datos, columns=['Fruta'])\n",
    "\n",
    "print(\"\\nDataFrame después de la codificación one-hot:\")\n",
    "print(datos)"
   ]
  }
 ],
 "metadata": {
  "kernelspec": {
   "display_name": ".venv",
   "language": "python",
   "name": "python3"
  },
  "language_info": {
   "codemirror_mode": {
    "name": "ipython",
    "version": 3
   },
   "file_extension": ".py",
   "mimetype": "text/x-python",
   "name": "python",
   "nbconvert_exporter": "python",
   "pygments_lexer": "ipython3",
   "version": "3.11.5"
  }
 },
 "nbformat": 4,
 "nbformat_minor": 2
}
