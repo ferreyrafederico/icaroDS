{
 "cells": [
  {
   "cell_type": "markdown",
   "metadata": {},
   "source": [
    "Pares e impares del 0 al 20"
   ]
  },
  {
   "cell_type": "code",
   "execution_count": null,
   "metadata": {},
   "outputs": [],
   "source": [
    "# Con While\n",
    "c=1\n",
    "while c<21:\n",
    "    if c%2:\n",
    "        print(f'El número {c} es impar.')\n",
    "    else:\n",
    "        print(f'El número {c} es par.')\n",
    "    c+=1"
   ]
  },
  {
   "cell_type": "code",
   "execution_count": null,
   "metadata": {},
   "outputs": [],
   "source": [
    "# Con For\n",
    "for e in range(1,21):\n",
    "    if e%2:\n",
    "        print(f'El número {e} es impar.')\n",
    "    else:\n",
    "        print(f'El número {e} es par.')"
   ]
  },
  {
   "cell_type": "code",
   "execution_count": null,
   "metadata": {},
   "outputs": [],
   "source": [
    "# Con While\n",
    "c=1\n",
    "while c<21:\n",
    "    d='par'\n",
    "    if c%2:\n",
    "        d='impar'\n",
    "    print(f'El número {c} es {d}.')\n",
    "    c+=1"
   ]
  },
  {
   "cell_type": "code",
   "execution_count": 3,
   "metadata": {},
   "outputs": [
    {
     "name": "stdout",
     "output_type": "stream",
     "text": [
      "[0, 2, 4, 6, 8, 10, 12, 14, 16, 18, 20]\n"
     ]
    }
   ],
   "source": [
    "np=list(range(21)[::2])\n",
    "print(np)"
   ]
  },
  {
   "cell_type": "markdown",
   "metadata": {},
   "source": [
    "Factorial de un numero n"
   ]
  },
  {
   "cell_type": "code",
   "execution_count": 9,
   "metadata": {},
   "outputs": [
    {
     "name": "stdout",
     "output_type": "stream",
     "text": [
      "El factorial de 3 es 6\n"
     ]
    }
   ],
   "source": [
    "# Factorial de n sin verificacion de n menor o igual a cero\n",
    "n=3\n",
    "f=1\n",
    "for i in range(2,n+1):\n",
    "    f*=i\n",
    "print('El factorial de',n,'es',f)"
   ]
  },
  {
   "cell_type": "code",
   "execution_count": 22,
   "metadata": {},
   "outputs": [
    {
     "name": "stdout",
     "output_type": "stream",
     "text": [
      "6\n"
     ]
    }
   ],
   "source": [
    "# Con lista de comprension\n",
    "from math import prod\n",
    "n=3\n",
    "f=prod([x for x in range(1,n+1)])\n",
    "print(f)"
   ]
  },
  {
   "cell_type": "code",
   "execution_count": 15,
   "metadata": {},
   "outputs": [
    {
     "name": "stdout",
     "output_type": "stream",
     "text": [
      "120\n"
     ]
    }
   ],
   "source": [
    "# Con lambda y reduce\n",
    "from functools import reduce\n",
    "n=5\n",
    "f=reduce(lambda x,y:x*y,list(range(1,n+1)))\n",
    "print (f)"
   ]
  },
  {
   "cell_type": "code",
   "execution_count": null,
   "metadata": {},
   "outputs": [],
   "source": [
    "# Con For forma ascendente\n",
    "n=8\n",
    "f=1\n",
    "if n>0 and type(n)==int:\n",
    "    for i in range(2,n+1):\n",
    "        f*=i\n",
    "    print('El factorial de',n,'es',f)\n",
    "else:\n",
    "    print('El número debe ser entero y mayor que cero.')"
   ]
  },
  {
   "cell_type": "code",
   "execution_count": null,
   "metadata": {},
   "outputs": [],
   "source": [
    "# Con For forma descendente\n",
    "n=8\n",
    "f=n\n",
    "if n>0 and type(n)==int:\n",
    "    for i in range(1,n):\n",
    "        f*=n-i\n",
    "    print('El factorial de',n,'es',f)\n",
    "else:\n",
    "    print('El número debe ser entero y mayor que cero.')"
   ]
  },
  {
   "cell_type": "code",
   "execution_count": null,
   "metadata": {},
   "outputs": [],
   "source": [
    "#Con While forma descendente\n",
    "n=8\n",
    "f=1\n",
    "i=n\n",
    "if (n>0 and type(n)==int):\n",
    "    while i>1:\n",
    "        f*=i\n",
    "        i-=1\n",
    "    print('El factorial de',n,'es',f)\n",
    "else:\n",
    "    print('El número debe ser entero y mayor que cero.')"
   ]
  },
  {
   "cell_type": "code",
   "execution_count": null,
   "metadata": {},
   "outputs": [],
   "source": [
    "#Con While forma ascendente\n",
    "n=8\n",
    "f=1\n",
    "c=2\n",
    "if n>0 and type(n)==int:\n",
    "    while c<n+1:\n",
    "        f*=c\n",
    "        c+=1\n",
    "    print('El factorial de',n,'es',f)\n",
    "else:\n",
    "    print('El número debe ser entero y mayor que cero.')"
   ]
  },
  {
   "cell_type": "markdown",
   "metadata": {},
   "source": [
    "Factorial de un rango de números. Ejemplo del 8 al 30"
   ]
  },
  {
   "cell_type": "code",
   "execution_count": 27,
   "metadata": {},
   "outputs": [
    {
     "name": "stdout",
     "output_type": "stream",
     "text": [
      "El factorial de 2 es 2\n",
      "El factorial de 3 es 6\n",
      "El factorial de 4 es 24\n",
      "El factorial de 5 es 120\n",
      "El factorial de 6 es 720\n",
      "El factorial de 7 es 5040\n",
      "El factorial de 8 es 40320\n",
      "El factorial de 9 es 362880\n",
      "El factorial de 10 es 3628800\n"
     ]
    }
   ],
   "source": [
    "inicio=2\n",
    "final=10\n",
    "\n",
    "for n in range(inicio,final+1):\n",
    "    f=1\n",
    "    for i in range(2,n+1):\n",
    "        f*=i\n",
    "    print('El factorial de',n,'es',f)"
   ]
  },
  {
   "cell_type": "code",
   "execution_count": 28,
   "metadata": {},
   "outputs": [
    {
     "name": "stdout",
     "output_type": "stream",
     "text": [
      "[2, 6, 24, 120, 720, 5040, 40320, 362880, 3628800]\n"
     ]
    }
   ],
   "source": [
    "# Con lista de comprension\n",
    "from math import prod\n",
    "inicio=2\n",
    "final=10\n",
    "f=list(map(lambda j:prod([x for x in range(1,j+1)]),list(range(inicio,final+1))))\n",
    "print(f)"
   ]
  },
  {
   "cell_type": "markdown",
   "metadata": {},
   "source": [
    "Primo. Verifica si n es primo."
   ]
  },
  {
   "cell_type": "code",
   "execution_count": 60,
   "metadata": {},
   "outputs": [
    {
     "name": "stdout",
     "output_type": "stream",
     "text": [
      "True\n"
     ]
    }
   ],
   "source": [
    "def siPrimo(n):\n",
    "    p=True\n",
    "    for i in range(2,n):\n",
    "        p=True\n",
    "        if n%i==0:\n",
    "            p=False\n",
    "            break\n",
    "    return p"
   ]
  },
  {
   "cell_type": "code",
   "execution_count": 14,
   "metadata": {},
   "outputs": [
    {
     "data": {
      "text/plain": [
       "True"
      ]
     },
     "execution_count": 14,
     "metadata": {},
     "output_type": "execute_result"
    }
   ],
   "source": [
    "from itertools import takewhile\n",
    "from math import sqrt\n",
    "def ifPrimo(n):\n",
    "    m=int(sqrt(n))\n",
    "    p=[0,*takewhile(lambda x: n%x!=0 or n==2,range(2,m+2))]\n",
    "    return  p[-1]==m+1\n",
    "ifPrimo(982451689548911731)"
   ]
  },
  {
   "cell_type": "code",
   "execution_count": 11,
   "metadata": {},
   "outputs": [
    {
     "data": {
      "text/plain": [
       "True"
      ]
     },
     "execution_count": 11,
     "metadata": {},
     "output_type": "execute_result"
    }
   ],
   "source": [
    "p=lambda n:[0,*takewhile(lambda x: n%x!=0 or n==2 ,range(2,int(sqrt(n))+2))][-1]==int(sqrt(n))+1\n",
    "p(982451689548911731)"
   ]
  },
  {
   "cell_type": "code",
   "execution_count": 7,
   "metadata": {},
   "outputs": [
    {
     "data": {
      "text/plain": [
       "False"
      ]
     },
     "execution_count": 7,
     "metadata": {},
     "output_type": "execute_result"
    }
   ],
   "source": [
    "# Optimizado por límite superior ya que el producto es conmutativo.\n",
    "def siPrimo(n):\n",
    "    p=True\n",
    "    for i in range(2,int(n/2)+1):\n",
    "        p=True\n",
    "        if n%i==0:\n",
    "            p=False\n",
    "            break\n",
    "    return p\n",
    "\n",
    "siPrimo(12)"
   ]
  },
  {
   "cell_type": "code",
   "execution_count": 12,
   "metadata": {},
   "outputs": [
    {
     "data": {
      "text/plain": [
       "True"
      ]
     },
     "execution_count": 12,
     "metadata": {},
     "output_type": "execute_result"
    }
   ],
   "source": [
    "# Con el uso de raiz cuadrada del módulo math\n",
    "from math import sqrt\n",
    "def siPrimo(n):\n",
    "    p=True\n",
    "    m=int(sqrt(n))+1\n",
    "    for i in range(2,m):\n",
    "        p=True\n",
    "        if n%i==0:\n",
    "            p=False\n",
    "            break\n",
    "    return p\n",
    "siPrimo(982451689548911731)"
   ]
  },
  {
   "cell_type": "code",
   "execution_count": 25,
   "metadata": {},
   "outputs": [
    {
     "data": {
      "text/plain": [
       "True"
      ]
     },
     "execution_count": 25,
     "metadata": {},
     "output_type": "execute_result"
    }
   ],
   "source": [
    "# Con el uso de raiz cuadrada del módulo math y descartando los pares.\n",
    "from math import sqrt\n",
    "def siPrimo(n):\n",
    "    p=True\n",
    "    if n%2==0 and n!=2:\n",
    "        p=False\n",
    "    else:\n",
    "        m=int(sqrt(n))+1\n",
    "        for i in range(3,m,2):\n",
    "            p=True\n",
    "            if n%i==0:\n",
    "                p=False\n",
    "                break\n",
    "    return p\n",
    "siPrimo(982451689548911731)"
   ]
  },
  {
   "cell_type": "markdown",
   "metadata": {},
   "source": [
    "Primo. Imprimir números primos de un rango dado."
   ]
  },
  {
   "cell_type": "code",
   "execution_count": null,
   "metadata": {},
   "outputs": [],
   "source": [
    "# Ejemplo de Resueltos\n",
    "tope_rango = 30\n",
    "n = 0\n",
    "primo = True\n",
    "while (n < tope_rango):\n",
    "    for div in range(2, n):\n",
    "        if (n % div == 0):\n",
    "            primo = False\n",
    "            break\n",
    "    if (primo):\n",
    "        print(n)\n",
    "    else:\n",
    "        primo = True\n",
    "    n += 1"
   ]
  },
  {
   "cell_type": "code",
   "execution_count": null,
   "metadata": {},
   "outputs": [],
   "source": [
    "# Imprime si es primo o compuesto en el rango dado en este caso 2 al 30\n",
    "inicio=3\n",
    "final=30\n",
    "p='primo'\n",
    "for n in range(inicio,final+1):\n",
    "    for i in range(2,int(n/2)+1):\n",
    "        p='primo'\n",
    "        if n%i==0:\n",
    "            p='compuesto'\n",
    "            break\n",
    "    print(f'El número {n} es {p}')"
   ]
  },
  {
   "cell_type": "code",
   "execution_count": null,
   "metadata": {},
   "outputs": [],
   "source": [
    "# Imprime sólo si es primo en el rango dado en este caso 1210 al 1240\n",
    "inicio=1210\n",
    "final=1240\n",
    "p=1\n",
    "for n in range(inicio,final+1):\n",
    "    for i in range(2,int(n/2)+1):\n",
    "        p=1\n",
    "        if n%i==0:\n",
    "            p=0\n",
    "            break\n",
    "    if p:\n",
    "        print(f'El número {n} es primo')"
   ]
  },
  {
   "cell_type": "code",
   "execution_count": null,
   "metadata": {},
   "outputs": [],
   "source": [
    "# Devuelve una lista con los primos hasta un tope\n",
    "final=100\n",
    "def primos(fin):\n",
    "    primos=[2]\n",
    "    if fin<2:\n",
    "        return []\n",
    "    else:\n",
    "        for n in range(3,fin+1,2):\n",
    "            p=True\n",
    "            for i in range(3,int(n/2)+1,2):\n",
    "                p=True\n",
    "                if n%i==0:\n",
    "                    p=False\n",
    "                    break\n",
    "            if p:\n",
    "                primos.append(n)\n",
    "        return primos   \n",
    "primos(final)"
   ]
  },
  {
   "cell_type": "code",
   "execution_count": 36,
   "metadata": {},
   "outputs": [
    {
     "data": {
      "text/plain": [
       "[982451689548911731,\n",
       " 982451689548911833,\n",
       " 982451689548911837,\n",
       " 982451689548911917,\n",
       " 982451689548911929,\n",
       " 982451689548911977,\n",
       " 982451689548911987,\n",
       " 982451689548911999]"
      ]
     },
     "execution_count": 36,
     "metadata": {},
     "output_type": "execute_result"
    }
   ],
   "source": [
    "# Devuelve una lista con los primos de un rango dado\n",
    "inicio=982451689548911700\n",
    "final=982451689548911999\n",
    "def primos(ini,fin):\n",
    "    primos=[]\n",
    "    if ini%2==0 and ini!=2:\n",
    "        a=1\n",
    "    elif ini==2:\n",
    "        primos.append(ini)\n",
    "        a=1\n",
    "    else:\n",
    "        a=0\n",
    "    for n in range(ini+a,fin+1,2):\n",
    "        p=True\n",
    "        m=int(sqrt(n))\n",
    "        for i in range(3,m+1,2):\n",
    "            p=True\n",
    "            if n%i==0:\n",
    "                p=False\n",
    "                break\n",
    "        if p and n>1:\n",
    "            primos.append(n)\n",
    "    return primos\n",
    "primos(inicio,final)"
   ]
  },
  {
   "cell_type": "code",
   "execution_count": 93,
   "metadata": {},
   "outputs": [
    {
     "data": {
      "text/plain": [
       "[982451689548911731]"
      ]
     },
     "execution_count": 93,
     "metadata": {},
     "output_type": "execute_result"
    }
   ],
   "source": [
    "# Devuelve una lista con los primos de un rango dado\n",
    "inicio=982451689548911700\n",
    "final=982451689548911799\n",
    "def primos(ini,fin):\n",
    "    p=[e for e in range(ini,fin) if int(sqrt(e))+1==[0,*takewhile(lambda x: e%x!=0,range(2,int(sqrt(e))+2))][-1]]\n",
    "    return p\n",
    "primos(inicio,final)"
   ]
  },
  {
   "cell_type": "code",
   "execution_count": 17,
   "metadata": {},
   "outputs": [
    {
     "data": {
      "text/plain": [
       "[1231, 1213, 773, 179, 101, 9931]"
      ]
     },
     "execution_count": 17,
     "metadata": {},
     "output_type": "execute_result"
    }
   ],
   "source": [
    "# Obtiene los primos de una lista de numeros dada.\n",
    "nums=[1231,1213,773,56,25,74,49,36,48,298,129,459,179,91,101,207,9931]\n",
    "def filterPrimos(arr):\n",
    "    p=1\n",
    "    primos=[]\n",
    "    for n in arr:\n",
    "        m=int(sqrt(n))\n",
    "        for i in range(2,m+1):\n",
    "            p=1\n",
    "            if n%i==0:\n",
    "                p=0\n",
    "                break\n",
    "        if p:\n",
    "            primos.append(n)\n",
    "    return primos\n",
    "filterPrimos(nums)"
   ]
  },
  {
   "cell_type": "code",
   "execution_count": null,
   "metadata": {},
   "outputs": [],
   "source": [
    "l=list(range(101)-range(101)[::5])\n",
    "print(l)"
   ]
  },
  {
   "cell_type": "code",
   "execution_count": 97,
   "metadata": {},
   "outputs": [
    {
     "data": {
      "text/plain": [
       "[1231, 1213, 773, 179, 101, 9931]"
      ]
     },
     "execution_count": 97,
     "metadata": {},
     "output_type": "execute_result"
    }
   ],
   "source": [
    "# Devuelve una lista con los primos de una lista de números dados\n",
    "lista=[1231,1213,773,56,25,74,49,36,48,298,129,459,179,91,101,207,9931]\n",
    "def primos(arr):\n",
    "    p=[e for e in arr if int(sqrt(e))+1==[0,*takewhile(lambda x: e%x!=0,range(2,int(sqrt(e))+2))][-1]]\n",
    "    return p\n",
    "primos(lista)"
   ]
  },
  {
   "cell_type": "markdown",
   "metadata": {},
   "source": [
    "****************************       MODULO 5 LISTAS,TUPLAS,DICCIONARIOS      **********************************"
   ]
  },
  {
   "cell_type": "markdown",
   "metadata": {},
   "source": [
    "Listas Tuplas Indices."
   ]
  },
  {
   "cell_type": "code",
   "execution_count": null,
   "metadata": {},
   "outputs": [],
   "source": [
    "lista=[12,5,3,9,'color',56,9,'zapato',2.3,True,659,]\n",
    "tupla=('tomate',8.1,4,19,'color',2,'zapato',2.3,False)\n",
    "\n",
    "# Imprime de la posición 3 a la 7 incluida = Imprime desde la posición 3 incluida 7 elementos\n",
    "print(lista[2:7])\n",
    "# Imprime desde la posición 3 incluida hasta el final\n",
    "print(lista[2:])\n",
    "# Imprime todo hasta la posicion 7 = Imprime los primeros 7 elementos\n",
    "print(lista[:7])\n",
    "# Imprime los últimos 7 elementos\n",
    "print(tupla[-7:])\n",
    "# Imprime el primero\n",
    "print(tupla[0])\n",
    "# Imprime el segundo desde el principio\n",
    "print(tupla[1])\n",
    "# Imprime el segundo desde el último o sea el penúltimo\n",
    "print(tupla[-2])\n",
    "# Imprime el último\n",
    "print(tupla[-1])\n"
   ]
  },
  {
   "cell_type": "markdown",
   "metadata": {},
   "source": [
    "Listas Tuplas Métodos."
   ]
  },
  {
   "cell_type": "code",
   "execution_count": null,
   "metadata": {},
   "outputs": [],
   "source": [
    "lista=[23,5,6,9,'color',56,'naranja',89,'color','pato',5]\n",
    "lista2=['teclado',65,'pato']\n",
    "lista3=[56,2,89,1,10,9,13,17]\n",
    "lista4=['jarra','pileta','hacha','deposito','calle','alfabeto','abc','xyz','zoom']\n",
    "\n",
    "# Agrega despues del último de la lista\n",
    "lista.append('casa')\n",
    "print(lista)\n",
    "# Quita el último de la lista\n",
    "lista.pop()\n",
    "print(lista)\n",
    "# Quita el que está en el indice de la lista\n",
    "lista.pop(5)\n",
    "print(lista)\n",
    "# Inserta un valor en el índice indicado\n",
    "lista.insert(-1,'vaso')\n",
    "print(lista)\n",
    "# Quita el primero que coincide con el valor de la lista\n",
    "lista.remove('color')\n",
    "print(lista)\n",
    "# Devuelve el índice de la primera coincidencia\n",
    "print(lista.index('naranja'))\n",
    "# Concatena dos listas en una\n",
    "lista.extend(lista2)\n",
    "print(lista)\n",
    "# Cuenta la cantidad de veces que se repite un elemento dado en una lista \n",
    "contador=lista.count('pato')\n",
    "print(contador)\n",
    "# Cuenta la cantidad de veces que se repite un elemento dado en una lista \n",
    "contador=lista.count('pato')\n",
    "print(contador)\n",
    "# Invertir orden de lista\n",
    "lista.reverse()\n",
    "print(lista)\n",
    "# Ordenar lista de forma ascendente deben ser sólo string o sólo números\n",
    "lista3.sort()\n",
    "print(lista3)\n",
    "# Ordenar lista de forma descendente deben ser sólo string o sólo números\n",
    "lista3.sort(reverse=True)\n",
    "print(lista3)\n",
    "# Ordenar lista de forma ascendente deben ser sólo string o sólo números\n",
    "lista4.sort()\n",
    "print(lista4)\n",
    "# Ordenar lista de forma descendente deben ser sólo string o sólo números\n",
    "lista4.sort(reverse=True)\n",
    "print(lista4)\n",
    "# Multiplicar listas\n",
    "print(lista2*2)\n"
   ]
  },
  {
   "cell_type": "markdown",
   "metadata": {},
   "source": [
    "Lista Tuplas conversion y validar existencia de elemento y desempaquetado"
   ]
  },
  {
   "cell_type": "code",
   "execution_count": null,
   "metadata": {},
   "outputs": [],
   "source": [
    "# Verifica si existe en la lista un elemento\n",
    "lista=[12,'manzana',56,3,9,'color']\n",
    "print('manzana'in lista)\n",
    "\n",
    "# Convierte en lista y tupla\n",
    "tupla=tuple(lista)\n",
    "print(tupla)\n",
    "lista=list(tupla)\n",
    "print(lista)\n",
    "\n",
    "# Desempaquetado\n",
    "num,palabra,num2,_,_,_=lista\n",
    "print(num,palabra,num2)"
   ]
  },
  {
   "cell_type": "markdown",
   "metadata": {},
   "source": [
    "Diccionarios keys y values"
   ]
  },
  {
   "cell_type": "code",
   "execution_count": 111,
   "metadata": {},
   "outputs": [
    {
     "name": "stdout",
     "output_type": "stream",
     "text": [
      "dict_keys(['color', 'número', 'booleano', 'lista'])\n",
      "dict_values(['rojo', 7, True, [1, 2, 3]])\n",
      "['color', 'número', 'booleano', 'lista']\n",
      "['rojo', 7, True, [1, 2, 3]]\n",
      "color número booleano lista\n",
      "rojo 7 True [1, 2, 3]\n"
     ]
    }
   ],
   "source": [
    "dic={'color':'rojo','número':7,'booleano':True,'lista':[1,2,3]}\n",
    "print(dic.keys())\n",
    "print(dic.values())\n",
    "print(list(dic.keys()))\n",
    "print(list(dic.values()))\n",
    "print(*dic.keys(),sep=' ')\n",
    "print(*dic.values(),sep=' ')"
   ]
  },
  {
   "cell_type": "markdown",
   "metadata": {},
   "source": [
    "****************************       MODULO 6    Iterables Iteradores      **********************************"
   ]
  },
  {
   "cell_type": "markdown",
   "metadata": {},
   "source": [
    "Iteradores ejemplos varios. Reemplazar elemento por otro con ciclo For"
   ]
  },
  {
   "cell_type": "code",
   "execution_count": 1,
   "metadata": {},
   "outputs": [
    {
     "name": "stdout",
     "output_type": "stream",
     "text": [
      "['C', 'pera', 'galletas', 'águila', 'ballena', 'pera', 'águila', 'C', 'girafa', 'pera', 'C', 'avion', 'C']\n",
      "['C', 'P', 'galletas', 'A', 'ballena', 'P', 'A', 'C', 'girafa', 'P', 'C', 'avion', 'C']\n"
     ]
    }
   ],
   "source": [
    "\n",
    "lista=['casa','pera','galletas','águila','ballena','pera','águila','casco','girafa','pera','casa','avion','casa']\n",
    "\n",
    "# Reemplazar 'casa' y 'casco' por 'C'\n",
    "lista=['C' if e=='casa' or e=='casco' else e for e in lista]\n",
    "print(lista)\n",
    "\n",
    "# Reemplazar 'pera' y 'águila' por 'P' y 'A' respectivamente\n",
    "for i in range(len(lista)):\n",
    "    if lista[i]=='pera':\n",
    "        lista[i]='P'\n",
    "    elif lista[i]=='águila':\n",
    "        lista[i]='A'\n",
    "print(lista)"
   ]
  },
  {
   "cell_type": "code",
   "execution_count": 4,
   "metadata": {},
   "outputs": [
    {
     "name": "stdout",
     "output_type": "stream",
     "text": [
      "['C', 'pera', 'galletas', 'águila', 'ballena', 'pera', 'águila', 'C', 'girafa', 'pera', 'C', 'avion', 'C']\n",
      "['C', 'P', 'galletas', 'A', 'B', 'P', 'A', 'C', 'girafa', 'P', 'C', 'avion', 'C']\n"
     ]
    }
   ],
   "source": [
    "\n",
    "lista=['casa','pera','galletas','águila','ballena','pera','águila','casco','girafa','pera','casa','avion','casa']\n",
    "valor1=['casa','casco']\n",
    "reemplazo1='C'\n",
    "valor2=['pera','águila','ballena']\n",
    "reemplazo2=['P','A','B']\n",
    "\n",
    "# Reemplazar 'casa' y 'casco' por 'C'\n",
    "lista=[reemplazo1 if e in valor1 else e for e in lista]\n",
    "print(lista)\n",
    "\n",
    "# Reemplazar 'pera' y 'águila' por 'P' y 'A' respectivamente\n",
    "for i in range(len(lista)):\n",
    "    if lista[i] in valor2:\n",
    "        j=valor2.index(lista[i])\n",
    "        lista[i]=reemplazo2[j]\n",
    "print(lista)"
   ]
  },
  {
   "cell_type": "markdown",
   "metadata": {},
   "source": [
    "#### Fibonacci. \n",
    "fbn=fb(n-1)+fb(n-2)"
   ]
  },
  {
   "cell_type": "markdown",
   "metadata": {},
   "source": [
    "##### Con While"
   ]
  },
  {
   "cell_type": "code",
   "execution_count": 68,
   "metadata": {},
   "outputs": [
    {
     "name": "stdout",
     "output_type": "stream",
     "text": [
      "17167680177565\n"
     ]
    }
   ],
   "source": [
    "# Dado n calcular su numero de Fibonacci con While de 65=17167680177565\n",
    "n=65\n",
    "i=0\n",
    "a,fb = 0,1\n",
    "while i < n-1:\n",
    "    a,fb=fb,fb+a\n",
    "    i+=1\n",
    "print(fb)"
   ]
  },
  {
   "cell_type": "markdown",
   "metadata": {},
   "source": [
    "##### Con For"
   ]
  },
  {
   "cell_type": "code",
   "execution_count": 2,
   "metadata": {},
   "outputs": [
    {
     "name": "stdout",
     "output_type": "stream",
     "text": [
      "102334155\n"
     ]
    }
   ],
   "source": [
    "# Dado n calcular su numero de Fibonacci con For de 65=17167680177565\n",
    "n=40\n",
    "a,fb=0,1\n",
    "for i in range(n-1):\n",
    "   a,fb=fb,fb+a\n",
    "print(fb)"
   ]
  },
  {
   "cell_type": "code",
   "execution_count": 36,
   "metadata": {},
   "outputs": [
    {
     "data": {
      "text/plain": [
       "17167680177565"
      ]
     },
     "execution_count": 36,
     "metadata": {},
     "output_type": "execute_result"
    }
   ],
   "source": [
    "# Fibonacci con reduce\n",
    "from itertools import accumulate\n",
    "def fibo(n):\n",
    "    f=reduce(lambda a,i:[*a,a[i]+a[i+1]],range(n-1),[0,1])\n",
    "    return f[-1]\n",
    "\n",
    "fibo(65)"
   ]
  },
  {
   "cell_type": "code",
   "execution_count": 53,
   "metadata": {},
   "outputs": [
    {
     "name": "stdout",
     "output_type": "stream",
     "text": [
      "[0, 1, 1, 2, 3, 5, 8, 13, 21, 34, 55, 89, 144]\n"
     ]
    }
   ],
   "source": [
    "# Dado n calcular la cantidad n de números de Fibonacci con While\n",
    "n=40\n",
    "i=2\n",
    "fb=[0,1]\n",
    "while i<n+1:\n",
    "    fb.append(fb[i-1]+fb[i-2])\n",
    "    i+=1\n",
    "print(fb)"
   ]
  },
  {
   "cell_type": "code",
   "execution_count": 1,
   "metadata": {},
   "outputs": [
    {
     "data": {
      "text/plain": [
       "102334155"
      ]
     },
     "execution_count": 1,
     "metadata": {},
     "output_type": "execute_result"
    }
   ],
   "source": [
    "n=40\n",
    "def f(n):\n",
    "    if n==0:\n",
    "        return 0\n",
    "    if n==1:\n",
    "        return 1\n",
    "    return f(n-1)+f(n-2)\n",
    "\n",
    "f(n)"
   ]
  },
  {
   "cell_type": "markdown",
   "metadata": {},
   "source": [
    "##### Con Recursion y Memoizacion"
   ]
  },
  {
   "cell_type": "code",
   "execution_count": 2,
   "metadata": {},
   "outputs": [
    {
     "data": {
      "text/plain": [
       "102334155"
      ]
     },
     "execution_count": 2,
     "metadata": {},
     "output_type": "execute_result"
    }
   ],
   "source": [
    "n=40\n",
    "def f(n,c={0:0,1:1}):\n",
    "    if  n not in c:\n",
    "        c[n]=f(n-1)+f(n-2)\n",
    "    return c[n] \n",
    "\n",
    "f(n)"
   ]
  },
  {
   "cell_type": "code",
   "execution_count": null,
   "metadata": {},
   "outputs": [],
   "source": [
    "def fib(n, lookup=[]):\n",
    " \n",
    "    if n <= 1:\n",
    "        return n\n",
    " \n",
    "    # si el subproblema se ve por primera vez\n",
    "    if n not in lookup:\n",
    "        val = fib(n - 1, lookup) + fib(n - 2, lookup)\n",
    "        lookup[n] = val\n",
    " \n",
    "    return lookup[n]\n",
    "fib(7)"
   ]
  },
  {
   "cell_type": "code",
   "execution_count": 37,
   "metadata": {},
   "outputs": [
    {
     "data": {
      "text/plain": [
       "[5, 8, 13, 21, 34, 55]"
      ]
     },
     "execution_count": 37,
     "metadata": {},
     "output_type": "execute_result"
    }
   ],
   "source": [
    "# Todos los Fibonacci de ini hasta fin con reduce\n",
    "from itertools import accumulate\n",
    "def fibo(ini,fin):\n",
    "    f=reduce(lambda a,i:[*a,a[i]+a[i+1]],range(fin-1),[0,1])\n",
    "    return f[ini:]\n",
    "\n",
    "fibo(5,10)"
   ]
  },
  {
   "cell_type": "code",
   "execution_count": 57,
   "metadata": {},
   "outputs": [
    {
     "name": "stdout",
     "output_type": "stream",
     "text": [
      "[0, 1, 1, 2, 3, 5, 8, 13, 21, 34, 55, 89, 144]\n"
     ]
    }
   ],
   "source": [
    "# Dado n calcular la cantidad n de números de Fibonacci con for\n",
    "n=12\n",
    "fb=[0,1]\n",
    "for i in range(2,n+1):\n",
    "    fb.append(fb[i-1]+fb[i-2])\n",
    "print(fb)"
   ]
  },
  {
   "cell_type": "markdown",
   "metadata": {},
   "source": [
    "Enumerate"
   ]
  },
  {
   "cell_type": "code",
   "execution_count": 2,
   "metadata": {},
   "outputs": [
    {
     "name": "stdout",
     "output_type": "stream",
     "text": [
      "(0, 'canasto') (1, 'monitor') (2, 'coche') (3, 'router') (4, 'ventana')\n"
     ]
    }
   ],
   "source": [
    "# Enumerate es un objeto que devuelve una secuencia de tuplas (índice,valor) su tipo es enumerate\n",
    "lista=['canasto','monitor','coche','router','ventana']\n",
    "print(*enumerate(lista))"
   ]
  },
  {
   "cell_type": "code",
   "execution_count": null,
   "metadata": {},
   "outputs": [],
   "source": [
    "# En que posiciones aparece la letra 'n' en la siguiente cadena con For\n",
    "cadena = 'Hola Mundo. Esto es una practica del lenguaje de programación Python'\n",
    "posiciones=[]\n",
    "for i,e in enumerate(cadena):\n",
    "    if e=='n':\n",
    "        posiciones.append(i)\n",
    "print(posiciones)\n",
    "\n",
    "# Con lista de comprension\n",
    "posiciones=[i  for i,e in enumerate(cadena) if e=='n']\n",
    "print(posiciones)"
   ]
  },
  {
   "cell_type": "markdown",
   "metadata": {},
   "source": [
    "Iterador iter y diccionario"
   ]
  },
  {
   "cell_type": "code",
   "execution_count": null,
   "metadata": {},
   "outputs": [],
   "source": [
    "# Varias formas de Iterar el diccionario imprimiendo sus claves y valores\n",
    "\n",
    "d = {'color':'rojo','numero': 98,'fruta':'Pera','valor':True}\n",
    "\n",
    "iterador1=iter(d)\n",
    "iterador2=iter(d.keys())\n",
    "iterador3=iter(d.values())\n",
    "for i in range(len(d)):\n",
    "    print(next(iterador1))\n",
    "    print(next(iterador2))\n",
    "    print(next(iterador3))\n",
    "for e in d:\n",
    "    print(e)\n",
    "for e in d.keys():\n",
    "    print(e)\n",
    "for e in d.values():\n",
    "    print(e)\n",
    "print(*d.keys())\n",
    "print(*d.values())\n",
    "print(*d.items())"
   ]
  },
  {
   "cell_type": "markdown",
   "metadata": {},
   "source": [
    "Zip y Set Métodos."
   ]
  },
  {
   "cell_type": "code",
   "execution_count": 82,
   "metadata": {},
   "outputs": [
    {
     "name": "stdout",
     "output_type": "stream",
     "text": [
      "('color', 'rojo') ('numero', 98) ('fruta', 'Pera') ('valor', True)\n",
      "[('color', 'rojo'), ('numero', 98), ('fruta', 'Pera'), ('valor', True)]\n"
     ]
    }
   ],
   "source": [
    "# Unir dos listas en tuplas tener en cuenta que zip es volatil se usa una vez y se borra\n",
    "lista1=['color', 'numero', 'fruta', 'valor']\n",
    "lista2=['rojo', 98, 'Pera', True,'otra cosa para eliminar']\n",
    "lista3=list(zip(lista1,lista2))\n",
    "print(*lista3)\n",
    "print(lista3)"
   ]
  },
  {
   "cell_type": "code",
   "execution_count": 83,
   "metadata": {},
   "outputs": [
    {
     "name": "stdout",
     "output_type": "stream",
     "text": [
      "['color', 'numero', 'valor', 'fruta']\n"
     ]
    }
   ],
   "source": [
    "# Set permite formar un objeto conjunto que contiene todos los elementos no repetidos\n",
    "# Se pueden hacer tambien operaciones de union interseccion etc\n",
    "lista=['color', 'numero', 'fruta', 'valor', 'color','valor','numero']\n",
    "listanorepetidos=list(set(lista))\n",
    "print(listanorepetidos)"
   ]
  },
  {
   "cell_type": "markdown",
   "metadata": {},
   "source": [
    "Contar varios elementos en lista y conversion de tipo"
   ]
  },
  {
   "cell_type": "code",
   "execution_count": 85,
   "metadata": {},
   "outputs": [
    {
     "name": "stdout",
     "output_type": "stream",
     "text": [
      "La lista tiene 12 elementos\n"
     ]
    }
   ],
   "source": [
    "# Contar todos los elementos de la lista y los de sus items\n",
    "lis = [[1,2,3,4],'rojo','verde',[True,False,False],['uno','dos','tres']]\n",
    "c=0\n",
    "for e in lis:\n",
    "    if type(e) in [tuple,list,dict]:\n",
    "        c+=len(e)\n",
    "    else:\n",
    "        c+=1\n",
    "print(f'La lista tiene {c} elementos')"
   ]
  },
  {
   "cell_type": "code",
   "execution_count": 97,
   "metadata": {},
   "outputs": [
    {
     "name": "stdout",
     "output_type": "stream",
     "text": [
      "[[1, 2, 3, 4], ['rojo'], ['verde'], [True, False, False], ['uno', 'dos', 'tres']]\n"
     ]
    }
   ],
   "source": [
    "# Convertir todos los elementos de lis a lista\n",
    "lis = [[1,2,3,4],'rojo','verde',[True,False,False],['uno','dos','tres']]\n",
    "lis=[e if type(e)==list else [e] for e in lis]\n",
    "print(lis)"
   ]
  },
  {
   "cell_type": "markdown",
   "metadata": {},
   "source": [
    "****************************       MODULO 7    Iterables Iteradores      **********************************"
   ]
  },
  {
   "cell_type": "markdown",
   "metadata": {},
   "source": [
    "Funciones. Primos validar filtrar"
   ]
  },
  {
   "cell_type": "code",
   "execution_count": 109,
   "metadata": {},
   "outputs": [
    {
     "data": {
      "text/plain": [
       "True"
      ]
     },
     "execution_count": 109,
     "metadata": {},
     "output_type": "execute_result"
    }
   ],
   "source": [
    "# Funcion que valida un primo\n",
    "def isprimo(n=2):\n",
    "    p=True\n",
    "    for i in range(2,int(n/2)+1):\n",
    "        if n%i==0:\n",
    "            p=False\n",
    "            break\n",
    "    return p\n",
    "isprimo(1237)"
   ]
  },
  {
   "cell_type": "code",
   "execution_count": 113,
   "metadata": {},
   "outputs": [
    {
     "data": {
      "text/plain": [
       "[1, 2, 3, 5, 7, 11, 13, 17, 19]"
      ]
     },
     "execution_count": 113,
     "metadata": {},
     "output_type": "execute_result"
    }
   ],
   "source": [
    "# Funcion que filtra los primos de una lista\n",
    "lis_completa = [1,2,3,4,5,6,7,8,9,10,11,12,13,14,15,16,17,18,19,20]\n",
    "\n",
    "def extraePrimos (lista=[3,7,8]):\n",
    "    primos=[]\n",
    "    for e in lista:\n",
    "        p=True\n",
    "        for i in range(2,int(e/2)+1):\n",
    "            if e%i==0:\n",
    "                p=False\n",
    "                break\n",
    "        if p:\n",
    "            primos.append(e)\n",
    "    return primos\n",
    "\n",
    "extraePrimos(lis_completa)"
   ]
  },
  {
   "cell_type": "code",
   "execution_count": 114,
   "metadata": {},
   "outputs": [
    {
     "data": {
      "text/plain": [
       "[1, 2, 3, 5, 7, 11, 13, 17, 19]"
      ]
     },
     "execution_count": 114,
     "metadata": {},
     "output_type": "execute_result"
    }
   ],
   "source": [
    "# Usando la funcion isprimo\n",
    "lis_completa = [1,2,3,4,5,6,7,8,9,10,11,12,13,14,15,16,17,18,19,20]\n",
    "def extraePrimos2(lista=[3,7,8]):\n",
    "    primos=[e for e in lista if type(e)==int and isprimo(e)]\n",
    "    return primos\n",
    "\n",
    "extraePrimos2(lis_completa)"
   ]
  },
  {
   "cell_type": "markdown",
   "metadata": {},
   "source": [
    "Factorial. Función Recursiva"
   ]
  },
  {
   "cell_type": "code",
   "execution_count": 145,
   "metadata": {},
   "outputs": [
    {
     "data": {
      "text/plain": [
       "5040"
      ]
     },
     "execution_count": 145,
     "metadata": {},
     "output_type": "execute_result"
    }
   ],
   "source": [
    "# Calcular número factorial con función recursiva\n",
    "def factorial(n=7):\n",
    "    if type(n)!=int or n<=0:\n",
    "        n=print('Ingrese un numero entero no nulo.')\n",
    "    elif n>1:\n",
    "        n*=factorial(n-1)\n",
    "    return n\n",
    "\n",
    "factorial(7)"
   ]
  },
  {
   "cell_type": "markdown",
   "metadata": {},
   "source": [
    "Lista de Más Repetidos en una lista"
   ]
  },
  {
   "cell_type": "code",
   "execution_count": 148,
   "metadata": {},
   "outputs": [
    {
     "name": "stdout",
     "output_type": "stream",
     "text": [
      "La cantidad maxima de repeticiones es 2, y el/los repetido/s con esa cantidad es/son [1, 4]\n"
     ]
    }
   ],
   "source": [
    "lis = [1,1,1,5,6,8,10,22,5,6,4,11,9,5]\n",
    "\n",
    "# Devuelve la maxima repeticion y una lista con todos los que tienen esa repetición maxima.\n",
    "def masRepetido (lista=[1,1,2,3,4,4]):\n",
    "    elementos=[]\n",
    "    repeticiones=[]\n",
    "    listarep=[]\n",
    "    repmax=0\n",
    "    for e in lista:\n",
    "        if e in elementos:\n",
    "            repeticiones[elementos.index(e)]+=1\n",
    "        else:\n",
    "            elementos.append(e)\n",
    "            repeticiones.append(1)\n",
    "    for i,e in enumerate(elementos):\n",
    "        if repeticiones[i]>repmax:\n",
    "            repmax=repeticiones[i]\n",
    "            listarep=[]\n",
    "            listarep.append(e)\n",
    "        elif repeticiones[i]==repmax and listarep[-1]!=e:\n",
    "            listarep.append(e)\n",
    "    print(f'La cantidad maxima de repeticiones es {repmax}, y el/los repetido/s con esa cantidad es/son {listarep}')\n",
    "    \n",
    "masRepetido()"
   ]
  },
  {
   "cell_type": "code",
   "execution_count": null,
   "metadata": {},
   "outputs": [],
   "source": [
    "# Otra forma de encontrar los mas repetidos\n",
    "lista=[1,1,1,5,6,8,10,22,5,6,4,11,9,5]\n",
    "def repetidos(arr):\n",
    "    s=[]\n",
    "    r=[s[r.index(e)] if e in r else r.append(e) for e in arr ]\n"
   ]
  },
  {
   "cell_type": "code",
   "execution_count": 43,
   "metadata": {},
   "outputs": [
    {
     "name": "stdout",
     "output_type": "stream",
     "text": [
      "{0: 0, 1: 1, 2: 2, 3: 3, 4: 4, 5: 5, 6: 6, 7: 7, 8: 8, 9: 9}\n"
     ]
    }
   ],
   "source": [
    "lista=dict(enumerate(range(10)))\n",
    "if 9 in lista:\n",
    "    print(lista)"
   ]
  },
  {
   "cell_type": "markdown",
   "metadata": {},
   "source": [
    "****************************       MODULO 8    Clases      **********************************"
   ]
  },
  {
   "cell_type": "markdown",
   "metadata": {},
   "source": [
    "Creacion de Clases"
   ]
  },
  {
   "cell_type": "code",
   "execution_count": null,
   "metadata": {},
   "outputs": [],
   "source": [
    "# Crear Clase Vehículo\n",
    "\n",
    "class Vehiculo:\n",
    "    def __init__(self,tipo,color,cilindrada) -> None:\n",
    "        self.tipo=tipo\n",
    "        self.__color=color      # Estas variables no son accesibles desde clase.variable sino por info\n",
    "        self.__cilindrada=cilindrada\n",
    "        self.__velocidad=0\n",
    "        self.__direccion=0\n",
    "\n",
    "    def info(self):\n",
    "        msg=f'{self.tipo} de color {self.__color} y cilindrada {self.__cilindrada} cm3.\\nMoviendose a {self.__velocidad} km/h en dirección {self.__direccion} grados.'\n",
    "        print(msg)\n",
    "    \n",
    "    def acelerar(self,vel):\n",
    "        self.__velocidad+=vel\n",
    "    \n",
    "    def frenar(self,vel):\n",
    "        self.__velocidad-=vel\n",
    "        if self.__velocidad<0:\n",
    "            self.__velocidad=0\n",
    "    \n",
    "    def doblar(self,grados):\n",
    "        self.__direccion+=grados\n",
    "\n",
    "camion=Vehiculo('Camión','blanco',9000)\n",
    "\n",
    "print(camion.tipo)\n",
    "# print(camion.color) esta línea no funcionaria, se debe acceder por camion.info()\n",
    "camion.info()\n",
    "camion.acelerar(60)\n",
    "camion.doblar(10)\n",
    "camion.info()\n",
    "camion.frenar(50)\n",
    "camion.doblar(-20)\n",
    "camion.info()"
   ]
  },
  {
   "cell_type": "markdown",
   "metadata": {},
   "source": [
    "*****************************    Henry Challenge Ejercicios    ***********************************"
   ]
  },
  {
   "cell_type": "markdown",
   "metadata": {},
   "source": [
    "Crear una funcion, con parms diccionario,clave,ascendente. Que devuelva el diccionario con sus valores listas ordenadas segun la lista de la clave elegida."
   ]
  },
  {
   "cell_type": "code",
   "execution_count": 2,
   "metadata": {},
   "outputs": [
    {
     "data": {
      "text/plain": [
       "{'clave1': ['b', 'a', 'c'],\n",
       " 'clave2': ['barco', 'auto', 'casa'],\n",
       " 'clave3': [3, 2, 1]}"
      ]
     },
     "execution_count": 2,
     "metadata": {},
     "output_type": "execute_result"
    }
   ],
   "source": [
    "dicc = {\n",
    "    'clave1':['c','a','b',],\n",
    "    'clave2':['casa','auto','barco'],\n",
    "    'clave3':[1,2,3]\n",
    "}\n",
    "\n",
    "def ordenarDiccionario(diccionario, clave, ascendente=True):\n",
    "    if not(clave in diccionario):\n",
    "        return None\n",
    "    ord=diccionario[clave]\n",
    "    for cl,val in diccionario.items():\n",
    "        zipeado=list(zip(ord,val))\n",
    "        zipeado.sort(reverse=not(ascendente))\n",
    "        ordenado=[]\n",
    "        for i in range(len(val)):\n",
    "            ordenado.append(zipeado[i][1])\n",
    "        diccionario[cl]=ordenado\n",
    "    return diccionario\n",
    "ordenarDiccionario(dicc,'clave3',False)"
   ]
  },
  {
   "cell_type": "code",
   "execution_count": 3,
   "metadata": {},
   "outputs": [
    {
     "data": {
      "text/plain": [
       "{'clave1': ['c', 'b', 'a'],\n",
       " 'clave2': ['casa', 'barco', 'auto'],\n",
       " 'clave3': [1, 3, 2]}"
      ]
     },
     "execution_count": 3,
     "metadata": {},
     "output_type": "execute_result"
    }
   ],
   "source": [
    "# Una forma que se me ocurrio despues del examen que me ahorra 2 líneas.\n",
    "dicc = {\n",
    "    'clave1':['c','a','b',],\n",
    "    'clave2':['casa','auto','barco'],\n",
    "    'clave3':[1,2,3]\n",
    "}\n",
    "\n",
    "def ordenarDiccionario(diccionario, clave, ascendente=True):\n",
    "    if not(clave in diccionario):\n",
    "        return None\n",
    "    ord=diccionario[clave]\n",
    "    for cl,val in diccionario.items():\n",
    "        zipeado=list(zip(ord,val))\n",
    "        zipeado.sort(reverse=not(ascendente))\n",
    "        ordenado=[e[1]for e in zipeado]\n",
    "        diccionario[cl]=ordenado\n",
    "    return diccionario\n",
    "ordenarDiccionario(dicc,'clave1',False)"
   ]
  },
  {
   "cell_type": "code",
   "execution_count": 2,
   "metadata": {},
   "outputs": [
    {
     "name": "stdout",
     "output_type": "stream",
     "text": [
      "[('b', 'a', 'c'), ('barco', 'auto', 'casa'), (3, 2, 1)]\n",
      "<map object at 0x000001EF4B805810>\n"
     ]
    },
    {
     "data": {
      "text/plain": [
       "{'clave1': ['b', 'a', 'c'],\n",
       " 'clave2': ['barco', 'auto', 'casa'],\n",
       " 'clave3': [3, 2, 1]}"
      ]
     },
     "execution_count": 2,
     "metadata": {},
     "output_type": "execute_result"
    }
   ],
   "source": [
    "# Otra forma a partir del operador * que no sabia funcionaba asi.\n",
    "dicc = {\n",
    "    'clave1':['c','a','b',],\n",
    "    'clave2':['casa','auto','barco'],\n",
    "    'clave3':[1,2,3]\n",
    "}\n",
    "\n",
    "def ordenarDiccionario(diccionario, clave, ascendente=True):\n",
    "    if not(clave in diccionario):\n",
    "        return None\n",
    "    claves=list(diccionario.keys())\n",
    "    guia=diccionario[clave]\n",
    "    zipeado=list(zip(guia,*diccionario.values()))\n",
    "    zipeado.sort(reverse=not(ascendente))\n",
    "    valores=list(zip(*zipeado))\n",
    "    valores.pop(0)\n",
    "    valores=list(map(list,valores))\n",
    "    diccionario=dict(zip(claves,valores))\n",
    "    \n",
    "    return diccionario\n",
    "ordenarDiccionario(dicc,'clave3',False)"
   ]
  },
  {
   "cell_type": "code",
   "execution_count": 18,
   "metadata": {},
   "outputs": [
    {
     "name": "stdout",
     "output_type": "stream",
     "text": [
      "[['b', 'a', 'c'], ['barco', 'auto', 'casa'], [3, 2, 1]]\n"
     ]
    }
   ],
   "source": [
    "a=[('b', 'a', 'c'), ('barco', 'auto', 'casa'), (3, 2, 1)]\n",
    "b=list(map(list,a))\n",
    "print(b)"
   ]
  },
  {
   "cell_type": "code",
   "execution_count": null,
   "metadata": {},
   "outputs": [],
   "source": [
    "lista=[6,12,18,24,30]\n",
    "def listaDivisibles(divisor, tope):\n",
    "    if tope<1:\n",
    "        return None\n",
    "    res=[e for e in range(1,tope+1) if e%divisor==0]\n",
    "    return res\n",
    "listaDivisibles(6,-1)"
   ]
  },
  {
   "cell_type": "code",
   "execution_count": null,
   "metadata": {},
   "outputs": [],
   "source": [
    "def proximoPrimo(num=2):\n",
    "    if num<1:\n",
    "        return None\n",
    "    def isprimo(n):\n",
    "        p=True\n",
    "        for i in range(2,int(n/2)+1):\n",
    "            p=True\n",
    "            if n%i==0:\n",
    "                p=False\n",
    "                break\n",
    "        return p\n",
    "    if isprimo(num):\n",
    "        num+=1\n",
    "        while not (isprimo(num)):\n",
    "            num+=1\n",
    "        return num\n",
    "    return None\n",
    "\n",
    "proximoPrimo()"
   ]
  },
  {
   "cell_type": "code",
   "execution_count": 5,
   "metadata": {},
   "outputs": [
    {
     "name": "stdout",
     "output_type": "stream",
     "text": [
      "[1, 2] [1, 2, 3] [1, 2]\n"
     ]
    }
   ],
   "source": [
    "lista1=[1,2,3]\n",
    "lista2=lista1.copy()\n",
    "lista3=lista1\n",
    "lista1.pop()\n",
    "print(lista1,lista2,lista3)"
   ]
  }
 ],
 "metadata": {
  "kernelspec": {
   "display_name": "Python 3",
   "language": "python",
   "name": "python3"
  },
  "language_info": {
   "codemirror_mode": {
    "name": "ipython",
    "version": 3
   },
   "file_extension": ".py",
   "mimetype": "text/x-python",
   "name": "python",
   "nbconvert_exporter": "python",
   "pygments_lexer": "ipython3",
   "version": "3.11.5"
  },
  "orig_nbformat": 4
 },
 "nbformat": 4,
 "nbformat_minor": 2
}
