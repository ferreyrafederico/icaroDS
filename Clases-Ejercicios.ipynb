{
 "cells": [
  {
   "cell_type": "code",
   "execution_count": 6,
   "metadata": {},
   "outputs": [
    {
     "name": "stdout",
     "output_type": "stream",
     "text": [
      "El vehículo es de la marca:toyota, modelo:tundra, del año:2023 y de color:plateado\n"
     ]
    }
   ],
   "source": [
    "class Vehiculo:\n",
    "    at1 = \"valor1\"\n",
    "    at2 = \"valor2\"\n",
    "\n",
    "    def __init__(self, marca, modelo, anio, color) -> None:\n",
    "        self.marca = marca\n",
    "        self.modelo = modelo\n",
    "        self.anio = anio\n",
    "        self.color = color\n",
    "\n",
    "    def informacion(self):\n",
    "        return print(\n",
    "            f\"El vehículo es de la marca:{self.marca}, modelo:{self.modelo}, del año:{self.anio} y de color:{self.color}\"\n",
    "        )\n",
    "\n",
    "    def metodo2(self, a, b):\n",
    "        return a * b\n",
    "\n",
    "\n",
    "objeto1 = Vehiculo(\"toyota\", \"tundra\", 2023, \"plateado\")\n",
    "\n",
    "objeto1.informacion()"
   ]
  },
  {
   "cell_type": "code",
   "execution_count": 12,
   "metadata": {},
   "outputs": [
    {
     "data": {
      "text/plain": [
       "'bmw'"
      ]
     },
     "execution_count": 12,
     "metadata": {},
     "output_type": "execute_result"
    }
   ],
   "source": [
    "class Coche(Vehiculo):\n",
    "    def kilometraje(self):\n",
    "        return print(f\"El kilometraje del coche es:120000 kms\")\n",
    "\n",
    "    def conducir(self):\n",
    "        return print(\"El coche está en movimiento\")\n",
    "\n",
    "\n",
    "coche1 = Coche(\"bmw\", \"a4\", 2020, \"rojo\")\n",
    "coche1.marca"
   ]
  },
  {
   "cell_type": "code",
   "execution_count": 22,
   "metadata": {},
   "outputs": [
    {
     "data": {
      "text/plain": [
       "20"
      ]
     },
     "execution_count": 22,
     "metadata": {},
     "output_type": "execute_result"
    }
   ],
   "source": [
    "class Estudiante:\n",
    "    def __init__(self, nombre, edad, curso) -> None:\n",
    "        self.__nombre = nombre\n",
    "        self.edad = edad\n",
    "        self.curso = curso\n",
    "\n",
    "    def mostrar_informacion(self):\n",
    "        return print(f\"{self.__nombre} tiene {self.edad} y cursa {self.curso}\")\n",
    "\n",
    "\n",
    "estudiante1 = Estudiante(\"Juan\", 25, \"Matemáticas\")\n",
    "estudiante2 = Estudiante(\"Ana\", 20, \"Historia\")\n",
    "\n",
    "estudiante1.edad\n",
    "estudiante2.edad"
   ]
  },
  {
   "cell_type": "code",
   "execution_count": 9,
   "metadata": {},
   "outputs": [
    {
     "name": "stdout",
     "output_type": "stream",
     "text": [
      "Área del círculo: 78.5\n",
      "Área del rectángulo: 24\n"
     ]
    }
   ],
   "source": [
    "class Figura:\n",
    "    def calcular_area():\n",
    "        pass\n",
    "\n",
    "\n",
    "class Circulo(Figura):\n",
    "    def __init__(self, radio):\n",
    "        self.radio = radio\n",
    "\n",
    "    def calcular_area(self):\n",
    "        return self.radio**2 * 3.14\n",
    "\n",
    "\n",
    "class Rectangulo(Figura):\n",
    "    def __init__(self, base, altura):\n",
    "        self.base = base\n",
    "        self.altura = altura\n",
    "\n",
    "    def calcular_area(self):\n",
    "        return self.base * self.altura\n",
    "\n",
    "\n",
    "circulo = Circulo(5)\n",
    "rectangulo = Rectangulo(4, 6)\n",
    "\n",
    "print(\"Área del círculo:\", circulo.calcular_area())\n",
    "print(\"Área del rectángulo:\", rectangulo.calcular_area())"
   ]
  },
  {
   "cell_type": "code",
   "execution_count": 8,
   "metadata": {},
   "outputs": [
    {
     "name": "stdout",
     "output_type": "stream",
     "text": [
      "Nombre: Juan, Saldo: 800\n",
      "Nombre: Juan, Saldo: 100\n"
     ]
    }
   ],
   "source": [
    "class Cuenta_bancaria:\n",
    "    def __init__(self, nombre, saldo):\n",
    "        self.__nombre = nombre\n",
    "        self.__saldo = saldo\n",
    "\n",
    "    def consulta(self):\n",
    "        print(f\"Nombre: {self.__nombre}, Saldo: {self.__saldo}\")\n",
    "\n",
    "    def deposito(self, monto):\n",
    "        self.__saldo += monto\n",
    "\n",
    "    def retiro(self, monto):\n",
    "        if self.__saldo < monto:\n",
    "            print(f\"No tiene saldo suficiente, su saldo es:{self.__saldo}\")\n",
    "        else:\n",
    "            self.__saldo -= monto\n",
    "\n",
    "\n",
    "cuenta1 = Cuenta_bancaria(\"Juan\", 800)\n",
    "\n",
    "cuenta1.consulta()\n",
    "cuenta1.retiro(700)\n",
    "cuenta1.consulta()"
   ]
  },
  {
   "cell_type": "code",
   "execution_count": 1,
   "metadata": {},
   "outputs": [
    {
     "name": "stdout",
     "output_type": "stream",
     "text": [
      "Resultado final de suma: 10\n",
      "Resultado final de multiplicacion: 120\n"
     ]
    }
   ],
   "source": [
    "class Operaciones:\n",
    "    def suma(self, a, b):\n",
    "        return a + b\n",
    "\n",
    "    def multiplicacion(self, a, b):\n",
    "        return a * b\n",
    "\n",
    "\n",
    "class DecoradorArgsVariable:\n",
    "    def __init__(self, cls):\n",
    "        self.cls = cls\n",
    "        self.original_method = None\n",
    "\n",
    "    def __call__(self, *args, **kwargs):\n",
    "        return DecoradorArgsVariable(self.cls(*args, **kwargs))\n",
    "\n",
    "    def op_modificada(self, *args, **kwargs):\n",
    "        # Lógica específica del decorador\n",
    "        if self.original_method is None:\n",
    "            if len(args) == 2 and not kwargs:\n",
    "                return self.original_method(*args, **kwargs)\n",
    "            self.original_method = self.cls(*args, **kwargs)\n",
    "        result = self.original_method(*args, **kwargs)\n",
    "        print(f\"Llamada a suma_modificada con argumentos: {args}\")\n",
    "        return result\n",
    "\n",
    "    def __getattr__(self, name):\n",
    "        original_method = getattr(self.cls, name)\n",
    "\n",
    "        def pepe(*args, **kwargs):\n",
    "            # Si se pasan solo dos argumentos, llamamos al método original\n",
    "            if len(args) == 2 and not kwargs:\n",
    "                return original_method(*args, **kwargs)\n",
    "\n",
    "            # Si se pasan más de dos argumentos, llamamos al método original con los primeros dos\n",
    "            result = original_method(args[0], args[1])\n",
    "\n",
    "            # Luego, iteramos sobre el resto de los argumentos y los aplicamos al resultado\n",
    "            for arg in args[2:]:\n",
    "                result = original_method(result, arg)\n",
    "\n",
    "            # Imprime el resultado después de llamar al método original con cualquier cantidad de argumentos\n",
    "            # print(f\"Resultado de {name}: {result}\")\n",
    "            return result\n",
    "\n",
    "        return pepe\n",
    "\n",
    "\n",
    "# Aplica el decorador a la clase Operaciones\n",
    "Operaciones = DecoradorArgsVariable(Operaciones)\n",
    "\n",
    "# Crea una instancia de la clase decorada\n",
    "operaciones = Operaciones()\n",
    "\n",
    "# Llama a los métodos decorados con cualquier cantidad de argumentos\n",
    "resultado_suma = operaciones.suma(1, 2, 3, 4)\n",
    "resultado_multiplicacion = operaciones.multiplicacion(2, 4, 5, 3)\n",
    "\n",
    "print(f\"Resultado final de suma: {resultado_suma}\")\n",
    "print(f\"Resultado final de multiplicacion: {resultado_multiplicacion}\")"
   ]
  }
 ],
 "metadata": {
  "kernelspec": {
   "display_name": ".venv",
   "language": "python",
   "name": "python3"
  },
  "language_info": {
   "codemirror_mode": {
    "name": "ipython",
    "version": 3
   },
   "file_extension": ".py",
   "mimetype": "text/x-python",
   "name": "python",
   "nbconvert_exporter": "python",
   "pygments_lexer": "ipython3",
   "version": "3.11.5"
  }
 },
 "nbformat": 4,
 "nbformat_minor": 2
}
