{
 "cells": [
  {
   "cell_type": "markdown",
   "metadata": {},
   "source": [
    "#### 1- Dada una **lista** de números, cree una función que devuelva otra **lista** con los números **pares**.  \n",
    "<span style=\"color: sienna;\">**Ejemplo:**</span>  \n",
    "**pares( [ 5 , 2 , 89 , 22 , 47 , 40 ] )** devuelve **[ 2 , 22 , 40 ]**"
   ]
  },
  {
   "cell_type": "code",
   "execution_count": 6,
   "metadata": {},
   "outputs": [
    {
     "data": {
      "text/plain": [
       "[8, 62, 22, 54, 8, 12]"
      ]
     },
     "execution_count": 6,
     "metadata": {},
     "output_type": "execute_result"
    }
   ],
   "source": [
    "a=[3,8,5,9,62,31,22,54,8,7,12]    # Lista de números\n",
    "\n",
    "def pares (lista):          # Define la funcion \"pares\" y sus argumentos en este caso uno \"lista\"\n",
    "    res=[]                  # Inicializa la lista vacia de pares\n",
    "    for e in lista:         # Para cada numero e de lista\n",
    "        if e%2==0:          # Pregunta si e es divisible por 2 si es asi..\n",
    "            res.append(e)   # Agrega el número par a la lista, sino entonces sigue con el próximo\n",
    "    return res              # Cuando termina de verificar todos los elementos de lista\n",
    "                            # devuelve el resultado. Toda funcion debería tener al menos una \n",
    "                            # sentencia return(devolver) que retorna el resultado.\n",
    "pares(a)                    # Llama a la funcion y le pasa la lista \"a\""
   ]
  },
  {
   "cell_type": "markdown",
   "metadata": {},
   "source": [
    "#### 2- Dada una **lista** de números, cree una función que devuelva una **lista** con los números ***positivos***.  \n",
    "<span style=\"color: sienna;\">**Ejemplo:**</span>  \n",
    "**positivos([-1,2,-5,6,-98])** devuelve **[2,6]**"
   ]
  },
  {
   "cell_type": "code",
   "execution_count": null,
   "metadata": {},
   "outputs": [],
   "source": [
    "a=[2,-3,-9,56,86,-8,18,21,-15]\n",
    "\n",
    "def positivos(lista):\n",
    "    res=[]\n",
    "    # Su codigo\n",
    "    return res\n",
    "\n",
    "positivos(a)"
   ]
  },
  {
   "cell_type": "markdown",
   "metadata": {},
   "source": [
    "#### 3- Cree una funcion que determine si un triángulo es un **triángulo rectángulo**, a partir de la longitud de sus **lados**.  \n",
    "<span style=\"color: sienna;\">**Ejemplo:**</span>  \n",
    "  \n",
    "$tri ( [ 3 , 4 , 5 ] )$ devuelve True  \n",
    "  \n",
    "ya que $3^2+4^2=5^2$  \n",
    "  \n",
    "<span style=\"color: crimson;\">Notar</span> que $tri([5,3,4])$ también debe devolver True pues el orden no importa."
   ]
  },
  {
   "cell_type": "code",
   "execution_count": null,
   "metadata": {},
   "outputs": [],
   "source": [
    "a=[10,6,8]      # Da True\n",
    "b=[53,28,45]    # Da True\n",
    "c=[12,17,21]    # Da False\n",
    "\n",
    "def tri(lados):\n",
    "    # Su codigo\n",
    "    return \n",
    "\n",
    "tri(a)"
   ]
  },
  {
   "cell_type": "markdown",
   "metadata": {},
   "source": [
    "#### 4- Cree una función que multiplique por 3 solo los números pares positivos, y devuelva la lista original con los numeros modificados.  \n",
    "  \n",
    "<span style=\"color: sienna;\">**Ejemplo:**</span>  \n",
    "input:  \n",
    "**[ 2 , -4 , 3 , 45 , 24 , -12 , 6 , 5 , -8 , 10]**  \n",
    "output:  \n",
    "**[ 6 ,-4 , 3 , 72 , -12 , 18 , 5 , -8 , 30]**\n"
   ]
  },
  {
   "cell_type": "code",
   "execution_count": null,
   "metadata": {},
   "outputs": [],
   "source": [
    "a=[-2,6,8,12,-14,25,-4,11,72]      # Debe devolver [-2,18,24,36,-14,25,-4,11,216] \n",
    "b=[22,-6,81,10,14,-25,-3,11,-70]   # Otro ejemplo\n",
    "\n",
    "def por3(arr):\n",
    "    # Su codigo\n",
    "    return res\n",
    "\n",
    "por3(a)"
   ]
  },
  {
   "cell_type": "markdown",
   "metadata": {},
   "source": [
    "#### 5- Se necesita **limpiar** un texto **eliminando caracteres erroneos**. Cree una funcion que realice esta tarea. \n",
    "#### Como entrada se tiene el texto a limpiar, y una lista de los caracteres que se deben eliminar.  \n",
    "<span style=\"color: sienna;\">**Ejemplo:**</span>  \n",
    "data='Es\\\\$te e\\\\$s u&n& t&e&&xt\\#o\\# q\\\\$u&e a\\\\$h\\\\$o\\#r&a e\\\\$s&t&á &lim\\\\$p\\\\$i\\\\$o \\\\$d\\\\$e\\\\$ \\\\$err\\#ores'  \n",
    "lista=['\\$','\\&','\\#']  \n",
    "res='Este es un texto que ahora está limpio de errores'"
   ]
  },
  {
   "cell_type": "code",
   "execution_count": null,
   "metadata": {},
   "outputs": [],
   "source": [
    "texts='&A$ho$r#a& &s$i& &e&s$t#e #t#e#x$t&o &q&u$e$d&o l&i&m$p$i#o# $d$e$ $c$a$r&a&ct&e&re$s $m$a$l# #t#i$p$e$a&d&o&s&.'\n",
    "listChars=['$','&','#']\n",
    "\n",
    "def limpiar(data,chars):\n",
    "    # su código\n",
    "    return\n",
    "\n",
    "limpiar(texts,listChars)"
   ]
  },
  {
   "cell_type": "markdown",
   "metadata": {},
   "source": [
    "#### 6- Se necesita separar de una **lista** los **nombres** propios de las **edades**.  \n",
    "Cree una funcion que realice esta tarea. Como entrada se tiene una **lista**, y como salida se esperan **dos listas** una con los nombres y otra con las edades. \n",
    "  \n",
    "<span style=\"color: sienna;\">**Ejemplo:**</span>  \n",
    "input:  \n",
    "**lista=['Juan',32,'Carla',23,'Alejandro',52,'Irina',65,'María',15,'Rodolfo',28]**   \n",
    "output:  \n",
    "**names=['Juan','Carla','Alejandro','Irina','María','Rodolfo']**  \n",
    "**ages=[32,23,52,65,15,28]**  \n"
   ]
  },
  {
   "cell_type": "code",
   "execution_count": null,
   "metadata": {},
   "outputs": [],
   "source": [
    "database=['Patricio',21,'Karina',28,'Javier',45,'Máximo',31,'Frida',98]\n",
    "\n",
    "def splitter(arr):\n",
    "    names=[]\n",
    "    ages=[]\n",
    "    # Su codigo\n",
    "    return names,ages\n",
    "\n",
    "splitter(database)"
   ]
  },
  {
   "cell_type": "markdown",
   "metadata": {},
   "source": [
    "#### 7- Se necesita separar de una lista el **texto** de los **demás tipos de datos**.  \n",
    "Cree una función que realice esta tarea. Como entrada se tiene una lista, y como salida se espera una lista de sólo texto.  \n",
    "  \n",
    "<span style=\"color: sienna;\">**Ejemplo:**</span>  \n",
    "input:  \n",
    "**lista=['Impresora',False,'Puerta','Avion',23.2,'Casa',52,12.5,65,'Ventana',15,True,2.8]**   \n",
    "output:  \n",
    "**lista=['Impresora','Puerta','Avión','Casa','Ventana']**   \n"
   ]
  },
  {
   "cell_type": "code",
   "execution_count": null,
   "metadata": {},
   "outputs": [],
   "source": [
    "database2=[False,'Teclado',True,'Mate',23.1,21.3,9,'Televisor',45,True,'Router',3.1,2,'Pizarrón','Coche','barco',9.8]\n",
    "\n",
    "def spliter2(arr):\n",
    "    words=[]\n",
    "    # Su codigo\n",
    "    return words\n",
    "\n",
    "spliter2(database2)"
   ]
  },
  {
   "cell_type": "markdown",
   "metadata": {},
   "source": [
    "#### 8- **Factorial** de un número n.  \n",
    "Se define como:  \n",
    "$$n! = 1 · 2 · 3 \\dots · (n-1) · n = (n-1)!·n$$  \n",
    "  \n",
    "Además se define el factorial de cero igual a 1.   [click para ver definición en internet](https://es.wikipedia.org/wiki/Factorial)  \n",
    "  \n",
    "<span style=\"color: sienna;\">**Ejemplo:**</span>    \n",
    "  \n",
    "$5! = 1 · 2 · 3 · 4 · 5 = 120$  \n",
    "  \n",
    "Cree una función que devuelva el factorial de un número n."
   ]
  },
  {
   "cell_type": "code",
   "execution_count": null,
   "metadata": {},
   "outputs": [],
   "source": [
    "a=7 # Debe devolver 5040\n",
    "b=8 # Debe devolver 40320\n",
    "c=0 # Debe devolver 1\n",
    "d=1 # Debe devolver 1\n",
    "\n",
    "def fact(n):\n",
    "    # Su código\n",
    "    return f\n",
    "\n",
    "fact(a)"
   ]
  },
  {
   "cell_type": "markdown",
   "metadata": {},
   "source": [
    "#### 9- Ahora que tiene la función **fact** intente crear una función **factlist()** que devuelva una lista de factoriales a partir de la lista ingresada.  \n",
    "  \n",
    "<span style=\"color: sienna;\">**Ejemplo:**</span>    \n",
    "input: **[1,5,7,4,6]**  \n",
    "output: **[1,120,5040,24,720]**    "
   ]
  },
  {
   "cell_type": "code",
   "execution_count": null,
   "metadata": {},
   "outputs": [],
   "source": [
    "listN=[0,1,11,4,7,9] # Debe devolver [1,1,39916800,24,5040,362880]\n",
    "listN2=[3,2,10,8,5,19] # Debe devolver [6,2,3628800,40320,120,121645100408832000]\n",
    "\n",
    "def factlist(arr):\n",
    "    # Su Código\n",
    "    return res\n",
    "\n",
    "factlist(listN)"
   ]
  },
  {
   "cell_type": "markdown",
   "metadata": {},
   "source": [
    "#### 10- Número de **Fibonacci**  \n",
    "Se define como el número tal que: \n",
    "  \n",
    "$f_n = f_{n-1} + f_{n-2}$ -------> y además se definen $f_0 = 0$ y $f_1= 1$ de este modo por ejemplo:  \n",
    "  \n",
    "$f_2 = f_{1} + f_{0} = 1 + 0 = 1$  \n",
    "$f_3 = f_{2} + f_{1} = 1 + 1 = 2$  \n",
    "$f_4 = f_{3} + f_{2} = 2 + 1 = 3$  \n",
    "$f_5 = f_{4} + f_{3} = 3 + 2 = 5$  \n",
    "$f_6 = f_{5} + f_{4} = 5 + 3 = 8$  \n",
    "\n",
    "Cree una función que calcule lo más eficientemente posible el número de fibonacci de n, utilizando bucles.  \n",
    "\n",
    "Luego puede probar calcularlo a partir del número aureo como curiosidad o mejor aún, de forma matricial puede ver el pseudocódigo y definiciones en [este link al último, fibonacci](https://es.wikipedia.org/wiki/Sucesi%C3%B3n_de_Fibonacci).\n"
   ]
  },
  {
   "cell_type": "code",
   "execution_count": null,
   "metadata": {},
   "outputs": [],
   "source": [
    "n=0 # Debe devolver 0\n",
    "n1=1 # Debe devolver 1\n",
    "n2=2 # Debe devolver 1\n",
    "n3=3 # Debe devolver 2\n",
    "n4=40 # Debe devolver 102334155\n",
    "\n",
    "def fibo(n):\n",
    "    fa=0        # Ayuda, comience definiendo f(0)=0 y f(1)=1 como se muestra.\n",
    "    fb=1        # apartir de esos valores comienza la serie hasta llegar a n.\n",
    "    # Su código\n",
    "    return res\n",
    "\n",
    "fibo(n)"
   ]
  },
  {
   "cell_type": "markdown",
   "metadata": {},
   "source": [
    "#### 11- Aplanar una lista.  \n",
    "Dada una lista anidada cree una función que la devuelva plana, es decir, donde todos sus elementos sean unidimensionales.  \n",
    "  \n",
    "<span style=\"color: sienna;\">**Ejemplo:**</span>  \n",
    "input:  \n",
    "**[2 , 'vaso' , [ 'taza' , 3 , 5 , 'hoja' ] , [ 'tapa' , [ 2 , 'sol' , [ 'sofá' , 'silla' ] ] ] ]**  \n",
    "output:  \n",
    "**[ 2 , 'vaso' , 'taza' , 3 , 5 , 'hoja' , 'tapa' , 2 , 'sol' , 'sofá' , 'silla' ]**"
   ]
  },
  {
   "cell_type": "code",
   "execution_count": null,
   "metadata": {},
   "outputs": [],
   "source": [
    "nested=[2,['ventilador',True],'cursor',['martillo',5,'linterna',['tenedor','tecla']],['tanque',[8.2,'luna',['frasco',2,'caja']]]] \n",
    "\n",
    "def unested(arr):\n",
    "    # Su Código\n",
    "    return flat\n",
    "\n",
    "unested(nested)"
   ]
  },
  {
   "cell_type": "markdown",
   "metadata": {},
   "source": [
    "#### 12- Raices de un polinomio de segundo grado.\n",
    "Si $a \\ne 0$, existen dos soluciones para $(ax^2 + bx + c = 0)$ dadas por:\n",
    "$$ x = {-b \\pm \\sqrt{b^2-4ac} \\over 2a} $$  \n",
    "  \n",
    "Cree una función que reciba 3 parámetros $a, b$ y $c$ (en ese orden) que devuelva las raices del polinomio $(ax^2 + bx + c = 0)$ .\n",
    "  \n",
    "<span style=\"color: crimson;\">**Nota:**</span> La función raiz cuadrada se debe importar del módulo **math**.  \n",
    "***from math import sqrt***."
   ]
  },
  {
   "cell_type": "code",
   "execution_count": 1,
   "metadata": {},
   "outputs": [
    {
     "data": {
      "text/plain": [
       "4.0"
      ]
     },
     "execution_count": 1,
     "metadata": {},
     "output_type": "execute_result"
    }
   ],
   "source": [
    "from math import sqrt\n",
    "sqrt(16)"
   ]
  },
  {
   "cell_type": "code",
   "execution_count": null,
   "metadata": {},
   "outputs": [],
   "source": [
    "a=6\n",
    "b=-6\n",
    "c=-36   # Debe devolver 3 y -2\n",
    "\n",
    "def roots(a,b,c):\n",
    "    # Su Código\n",
    "    return r1,r2\n",
    "\n",
    "roots(a,b,c)"
   ]
  },
  {
   "cell_type": "markdown",
   "metadata": {},
   "source": [
    "#### 13- Valor promedio, valor medio, media aritmética, etc. \n",
    "  \n",
    "$$\\bar{x}={\\displaystyle\\sum_{i=1}^n x_i \\over n}$$  \n",
    "  \n",
    "Cree una función que devuelva el valor promedio de una lista de mediciones o valores dados."
   ]
  },
  {
   "cell_type": "code",
   "execution_count": null,
   "metadata": {},
   "outputs": [],
   "source": [
    "data=[21,85,6,55,31,30,35,44,40,29,27,25,40,40,40,31,30,25,22,24,23,34,32,28,26,43]\n",
    "\n",
    "# Básicamente se debe calcular la suma de todos los números en data y dividir el resultado por la cantidad de datos (len(data)).\n",
    "\n",
    "def average(arr):\n",
    "    # Su código\n",
    "    return av\n",
    "\n",
    "average(data)"
   ]
  },
  {
   "cell_type": "markdown",
   "metadata": {},
   "source": [
    "#### 14- Desviación Típica o Estándar.  \n",
    "Es un estimador aritmético que da una idea de la variación o la dispersión de un conjunto de datos numéricos respecto de la media. Básicamente es un promedio de los valores absolutos de las diferencias entre cada valor y el promedio.  \n",
    "En este caso para datos discretos, su expresión es:\n",
    "$$\\sigma_p=\\sqrt{{\\displaystyle\\sum_{i=1}^n {(\\bar{x}-x_i)}^2 \\over n}}\\quad Para \\quad población \\quad completa$$  \n",
    "$$\\sigma_m=\\sqrt{{\\displaystyle\\sum_{i=1}^n {(\\bar{x}-x_i)}^2 \\over {n-1}}}\\quad Para \\quad una \\quad muestra.$$  \n",
    "\n",
    "Modifique la función anterior para calcular además de la media $\\bar{x}$, la $\\sigma_p$ (desviación de la poblacion completa) y la $\\sigma_m$ (desviación de la muestra) dependiendo si el segundo argumento de la función es 1 o 0 (o True o False)  \n",
    "Es decir:  \n",
    "avs(datos) ó avs(datos,0) -------> $\\bar x$, $\\sigma_p$  \n",
    "avs(datos,1) ---------------------> $\\bar x$, $\\sigma_m$\n",
    "  \n",
    "Para chequear y testear se deja calculadora online estadística básica [click acá](https://www.easycalculation.com/es/statistics/standard-deviation.php)"
   ]
  },
  {
   "cell_type": "code",
   "execution_count": 13,
   "metadata": {},
   "outputs": [
    {
     "name": "stdout",
     "output_type": "stream",
     "text": [
      "(24.238095238095237, 10.7566358783544, 21)\n",
      "(24.238095238095237, 11.02227182528521, 21)\n"
     ]
    }
   ],
   "source": [
    "from math import sqrt # No olvidar importar sqrt de math para poder usar raíz cuadrada\n",
    "\n",
    "data=[5,10,25,22,21,20,25,24,26,25,12,47,44,39,30,25,27,24,35,6,17]  # x=24.238 , sp=10.757, sm=11.022\n",
    "\n",
    "def avs(arr,f=0):       # f=0 significa que el parámetro tiene por defecto el valor 0 o False en el caso\n",
    "    # Su código         # de que el usuario omita el argumento \"f\". Si pone avs(data) es igual a avs(data,0)\n",
    "    n=len(arr)          # Calcula la cantidad de registros datos medidas o números.\n",
    "    x,m=sum(arr)/n,n    # Calcular el valor medio \"x\" y asigna a la variable m la variable n\n",
    "    s=0                 # Inicializa sumador en cero.\n",
    "    for e in arr:       # Realiza la suma de los cuadrados de las diferencias de cada registro con el valor medio.\n",
    "        s+=(x-e)**2\n",
    "    if f:               # Si el usuario quiere la desviacion muestral ingresa el segundo argumento = 1 o True \n",
    "        m=n-1           # en ese caso m=n-1 sino m=n\n",
    "    s=sqrt(s/m)         # Divide la suma anterior por m obteniendo la varianza y luego la raiz para obtener la desviacion \"s\".\n",
    "    return x,s,n        # Devuelve los valores x(valor medio) , s(desviacion) y n(cantidad de registros)\n",
    "\n",
    "print(avs(data))\n",
    "print(avs(data,1))"
   ]
  },
  {
   "cell_type": "markdown",
   "metadata": {},
   "source": [
    "##### Otra alternativa"
   ]
  },
  {
   "cell_type": "code",
   "execution_count": 14,
   "metadata": {},
   "outputs": [
    {
     "name": "stdout",
     "output_type": "stream",
     "text": [
      "(24.238095238095237, 10.7566358783544, 21)\n",
      "(24.238095238095237, 11.02227182528521, 21)\n"
     ]
    }
   ],
   "source": [
    "from math import sqrt # No olvidar importar sqrt de math para poder usar raíz cuadrada\n",
    "\n",
    "data=[5,10,25,22,21,20,25,24,26,25,12,47,44,39,30,25,27,24,35,6,17]  # x=24.238 , sp=10.757, sm=11.022\n",
    "\n",
    "def avs(arr,f=0):       # f=0 significa que el parámetro tiene por defecto el valor 0 o False en el caso\n",
    "    # Su código         # de que el usuario omita el argumento \"f\". Si pone avs(data) es igual a avs(data,0)\n",
    "    n=len(arr)          # Calcula la cantidad de registros datos medidas o números.\n",
    "    x=sum(arr)/n        # Calcula el valor medio \"x\"\n",
    "    s=sum([(x-e)**2 for e in arr])  # Realiza la suma de los cuadrados de las diferencias de cada registro con el valor medio.\n",
    "    s=sqrt(s/(n-1 if f else n))     # Divide la suma anterior por n-1 o n depende de si el usuario desea la desviación muestral \n",
    "                                    # o la poblacional. Es un if en linea.    \n",
    "    return x,s,n        # Devuelve los valores x(valor medio) , s(desviacion) y n(cantidad de registros)\n",
    "\n",
    "print(avs(data))\n",
    "print(avs(data,1))\n"
   ]
  },
  {
   "cell_type": "markdown",
   "metadata": {},
   "source": [
    "##### Extienda la función anterior para calcular percentiles y varianza ($\\bold{v}=\\sigma^2$).\n",
    "Percentil se puede calcular con:  \n",
    "$$ \\text{parte entera: } \\quad et=n·p $$ \n",
    "$$ \\text{parte decimal: } \\quad dec=n·p $$ \n",
    "$$ P(i) =\n",
    "  \\begin{cases}\n",
    "    data(et)  & \\quad \\text{si } \\quad dec = 0 \\\\ \\\\\n",
    "    data(et)+\\Big(data(et+1)-data(et)\\Big )·dec & \\quad \\text{si } \\quad dec \\neq 0\n",
    "  \\end{cases}\n",
    "$$  "
   ]
  },
  {
   "cell_type": "code",
   "execution_count": 1,
   "metadata": {},
   "outputs": [
    {
     "name": "stdout",
     "output_type": "stream",
     "text": [
      "(49.5, 841.6666666666666, 29.011491975882016, 22.77, 100)\n"
     ]
    }
   ],
   "source": [
    "from math import sqrt \n",
    "\n",
    "data=[5,10,25,22,21,20,25,24,26,25,12,47,44,39,30,25,27,24,35,6,17]  # x=24.238 , sp=10.757, sm=11.022\n",
    "nums=[*range(100)]\n",
    "\n",
    "def avs(arr,f=0,p=0.5):       # Se agrega un parámetro p es el percentil deseado en formato indice por defecto 0.5\n",
    "    arr.sort()\n",
    "    n=len(arr)          \n",
    "    x=sum(arr)/n        \n",
    "    v=sum([(x-e)**2 for e in arr])/(n-1 if f else n)  # Varianza\n",
    "    s=sqrt(v)    \n",
    "    q=(n-1)*p                  # Calcula el cuantil por defecto (n-1)*0.5\n",
    "    et,dec=int(q//1),q%1       # Calcula parte entera y decimal de q\n",
    "    q= arr[et] if dec==0 else arr[et]+(arr[et+1]-arr[et])*dec  # Calcula el cuantil y lo almacena en q\n",
    "    return x,v,s,q,n  \n",
    "\n",
    "print(avs(nums,1,0.23))\n",
    "# print(avs(data,1))"
   ]
  },
  {
   "cell_type": "markdown",
   "metadata": {},
   "source": [
    "#### 15- Número **Primo**.\n",
    "Es un número natural mayor que 1 que sólo es divisible por él mismo y 1.  \n",
    "  \n",
    "Cree una función que determine si un número n dado es primo.  \n",
    "Si es primo debe devolver **True** sino **False**."
   ]
  },
  {
   "cell_type": "code",
   "execution_count": null,
   "metadata": {},
   "outputs": [],
   "source": [
    "n=467   # Es primo debe devolver True\n",
    "\n",
    "def primo(n):\n",
    "    # Su código\n",
    "    return res\n",
    "\n",
    "primo(n)"
   ]
  },
  {
   "cell_type": "markdown",
   "metadata": {},
   "source": [
    "Luego intente con **n=472882027** si tarda **más de 10 segundos** en dar el resultado debe **optimizar** el algoritmo.  \n",
    "<span style=\"color: crimson;\">**Ayuda:**</span> saque del bucle los números pares. Ahora debe tardar menos.  \n",
    "También considere que sólo es necesario comprobar los divisores hasta $\\sqrt{n}+1$ (ya que el producto escalar es conmutativo) eso le dará una optimización aún mejor.  \n",
    "Para tener números **primos grandes** de prueba vea este sitio [click aca](https://t5k.org/lists/small/millions/)    \n",
    "Para **comprobar un número primo** vea este otro sitio [click aca](https://es.numberempire.com/primenumbers.php)"
   ]
  },
  {
   "cell_type": "code",
   "execution_count": 3,
   "metadata": {},
   "outputs": [
    {
     "name": "stdout",
     "output_type": "stream",
     "text": [
      "24 25 26 27\n"
     ]
    },
    {
     "data": {
      "text/plain": [
       "(49.5, 833.25, 28.86607004772212, 24.5, 100)"
      ]
     },
     "execution_count": 3,
     "metadata": {},
     "output_type": "execute_result"
    }
   ],
   "source": [
    "nums=[*range(100)]\n",
    "avs(nums,0,0.25)"
   ]
  }
 ],
 "metadata": {
  "kernelspec": {
   "display_name": "Python 3",
   "language": "python",
   "name": "python3"
  },
  "language_info": {
   "codemirror_mode": {
    "name": "ipython",
    "version": 3
   },
   "file_extension": ".py",
   "mimetype": "text/x-python",
   "name": "python",
   "nbconvert_exporter": "python",
   "pygments_lexer": "ipython3",
   "version": "3.11.5"
  }
 },
 "nbformat": 4,
 "nbformat_minor": 4
}
