{
 "cells": [
  {
   "cell_type": "markdown",
   "metadata": {},
   "source": [
    "### Escalera\n",
    "Dada una escalera de n escalones y un conjunto de posibles escalones que podemos subir a la vez llamados posibles pasos = [2,4,8...], cree una función que devuelva el número de formas que una persona puede combinar esos pasos para llegar a la cima de la escalera."
   ]
  },
  {
   "cell_type": "code",
   "execution_count": 54,
   "metadata": {},
   "outputs": [
    {
     "name": "stdout",
     "output_type": "stream",
     "text": [
      "[[2, 2, 2, 2, 2], [2, 2, 2, 4], [2, 2, 4, 2], [2, 4, 2, 2], [2, 4, 4], [2, 8], [4, 2, 2, 2], [4, 2, 4], [4, 4, 2], [5, 5], [8, 2]]\n",
      "11\n"
     ]
    }
   ],
   "source": [
    "ways=[]\n",
    "\n",
    "def escalera(n,arr):\n",
    "    ways=[]\n",
    "    if n==0:\n",
    "        return [[]]\n",
    "    for e in arr:\n",
    "        way=[]\n",
    "        if n-e>=0:\n",
    "            for d in escalera(n-e,arr):\n",
    "                way.append([e]+d)\n",
    "            ways+=way\n",
    "    return ways\n",
    "\n",
    "ways=escalera(10,[2,4,5,8])\n",
    "print(ways)\n",
    "print(len(ways))"
   ]
  }
 ],
 "metadata": {
  "kernelspec": {
   "display_name": "Python 3",
   "language": "python",
   "name": "python3"
  },
  "language_info": {
   "codemirror_mode": {
    "name": "ipython",
    "version": 3
   },
   "file_extension": ".py",
   "mimetype": "text/x-python",
   "name": "python",
   "nbconvert_exporter": "python",
   "pygments_lexer": "ipython3",
   "version": "3.11.5"
  }
 },
 "nbformat": 4,
 "nbformat_minor": 2
}
