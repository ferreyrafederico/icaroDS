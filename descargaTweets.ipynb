{
 "cells": [
  {
   "cell_type": "code",
   "execution_count": 1,
   "metadata": {},
   "outputs": [],
   "source": [
    "import numpy as np\n",
    "import pandas as pd\n",
    "import matplotlib.pyplot as plt\n",
    "\n",
    "from ntscraper import Nitter"
   ]
  },
  {
   "cell_type": "markdown",
   "metadata": {},
   "source": [
    "#### Primero se instancia Nitter es una clase que permite conectarse a diferentes sesiones de Nitter."
   ]
  },
  {
   "cell_type": "code",
   "execution_count": 2,
   "metadata": {},
   "outputs": [
    {
     "name": "stderr",
     "output_type": "stream",
     "text": [
      "Testing instances: 100%|██████████| 77/77 [02:07<00:00,  1.66s/it]\n"
     ]
    }
   ],
   "source": [
    "scraper=Nitter(log_level=1,skip_instance_check=False)"
   ]
  },
  {
   "cell_type": "markdown",
   "metadata": {},
   "source": [
    "Se establece la conexión para bajar tweets si la pagina esta empty (vacia) o no se puede realizar la conexión volver a correr hasta que comience a bajar."
   ]
  },
  {
   "cell_type": "code",
   "execution_count": 99,
   "metadata": {},
   "outputs": [
    {
     "name": "stdout",
     "output_type": "stream",
     "text": [
      "28-Feb-24 16:42:35 - Empty page on https://nitter.unixfox.eu\n"
     ]
    }
   ],
   "source": [
    "tweets=scraper.get_tweets(\"elonmusk\",mode=\"hashtag\",number=200)"
   ]
  },
  {
   "cell_type": "markdown",
   "metadata": {},
   "source": [
    "#### Se importa la función pprint para poder imprimir o mostrar los diccionarios de forma vertical mas legible."
   ]
  },
  {
   "cell_type": "code",
   "execution_count": 8,
   "metadata": {},
   "outputs": [
    {
     "name": "stdout",
     "output_type": "stream",
     "text": [
      "{'date': 'Feb 19, 2024 · 5:02 PM UTC',\n",
      " 'external-link': '',\n",
      " 'gifs': [],\n",
      " 'is-pinned': False,\n",
      " 'is-retweet': True,\n",
      " 'link': 'https://twitter.com/g_almuftah/status/1759624430232228260#m',\n",
      " 'pictures': [],\n",
      " 'quoted-post': {},\n",
      " 'replying-to': [],\n",
      " 'stats': {'comments': 11, 'likes': 246, 'quotes': 0, 'retweets': 29},\n",
      " 'text': '🇦🇪❤️أهلي في الإمارات اشوفكم على خير  إن شاء الله #غانم_المفتاح '\n",
      "         '#الإمارات  I will be attending the FIFA Beach Soccer World Cup 2024 '\n",
      "         'in Dubai. I can’t wait to share this experience with you all. '\n",
      "         'Wishing good luck to all participating teams ⚽️ #dubai '\n",
      "         '#ghanimalmuftah #FIFA #football',\n",
      " 'user': {'avatar': 'https://pbs.twimg.com/profile_images/1594036199932436480/Q22llJWz_bigger.jpg',\n",
      "          'name': 'غانم المفتاح | Ghanim Al-Muftah',\n",
      "          'profile_id': '1594036199932436480',\n",
      "          'username': '@g_almuftah'},\n",
      " 'videos': ['https://video.twimg.com/amplify_video/1759624318944677888/vid/avc1/720x1280/kuEraFoAONqWqHZb.mp4?tag=14']}\n"
     ]
    }
   ],
   "source": [
    "from pprint import pprint\n",
    "\n",
    "pprint(tweets['tweets'][0])"
   ]
  },
  {
   "cell_type": "markdown",
   "metadata": {},
   "source": [
    "#### Se crea una función para convertir los diccionarios tweets en un dataframe con los datos que se necesiten, teniendo en cuenta la estructura anterior."
   ]
  },
  {
   "cell_type": "code",
   "execution_count": 9,
   "metadata": {},
   "outputs": [],
   "source": [
    "def ftweets(tw):\n",
    "  data={\n",
    "      'date':[],\n",
    "      'user':[],\n",
    "      'text':[],\n",
    "      'likes':[],\n",
    "      'comments':[],\n",
    "      'retweets':[],\n",
    "      'quotes':[],\n",
    "  }\n",
    "\n",
    "  for tw in tweets['tweets']:\n",
    "    data['date'].append(tw['date'])\n",
    "    data['user'].append(tw['user']['username'])\n",
    "    data['text'].append(tw['text'])\n",
    "    data['likes'].append(tw['stats']['likes'])\n",
    "    data['comments'].append(tw['stats']['comments'])\n",
    "    data['retweets'].append(tw['stats']['retweets'])\n",
    "    data['quotes'].append(tw['stats']['quotes'])\n",
    "\n",
    "  df=pd.DataFrame(data)\n",
    "  return df"
   ]
  },
  {
   "cell_type": "code",
   "execution_count": 10,
   "metadata": {},
   "outputs": [
    {
     "data": {
      "text/html": [
       "<div>\n",
       "<style scoped>\n",
       "    .dataframe tbody tr th:only-of-type {\n",
       "        vertical-align: middle;\n",
       "    }\n",
       "\n",
       "    .dataframe tbody tr th {\n",
       "        vertical-align: top;\n",
       "    }\n",
       "\n",
       "    .dataframe thead th {\n",
       "        text-align: right;\n",
       "    }\n",
       "</style>\n",
       "<table border=\"1\" class=\"dataframe\">\n",
       "  <thead>\n",
       "    <tr style=\"text-align: right;\">\n",
       "      <th></th>\n",
       "      <th>date</th>\n",
       "      <th>user</th>\n",
       "      <th>text</th>\n",
       "      <th>likes</th>\n",
       "      <th>comments</th>\n",
       "      <th>retweets</th>\n",
       "      <th>quotes</th>\n",
       "    </tr>\n",
       "  </thead>\n",
       "  <tbody>\n",
       "    <tr>\n",
       "      <th>10</th>\n",
       "      <td>Feb 19, 2024 · 5:50 AM UTC</td>\n",
       "      <td>@antiqueContent</td>\n",
       "      <td>World Cup 2022 moment that the streets will ne...</td>\n",
       "      <td>3</td>\n",
       "      <td>0</td>\n",
       "      <td>0</td>\n",
       "      <td>0</td>\n",
       "    </tr>\n",
       "    <tr>\n",
       "      <th>34</th>\n",
       "      <td>Feb 16, 2024 · 5:26 AM UTC</td>\n",
       "      <td>@SpacklerSports</td>\n",
       "      <td>This is too much. #soccer #WorldCup #FIFA #USW...</td>\n",
       "      <td>1</td>\n",
       "      <td>0</td>\n",
       "      <td>0</td>\n",
       "      <td>0</td>\n",
       "    </tr>\n",
       "    <tr>\n",
       "      <th>17</th>\n",
       "      <td>Jun 18, 2023 · 8:26 PM UTC</td>\n",
       "      <td>@SolarFatani</td>\n",
       "      <td>Happy #SundayMood . . . . . . #memories  18-12...</td>\n",
       "      <td>1</td>\n",
       "      <td>1</td>\n",
       "      <td>2</td>\n",
       "      <td>0</td>\n",
       "    </tr>\n",
       "  </tbody>\n",
       "</table>\n",
       "</div>"
      ],
      "text/plain": [
       "                          date             user  \\\n",
       "10  Feb 19, 2024 · 5:50 AM UTC  @antiqueContent   \n",
       "34  Feb 16, 2024 · 5:26 AM UTC  @SpacklerSports   \n",
       "17  Jun 18, 2023 · 8:26 PM UTC     @SolarFatani   \n",
       "\n",
       "                                                 text  likes  comments  \\\n",
       "10  World Cup 2022 moment that the streets will ne...      3         0   \n",
       "34  This is too much. #soccer #WorldCup #FIFA #USW...      1         0   \n",
       "17  Happy #SundayMood . . . . . . #memories  18-12...      1         1   \n",
       "\n",
       "    retweets  quotes  \n",
       "10         0       0  \n",
       "34         0       0  \n",
       "17         2       0  "
      ]
     },
     "execution_count": 10,
     "metadata": {},
     "output_type": "execute_result"
    }
   ],
   "source": [
    "df=ftweets(tweets)\n",
    "df.sample(3)"
   ]
  },
  {
   "cell_type": "markdown",
   "metadata": {},
   "source": [
    "#### Se guardan los tweets en un archivo."
   ]
  },
  {
   "cell_type": "code",
   "execution_count": null,
   "metadata": {},
   "outputs": [],
   "source": [
    "# df2.to_csv('twFifaWorldCup.csv')"
   ]
  }
 ],
 "metadata": {
  "kernelspec": {
   "display_name": ".venv",
   "language": "python",
   "name": "python3"
  },
  "language_info": {
   "codemirror_mode": {
    "name": "ipython",
    "version": 3
   },
   "file_extension": ".py",
   "mimetype": "text/x-python",
   "name": "python",
   "nbconvert_exporter": "python",
   "pygments_lexer": "ipython3",
   "version": "3.11.5"
  }
 },
 "nbformat": 4,
 "nbformat_minor": 2
}
