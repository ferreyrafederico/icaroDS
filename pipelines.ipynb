{
 "cells": [
  {
   "cell_type": "code",
   "execution_count": 27,
   "metadata": {},
   "outputs": [],
   "source": [
    "import pandas as pd\n",
    "import numpy as np\n",
    "import matplotlib.pyplot as plt\n",
    "from sklearn.pipeline import Pipeline\n",
    "from sklearn.base import BaseEstimator, TransformerMixin\n",
    "from sklearn.linear_model import LinearRegression"
   ]
  },
  {
   "cell_type": "markdown",
   "metadata": {},
   "source": [
    "### Pipeline:\n",
    "Un ***pipeline*** es una ***clase*** que se instancia con una ***lista de tuplas*** ('nombre',clase()) en donde a cada tupla se le llama ***paso***, de nombre ***'nombre'***, y cuya clase puede ser del tipo ***\"transformador\"*** o del tipo ***\"estimador\"*** las cuales tienen la siguiente ***estructura*** mínima:  \n",
    "  \n",
    "#### Transformador:  \n",
    "~~~python\n",
    "from sklearn.base import TransformerMixin\n",
    "\n",
    "class MiTransformador(TransformerMixin):\n",
    "    def fit(self, X, y=None):\n",
    "        # Lógica de ajuste del transformador\n",
    "        return self\n",
    "\n",
    "    def transform(self, X):\n",
    "        # Lógica de transformación\n",
    "        return X\n",
    "~~~   \n",
    "  \n",
    "#### Estimador:  \n",
    "~~~python\n",
    "from sklearn.base import BaseEstimator\n",
    "\n",
    "class MiEstimador(BaseEstimator):\n",
    "    def fit(self, X, y):\n",
    "        # Lógica de ajuste del modelo\n",
    "        return self\n",
    "    \n",
    "    def predict(self, X):\n",
    "        # Lógica de predicción\n",
    "        return predictions\n",
    "~~~   \n",
    "#### Declaración y funcionamiento de pipeline:  \n",
    "~~~python\n",
    "from sklearn.pipeline import Pipeline\n",
    "\n",
    "nombre_pipeline = Pipeline([\n",
    "    ('Nombre_Clase1', Clase1()),\n",
    "    ('Nombre_Clase2', Clase2()),\n",
    "    ('Nombre_ClaseN', ClaseN()),\n",
    "])\n",
    "~~~ \n",
    "#### Reglas y Requisitos\n",
    "1) Los ***pasos o clases***, se aplican en el **orden** en que aparecen en la **lista**.  \n",
    "     \n",
    "2) Cada **clase** tiene como mínimo un ***método fit*** y un ***método transform o predict*** (dependiendo de si es un transformador o un estimador).   \n",
    "          \n",
    "3) El ***método fit*** se devuelve a quien lo llamó en este caso la propia clase (***self***).(***no devuelve nada*** y continua con el siguiente método).\n",
    "    \n",
    "4) Métodos como ***transform, predict*** y otros ***devuelve valores***. \n",
    "  \n",
    "5) Como mínimo el metodo fit de pipeline (pipeline.fit) recibe ***X*** e ***y*** como argumentos mientras que transform y otros sólo ***X***. De este modo **pipeline.fit(X,y)** y **transform(X)**.\n",
    "  \n",
    "6) **pipeline.fit(X,y)** supone la aplicación ***secuencial*** de fit(X,y) y luego transform(X) de ***cada clase***\n",
    "  \n",
    "7) Para ejecutar la secuencia completa de pasos es necesario primero ejecutar pipeline.fit(X,y) puede ejecutarse transform sin fit pero se quedará en el transform de la primera clase o paso.\n",
    "~~~python\n",
    "~~~  "
   ]
  },
  {
   "cell_type": "markdown",
   "metadata": {},
   "source": [
    "#### Ejemplo:  \n",
    "Primero el proceso hecho \"a mano\"  \n",
    "Se pide:  \n",
    "1) Abrir ***\"datosPipeline.csv\"*** analizar si tiene NaNs y eliminarlos.\n",
    "2) Ajustar o entrenar con un modelo de regresion lineal.\n",
    "  \n",
    "  Primero se realiza el proceso manual de \"1)\" y luego con pipeline de \"1)\".   \n",
    "  Y luego se repite todo con \"2)\""
   ]
  },
  {
   "cell_type": "code",
   "execution_count": 28,
   "metadata": {},
   "outputs": [
    {
     "data": {
      "text/html": [
       "<div>\n",
       "<style scoped>\n",
       "    .dataframe tbody tr th:only-of-type {\n",
       "        vertical-align: middle;\n",
       "    }\n",
       "\n",
       "    .dataframe tbody tr th {\n",
       "        vertical-align: top;\n",
       "    }\n",
       "\n",
       "    .dataframe thead th {\n",
       "        text-align: right;\n",
       "    }\n",
       "</style>\n",
       "<table border=\"1\" class=\"dataframe\">\n",
       "  <thead>\n",
       "    <tr style=\"text-align: right;\">\n",
       "      <th></th>\n",
       "      <th>var</th>\n",
       "      <th>target</th>\n",
       "    </tr>\n",
       "  </thead>\n",
       "  <tbody>\n",
       "    <tr>\n",
       "      <th>0</th>\n",
       "      <td>8.508446</td>\n",
       "      <td>19.176721</td>\n",
       "    </tr>\n",
       "    <tr>\n",
       "      <th>1</th>\n",
       "      <td>3.434914</td>\n",
       "      <td>14.031533</td>\n",
       "    </tr>\n",
       "    <tr>\n",
       "      <th>2</th>\n",
       "      <td>5.639698</td>\n",
       "      <td>16.679656</td>\n",
       "    </tr>\n",
       "  </tbody>\n",
       "</table>\n",
       "</div>"
      ],
      "text/plain": [
       "        var     target\n",
       "0  8.508446  19.176721\n",
       "1  3.434914  14.031533\n",
       "2  5.639698  16.679656"
      ]
     },
     "execution_count": 28,
     "metadata": {},
     "output_type": "execute_result"
    }
   ],
   "source": [
    "df=pd.read_csv('datosPipeline.csv')\n",
    "df.head(3)\n"
   ]
  },
  {
   "cell_type": "code",
   "execution_count": 29,
   "metadata": {},
   "outputs": [
    {
     "data": {
      "text/plain": [
       "var       6\n",
       "target    2\n",
       "dtype: int64"
      ]
     },
     "execution_count": 29,
     "metadata": {},
     "output_type": "execute_result"
    }
   ],
   "source": [
    "df.isna().sum()"
   ]
  },
  {
   "cell_type": "code",
   "execution_count": 30,
   "metadata": {},
   "outputs": [
    {
     "data": {
      "text/plain": [
       "var       0\n",
       "target    0\n",
       "dtype: int64"
      ]
     },
     "execution_count": 30,
     "metadata": {},
     "output_type": "execute_result"
    }
   ],
   "source": [
    "df1=df[['var','target']].dropna()\n",
    "df1.isna().sum()"
   ]
  },
  {
   "cell_type": "code",
   "execution_count": 31,
   "metadata": {},
   "outputs": [
    {
     "data": {
      "text/plain": [
       "(192, 2)"
      ]
     },
     "execution_count": 31,
     "metadata": {},
     "output_type": "execute_result"
    }
   ],
   "source": [
    "df1.shape"
   ]
  },
  {
   "cell_type": "code",
   "execution_count": 32,
   "metadata": {},
   "outputs": [
    {
     "data": {
      "text/plain": [
       "var       6\n",
       "target    2\n",
       "dtype: int64"
      ]
     },
     "execution_count": 32,
     "metadata": {},
     "output_type": "execute_result"
    }
   ],
   "source": [
    "df.isna().sum()"
   ]
  },
  {
   "cell_type": "markdown",
   "metadata": {},
   "source": [
    "#### Ahora con pipeline  \n"
   ]
  },
  {
   "cell_type": "code",
   "execution_count": 39,
   "metadata": {},
   "outputs": [
    {
     "name": "stdout",
     "output_type": "stream",
     "text": [
      "Parámetro de Clase1 desde fit_params: {}\n"
     ]
    }
   ],
   "source": [
    "# Definir una clase para eliminar los NaNs que tenga los metodos fit y transform, como mínimo.\n",
    "class Clase1(BaseEstimator, TransformerMixin):\n",
    "    \n",
    "    def fit(self, X, y=None):\n",
    "        y=y.dropna()\n",
    "        return self\n",
    "\n",
    "    def transform(self, X):\n",
    "        return X.dropna()\n",
    "\n",
    "# Crear los pasos pueden ser varios en este caso es uno solo.\n",
    "pipeline = Pipeline([\n",
    "    ('elimina_NaNs', Clase1()),\n",
    "])\n",
    "\n",
    "# Aplicar el pipeline al DataFrame para eliminar filas con NaNs con el método transform\n",
    "df2 = pipeline.fit_transform(df)\n",
    "# df2.isna().sum()"
   ]
  },
  {
   "cell_type": "markdown",
   "metadata": {},
   "source": [
    "##### Ahora el punto 2) \"a mano\""
   ]
  },
  {
   "cell_type": "code",
   "execution_count": 60,
   "metadata": {},
   "outputs": [
    {
     "data": {
      "text/plain": [
       "0.8524481126047226"
      ]
     },
     "execution_count": 60,
     "metadata": {},
     "output_type": "execute_result"
    }
   ],
   "source": [
    "X=df1.drop(['target'],axis=1)\n",
    "y=df1[['target']].copy()\n",
    "reg=LinearRegression().fit(X,y)\n",
    "reg.score(X, y)"
   ]
  },
  {
   "cell_type": "markdown",
   "metadata": {},
   "source": [
    "##### Ahora como se haría con pipelines todo junto con la primera parte tambien."
   ]
  },
  {
   "cell_type": "code",
   "execution_count": null,
   "metadata": {},
   "outputs": [],
   "source": [
    "# ya se tiene definida la clase EliminarNans, y también la \"LinearRegression\"\n",
    "# a si que solo se arman los pasos.\n",
    "\n",
    "# Crear los pasos pueden ser varios en este caso es uno solo.\n",
    "pipeline = Pipeline([\n",
    "    ('elimina_NaNs', EliminarNans(columnas=columnas_a_procesar)),\n",
    "    ('RegresionLineal',LinearRegression())\n",
    "])\n",
    "\n",
    "# Aplicar el pipeline al DataFrame para eliminar filas con NaNs con el método transform\n",
    "df2 = pipeline.transform(df)\n",
    "df2.isna().sum()"
   ]
  },
  {
   "cell_type": "code",
   "execution_count": 23,
   "metadata": {},
   "outputs": [
    {
     "data": {
      "image/png": "[encoded data removed]",
      "text/plain": [
       "<Figure size 600x400 with 1 Axes>"
      ]
     },
     "metadata": {},
     "output_type": "display_data"
    }
   ],
   "source": [
    "# x=np.random.uniform(1,10,200)\n",
    "# y=2*x+5+np.random.normal(0,2,200)\n",
    "# plt.figure(figsize=(6,4))\n",
    "# plt.scatter(x,y,s=4)\n",
    "# plt.show()"
   ]
  },
  {
   "cell_type": "code",
   "execution_count": 24,
   "metadata": {},
   "outputs": [],
   "source": [
    "# # Crear un DataFrame con pandas\n",
    "# df = pd.DataFrame({'var': x, 'target': y})\n",
    "\n",
    "# # Guardar el DataFrame en un archivo CSV llamado datos.csv\n",
    "# df.to_csv('datosPipeline.csv', index=False)"
   ]
  },
  {
   "cell_type": "code",
   "execution_count": null,
   "metadata": {},
   "outputs": [],
   "source": [
    "from sklearn.base import TransformerMixin\n",
    "\n",
    "class MiTransformador(TransformerMixin):\n",
    "    def fit(self, X, y=None):\n",
    "        # Lógica de ajuste del transformador\n",
    "        return self\n",
    "    \n",
    "    def transform(self, X):\n",
    "        # Lógica de transformación\n",
    "        return X"
   ]
  }
 ],
 "metadata": {
  "kernelspec": {
   "display_name": ".venv",
   "language": "python",
   "name": "python3"
  },
  "language_info": {
   "codemirror_mode": {
    "name": "ipython",
    "version": 3
   },
   "file_extension": ".py",
   "mimetype": "text/x-python",
   "name": "python",
   "nbconvert_exporter": "python",
   "pygments_lexer": "ipython3",
   "version": "3.11.5"
  }
 },
 "nbformat": 4,
 "nbformat_minor": 2
}
