{
 "cells": [
  {
   "cell_type": "code",
   "execution_count": 2,
   "metadata": {},
   "outputs": [
    {
     "name": "stdout",
     "output_type": "stream",
     "text": [
      "Número de Seguro Social válido.\n"
     ]
    }
   ],
   "source": [
    "import re\n",
    "\n",
    "pattern = re.compile(r'\\b\\d{3}-\\d{2}-\\d{4}\\b')  # Ejemplo: Número de Seguro Social\n",
    "match = pattern.search(\"Tu número de Seguro Social es 123-45-6789.\")\n",
    "\n",
    "if match:\n",
    "    print(\"Número de Seguro Social válido.\")\n",
    "else:\n",
    "    print(\"Número de Seguro Social no válido.\")"
   ]
  },
  {
   "cell_type": "code",
   "execution_count": 20,
   "metadata": {},
   "outputs": [
    {
     "name": "stdout",
     "output_type": "stream",
     "text": [
      "Si word\n"
     ]
    }
   ],
   "source": [
    "import re\n",
    "\n",
    "pattern = re.compile(r'\\bword\\b')  # Ejemplo: Número de Seguro Social\n",
    "match = pattern.search(\"word@23\")\n",
    "\n",
    "if match:\n",
    "    print(\"Si\", match.group())\n",
    "else:\n",
    "    print(\"No\")"
   ]
  },
  {
   "cell_type": "code",
   "execution_count": 22,
   "metadata": {},
   "outputs": [
    {
     "name": "stdout",
     "output_type": "stream",
     "text": [
      "Coincidió: usuario@dominio.com\n"
     ]
    }
   ],
   "source": [
    "import re\n",
    "\n",
    "pattern = re.compile(r'\\b[\\w.%+-]+@[\\w.-]+\\.[A-Z|a-z]{2,}\\b')\n",
    "match = pattern.search(\"Mi correo es usuario@dominio.com\")\n",
    "\n",
    "if match:\n",
    "    print(\"Coincidió:\", match.group())\n",
    "else:\n",
    "    print(\"No coincidió.\")"
   ]
  }
 ],
 "metadata": {
  "kernelspec": {
   "display_name": ".venv",
   "language": "python",
   "name": "python3"
  },
  "language_info": {
   "codemirror_mode": {
    "name": "ipython",
    "version": 3
   },
   "file_extension": ".py",
   "mimetype": "text/x-python",
   "name": "python",
   "nbconvert_exporter": "python",
   "pygments_lexer": "ipython3",
   "version": "3.11.5"
  }
 },
 "nbformat": 4,
 "nbformat_minor": 2
}
