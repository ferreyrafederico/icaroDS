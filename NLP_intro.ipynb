{
  "cells": [
    {
      "cell_type": "markdown",
      "metadata": {
        "id": "NX1iweEAKw8u"
      },
      "source": [
        "# NLP\n",
        "\n",
        "En esta clase aprendimos los siguientes conceptos:\n",
        "\n",
        "- Stop words\n",
        "- Palabra raiz (Lemma)\n",
        "- Tokenizado\n",
        "- Vectorizado (BOW / TFIDF)\n",
        "\n",
        "Ahora veremos como hacer esto en python.\n",
        "\n",
        "Para NLP introduciremos algunas librerías nuevas, una de ellas es [Spacy](https://spacy.io/).\n",
        "\n",
        "Otras librerías conocidas son:\n",
        "- nltk\n",
        "- gensim\n",
        "\n",
        "Y una librería que es de lo mejor que hay en NLP actualmente: Hugging face.\n",
        "\n",
        "Comenzaremos esta clase con Spacy. Ya viene pre-instalada en google colab por lo que no será necesario instalarla. Si luego trabajan en algún entorno en el que no este instalada, pueden seguir el tutorial de la página oficial.\n",
        "\n",
        "Para usar spacy, debemos descargar un modelo del lenguaje que vayamos a trabajar. En este caso estaremos trabajando con textos en inglés (ya está descargado en colab), pero si en otro momento utilizan otro idioma, deben descargarlo desde https://spacy.io/models.\n",
        "\n",
        "Ahora, importemos spacy y carguemos el modelo en inglés que utilizaremos en este notebook:\n",
        "\n",
        "\n"
      ]
    },
    {
      "cell_type": "code",
      "execution_count": 1,
      "metadata": {},
      "outputs": [],
      "source": [
        "# %pip install -U pip setuptools wheel"
      ]
    },
    {
      "cell_type": "code",
      "execution_count": 2,
      "metadata": {},
      "outputs": [],
      "source": [
        "# %pip install -U spacy"
      ]
    },
    {
      "cell_type": "code",
      "execution_count": 3,
      "metadata": {},
      "outputs": [],
      "source": [
        "# !python -m spacy download en_core_web_sm"
      ]
    },
    {
      "cell_type": "code",
      "execution_count": null,
      "metadata": {},
      "outputs": [],
      "source": [
        "# !python -m spacy download es_core_news_sm"
      ]
    },
    {
      "cell_type": "code",
      "execution_count": 5,
      "metadata": {
        "id": "3dSjRDc4LcBi"
      },
      "outputs": [],
      "source": [
        "import spacy\n",
        "nlp = spacy.load(\"en_core_web_sm\")"
      ]
    },
    {
      "cell_type": "markdown",
      "metadata": {
        "id": "0p3s7NhuSlLY"
      },
      "source": [
        "### Carga de datos\n",
        "\n",
        "El siguiente comando descargará un dataset de reviews de películas (en inglés) en su entorno de colab.\n",
        "\n",
        "Luego de correr la siguiente celda, deberían ver en su entorno el directorio \"acllmdb\" que dentro contiene los datos.\n",
        "\n"
      ]
    },
    {
      "cell_type": "code",
      "execution_count": 6,
      "metadata": {
        "colab": {
          "base_uri": "https://localhost:8080/"
        },
        "id": "xu_QI_F7LvoD",
        "outputId": "6f26ac4e-abe1-41b5-f3de-3eabb09a924a"
      },
      "outputs": [],
      "source": [
        "#!wget https://ai.stanford.edu/~amaas/data/sentiment/aclImdb_v1.tar.gz\n",
        "#!tar xvzf /content/aclImdb_v1.tar.gz"
      ]
    },
    {
      "cell_type": "markdown",
      "metadata": {
        "id": "wMSKeyLCbdvl"
      },
      "source": [
        "Si navegan el directorio que tiene los datos, veran que hay un directorio train y otro test.\n",
        "\n",
        "A su vez, dentro de cada uno de ellos podrán ver los directorios neg y pos. Ahi se encuentran los datos que utilizaremos hoy. \n",
        "\n",
        "En neg se encuentran reviews negativas, en pos review positivas.\n",
        "\n",
        "La siguiente celda, lista los nombres de los archivos que hay en /content/aclImdb/test/pos.\n",
        "\n",
        "Ven algo raro?\n"
      ]
    },
    {
      "cell_type": "code",
      "execution_count": 7,
      "metadata": {
        "colab": {
          "base_uri": "https://localhost:8080/"
        },
        "id": "3d6I02VocSOY",
        "outputId": "783952d6-dc72-45a1-d62b-d18f3d506180"
      },
      "outputs": [],
      "source": [
        "# %ls aclImdb_v1\\test"
      ]
    },
    {
      "cell_type": "markdown",
      "metadata": {
        "id": "SK4HDzYRcdkB"
      },
      "source": [
        "Podemos ver que cada review está en un archivo .txt distinto. ¿Cómo podemos leer este tipo de archivos en pandas? Hasta ahora veníamos levantando únicamente CSVs.\n",
        "\n",
        "En python, se pueden abrir achivos con el comando:\n",
        "\n",
        "\n",
        "\n",
        "```\n",
        "with open(\"ruta_al_archivo\", modo_de_lectura) as f:\n",
        "  # Acá ya tenemos acceso al archivo con el nombre f\n",
        "```\n",
        "\n",
        "donde modo_de_lectura puede ser:\n",
        "\n",
        "- r: read\n",
        "- w: write\n",
        "- a: append\n",
        "\n",
        "Más detalles: https://www.w3schools.com/python/ref_func_open.asp\n",
        "\n",
        "Además, si importamos el paquete \n",
        "\n",
        "```\n",
        "import os\n",
        "```\n",
        "\n",
        "podremos utilizar una función para listar el nomrbe de todos los archivos que se encuentran en un directorio:\n",
        "\n",
        "```\n",
        "os.listdir(\"directorio\")\n",
        "```\n",
        "\n",
        "Entonces, lo que vamos a hacer es abrir el directorio donde se encuentran los archivos y leerlos uno por uno. A todo esto lo guardaremos luego en un dataframe de pandas.\n",
        "\n",
        "Ejemplo de listado de reviews negativas con os.listdir:"
      ]
    },
    {
      "cell_type": "code",
      "execution_count": 8,
      "metadata": {
        "colab": {
          "base_uri": "https://localhost:8080/"
        },
        "id": "b4ltAV5Od5zM",
        "outputId": "e3bd575a-6c38-4b5c-ffc3-bceae6a9c549"
      },
      "outputs": [
        {
          "data": {
            "text/plain": [
              "['0_3.txt',\n",
              " '10000_4.txt',\n",
              " '10001_4.txt',\n",
              " '10002_1.txt',\n",
              " '10003_1.txt',\n",
              " '10004_3.txt',\n",
              " '10005_3.txt',\n",
              " '10006_4.txt',\n",
              " '10007_1.txt',\n",
              " '10008_2.txt',\n",
              " '10009_1.txt',\n",
              " '1000_4.txt',\n",
              " '10010_3.txt',\n",
              " '10011_3.txt',\n",
              " '10012_1.txt',\n",
              " '10013_1.txt',\n",
              " '10014_2.txt',\n",
              " '10015_2.txt',\n",
              " '10016_4.txt',\n",
              " '10017_4.txt',\n",
              " '10018_3.txt',\n",
              " '10019_3.txt',\n",
              " '1001_4.txt',\n",
              " '10020_3.txt',\n",
              " '10021_2.txt',\n",
              " '10022_4.txt',\n",
              " '10023_1.txt',\n",
              " '10024_3.txt',\n",
              " '10025_1.txt',\n",
              " '10026_2.txt',\n",
              " '10027_1.txt',\n",
              " '10028_2.txt',\n",
              " '10029_1.txt',\n",
              " '1002_3.txt',\n",
              " '10030_1.txt',\n",
              " '10031_2.txt',\n",
              " '10032_4.txt',\n",
              " '10033_1.txt',\n",
              " '10034_1.txt',\n",
              " '10035_1.txt',\n",
              " '10036_1.txt',\n",
              " '10037_1.txt',\n",
              " '10038_3.txt',\n",
              " '10039_1.txt',\n",
              " '1003_3.txt',\n",
              " '10040_2.txt',\n",
              " '10041_1.txt',\n",
              " '10042_1.txt',\n",
              " '10043_1.txt',\n",
              " '10044_1.txt',\n",
              " '10045_1.txt',\n",
              " '10046_1.txt',\n",
              " '10047_1.txt',\n",
              " '10048_4.txt',\n",
              " '10049_1.txt',\n",
              " '1004_4.txt',\n",
              " '10050_2.txt',\n",
              " '10051_4.txt',\n",
              " '10052_4.txt',\n",
              " '10053_4.txt',\n",
              " '10054_1.txt',\n",
              " '10055_3.txt',\n",
              " '10056_2.txt',\n",
              " '10057_1.txt',\n",
              " '10058_1.txt',\n",
              " '10059_4.txt',\n",
              " '1005_3.txt',\n",
              " '10060_1.txt',\n",
              " '10061_4.txt',\n",
              " '10062_1.txt',\n",
              " '10063_1.txt',\n",
              " '10064_3.txt',\n",
              " '10065_2.txt',\n",
              " '10066_4.txt',\n",
              " '10067_3.txt',\n",
              " '10068_4.txt',\n",
              " '10069_1.txt',\n",
              " '1006_1.txt',\n",
              " '10070_3.txt',\n",
              " '10071_1.txt',\n",
              " '10072_1.txt',\n",
              " '10073_4.txt',\n",
              " '10074_2.txt',\n",
              " '10075_2.txt',\n",
              " '10076_4.txt',\n",
              " '10077_2.txt',\n",
              " '10078_1.txt',\n",
              " '10079_1.txt',\n",
              " '1007_1.txt',\n",
              " '10080_2.txt',\n",
              " '10081_1.txt',\n",
              " '10082_4.txt',\n",
              " '10083_1.txt',\n",
              " '10084_4.txt',\n",
              " '10085_3.txt',\n",
              " '10086_2.txt',\n",
              " '10087_4.txt',\n",
              " '10088_1.txt',\n",
              " '10089_1.txt',\n",
              " '1008_1.txt',\n",
              " '10090_1.txt',\n",
              " '10091_1.txt',\n",
              " '10092_1.txt',\n",
              " '10093_1.txt',\n",
              " '10094_1.txt',\n",
              " '10095_1.txt',\n",
              " '10096_1.txt',\n",
              " '10097_1.txt',\n",
              " '10098_1.txt',\n",
              " '10099_1.txt',\n",
              " '1009_4.txt',\n",
              " '100_3.txt',\n",
              " '10100_1.txt',\n",
              " '10101_1.txt',\n",
              " '10102_1.txt',\n",
              " '10103_1.txt',\n",
              " '10104_1.txt',\n",
              " '10105_1.txt',\n",
              " '10106_1.txt',\n",
              " '10107_1.txt',\n",
              " '10108_1.txt',\n",
              " '10109_1.txt',\n",
              " '1010_4.txt',\n",
              " '10110_1.txt',\n",
              " '10111_1.txt',\n",
              " '10112_1.txt',\n",
              " '10113_1.txt',\n",
              " '10114_1.txt',\n",
              " '10115_1.txt',\n",
              " '10116_1.txt',\n",
              " '10117_1.txt',\n",
              " '10118_4.txt',\n",
              " '10119_2.txt',\n",
              " '1011_2.txt',\n",
              " '10120_4.txt',\n",
              " '10121_3.txt',\n",
              " '10122_4.txt',\n",
              " '10123_3.txt',\n",
              " '10124_1.txt',\n",
              " '10125_1.txt',\n",
              " '10126_2.txt',\n",
              " '10127_1.txt',\n",
              " '10128_1.txt',\n",
              " '10129_1.txt',\n",
              " '1012_2.txt',\n",
              " '10130_2.txt',\n",
              " '10131_1.txt',\n",
              " '10132_2.txt',\n",
              " '10133_1.txt',\n",
              " '10134_1.txt',\n",
              " '10135_2.txt',\n",
              " '10136_2.txt',\n",
              " '10137_1.txt',\n",
              " '10138_3.txt',\n",
              " '10139_4.txt',\n",
              " '1013_2.txt',\n",
              " '10140_3.txt',\n",
              " '10141_2.txt',\n",
              " '10142_2.txt',\n",
              " '10143_1.txt',\n",
              " '10144_2.txt',\n",
              " '10145_1.txt',\n",
              " '10146_1.txt',\n",
              " '10147_1.txt',\n",
              " '10148_3.txt',\n",
              " '10149_1.txt',\n",
              " '1014_2.txt',\n",
              " '10150_3.txt',\n",
              " '10151_1.txt',\n",
              " '10152_1.txt',\n",
              " '10153_4.txt',\n",
              " '10154_1.txt',\n",
              " '10155_4.txt',\n",
              " '10156_1.txt',\n",
              " '10157_4.txt',\n",
              " '10158_4.txt',\n",
              " '10159_3.txt',\n",
              " '1015_2.txt',\n",
              " '10160_4.txt',\n",
              " '10161_2.txt',\n",
              " '10162_3.txt',\n",
              " '10163_4.txt',\n",
              " '10164_4.txt',\n",
              " '10165_3.txt',\n",
              " '10166_2.txt',\n",
              " '10167_1.txt',\n",
              " '10168_2.txt',\n",
              " '10169_2.txt',\n",
              " '1016_4.txt',\n",
              " '10170_2.txt',\n",
              " '10171_3.txt',\n",
              " '10172_1.txt',\n",
              " '10173_1.txt',\n",
              " '10174_4.txt',\n",
              " '10175_3.txt',\n",
              " '10176_1.txt',\n",
              " '10177_1.txt',\n",
              " '10178_3.txt',\n",
              " '10179_1.txt',\n",
              " '1017_1.txt',\n",
              " '10180_1.txt',\n",
              " '10181_3.txt',\n",
              " '10182_3.txt',\n",
              " '10183_1.txt',\n",
              " '10184_1.txt',\n",
              " '10185_4.txt',\n",
              " '10186_1.txt',\n",
              " '10187_3.txt',\n",
              " '10188_2.txt',\n",
              " '10189_4.txt',\n",
              " '1018_3.txt',\n",
              " '10190_1.txt',\n",
              " '10191_3.txt',\n",
              " '10192_2.txt',\n",
              " '10193_1.txt',\n",
              " '10194_3.txt',\n",
              " '10195_1.txt',\n",
              " '10196_1.txt',\n",
              " '10197_1.txt',\n",
              " '10198_4.txt',\n",
              " '10199_4.txt',\n",
              " '1019_1.txt',\n",
              " '101_1.txt',\n",
              " '10200_4.txt',\n",
              " '10201_3.txt',\n",
              " '10202_3.txt',\n",
              " '10203_2.txt',\n",
              " '10204_2.txt',\n",
              " '10205_2.txt',\n",
              " '10206_3.txt',\n",
              " '10207_2.txt',\n",
              " '10208_3.txt',\n",
              " '10209_3.txt',\n",
              " '1020_2.txt',\n",
              " '10210_3.txt',\n",
              " '10211_2.txt',\n",
              " '10212_1.txt',\n",
              " '10213_1.txt',\n",
              " '10214_4.txt',\n",
              " '10215_2.txt',\n",
              " '10216_3.txt',\n",
              " '10217_1.txt',\n",
              " '10218_3.txt',\n",
              " '10219_2.txt',\n",
              " '1021_1.txt',\n",
              " '10220_3.txt',\n",
              " '10221_3.txt',\n",
              " '10222_4.txt',\n",
              " '10223_4.txt',\n",
              " '10224_4.txt',\n",
              " '10225_3.txt',\n",
              " '10226_3.txt',\n",
              " '10227_1.txt',\n",
              " '10228_3.txt',\n",
              " '10229_3.txt',\n",
              " '1022_1.txt',\n",
              " '10230_1.txt',\n",
              " '10231_1.txt',\n",
              " '10232_1.txt',\n",
              " '10233_1.txt',\n",
              " '10234_1.txt',\n",
              " '10235_2.txt',\n",
              " '10236_1.txt',\n",
              " '10237_2.txt',\n",
              " '10238_4.txt',\n",
              " '10239_3.txt',\n",
              " '1023_3.txt',\n",
              " '10240_1.txt',\n",
              " '10241_1.txt',\n",
              " '10242_3.txt',\n",
              " '10243_1.txt',\n",
              " '10244_2.txt',\n",
              " '10245_3.txt',\n",
              " '10246_2.txt',\n",
              " '10247_2.txt',\n",
              " '10248_1.txt',\n",
              " '10249_1.txt',\n",
              " '1024_1.txt',\n",
              " '10250_3.txt',\n",
              " '10251_3.txt',\n",
              " '10252_3.txt',\n",
              " '10253_1.txt',\n",
              " '10254_1.txt',\n",
              " '10255_1.txt',\n",
              " '10256_3.txt',\n",
              " '10257_1.txt',\n",
              " '10258_4.txt',\n",
              " '10259_1.txt',\n",
              " '1025_2.txt',\n",
              " '10260_1.txt',\n",
              " '10261_1.txt',\n",
              " '10262_1.txt',\n",
              " '10263_4.txt',\n",
              " '10264_4.txt',\n",
              " '10265_2.txt',\n",
              " '10266_1.txt',\n",
              " '10267_1.txt',\n",
              " '10268_1.txt',\n",
              " '10269_1.txt',\n",
              " '1026_3.txt',\n",
              " '10270_1.txt',\n",
              " '10271_1.txt',\n",
              " '10272_1.txt',\n",
              " '10273_2.txt',\n",
              " '10274_4.txt',\n",
              " '10275_3.txt',\n",
              " '10276_1.txt',\n",
              " '10277_1.txt',\n",
              " '10278_1.txt',\n",
              " '10279_3.txt',\n",
              " '1027_1.txt',\n",
              " '10280_3.txt',\n",
              " '10281_1.txt',\n",
              " '10282_2.txt',\n",
              " '10283_1.txt',\n",
              " '10284_3.txt',\n",
              " '10285_3.txt',\n",
              " '10286_1.txt',\n",
              " '10287_4.txt',\n",
              " '10288_1.txt',\n",
              " '10289_1.txt',\n",
              " '1028_3.txt',\n",
              " '10290_1.txt',\n",
              " '10291_4.txt',\n",
              " '10292_3.txt',\n",
              " '10293_4.txt',\n",
              " '10294_1.txt',\n",
              " '10295_1.txt',\n",
              " '10296_1.txt',\n",
              " '10297_3.txt',\n",
              " '10298_4.txt',\n",
              " '10299_4.txt',\n",
              " '1029_3.txt',\n",
              " '102_1.txt',\n",
              " '10300_3.txt',\n",
              " '10301_4.txt',\n",
              " '10302_1.txt',\n",
              " '10303_1.txt',\n",
              " '10304_1.txt',\n",
              " '10305_4.txt',\n",
              " '10306_4.txt',\n",
              " '10307_2.txt',\n",
              " '10308_1.txt',\n",
              " '10309_3.txt',\n",
              " '1030_2.txt',\n",
              " '10310_2.txt',\n",
              " '10311_3.txt',\n",
              " '10312_4.txt',\n",
              " '10313_4.txt',\n",
              " '10314_4.txt',\n",
              " '10315_2.txt',\n",
              " '10316_3.txt',\n",
              " '10317_1.txt',\n",
              " '10318_2.txt',\n",
              " '10319_1.txt',\n",
              " '1031_2.txt',\n",
              " '10320_2.txt',\n",
              " '10321_2.txt',\n",
              " '10322_2.txt',\n",
              " '10323_1.txt',\n",
              " '10324_2.txt',\n",
              " '10325_1.txt',\n",
              " '10326_1.txt',\n",
              " '10327_1.txt',\n",
              " '10328_4.txt',\n",
              " '10329_1.txt',\n",
              " '1032_1.txt',\n",
              " '10330_1.txt',\n",
              " '10331_2.txt',\n",
              " '10332_1.txt',\n",
              " '10333_1.txt',\n",
              " '10334_3.txt',\n",
              " '10335_3.txt',\n",
              " '10336_4.txt',\n",
              " '10337_3.txt',\n",
              " '10338_2.txt',\n",
              " '10339_2.txt',\n",
              " '1033_4.txt',\n",
              " '10340_1.txt',\n",
              " '10341_1.txt',\n",
              " '10342_2.txt',\n",
              " '10343_3.txt',\n",
              " '10344_4.txt',\n",
              " '10345_4.txt',\n",
              " '10346_4.txt',\n",
              " '10347_4.txt',\n",
              " '10348_1.txt',\n",
              " '10349_4.txt',\n",
              " '1034_2.txt',\n",
              " '10350_1.txt',\n",
              " '10351_1.txt',\n",
              " '10352_4.txt',\n",
              " '10353_3.txt',\n",
              " '10354_4.txt',\n",
              " '10355_1.txt',\n",
              " '10356_2.txt',\n",
              " '10357_1.txt',\n",
              " '10358_1.txt',\n",
              " '10359_1.txt',\n",
              " '1035_1.txt',\n",
              " '10360_3.txt',\n",
              " '10361_1.txt',\n",
              " '10362_1.txt',\n",
              " '10363_2.txt',\n",
              " '10364_4.txt',\n",
              " '10365_1.txt',\n",
              " '10366_1.txt',\n",
              " '10367_4.txt',\n",
              " '10368_1.txt',\n",
              " '10369_1.txt',\n",
              " '1036_3.txt',\n",
              " '10370_4.txt',\n",
              " '10371_3.txt',\n",
              " '10372_3.txt',\n",
              " '10373_3.txt',\n",
              " '10374_1.txt',\n",
              " '10375_1.txt',\n",
              " '10376_1.txt',\n",
              " '10377_1.txt',\n",
              " '10378_2.txt',\n",
              " '10379_2.txt',\n",
              " '1037_1.txt',\n",
              " '10380_4.txt',\n",
              " '10381_4.txt',\n",
              " '10382_4.txt',\n",
              " '10383_2.txt',\n",
              " '10384_4.txt',\n",
              " '10385_3.txt',\n",
              " '10386_4.txt',\n",
              " '10387_1.txt',\n",
              " '10388_4.txt',\n",
              " '10389_4.txt',\n",
              " '1038_2.txt',\n",
              " '10390_2.txt',\n",
              " '10391_3.txt',\n",
              " '10392_3.txt',\n",
              " '10393_4.txt',\n",
              " '10394_3.txt',\n",
              " '10395_2.txt',\n",
              " '10396_1.txt',\n",
              " '10397_2.txt',\n",
              " '10398_3.txt',\n",
              " '10399_4.txt',\n",
              " '1039_1.txt',\n",
              " '103_1.txt',\n",
              " '10400_1.txt',\n",
              " '10401_2.txt',\n",
              " '10402_1.txt',\n",
              " '10403_2.txt',\n",
              " '10404_4.txt',\n",
              " '10405_4.txt',\n",
              " '10406_3.txt',\n",
              " '10407_4.txt',\n",
              " '10408_1.txt',\n",
              " '10409_2.txt',\n",
              " '1040_1.txt',\n",
              " '10410_1.txt',\n",
              " '10411_2.txt',\n",
              " '10412_1.txt',\n",
              " '10413_1.txt',\n",
              " '10414_3.txt',\n",
              " '10415_2.txt',\n",
              " '10416_2.txt',\n",
              " '10417_1.txt',\n",
              " '10418_1.txt',\n",
              " '10419_1.txt',\n",
              " '1041_1.txt',\n",
              " '10420_2.txt',\n",
              " '10421_2.txt',\n",
              " '10422_1.txt',\n",
              " '10423_1.txt',\n",
              " '10424_2.txt',\n",
              " '10425_3.txt',\n",
              " '10426_1.txt',\n",
              " '10427_4.txt',\n",
              " '10428_4.txt',\n",
              " '10429_1.txt',\n",
              " '1042_1.txt',\n",
              " '10430_3.txt',\n",
              " '10431_1.txt',\n",
              " '10432_2.txt',\n",
              " '10433_4.txt',\n",
              " '10434_3.txt',\n",
              " '10435_2.txt',\n",
              " '10436_4.txt',\n",
              " '10437_4.txt',\n",
              " '10438_4.txt',\n",
              " '10439_1.txt',\n",
              " '1043_3.txt',\n",
              " '10440_1.txt',\n",
              " '10441_1.txt',\n",
              " '10442_2.txt',\n",
              " '10443_3.txt',\n",
              " '10444_1.txt',\n",
              " '10445_1.txt',\n",
              " '10446_2.txt',\n",
              " '10447_1.txt',\n",
              " '10448_1.txt',\n",
              " '10449_4.txt',\n",
              " '1044_4.txt',\n",
              " '10450_1.txt',\n",
              " '10451_1.txt',\n",
              " '10452_1.txt',\n",
              " '10453_1.txt',\n",
              " '10454_1.txt',\n",
              " '10455_1.txt',\n",
              " '10456_1.txt',\n",
              " '10457_3.txt',\n",
              " '10458_2.txt',\n",
              " '10459_2.txt',\n",
              " '1045_2.txt',\n",
              " '10460_3.txt',\n",
              " '10461_1.txt',\n",
              " '10462_4.txt',\n",
              " '10463_1.txt',\n",
              " '10464_1.txt',\n",
              " '10465_2.txt',\n",
              " '10466_2.txt',\n",
              " '10467_1.txt',\n",
              " '10468_1.txt',\n",
              " '10469_1.txt',\n",
              " '1046_2.txt',\n",
              " '10470_1.txt',\n",
              " '10471_2.txt',\n",
              " '10472_1.txt',\n",
              " '10473_3.txt',\n",
              " '10474_3.txt',\n",
              " '10475_1.txt',\n",
              " '10476_1.txt',\n",
              " '10477_1.txt',\n",
              " '10478_3.txt',\n",
              " '10479_2.txt',\n",
              " '1047_2.txt',\n",
              " '10480_2.txt',\n",
              " '10481_2.txt',\n",
              " '10482_1.txt',\n",
              " '10483_4.txt',\n",
              " '10484_2.txt',\n",
              " '10485_1.txt',\n",
              " '10486_3.txt',\n",
              " '10487_2.txt',\n",
              " '10488_1.txt',\n",
              " '10489_4.txt',\n",
              " '1048_4.txt',\n",
              " '10490_1.txt',\n",
              " '10491_1.txt',\n",
              " '10492_1.txt',\n",
              " '10493_4.txt',\n",
              " '10494_1.txt',\n",
              " '10495_1.txt',\n",
              " '10496_4.txt',\n",
              " '10497_4.txt',\n",
              " '10498_3.txt',\n",
              " '10499_1.txt',\n",
              " '1049_3.txt',\n",
              " '104_3.txt',\n",
              " '10500_4.txt',\n",
              " '10501_4.txt',\n",
              " '10502_4.txt',\n",
              " '10503_1.txt',\n",
              " '10504_1.txt',\n",
              " '10505_2.txt',\n",
              " '10506_1.txt',\n",
              " '10507_1.txt',\n",
              " '10508_1.txt',\n",
              " '10509_3.txt',\n",
              " '1050_4.txt',\n",
              " '10510_1.txt',\n",
              " '10511_1.txt',\n",
              " '10512_1.txt',\n",
              " '10513_3.txt',\n",
              " '10514_3.txt',\n",
              " '10515_1.txt',\n",
              " '10516_4.txt',\n",
              " '10517_1.txt',\n",
              " '10518_1.txt',\n",
              " '10519_1.txt',\n",
              " '1051_4.txt',\n",
              " '10520_2.txt',\n",
              " '10521_1.txt',\n",
              " '10522_4.txt',\n",
              " '10523_2.txt',\n",
              " '10524_4.txt',\n",
              " '10525_4.txt',\n",
              " '10526_3.txt',\n",
              " '10527_4.txt',\n",
              " '10528_3.txt',\n",
              " '10529_4.txt',\n",
              " '1052_1.txt',\n",
              " '10530_4.txt',\n",
              " '10531_3.txt',\n",
              " '10532_4.txt',\n",
              " '10533_4.txt',\n",
              " '10534_1.txt',\n",
              " '10535_2.txt',\n",
              " '10536_4.txt',\n",
              " '10537_1.txt',\n",
              " '10538_3.txt',\n",
              " '10539_4.txt',\n",
              " '1053_4.txt',\n",
              " '10540_4.txt',\n",
              " '10541_4.txt',\n",
              " '10542_3.txt',\n",
              " '10543_3.txt',\n",
              " '10544_4.txt',\n",
              " '10545_1.txt',\n",
              " '10546_1.txt',\n",
              " '10547_1.txt',\n",
              " '10548_3.txt',\n",
              " '10549_2.txt',\n",
              " '1054_3.txt',\n",
              " '10550_4.txt',\n",
              " '10551_1.txt',\n",
              " '10552_1.txt',\n",
              " '10553_1.txt',\n",
              " '10554_1.txt',\n",
              " '10555_1.txt',\n",
              " '10556_1.txt',\n",
              " '10557_3.txt',\n",
              " '10558_4.txt',\n",
              " '10559_3.txt',\n",
              " '1055_2.txt',\n",
              " '10560_3.txt',\n",
              " '10561_1.txt',\n",
              " '10562_2.txt',\n",
              " '10563_1.txt',\n",
              " '10564_4.txt',\n",
              " '10565_3.txt',\n",
              " '10566_3.txt',\n",
              " '10567_2.txt',\n",
              " '10568_1.txt',\n",
              " '10569_1.txt',\n",
              " '1056_3.txt',\n",
              " '10570_1.txt',\n",
              " '10571_1.txt',\n",
              " '10572_1.txt',\n",
              " '10573_3.txt',\n",
              " '10574_1.txt',\n",
              " '10575_3.txt',\n",
              " '10576_4.txt',\n",
              " '10577_2.txt',\n",
              " '10578_1.txt',\n",
              " '10579_2.txt',\n",
              " '1057_3.txt',\n",
              " '10580_4.txt',\n",
              " '10581_1.txt',\n",
              " '10582_3.txt',\n",
              " '10583_3.txt',\n",
              " '10584_1.txt',\n",
              " '10585_2.txt',\n",
              " '10586_1.txt',\n",
              " '10587_1.txt',\n",
              " '10588_1.txt',\n",
              " '10589_1.txt',\n",
              " '1058_1.txt',\n",
              " '10590_4.txt',\n",
              " '10591_3.txt',\n",
              " '10592_1.txt',\n",
              " '10593_4.txt',\n",
              " '10594_1.txt',\n",
              " '10595_4.txt',\n",
              " '10596_1.txt',\n",
              " '10597_2.txt',\n",
              " '10598_1.txt',\n",
              " '10599_2.txt',\n",
              " '1059_2.txt',\n",
              " '105_2.txt',\n",
              " '10600_2.txt',\n",
              " '10601_3.txt',\n",
              " '10602_4.txt',\n",
              " '10603_1.txt',\n",
              " '10604_2.txt',\n",
              " '10605_1.txt',\n",
              " '10606_2.txt',\n",
              " '10607_2.txt',\n",
              " '10608_2.txt',\n",
              " '10609_3.txt',\n",
              " '1060_4.txt',\n",
              " '10610_1.txt',\n",
              " '10611_1.txt',\n",
              " '10612_3.txt',\n",
              " '10613_3.txt',\n",
              " '10614_1.txt',\n",
              " '10615_2.txt',\n",
              " '10616_2.txt',\n",
              " '10617_1.txt',\n",
              " '10618_1.txt',\n",
              " '10619_1.txt',\n",
              " '1061_4.txt',\n",
              " '10620_4.txt',\n",
              " '10621_3.txt',\n",
              " '10622_3.txt',\n",
              " '10623_3.txt',\n",
              " '10624_1.txt',\n",
              " '10625_2.txt',\n",
              " '10626_1.txt',\n",
              " '10627_1.txt',\n",
              " '10628_1.txt',\n",
              " '10629_2.txt',\n",
              " '1062_4.txt',\n",
              " '10630_1.txt',\n",
              " '10631_1.txt',\n",
              " '10632_1.txt',\n",
              " '10633_1.txt',\n",
              " '10634_1.txt',\n",
              " '10635_1.txt',\n",
              " '10636_4.txt',\n",
              " '10637_2.txt',\n",
              " '10638_2.txt',\n",
              " '10639_1.txt',\n",
              " '1063_3.txt',\n",
              " '10640_3.txt',\n",
              " '10641_2.txt',\n",
              " '10642_2.txt',\n",
              " '10643_1.txt',\n",
              " '10644_3.txt',\n",
              " '10645_4.txt',\n",
              " '10646_4.txt',\n",
              " '10647_2.txt',\n",
              " '10648_4.txt',\n",
              " '10649_4.txt',\n",
              " '1064_2.txt',\n",
              " '10650_1.txt',\n",
              " '10651_1.txt',\n",
              " '10652_2.txt',\n",
              " '10653_4.txt',\n",
              " '10654_1.txt',\n",
              " '10655_3.txt',\n",
              " '10656_4.txt',\n",
              " '10657_3.txt',\n",
              " '10658_4.txt',\n",
              " '10659_2.txt',\n",
              " '1065_1.txt',\n",
              " '10660_1.txt',\n",
              " '10661_3.txt',\n",
              " '10662_1.txt',\n",
              " '10663_4.txt',\n",
              " '10664_3.txt',\n",
              " '10665_2.txt',\n",
              " '10666_4.txt',\n",
              " '10667_3.txt',\n",
              " '10668_3.txt',\n",
              " '10669_2.txt',\n",
              " '1066_2.txt',\n",
              " '10670_3.txt',\n",
              " '10671_1.txt',\n",
              " '10672_1.txt',\n",
              " '10673_2.txt',\n",
              " '10674_1.txt',\n",
              " '10675_2.txt',\n",
              " '10676_3.txt',\n",
              " '10677_3.txt',\n",
              " '10678_4.txt',\n",
              " '10679_3.txt',\n",
              " '1067_3.txt',\n",
              " '10680_1.txt',\n",
              " '10681_1.txt',\n",
              " '10682_1.txt',\n",
              " '10683_1.txt',\n",
              " '10684_3.txt',\n",
              " '10685_3.txt',\n",
              " '10686_2.txt',\n",
              " '10687_1.txt',\n",
              " '10688_1.txt',\n",
              " '10689_4.txt',\n",
              " '1068_1.txt',\n",
              " '10690_2.txt',\n",
              " '10691_3.txt',\n",
              " '10692_4.txt',\n",
              " '10693_4.txt',\n",
              " '10694_1.txt',\n",
              " '10695_1.txt',\n",
              " '10696_3.txt',\n",
              " '10697_4.txt',\n",
              " '10698_4.txt',\n",
              " '10699_4.txt',\n",
              " '1069_3.txt',\n",
              " '106_2.txt',\n",
              " '10700_3.txt',\n",
              " '10701_4.txt',\n",
              " '10702_1.txt',\n",
              " '10703_3.txt',\n",
              " '10704_4.txt',\n",
              " '10705_4.txt',\n",
              " '10706_4.txt',\n",
              " '10707_1.txt',\n",
              " '10708_3.txt',\n",
              " '10709_1.txt',\n",
              " '1070_1.txt',\n",
              " '10710_1.txt',\n",
              " '10711_4.txt',\n",
              " '10712_1.txt',\n",
              " '10713_1.txt',\n",
              " '10714_2.txt',\n",
              " '10715_4.txt',\n",
              " '10716_3.txt',\n",
              " '10717_4.txt',\n",
              " '10718_4.txt',\n",
              " '10719_2.txt',\n",
              " '1071_4.txt',\n",
              " '10720_2.txt',\n",
              " '10721_3.txt',\n",
              " '10722_4.txt',\n",
              " '10723_4.txt',\n",
              " '10724_2.txt',\n",
              " '10725_1.txt',\n",
              " '10726_1.txt',\n",
              " '10727_4.txt',\n",
              " '10728_3.txt',\n",
              " '10729_1.txt',\n",
              " '1072_4.txt',\n",
              " '10730_1.txt',\n",
              " '10731_1.txt',\n",
              " '10732_3.txt',\n",
              " '10733_4.txt',\n",
              " '10734_4.txt',\n",
              " '10735_4.txt',\n",
              " '10736_1.txt',\n",
              " '10737_3.txt',\n",
              " '10738_4.txt',\n",
              " '10739_4.txt',\n",
              " '1073_2.txt',\n",
              " '10740_4.txt',\n",
              " '10741_4.txt',\n",
              " '10742_1.txt',\n",
              " '10743_2.txt',\n",
              " '10744_3.txt',\n",
              " '10745_3.txt',\n",
              " '10746_4.txt',\n",
              " '10747_4.txt',\n",
              " '10748_4.txt',\n",
              " '10749_1.txt',\n",
              " '1074_4.txt',\n",
              " '10750_3.txt',\n",
              " '10751_1.txt',\n",
              " '10752_1.txt',\n",
              " '10753_2.txt',\n",
              " '10754_4.txt',\n",
              " '10755_1.txt',\n",
              " '10756_2.txt',\n",
              " '10757_4.txt',\n",
              " '10758_1.txt',\n",
              " '10759_4.txt',\n",
              " '1075_1.txt',\n",
              " '10760_1.txt',\n",
              " '10761_4.txt',\n",
              " '10762_2.txt',\n",
              " '10763_3.txt',\n",
              " '10764_3.txt',\n",
              " '10765_1.txt',\n",
              " '10766_4.txt',\n",
              " '10767_1.txt',\n",
              " '10768_1.txt',\n",
              " '10769_2.txt',\n",
              " '1076_1.txt',\n",
              " '10770_1.txt',\n",
              " '10771_2.txt',\n",
              " '10772_1.txt',\n",
              " '10773_1.txt',\n",
              " '10774_2.txt',\n",
              " '10775_3.txt',\n",
              " '10776_4.txt',\n",
              " '10777_2.txt',\n",
              " '10778_3.txt',\n",
              " '10779_4.txt',\n",
              " '1077_3.txt',\n",
              " '10780_4.txt',\n",
              " '10781_2.txt',\n",
              " '10782_1.txt',\n",
              " '10783_2.txt',\n",
              " '10784_1.txt',\n",
              " '10785_1.txt',\n",
              " '10786_3.txt',\n",
              " '10787_1.txt',\n",
              " '10788_2.txt',\n",
              " '10789_3.txt',\n",
              " '1078_4.txt',\n",
              " '10790_3.txt',\n",
              " '10791_2.txt',\n",
              " '10792_1.txt',\n",
              " '10793_4.txt',\n",
              " '10794_1.txt',\n",
              " '10795_1.txt',\n",
              " '10796_1.txt',\n",
              " '10797_2.txt',\n",
              " '10798_1.txt',\n",
              " '10799_1.txt',\n",
              " '1079_3.txt',\n",
              " '107_2.txt',\n",
              " '10800_1.txt',\n",
              " '10801_1.txt',\n",
              " '10802_1.txt',\n",
              " '10803_3.txt',\n",
              " '10804_1.txt',\n",
              " '10805_2.txt',\n",
              " '10806_1.txt',\n",
              " '10807_1.txt',\n",
              " '10808_1.txt',\n",
              " '10809_1.txt',\n",
              " '1080_2.txt',\n",
              " '10810_1.txt',\n",
              " '10811_1.txt',\n",
              " '10812_1.txt',\n",
              " '10813_4.txt',\n",
              " '10814_2.txt',\n",
              " '10815_2.txt',\n",
              " '10816_2.txt',\n",
              " '10817_3.txt',\n",
              " '10818_1.txt',\n",
              " '10819_3.txt',\n",
              " '1081_4.txt',\n",
              " '10820_1.txt',\n",
              " '10821_1.txt',\n",
              " '10822_1.txt',\n",
              " '10823_1.txt',\n",
              " '10824_2.txt',\n",
              " '10825_1.txt',\n",
              " '10826_1.txt',\n",
              " '10827_1.txt',\n",
              " '10828_1.txt',\n",
              " '10829_3.txt',\n",
              " '1082_1.txt',\n",
              " '10830_1.txt',\n",
              " '10831_2.txt',\n",
              " '10832_2.txt',\n",
              " '10833_3.txt',\n",
              " '10834_4.txt',\n",
              " '10835_4.txt',\n",
              " '10836_2.txt',\n",
              " '10837_1.txt',\n",
              " '10838_1.txt',\n",
              " '10839_2.txt',\n",
              " '1083_1.txt',\n",
              " '10840_4.txt',\n",
              " '10841_2.txt',\n",
              " '10842_4.txt',\n",
              " '10843_1.txt',\n",
              " '10844_1.txt',\n",
              " '10845_3.txt',\n",
              " '10846_1.txt',\n",
              " '10847_4.txt',\n",
              " '10848_1.txt',\n",
              " '10849_1.txt',\n",
              " '1084_2.txt',\n",
              " '10850_3.txt',\n",
              " '10851_2.txt',\n",
              " '10852_1.txt',\n",
              " '10853_2.txt',\n",
              " '10854_4.txt',\n",
              " '10855_1.txt',\n",
              " '10856_2.txt',\n",
              " '10857_1.txt',\n",
              " '10858_1.txt',\n",
              " '10859_4.txt',\n",
              " '1085_2.txt',\n",
              " '10860_4.txt',\n",
              " '10861_4.txt',\n",
              " '10862_3.txt',\n",
              " '10863_1.txt',\n",
              " '10864_1.txt',\n",
              " '10865_2.txt',\n",
              " '10866_1.txt',\n",
              " '10867_1.txt',\n",
              " '10868_3.txt',\n",
              " '10869_1.txt',\n",
              " '1086_3.txt',\n",
              " '10870_3.txt',\n",
              " '10871_4.txt',\n",
              " '10872_3.txt',\n",
              " '10873_4.txt',\n",
              " '10874_3.txt',\n",
              " '10875_2.txt',\n",
              " '10876_1.txt',\n",
              " '10877_1.txt',\n",
              " '10878_1.txt',\n",
              " '10879_1.txt',\n",
              " '1087_1.txt',\n",
              " '10880_1.txt',\n",
              " '10881_2.txt',\n",
              " '10882_2.txt',\n",
              " '10883_1.txt',\n",
              " '10884_2.txt',\n",
              " '10885_1.txt',\n",
              " '10886_4.txt',\n",
              " '10887_2.txt',\n",
              " '10888_1.txt',\n",
              " '10889_1.txt',\n",
              " '1088_1.txt',\n",
              " '10890_2.txt',\n",
              " '10891_1.txt',\n",
              " '10892_1.txt',\n",
              " '10893_3.txt',\n",
              " '10894_4.txt',\n",
              " '10895_1.txt',\n",
              " '10896_1.txt',\n",
              " '10897_1.txt',\n",
              " '10898_3.txt',\n",
              " '10899_3.txt',\n",
              " '1089_1.txt',\n",
              " '108_1.txt',\n",
              " ...]"
            ]
          },
          "execution_count": 8,
          "metadata": {},
          "output_type": "execute_result"
        }
      ],
      "source": [
        "import os\n",
        "\n",
        "os.listdir(\"aclImdb_v1/train/neg\")"
      ]
    },
    {
      "cell_type": "markdown",
      "metadata": {
        "id": "6QYdNcKffKME"
      },
      "source": [
        "Ahora, con un bucle for leemos todas las reviews negativas y las guardamos en una lista:"
      ]
    },
    {
      "cell_type": "code",
      "execution_count": 9,
      "metadata": {
        "id": "n4ZCOZSxd-FV"
      },
      "outputs": [],
      "source": [
        "dir_neg_train = \"aclImdb_v1/train/neg/\"\n",
        "neg_reviews = []\n",
        "\n",
        "for f in os.listdir(dir_neg_train):\n",
        "  with open(f\"{dir_neg_train}/{f}\", encoding='utf-8') as neg:\n",
        "    neg_reviews.append(neg.read())"
      ]
    },
    {
      "cell_type": "markdown",
      "metadata": {
        "id": "MFYFOD_OfOUQ"
      },
      "source": [
        "Imprimimos las primeras 3 para corroborar que nuestro código funcione bien:"
      ]
    },
    {
      "cell_type": "code",
      "execution_count": 10,
      "metadata": {
        "colab": {
          "base_uri": "https://localhost:8080/"
        },
        "id": "lN-uU0tGfCWQ",
        "outputId": "25165a62-e4cb-40e5-8517-232ae428df74"
      },
      "outputs": [
        {
          "data": {
            "text/plain": [
              "[\"Story of a man who has unnatural feelings for a pig. Starts out with a opening scene that is a terrific example of absurd comedy. A formal orchestra audience is turned into an insane, violent mob by the crazy chantings of it's singers. Unfortunately it stays absurd the WHOLE time with no general narrative eventually making it just too off putting. Even those from the era should be turned off. The cryptic dialogue would make Shakespeare seem easy to a third grader. On a technical level it's better than you might think with some good cinematography by future great Vilmos Zsigmond. Future stars Sally Kirkland and Frederic Forrest can be seen briefly.\",\n",
              " \"Airport '77 starts as a brand new luxury 747 plane is loaded up with valuable paintings & such belonging to rich businessman Philip Stevens (James Stewart) who is flying them & a bunch of VIP's to his estate in preparation of it being opened to the public as a museum, also on board is Stevens daughter Julie (Kathleen Quinlan) & her son. The luxury jetliner takes off as planned but mid-air the plane is hi-jacked by the co-pilot Chambers (Robert Foxworth) & his two accomplice's Banker (Monte Markham) & Wilson (Michael Pataki) who knock the passengers & crew out with sleeping gas, they plan to steal the valuable cargo & land on a disused plane strip on an isolated island but while making his descent Chambers almost hits an oil rig in the Ocean & loses control of the plane sending it crashing into the sea where it sinks to the bottom right bang in the middle of the Bermuda Triangle. With air in short supply, water leaking in & having flown over 200 miles off course the problems mount for the survivor's as they await help with time fast running out...<br /><br />Also known under the slightly different tile Airport 1977 this second sequel to the smash-hit disaster thriller Airport (1970) was directed by Jerry Jameson & while once again like it's predecessors I can't say Airport '77 is any sort of forgotten classic it is entertaining although not necessarily for the right reasons. Out of the three Airport films I have seen so far I actually liked this one the best, just. It has my favourite plot of the three with a nice mid-air hi-jacking & then the crashing (didn't he see the oil rig?) & sinking of the 747 (maybe the makers were trying to cross the original Airport with another popular disaster flick of the period The Poseidon Adventure (1972)) & submerged is where it stays until the end with a stark dilemma facing those trapped inside, either suffocate when the air runs out or drown as the 747 floods or if any of the doors are opened & it's a decent idea that could have made for a great little disaster flick but bad unsympathetic character's, dull dialogue, lethargic set-pieces & a real lack of danger or suspense or tension means this is a missed opportunity. While the rather sluggish plot keeps one entertained for 108 odd minutes not that much happens after the plane sinks & there's not as much urgency as I thought there should have been. Even when the Navy become involved things don't pick up that much with a few shots of huge ships & helicopters flying about but there's just something lacking here. George Kennedy as the jinxed airline worker Joe Patroni is back but only gets a couple of scenes & barely even says anything preferring to just look worried in the background.<br /><br />The home video & theatrical version of Airport '77 run 108 minutes while the US TV versions add an extra hour of footage including a new opening credits sequence, many more scenes with George Kennedy as Patroni, flashbacks to flesh out character's, longer rescue scenes & the discovery or another couple of dead bodies including the navigator. While I would like to see this extra footage I am not sure I could sit through a near three hour cut of Airport '77. As expected the film has dated badly with horrible fashions & interior design choices, I will say no more other than the toy plane model effects aren't great either. Along with the other two Airport sequels this takes pride of place in the Razzie Award's Hall of Shame although I can think of lots of worse films than this so I reckon that's a little harsh. The action scenes are a little dull unfortunately, the pace is slow & not much excitement or tension is generated which is a shame as I reckon this could have been a pretty good film if made properly.<br /><br />The production values are alright if nothing spectacular. The acting isn't great, two time Oscar winner Jack Lemmon has said since it was a mistake to star in this, one time Oscar winner James Stewart looks old & frail, also one time Oscar winner Lee Grant looks drunk while Sir Christopher Lee is given little to do & there are plenty of other familiar faces to look out for too.<br /><br />Airport '77 is the most disaster orientated of the three Airport films so far & I liked the ideas behind it even if they were a bit silly, the production & bland direction doesn't help though & a film about a sunken plane just shouldn't be this boring or lethargic. Followed by The Concorde ... Airport '79 (1979).\",\n",
              " \"This film lacked something I couldn't put my finger on at first: charisma on the part of the leading actress. This inevitably translated to lack of chemistry when she shared the screen with her leading man. Even the romantic scenes came across as being merely the actors at play. It could very well have been the director who miscalculated what he needed from the actors. I just don't know.<br /><br />But could it have been the screenplay? Just exactly who was the chef in love with? He seemed more enamored of his culinary skills and restaurant, and ultimately of himself and his youthful exploits, than of anybody or anything else. He never convinced me he was in love with the princess.<br /><br />I was disappointed in this movie. But, don't forget it was nominated for an Oscar, so judge for yourself.\"]"
            ]
          },
          "execution_count": 10,
          "metadata": {},
          "output_type": "execute_result"
        }
      ],
      "source": [
        "neg_reviews[:3]"
      ]
    },
    {
      "cell_type": "code",
      "execution_count": 11,
      "metadata": {
        "colab": {
          "base_uri": "https://localhost:8080/"
        },
        "id": "ITRWLtdAfvva",
        "outputId": "d4e8951c-5e01-4c17-fa7e-fce5cd985e31"
      },
      "outputs": [
        {
          "data": {
            "text/plain": [
              "12500"
            ]
          },
          "execution_count": 11,
          "metadata": {},
          "output_type": "execute_result"
        }
      ],
      "source": [
        "len(neg_reviews)"
      ]
    },
    {
      "cell_type": "markdown",
      "metadata": {
        "id": "HcEGxvyKfSgH"
      },
      "source": [
        "Ahora, debemos hacer lo mismo con las negativas de test y luego con las positivas.\n",
        "\n",
        "En nuestro caso, vamos a hacer nuestro propio train/test split, por lo que las a reviews que están en el directorio de test las guardaremos en la misma lista que recién.\n",
        "\n",
        "Agregar a la lista \"neg_reviews\" las reviews negativas de test:"
      ]
    },
    {
      "cell_type": "code",
      "execution_count": 12,
      "metadata": {},
      "outputs": [],
      "source": [
        "dir_neg_test = \"aclImdb_v1/test/neg/\"\n",
        "for f in os.listdir(dir_neg_test):\n",
        "  with open(f\"{dir_neg_test}/{f}\",encoding='utf-8') as neg:\n",
        "    neg_reviews.append(neg.read())"
      ]
    },
    {
      "cell_type": "markdown",
      "metadata": {
        "id": "XrqDiB9Cf1Ip"
      },
      "source": [
        "Imprimir el largo de la nueva lista para corroborar que se hayan agregado todas las reviews (deberían tener 25mil)"
      ]
    },
    {
      "cell_type": "code",
      "execution_count": 13,
      "metadata": {
        "id": "yq2_b94Ofx2U"
      },
      "outputs": [
        {
          "data": {
            "text/plain": [
              "25000"
            ]
          },
          "execution_count": 13,
          "metadata": {},
          "output_type": "execute_result"
        }
      ],
      "source": [
        "#COMPLETAR\n",
        "len(neg_reviews)"
      ]
    },
    {
      "cell_type": "markdown",
      "metadata": {},
      "source": [
        "tqdm permite implementar una ***barra de progreso*** en Jupyter Notebook o Google Colab. La biblioteca tqdm es útil para mostrar el progreso de bucles u operaciones que pueden llevar mucho tiempo y proporciona una indicación visual del avance del proceso."
      ]
    },
    {
      "cell_type": "code",
      "execution_count": 14,
      "metadata": {},
      "outputs": [],
      "source": [
        "# %pip install ipywidgets --upgrade"
      ]
    },
    {
      "cell_type": "markdown",
      "metadata": {
        "id": "KBf3K0obf-CX"
      },
      "source": [
        "Ahora, hacer lo mismo con las pos:"
      ]
    },
    {
      "cell_type": "code",
      "execution_count": 15,
      "metadata": {
        "id": "JUQ6ppWjgBZ7"
      },
      "outputs": [
        {
          "data": {
            "application/vnd.jupyter.widget-view+json": {
              "model_id": "68f8b5770a9941cd8b5508dd0a77b46d",
              "version_major": 2,
              "version_minor": 0
            },
            "text/plain": [
              "  0%|          | 0/12500 [00:00<?, ?it/s]"
            ]
          },
          "metadata": {},
          "output_type": "display_data"
        },
        {
          "data": {
            "application/vnd.jupyter.widget-view+json": {
              "model_id": "7ba4c9946cd847e293abbe99eba9809e",
              "version_major": 2,
              "version_minor": 0
            },
            "text/plain": [
              "  0%|          | 0/12500 [00:00<?, ?it/s]"
            ]
          },
          "metadata": {},
          "output_type": "display_data"
        },
        {
          "name": "stdout",
          "output_type": "stream",
          "text": [
            "['Bromwell High is a cartoon comedy. It ran at the same time as some other programs about school life, such as \"Teachers\". My 35 years in the teaching profession lead me to believe that Bromwell High\\'s satire is much closer to reality than is \"Teachers\". The scramble to survive financially, the insightful students who can see right through their pathetic teachers\\' pomp, the pettiness of the whole situation, all remind me of the schools I knew and their students. When I saw the episode in which a student repeatedly tried to burn down the school, I immediately recalled ......... at .......... High. A classic line: INSPECTOR: I\\'m here to sack one of your teachers. STUDENT: Welcome to Bromwell High. I expect that many adults of my age think that Bromwell High is far fetched. What a pity that it isn\\'t!', 'Homelessness (or Houselessness as George Carlin stated) has been an issue for years but never a plan to help those on the street that were once considered human who did everything from going to school, work, or vote for the matter. Most people think of the homeless as just a lost cause while worrying about things such as racism, the war on Iraq, pressuring kids to succeed, technology, the elections, inflation, or worrying if they\\'ll be next to end up on the streets.<br /><br />But what if you were given a bet to live on the streets for a month without the luxuries you once had from a home, the entertainment sets, a bathroom, pictures on the wall, a computer, and everything you once treasure to see what it\\'s like to be homeless? That is Goddard Bolt\\'s lesson.<br /><br />Mel Brooks (who directs) who stars as Bolt plays a rich man who has everything in the world until deciding to make a bet with a sissy rival (Jeffery Tambor) to see if he can live in the streets for thirty days without the luxuries; if Bolt succeeds, he can do what he wants with a future project of making more buildings. The bet\\'s on where Bolt is thrown on the street with a bracelet on his leg to monitor his every move where he can\\'t step off the sidewalk. He\\'s given the nickname Pepto by a vagrant after it\\'s written on his forehead where Bolt meets other characters including a woman by the name of Molly (Lesley Ann Warren) an ex-dancer who got divorce before losing her home, and her pals Sailor (Howard Morris) and Fumes (Teddy Wilson) who are already used to the streets. They\\'re survivors. Bolt isn\\'t. He\\'s not used to reaching mutual agreements like he once did when being rich where it\\'s fight or flight, kill or be killed.<br /><br />While the love connection between Molly and Bolt wasn\\'t necessary to plot, I found \"Life Stinks\" to be one of Mel Brooks\\' observant films where prior to being a comedy, it shows a tender side compared to his slapstick work such as Blazing Saddles, Young Frankenstein, or Spaceballs for the matter, to show what it\\'s like having something valuable before losing it the next day or on the other hand making a stupid bet like all rich people do when they don\\'t know what to do with their money. Maybe they should give it to the homeless instead of using it like Monopoly money.<br /><br />Or maybe this film will inspire you to help others.', 'Brilliant over-acting by Lesley Ann Warren. Best dramatic hobo lady I have ever seen, and love scenes in clothes warehouse are second to none. The corn on face is a classic, as good as anything in Blazing Saddles. The take on lawyers is also superb. After being accused of being a turncoat, selling out his boss, and being dishonest the lawyer of Pepto Bolt shrugs indifferently \"I\\'m a lawyer\" he says. Three funny words. Jeffrey Tambor, a favorite from the later Larry Sanders show, is fantastic here too as a mad millionaire who wants to crush the ghetto. His character is more malevolent than usual. The hospital scene, and the scene where the homeless invade a demolition site, are all-time classics. Look for the legs scene and the two big diggers fighting (one bleeds). This movie gets better each time I see it (which is quite often).']\n",
            "25000\n"
          ]
        }
      ],
      "source": [
        "#COMPLETAR\n",
        "#COMPLETAR\n",
        "#!pip install tqdm \n",
        "\n",
        "from tqdm.notebook import tqdm\n",
        "\n",
        "dir_pos_train = \"aclImdb_v1/train/pos/\"\n",
        "dir_pos_test = \"aclImdb_v1/test/pos/\"\n",
        "pos_reviews = []\n",
        "\n",
        "for f in tqdm(os.listdir(dir_pos_train)):\n",
        "  with open(f\"{dir_pos_train}/{f}\", encoding= 'utf-8') as pos:\n",
        "    pos_reviews.append(pos.read())\n",
        "\n",
        "for f in tqdm(os.listdir(dir_pos_test)):\n",
        "  with open(f\"{dir_pos_test}/{f}\",encoding= 'utf-8') as pos:\n",
        "    pos_reviews.append(pos.read())\n",
        "\n",
        "print(pos_reviews[:3])\n",
        "print(len(pos_reviews))\n"
      ]
    },
    {
      "cell_type": "markdown",
      "metadata": {
        "id": "M6huetZ7gVcQ"
      },
      "source": [
        "Deberían tener 25mil reviews de cada tipo.\n",
        "\n",
        "Ahora, almacenaremos estos datos en un dataframe de pandas para trabajar de forma más simple."
      ]
    },
    {
      "cell_type": "code",
      "execution_count": 16,
      "metadata": {
        "colab": {
          "base_uri": "https://localhost:8080/",
          "height": 206
        },
        "id": "tqoNArgEgBcq",
        "outputId": "e33e5e48-b9ba-4ea5-c4b4-f6fc307062e1"
      },
      "outputs": [
        {
          "data": {
            "text/html": [
              "<div>\n",
              "<style scoped>\n",
              "    .dataframe tbody tr th:only-of-type {\n",
              "        vertical-align: middle;\n",
              "    }\n",
              "\n",
              "    .dataframe tbody tr th {\n",
              "        vertical-align: top;\n",
              "    }\n",
              "\n",
              "    .dataframe thead th {\n",
              "        text-align: right;\n",
              "    }\n",
              "</style>\n",
              "<table border=\"1\" class=\"dataframe\">\n",
              "  <thead>\n",
              "    <tr style=\"text-align: right;\">\n",
              "      <th></th>\n",
              "      <th>REVIEW</th>\n",
              "      <th>TARGET</th>\n",
              "    </tr>\n",
              "  </thead>\n",
              "  <tbody>\n",
              "    <tr>\n",
              "      <th>24754</th>\n",
              "      <td>This is another Alien imitation and not a very...</td>\n",
              "      <td>NEG</td>\n",
              "    </tr>\n",
              "    <tr>\n",
              "      <th>16150</th>\n",
              "      <td>...an incomprehensible script (when it shouldn...</td>\n",
              "      <td>NEG</td>\n",
              "    </tr>\n",
              "    <tr>\n",
              "      <th>13840</th>\n",
              "      <td>This could have been a really good movie if so...</td>\n",
              "      <td>NEG</td>\n",
              "    </tr>\n",
              "    <tr>\n",
              "      <th>23920</th>\n",
              "      <td>Allegedly the \"true story\" of Juana de Castill...</td>\n",
              "      <td>NEG</td>\n",
              "    </tr>\n",
              "    <tr>\n",
              "      <th>5619</th>\n",
              "      <td>I voted this a 10 out of 10 simply because it ...</td>\n",
              "      <td>POS</td>\n",
              "    </tr>\n",
              "  </tbody>\n",
              "</table>\n",
              "</div>"
            ],
            "text/plain": [
              "                                                  REVIEW TARGET\n",
              "24754  This is another Alien imitation and not a very...    NEG\n",
              "16150  ...an incomprehensible script (when it shouldn...    NEG\n",
              "13840  This could have been a really good movie if so...    NEG\n",
              "23920  Allegedly the \"true story\" of Juana de Castill...    NEG\n",
              "5619   I voted this a 10 out of 10 simply because it ...    POS"
            ]
          },
          "execution_count": 16,
          "metadata": {},
          "output_type": "execute_result"
        }
      ],
      "source": [
        "import pandas as pd \n",
        "pos_df = pd.DataFrame(pos_reviews, columns=[\"REVIEW\"])\n",
        "pos_df[\"TARGET\"] = \"POS\"\n",
        "neg_df = pd.DataFrame(neg_reviews, columns=[\"REVIEW\"])\n",
        "neg_df[\"TARGET\"] = \"NEG\"\n",
        "\n",
        "df = pd.concat([pos_df, neg_df], axis=\"rows\")\n",
        "df.sample(5)"
      ]
    },
    {
      "cell_type": "code",
      "execution_count": 17,
      "metadata": {
        "colab": {
          "base_uri": "https://localhost:8080/"
        },
        "id": "UWQ0JWgBg8Kw",
        "outputId": "6d6f4f34-bed3-4880-d0ef-fee868ef29f8"
      },
      "outputs": [
        {
          "data": {
            "text/plain": [
              "(50000, 2)"
            ]
          },
          "execution_count": 17,
          "metadata": {},
          "output_type": "execute_result"
        }
      ],
      "source": [
        "df.shape"
      ]
    },
    {
      "cell_type": "code",
      "execution_count": 18,
      "metadata": {
        "colab": {
          "base_uri": "https://localhost:8080/",
          "height": 206
        },
        "id": "27WPYFIng9Yc",
        "outputId": "e1fcfeaa-2bb2-4667-c61c-2cb442a3ec62"
      },
      "outputs": [
        {
          "data": {
            "text/html": [
              "<div>\n",
              "<style scoped>\n",
              "    .dataframe tbody tr th:only-of-type {\n",
              "        vertical-align: middle;\n",
              "    }\n",
              "\n",
              "    .dataframe tbody tr th {\n",
              "        vertical-align: top;\n",
              "    }\n",
              "\n",
              "    .dataframe thead th {\n",
              "        text-align: right;\n",
              "    }\n",
              "</style>\n",
              "<table border=\"1\" class=\"dataframe\">\n",
              "  <thead>\n",
              "    <tr style=\"text-align: right;\">\n",
              "      <th></th>\n",
              "      <th>REVIEW</th>\n",
              "      <th>TARGET</th>\n",
              "    </tr>\n",
              "  </thead>\n",
              "  <tbody>\n",
              "    <tr>\n",
              "      <th>1549</th>\n",
              "      <td>I dug out from my garage some old musicals and...</td>\n",
              "      <td>POS</td>\n",
              "    </tr>\n",
              "    <tr>\n",
              "      <th>4720</th>\n",
              "      <td>Peter Bogdonavich has made a handful of truly ...</td>\n",
              "      <td>POS</td>\n",
              "    </tr>\n",
              "    <tr>\n",
              "      <th>21089</th>\n",
              "      <td>I watched the movie about 13 yrs ago while liv...</td>\n",
              "      <td>POS</td>\n",
              "    </tr>\n",
              "    <tr>\n",
              "      <th>10882</th>\n",
              "      <td>Overall I found this movie quite amusing and f...</td>\n",
              "      <td>POS</td>\n",
              "    </tr>\n",
              "    <tr>\n",
              "      <th>17808</th>\n",
              "      <td>I don't know who financed it, or why, but this...</td>\n",
              "      <td>NEG</td>\n",
              "    </tr>\n",
              "  </tbody>\n",
              "</table>\n",
              "</div>"
            ],
            "text/plain": [
              "                                                  REVIEW TARGET\n",
              "1549   I dug out from my garage some old musicals and...    POS\n",
              "4720   Peter Bogdonavich has made a handful of truly ...    POS\n",
              "21089  I watched the movie about 13 yrs ago while liv...    POS\n",
              "10882  Overall I found this movie quite amusing and f...    POS\n",
              "17808  I don't know who financed it, or why, but this...    NEG"
            ]
          },
          "execution_count": 18,
          "metadata": {},
          "output_type": "execute_result"
        }
      ],
      "source": [
        "df.sample(5)"
      ]
    },
    {
      "cell_type": "markdown",
      "metadata": {
        "id": "erwfEkU4hsEQ"
      },
      "source": [
        "Ya tenemos nuestro dataframe listo para trabajar."
      ]
    },
    {
      "cell_type": "markdown",
      "metadata": {
        "id": "wbzm2R8shxBT"
      },
      "source": [
        "### Spacy\n",
        "\n",
        "Como dijimos anteriormente, trabajaremos con la librería spacy. Siempre debemos importarla e instanciarla llamando a nuestro lenguaje. Si queremos instanciarla con un lenguaje que no tenemos descargado, nos dará un error y ahi podemos copiar y pegar el código para descargar el mismo."
      ]
    },
    {
      "cell_type": "code",
      "execution_count": 19,
      "metadata": {
        "id": "o5eNfBDBiDyn"
      },
      "outputs": [],
      "source": [
        "import spacy\n",
        "\n",
        "nlp = spacy.load(\"en_core_web_sm\")"
      ]
    },
    {
      "cell_type": "markdown",
      "metadata": {
        "id": "TbOqyWOqiE_w"
      },
      "source": [
        "Para tokenizar un texto en spacy, simplemente utilizamos el objeto que instanciamos (que en este caso llamamos nlp)\n",
        "\n",
        "Por ejemplo:"
      ]
    },
    {
      "cell_type": "code",
      "execution_count": 20,
      "metadata": {
        "colab": {
          "base_uri": "https://localhost:8080/"
        },
        "id": "9uBGPCrTiP6c",
        "outputId": "3f261158-9551-41ca-d860-e080da8d08f9"
      },
      "outputs": [
        {
          "data": {
            "text/plain": [
              "Hi, how are you ?"
            ]
          },
          "execution_count": 20,
          "metadata": {},
          "output_type": "execute_result"
        }
      ],
      "source": [
        "nlp(\"Hi, how are you ?\")"
      ]
    },
    {
      "cell_type": "markdown",
      "metadata": {
        "id": "PhcASYYBiTxJ"
      },
      "source": [
        "Si queremos acceder a cada uno de los tokens, podemos utilizar por ejemplo un bucle for:"
      ]
    },
    {
      "cell_type": "code",
      "execution_count": 21,
      "metadata": {
        "colab": {
          "base_uri": "https://localhost:8080/"
        },
        "id": "OpJsY2UKiXdT",
        "outputId": "a282d7bf-7c48-478c-ac66-314c8886f130"
      },
      "outputs": [
        {
          "name": "stdout",
          "output_type": "stream",
          "text": [
            "Hi\n",
            "---\n",
            ",\n",
            "---\n",
            "how\n",
            "---\n",
            "are\n",
            "---\n",
            "you\n",
            "---\n",
            "?\n",
            "---\n"
          ]
        }
      ],
      "source": [
        "for token in nlp(\"Hi, how are you ?\"):\n",
        "  print(token)\n",
        "  print(\"---\")"
      ]
    },
    {
      "cell_type": "markdown",
      "metadata": {
        "id": "AAxeHlY_ikto"
      },
      "source": [
        "### Stop words\n",
        "\n",
        "En spacy, tenemos para cada idioma un listado de stop words por defecto (que podemos modificar agregando o quitando las que necesitemos).\n",
        "\n",
        "Ejecutando la siguiente celda, podemos ver el listado que viene por defecto para el idioma inglés."
      ]
    },
    {
      "cell_type": "code",
      "execution_count": 22,
      "metadata": {
        "colab": {
          "base_uri": "https://localhost:8080/"
        },
        "id": "ctIVpG8iisKY",
        "outputId": "c6455b0b-fbc5-42a2-f3d4-f197a45a446d"
      },
      "outputs": [
        {
          "data": {
            "text/plain": [
              "{\"'d\",\n",
              " \"'ll\",\n",
              " \"'m\",\n",
              " \"'re\",\n",
              " \"'s\",\n",
              " \"'ve\",\n",
              " 'a',\n",
              " 'about',\n",
              " 'above',\n",
              " 'across',\n",
              " 'after',\n",
              " 'afterwards',\n",
              " 'again',\n",
              " 'against',\n",
              " 'all',\n",
              " 'almost',\n",
              " 'alone',\n",
              " 'along',\n",
              " 'already',\n",
              " 'also',\n",
              " 'although',\n",
              " 'always',\n",
              " 'am',\n",
              " 'among',\n",
              " 'amongst',\n",
              " 'amount',\n",
              " 'an',\n",
              " 'and',\n",
              " 'another',\n",
              " 'any',\n",
              " 'anyhow',\n",
              " 'anyone',\n",
              " 'anything',\n",
              " 'anyway',\n",
              " 'anywhere',\n",
              " 'are',\n",
              " 'around',\n",
              " 'as',\n",
              " 'at',\n",
              " 'back',\n",
              " 'be',\n",
              " 'became',\n",
              " 'because',\n",
              " 'become',\n",
              " 'becomes',\n",
              " 'becoming',\n",
              " 'been',\n",
              " 'before',\n",
              " 'beforehand',\n",
              " 'behind',\n",
              " 'being',\n",
              " 'below',\n",
              " 'beside',\n",
              " 'besides',\n",
              " 'between',\n",
              " 'beyond',\n",
              " 'both',\n",
              " 'bottom',\n",
              " 'but',\n",
              " 'by',\n",
              " 'ca',\n",
              " 'call',\n",
              " 'can',\n",
              " 'cannot',\n",
              " 'could',\n",
              " 'did',\n",
              " 'do',\n",
              " 'does',\n",
              " 'doing',\n",
              " 'done',\n",
              " 'down',\n",
              " 'due',\n",
              " 'during',\n",
              " 'each',\n",
              " 'eight',\n",
              " 'either',\n",
              " 'eleven',\n",
              " 'else',\n",
              " 'elsewhere',\n",
              " 'empty',\n",
              " 'enough',\n",
              " 'even',\n",
              " 'ever',\n",
              " 'every',\n",
              " 'everyone',\n",
              " 'everything',\n",
              " 'everywhere',\n",
              " 'except',\n",
              " 'few',\n",
              " 'fifteen',\n",
              " 'fifty',\n",
              " 'first',\n",
              " 'five',\n",
              " 'for',\n",
              " 'former',\n",
              " 'formerly',\n",
              " 'forty',\n",
              " 'four',\n",
              " 'from',\n",
              " 'front',\n",
              " 'full',\n",
              " 'further',\n",
              " 'get',\n",
              " 'give',\n",
              " 'go',\n",
              " 'had',\n",
              " 'has',\n",
              " 'have',\n",
              " 'he',\n",
              " 'hence',\n",
              " 'her',\n",
              " 'here',\n",
              " 'hereafter',\n",
              " 'hereby',\n",
              " 'herein',\n",
              " 'hereupon',\n",
              " 'hers',\n",
              " 'herself',\n",
              " 'him',\n",
              " 'himself',\n",
              " 'his',\n",
              " 'how',\n",
              " 'however',\n",
              " 'hundred',\n",
              " 'i',\n",
              " 'if',\n",
              " 'in',\n",
              " 'indeed',\n",
              " 'into',\n",
              " 'is',\n",
              " 'it',\n",
              " 'its',\n",
              " 'itself',\n",
              " 'just',\n",
              " 'keep',\n",
              " 'last',\n",
              " 'latter',\n",
              " 'latterly',\n",
              " 'least',\n",
              " 'less',\n",
              " 'made',\n",
              " 'make',\n",
              " 'many',\n",
              " 'may',\n",
              " 'me',\n",
              " 'meanwhile',\n",
              " 'might',\n",
              " 'mine',\n",
              " 'more',\n",
              " 'moreover',\n",
              " 'most',\n",
              " 'mostly',\n",
              " 'move',\n",
              " 'much',\n",
              " 'must',\n",
              " 'my',\n",
              " 'myself',\n",
              " \"n't\",\n",
              " 'name',\n",
              " 'namely',\n",
              " 'neither',\n",
              " 'never',\n",
              " 'nevertheless',\n",
              " 'next',\n",
              " 'nine',\n",
              " 'no',\n",
              " 'nobody',\n",
              " 'none',\n",
              " 'noone',\n",
              " 'nor',\n",
              " 'not',\n",
              " 'nothing',\n",
              " 'now',\n",
              " 'nowhere',\n",
              " 'n‘t',\n",
              " 'n’t',\n",
              " 'of',\n",
              " 'off',\n",
              " 'often',\n",
              " 'on',\n",
              " 'once',\n",
              " 'one',\n",
              " 'only',\n",
              " 'onto',\n",
              " 'or',\n",
              " 'other',\n",
              " 'others',\n",
              " 'otherwise',\n",
              " 'our',\n",
              " 'ours',\n",
              " 'ourselves',\n",
              " 'out',\n",
              " 'over',\n",
              " 'own',\n",
              " 'part',\n",
              " 'per',\n",
              " 'perhaps',\n",
              " 'please',\n",
              " 'put',\n",
              " 'quite',\n",
              " 'rather',\n",
              " 're',\n",
              " 'really',\n",
              " 'regarding',\n",
              " 'same',\n",
              " 'say',\n",
              " 'see',\n",
              " 'seem',\n",
              " 'seemed',\n",
              " 'seeming',\n",
              " 'seems',\n",
              " 'serious',\n",
              " 'several',\n",
              " 'she',\n",
              " 'should',\n",
              " 'show',\n",
              " 'side',\n",
              " 'since',\n",
              " 'six',\n",
              " 'sixty',\n",
              " 'so',\n",
              " 'some',\n",
              " 'somehow',\n",
              " 'someone',\n",
              " 'something',\n",
              " 'sometime',\n",
              " 'sometimes',\n",
              " 'somewhere',\n",
              " 'still',\n",
              " 'such',\n",
              " 'take',\n",
              " 'ten',\n",
              " 'than',\n",
              " 'that',\n",
              " 'the',\n",
              " 'their',\n",
              " 'them',\n",
              " 'themselves',\n",
              " 'then',\n",
              " 'thence',\n",
              " 'there',\n",
              " 'thereafter',\n",
              " 'thereby',\n",
              " 'therefore',\n",
              " 'therein',\n",
              " 'thereupon',\n",
              " 'these',\n",
              " 'they',\n",
              " 'third',\n",
              " 'this',\n",
              " 'those',\n",
              " 'though',\n",
              " 'three',\n",
              " 'through',\n",
              " 'throughout',\n",
              " 'thru',\n",
              " 'thus',\n",
              " 'to',\n",
              " 'together',\n",
              " 'too',\n",
              " 'top',\n",
              " 'toward',\n",
              " 'towards',\n",
              " 'twelve',\n",
              " 'twenty',\n",
              " 'two',\n",
              " 'under',\n",
              " 'unless',\n",
              " 'until',\n",
              " 'up',\n",
              " 'upon',\n",
              " 'us',\n",
              " 'used',\n",
              " 'using',\n",
              " 'various',\n",
              " 'very',\n",
              " 'via',\n",
              " 'was',\n",
              " 'we',\n",
              " 'well',\n",
              " 'were',\n",
              " 'what',\n",
              " 'whatever',\n",
              " 'when',\n",
              " 'whence',\n",
              " 'whenever',\n",
              " 'where',\n",
              " 'whereafter',\n",
              " 'whereas',\n",
              " 'whereby',\n",
              " 'wherein',\n",
              " 'whereupon',\n",
              " 'wherever',\n",
              " 'whether',\n",
              " 'which',\n",
              " 'while',\n",
              " 'whither',\n",
              " 'who',\n",
              " 'whoever',\n",
              " 'whole',\n",
              " 'whom',\n",
              " 'whose',\n",
              " 'why',\n",
              " 'will',\n",
              " 'with',\n",
              " 'within',\n",
              " 'without',\n",
              " 'would',\n",
              " 'yet',\n",
              " 'you',\n",
              " 'your',\n",
              " 'yours',\n",
              " 'yourself',\n",
              " 'yourselves',\n",
              " '‘d',\n",
              " '‘ll',\n",
              " '‘m',\n",
              " '‘re',\n",
              " '‘s',\n",
              " '‘ve',\n",
              " '’d',\n",
              " '’ll',\n",
              " '’m',\n",
              " '’re',\n",
              " '’s',\n",
              " '’ve'}"
            ]
          },
          "execution_count": 22,
          "metadata": {},
          "output_type": "execute_result"
        }
      ],
      "source": [
        "nlp.Defaults.stop_words"
      ]
    },
    {
      "cell_type": "markdown",
      "metadata": {
        "id": "HE48pPstjnHo"
      },
      "source": [
        "Si queremos agregar una stopword, podemos hacerlo con el método .add() de las listas.\n",
        "\n",
        "Por ejemplo, imaginen que queremos agregar la palabra \"test\".\n",
        "\n",
        "Primero validamos si existe en la lista:\n"
      ]
    },
    {
      "cell_type": "code",
      "execution_count": 23,
      "metadata": {
        "colab": {
          "base_uri": "https://localhost:8080/"
        },
        "id": "9zi4HCppisNJ",
        "outputId": "38bd77e7-5003-4d46-addb-1661f2cfa5fd"
      },
      "outputs": [
        {
          "data": {
            "text/plain": [
              "False"
            ]
          },
          "execution_count": 23,
          "metadata": {},
          "output_type": "execute_result"
        }
      ],
      "source": [
        "\"test\" in nlp.Defaults.stop_words"
      ]
    },
    {
      "cell_type": "markdown",
      "metadata": {
        "id": "ngXA8Vgtjxpn"
      },
      "source": [
        "No existe, la agreguemos:"
      ]
    },
    {
      "cell_type": "code",
      "execution_count": 24,
      "metadata": {
        "id": "Cb8VUm6ljzbS"
      },
      "outputs": [],
      "source": [
        "nlp.Defaults.stop_words.add(\"test\")"
      ]
    },
    {
      "cell_type": "code",
      "execution_count": 25,
      "metadata": {
        "colab": {
          "base_uri": "https://localhost:8080/"
        },
        "id": "0ZJFEzl-j0yM",
        "outputId": "634bb83b-cb1e-42ee-8add-42ae0679d015"
      },
      "outputs": [
        {
          "data": {
            "text/plain": [
              "True"
            ]
          },
          "execution_count": 25,
          "metadata": {},
          "output_type": "execute_result"
        }
      ],
      "source": [
        "\"test\" in nlp.Defaults.stop_words"
      ]
    },
    {
      "cell_type": "markdown",
      "metadata": {
        "id": "IbHe7YbWj2Bc"
      },
      "source": [
        "Ahora si existe.\n",
        "\n",
        "Para saber si un token es una stopword o no, podemos utilizar el atributo is_stop de un token.\n",
        "\n",
        "Veamos un ejemplo:"
      ]
    },
    {
      "cell_type": "code",
      "execution_count": 26,
      "metadata": {},
      "outputs": [
        {
          "data": {
            "text/plain": [
              "True"
            ]
          },
          "execution_count": 26,
          "metadata": {},
          "output_type": "execute_result"
        }
      ],
      "source": [
        "nlp('is')[0].is_stop"
      ]
    },
    {
      "cell_type": "code",
      "execution_count": 27,
      "metadata": {
        "colab": {
          "base_uri": "https://localhost:8080/"
        },
        "id": "BQcZ8msPj00k",
        "outputId": "27d768a5-fbcf-41d0-c088-2c227bbc2462"
      },
      "outputs": [
        {
          "name": "stdout",
          "output_type": "stream",
          "text": [
            "La palabra: My es una stop word.\n",
            "La palabra: name es una stop word.\n",
            "La palabra: is es una stop word.\n",
            "La palabra: I es una stop word.\n",
            "La palabra: am es una stop word.\n",
            "La palabra: and es una stop word.\n",
            "La palabra: I es una stop word.\n",
            "La palabra: in es una stop word.\n"
          ]
        }
      ],
      "source": [
        "for token in nlp(\"My name is Alexis. I am 25 years old and I live in BsAs.\"):\n",
        "  if token.is_stop:\n",
        "    print(f\"La palabra: {token.text} es una stop word.\")"
      ]
    },
    {
      "cell_type": "markdown",
      "metadata": {
        "id": "eb9UVPmykShs"
      },
      "source": [
        "De esta forma, podemos limpiar las stop words de un texto. Veamos un ejemplo en el que limpiamos las stop words del texto \"My name is Alexis. I am 25 years old and I live in BsAs.\"."
      ]
    },
    {
      "cell_type": "code",
      "execution_count": 28,
      "metadata": {
        "id": "0UFUPj1FkaFB"
      },
      "outputs": [],
      "source": [
        "def clean_stop_words(text):\n",
        "  clean_text = []\n",
        "  for token in nlp(text):\n",
        "    if not token.is_stop:\n",
        "      clean_text.append(token.text)\n",
        "\n",
        "  return \" \".join(clean_text)"
      ]
    },
    {
      "cell_type": "code",
      "execution_count": 29,
      "metadata": {
        "colab": {
          "base_uri": "https://localhost:8080/",
          "height": 35
        },
        "id": "coEMoUgakaNm",
        "outputId": "6da70997-07f8-48e0-efaf-10820ebf437c"
      },
      "outputs": [
        {
          "data": {
            "text/plain": [
              "'Alexis . 25 years old live BsAs !'"
            ]
          },
          "execution_count": 29,
          "metadata": {},
          "output_type": "execute_result"
        }
      ],
      "source": [
        "texto = \"My name is Alexis. I am 25 years old and I live in BsAs !\"\n",
        "\n",
        "clean_stop_words(texto)"
      ]
    },
    {
      "cell_type": "markdown",
      "metadata": {
        "id": "olZ-lZfClCXl"
      },
      "source": [
        "Vemos que nos limpio las stop words, pero además necesitaríamos pasar el texto a minúsculas y eliminar los signos de puntuación.\n",
        "\n",
        "Para lo primero, podemos utilizar la función lower() de python.\n",
        "\n",
        "Para lo segundo, los tokens tienen el atributo token.is_punct.\n",
        "\n",
        "EJERCICIO: Crear una nueva función (basada en la que definimos recien) que se llame clean_text y además de eliminar stop words, elimine signos de puntuación y convierta todo a minúsculas."
      ]
    },
    {
      "cell_type": "code",
      "execution_count": 30,
      "metadata": {
        "id": "op9afpZOlbZB"
      },
      "outputs": [],
      "source": [
        "#COMPLETAR\n",
        "def clean_text(text):\n",
        "  clean_text = []\n",
        "  for token in nlp(text):\n",
        "    if not token.is_stop and not token.is_punct:\n",
        "      clean_text.append(token.text.lower())\n",
        "\n",
        "  return \" \".join(clean_text)"
      ]
    },
    {
      "cell_type": "markdown",
      "metadata": {
        "id": "9YkBSCGGlmTy"
      },
      "source": [
        "Probamos la función con el mismo texto que recién:"
      ]
    },
    {
      "cell_type": "code",
      "execution_count": 31,
      "metadata": {
        "colab": {
          "base_uri": "https://localhost:8080/",
          "height": 35
        },
        "id": "AIVndVfFljTW",
        "outputId": "87ecab23-c020-48fa-ca56-6adf7971eedb"
      },
      "outputs": [
        {
          "data": {
            "text/plain": [
              "'alexis 25 years old live bsas'"
            ]
          },
          "execution_count": 31,
          "metadata": {},
          "output_type": "execute_result"
        }
      ],
      "source": [
        "texto = \"My name is Alexis. I am 25 years old and I live in BsAs\"\n",
        "\n",
        "clean_text(texto)"
      ]
    },
    {
      "cell_type": "code",
      "execution_count": 82,
      "metadata": {},
      "outputs": [
        {
          "data": {
            "text/plain": [
              "'Mi nombre es Alexis Yo tengo  años y vivo en BsAs'"
            ]
          },
          "metadata": {},
          "output_type": "display_data"
        },
        {
          "data": {
            "text/plain": [
              "'nombre alexis año vivo bsas'"
            ]
          },
          "metadata": {},
          "output_type": "display_data"
        }
      ],
      "source": [
        "import spacy\n",
        "import re\n",
        "nlp=spacy.load('es_core_news_sm')\n",
        "texto = \"Mi nombre es Alexis. Yo tengo 25 años y vivo en BsAs\"\n",
        "\n",
        "# Eliminar caracteres especiales y números\n",
        "texto = re.sub(r'[^a-zA-Záéíóúüñ\\s]','', texto)\n",
        "display(texto)\n",
        "# Cargar modelo de spaCy para español\n",
        "nlp=spacy.load('es_core_news_sm')\n",
        "\n",
        "tokens = nlp(texto)\n",
        "# Filtrar stopwords y aplicar lematización\n",
        "lemas = [token.lemma_.lower() for token in tokens if not token.is_stop]\n",
        "texto_limpio = ' '.join(lemas)\n",
        "texto_limpio = re.sub(r'\\s+', ' ', texto_limpio)\n",
        "# Convertir a minúsculas\n",
        "display(texto_limpio)"
      ]
    },
    {
      "cell_type": "code",
      "execution_count": 59,
      "metadata": {},
      "outputs": [
        {
          "data": {
            "text/plain": [
              "''"
            ]
          },
          "execution_count": 59,
          "metadata": {},
          "output_type": "execute_result"
        }
      ],
      "source": [
        "token=tokens[1]\n",
        "not token.is_stop\n",
        "token.lemma_"
      ]
    },
    {
      "cell_type": "code",
      "execution_count": 69,
      "metadata": {},
      "outputs": [
        {
          "name": "stdout",
          "output_type": "stream",
          "text": [
            "Palabra: Alexis, Lemmatización: Alexis\n",
            "Palabra: Esto, Lemmatización: este\n",
            "Palabra: es, Lemmatización: ser\n",
            "Palabra: una, Lemmatización: uno\n",
            "Palabra: prueba, Lemmatización: prueba\n",
            "Palabra: de, Lemmatización: de\n",
            "Palabra: lematización, Lemmatización: lematización\n",
            "Palabra: en, Lemmatización: en\n",
            "Palabra: español, Lemmatización: español\n",
            "Palabra: ., Lemmatización: .\n"
          ]
        }
      ],
      "source": [
        "import spacy\n",
        "from spacy.lang.es import Spanish\n",
        "\n",
        "# Cargar modelo de spaCy para español\n",
        "nlp = Spanish()\n",
        "nlp=spacy.load('es_core_news_sm')\n",
        "\n",
        "# Texto de ejemplo\n",
        "texto_ejemplo = \"Alexis Esto es una prueba de lematización en español.\"\n",
        "\n",
        "# Procesar texto de ejemplo\n",
        "doc = nlp(texto_ejemplo)\n",
        "\n",
        "# Imprimir cada palabra y su lema\n",
        "for token in doc:\n",
        "    print(f\"Palabra: {token.text}, Lemmatización: {token.lemma_}\")"
      ]
    },
    {
      "cell_type": "markdown",
      "metadata": {
        "id": "eIdpyRYnlpja"
      },
      "source": [
        "Ahora, si quisiéramos aplicar esta función a nuestro dataset entero, como lo haríamos???"
      ]
    },
    {
      "cell_type": "markdown",
      "metadata": {
        "id": "3gVD0vgklxGZ"
      },
      "source": [
        "### Raiz (lemma)\n",
        "\n",
        "En spacy, también podemos llevar a las palabras a su raiz de una forma muy simple utilizando el atributo .lemma_ (recuerden que finaliza con _) de los tokens.\n",
        "\n",
        "Veamos un ejemplo:"
      ]
    },
    {
      "cell_type": "code",
      "execution_count": 57,
      "metadata": {
        "colab": {
          "base_uri": "https://localhost:8080/"
        },
        "id": "y5gtZ2ZTl5eG",
        "outputId": "79938fac-3851-4ebf-f849-70dadde598de"
      },
      "outputs": [
        {
          "name": "stdout",
          "output_type": "stream",
          "text": [
            "ORIGINAL Reeves, LEMMA: \n",
            "ORIGINAL look, LEMMA: \n",
            "ORIGINAL like, LEMMA: \n",
            "ORIGINAL an, LEMMA: \n",
            "ORIGINAL Oscar, LEMMA: \n",
            "ORIGINAL winner, LEMMA: \n",
            "ORIGINAL this, LEMMA: \n",
            "ORIGINAL film, LEMMA: \n",
            "ORIGINAL bites, LEMMA: \n",
            "ORIGINAL (, LEMMA: \n",
            "ORIGINAL pun, LEMMA: \n",
            "ORIGINAL not, LEMMA: \n",
            "ORIGINAL intended, LEMMA: \n",
            "ORIGINAL ), LEMMA: \n",
            "ORIGINAL ., LEMMA: \n",
            "ORIGINAL \n",
            ", LEMMA: \n",
            "ORIGINAL The, LEMMA: \n",
            "ORIGINAL best, LEMMA: \n",
            "ORIGINAL thing, LEMMA: \n",
            "ORIGINAL about, LEMMA: \n",
            "ORIGINAL it, LEMMA: \n",
            "ORIGINAL is, LEMMA: \n",
            "ORIGINAL the, LEMMA: \n",
            "ORIGINAL box, LEMMA: \n",
            "ORIGINAL of, LEMMA: \n",
            "ORIGINAL eRATicate, LEMMA: \n",
            "ORIGINAL in, LEMMA: \n",
            "ORIGINAL the, LEMMA: \n",
            "ORIGINAL 2nd, LEMMA: \n",
            "ORIGINAL segment, LEMMA: \n"
          ]
        }
      ],
      "source": [
        "text = \"\"\"Reeves look like an Oscar winner this film bites (pun not intended). \n",
        "The best thing about it is the box of eRATicate in the 2nd segment\"\"\"\n",
        "\n",
        "for token in nlp(text):\n",
        "    print(f\"ORIGINAL {token.text}, LEMMA: {token.lemma_}\")"
      ]
    },
    {
      "cell_type": "markdown",
      "metadata": {
        "id": "zNFesN3RmoQ0"
      },
      "source": [
        "EJERCICIO: A la función clean text, agregarle que convierta el texto a lemma. Quitar puntuación."
      ]
    },
    {
      "cell_type": "code",
      "execution_count": null,
      "metadata": {
        "id": "YTtKK3YfmseV"
      },
      "outputs": [],
      "source": [
        "#COMPLETAR\n",
        "def clean_text(text):\n",
        "  clean_text = []\n",
        "  for token in nlp(text):\n",
        "    if not token.is_stop and not token.is_punct:\n",
        "      clean_text.append(token.lemma_.lower())\n",
        "\n",
        "  return \" \".join(clean_text)"
      ]
    },
    {
      "cell_type": "code",
      "execution_count": 23,
      "metadata": {
        "colab": {
          "base_uri": "https://localhost:8080/",
          "height": 35
        },
        "id": "BgOjb6Lkmsol",
        "outputId": "09400548-17c7-41bb-97c0-c4c9b90ec2f0"
      },
      "outputs": [],
      "source": [
        "text = \"\"\"Reeves look like an Oscar winner this film bites (pun not intended). \n",
        "The best thing about it is the box of eRATicate in the 2nd segment ? ! \"\"\"\n",
        "clean_text(text)"
      ]
    },
    {
      "cell_type": "markdown",
      "metadata": {
        "id": "hboeBtrkm0lu"
      },
      "source": [
        "Vemos que todavía quedan caracteres especiales como por ejemplo \\n. Ya veremos en próximas clases como limpiar este tipo de elementos utilizando expresiones regulares. \n",
        "\n",
        "Por ahora, podemos utilizar la función .replace() de los strings. Por ejemplo:"
      ]
    },
    {
      "cell_type": "code",
      "execution_count": null,
      "metadata": {
        "colab": {
          "base_uri": "https://localhost:8080/",
          "height": 35
        },
        "id": "SX7XDZrvnBtP",
        "outputId": "8e303ff9-0ae0-4998-b487-9addd07d6ea3"
      },
      "outputs": [
        {
          "data": {
            "text/plain": [
              "'reeve look like oscar winner film bite pun intend  good thing box eraticate 2nd segment'"
            ]
          },
          "execution_count": 34,
          "metadata": {},
          "output_type": "execute_result"
        }
      ],
      "source": [
        "clean_text(text).replace(\"\\n\", \"\")"
      ]
    },
    {
      "cell_type": "code",
      "execution_count": 24,
      "metadata": {},
      "outputs": [
        {
          "name": "stdout",
          "output_type": "stream",
          "text": [
            "reeve look like oscar winner film bite pun intend good thing box eraticate 2nd segment\n"
          ]
        }
      ],
      "source": [
        "from f_func import fclean_text\n",
        "\n",
        "print(fclean_text(text,nlp))"
      ]
    },
    {
      "cell_type": "markdown",
      "metadata": {
        "id": "usJI8td5nGDN"
      },
      "source": [
        "### Bag of words\n",
        "\n",
        "Para vectorizar con bag of words, utilizaremos sklearn. \n",
        "\n",
        "En sklearn, este elemento se llama CountVectorizer.\n",
        "\n",
        "https://scikit-learn.org/stable/modules/generated/sklearn.feature_extraction.text.CountVectorizer.html\n",
        "\n",
        "\n",
        "Sigue la lógica de fit/transform.\n",
        "\n",
        "Podemos ver algunos parámetros importantes como por ejemplo:\n",
        "\n",
        "- ngram_range\n",
        "- lowercase\n",
        "- stop_words\n",
        "- strip_accents\n",
        "\n",
        "\n",
        "Antes de aplicar count vectorizer sobre nuestro df, vamos a aplicarle nuestra función \"clean_text\".\n",
        "\n",
        "EJERCICIO: Aplicar clean_text a todo nuestro dataframe. \n",
        "\n",
        "Este proceso puede tomar más de media hs para el dataset que tenemos, por lo tanto, nos quedaremos únicamente con las primeras 5mil filas para poder ejecutar el código en clases. Luego ustedes pueden probarlo con el dataset completo."
      ]
    },
    {
      "cell_type": "code",
      "execution_count": null,
      "metadata": {
        "id": "cuoAZ-UJktQ1"
      },
      "outputs": [],
      "source": [
        "# COMENTAR ESTA CELDA SI QUIEREN TRABAJAR CON EL DATASET COMPLETO (les puede tomar 30 min el preprocesamiento)\n",
        "# pos_samples = df[df.TARGET=='POS'].head(2500)\n",
        "# neg_samples = df[df.TARGET=='NEG'].head(2500)\n",
        "\n",
        "# df = pd.concat([pos_samples, neg_samples])"
      ]
    },
    {
      "cell_type": "code",
      "execution_count": 25,
      "metadata": {
        "colab": {
          "base_uri": "https://localhost:8080/"
        },
        "id": "vUMK5jsUn7aP",
        "outputId": "2f376b1f-d026-462b-8c6d-91b956a7d4b7"
      },
      "outputs": [
        {
          "data": {
            "text/plain": [
              "(50000, 2)"
            ]
          },
          "execution_count": 25,
          "metadata": {},
          "output_type": "execute_result"
        }
      ],
      "source": [
        "df.shape"
      ]
    },
    {
      "cell_type": "code",
      "execution_count": 28,
      "metadata": {
        "colab": {
          "base_uri": "https://localhost:8080/",
          "height": 206
        },
        "id": "Z9eZadM8oBoi",
        "outputId": "a026400b-4218-4c37-b294-90cfb9c9ee90"
      },
      "outputs": [
        {
          "data": {
            "text/html": [
              "<div>\n",
              "<style scoped>\n",
              "    .dataframe tbody tr th:only-of-type {\n",
              "        vertical-align: middle;\n",
              "    }\n",
              "\n",
              "    .dataframe tbody tr th {\n",
              "        vertical-align: top;\n",
              "    }\n",
              "\n",
              "    .dataframe thead th {\n",
              "        text-align: right;\n",
              "    }\n",
              "</style>\n",
              "<table border=\"1\" class=\"dataframe\">\n",
              "  <thead>\n",
              "    <tr style=\"text-align: right;\">\n",
              "      <th></th>\n",
              "      <th>REVIEW</th>\n",
              "      <th>TARGET</th>\n",
              "    </tr>\n",
              "  </thead>\n",
              "  <tbody>\n",
              "    <tr>\n",
              "      <th>18457</th>\n",
              "      <td>This movie reminds me old B movies, but not in...</td>\n",
              "      <td>NEG</td>\n",
              "    </tr>\n",
              "    <tr>\n",
              "      <th>4541</th>\n",
              "      <td>New York I Love You is full of love and power....</td>\n",
              "      <td>POS</td>\n",
              "    </tr>\n",
              "    <tr>\n",
              "      <th>4956</th>\n",
              "      <td>There's really no way to beat around the bush ...</td>\n",
              "      <td>NEG</td>\n",
              "    </tr>\n",
              "    <tr>\n",
              "      <th>19143</th>\n",
              "      <td>I am a film directors nightmare... especially ...</td>\n",
              "      <td>POS</td>\n",
              "    </tr>\n",
              "    <tr>\n",
              "      <th>21182</th>\n",
              "      <td>Hey now, I have never laid eyes on a Manga com...</td>\n",
              "      <td>POS</td>\n",
              "    </tr>\n",
              "  </tbody>\n",
              "</table>\n",
              "</div>"
            ],
            "text/plain": [
              "                                                  REVIEW TARGET\n",
              "18457  This movie reminds me old B movies, but not in...    NEG\n",
              "4541   New York I Love You is full of love and power....    POS\n",
              "4956   There's really no way to beat around the bush ...    NEG\n",
              "19143  I am a film directors nightmare... especially ...    POS\n",
              "21182  Hey now, I have never laid eyes on a Manga com...    POS"
            ]
          },
          "execution_count": 28,
          "metadata": {},
          "output_type": "execute_result"
        }
      ],
      "source": [
        "df.sample(5)"
      ]
    },
    {
      "cell_type": "code",
      "execution_count": 29,
      "metadata": {},
      "outputs": [],
      "source": [
        "dfc=df.copy()\n",
        "dfc['REVIEW']=dfc['REVIEW'].apply(fclean_text,nlp=nlp)"
      ]
    },
    {
      "cell_type": "code",
      "execution_count": 30,
      "metadata": {},
      "outputs": [
        {
          "data": {
            "text/plain": [
              "((50000, 2),\n",
              "                                               REVIEW TARGET\n",
              " 0  bromwell high cartoon comedy run time program ...    POS\n",
              " 1  homelessness houselessness george carlin state...    POS\n",
              " 2  brilliant act lesley ann warren well dramatic ...    POS\n",
              " 3  easily underrated film inn brooks cannon sure ...    POS\n",
              " 4  typical mel brooks film slapstick movie actual...    POS)"
            ]
          },
          "execution_count": 30,
          "metadata": {},
          "output_type": "execute_result"
        }
      ],
      "source": [
        "dfc.shape,dfc.head()"
      ]
    },
    {
      "cell_type": "code",
      "execution_count": 31,
      "metadata": {},
      "outputs": [],
      "source": [
        "dfc.to_csv('reviews-filtrados.csv', index=False) "
      ]
    },
    {
      "cell_type": "markdown",
      "metadata": {
        "id": "VkoTchHjoU7E"
      },
      "source": [
        "Ahora, debemos hacer train_test_split. Utilizar como random_state 0 y test_size de 0.2"
      ]
    },
    {
      "cell_type": "code",
      "execution_count": 32,
      "metadata": {
        "id": "L8x4gbLXoaeS"
      },
      "outputs": [],
      "source": [
        "#COMPLETAR\n",
        "from sklearn.model_selection import train_test_split\n",
        "\n",
        "X = dfc.REVIEW.copy()\n",
        "y = dfc.TARGET.copy().replace({'POS':1, 'NEG':0})\n",
        "\n",
        "X_train, X_test, y_train, y_test = train_test_split(X, y, test_size=0.2, random_state=0,stratify=y)"
      ]
    },
    {
      "cell_type": "code",
      "execution_count": 34,
      "metadata": {},
      "outputs": [
        {
          "data": {
            "text/plain": [
              "23503    scandinavians pretty good make laugh drab noth...\n",
              "3465     wonderful thing movie marion davy act give rig...\n",
              "Name: REVIEW, dtype: object"
            ]
          },
          "metadata": {},
          "output_type": "display_data"
        },
        {
          "data": {
            "text/plain": [
              "587    1\n",
              "256    0\n",
              "Name: TARGET, dtype: int64"
            ]
          },
          "metadata": {},
          "output_type": "display_data"
        }
      ],
      "source": [
        "display(X_train.sample(2))\n",
        "display(y_train.sample(2))"
      ]
    },
    {
      "cell_type": "markdown",
      "metadata": {
        "id": "HbyEjPgvoJTS"
      },
      "source": [
        "Ahora si, importemos count vectorizer y lo apliquemos en nuestro texto.\n",
        "\n",
        "Recuerden: fit solo sobre train."
      ]
    },
    {
      "cell_type": "code",
      "execution_count": 35,
      "metadata": {
        "id": "jkYN0pSEn-T3"
      },
      "outputs": [],
      "source": [
        "from sklearn.feature_extraction.text import CountVectorizer"
      ]
    },
    {
      "cell_type": "code",
      "execution_count": 36,
      "metadata": {
        "id": "HQApQC-Dn7c9"
      },
      "outputs": [],
      "source": [
        "#COMPLETAR\n",
        "cv = CountVectorizer()\n",
        "\n",
        "cv.fit(X_train)\n",
        "\n",
        "X_train_n = cv.transform(X_train)\n",
        "X_test_n = cv.transform(X_test)"
      ]
    },
    {
      "cell_type": "code",
      "execution_count": 38,
      "metadata": {},
      "outputs": [
        {
          "data": {
            "text/plain": [
              "array([[0, 0, 0, ..., 0, 0, 0],\n",
              "       [0, 0, 0, ..., 0, 0, 0],\n",
              "       [0, 0, 0, ..., 0, 0, 0],\n",
              "       ...,\n",
              "       [0, 0, 0, ..., 0, 0, 0],\n",
              "       [0, 0, 0, ..., 0, 0, 0],\n",
              "       [0, 0, 0, ..., 0, 0, 0]], dtype=int64)"
            ]
          },
          "metadata": {},
          "output_type": "display_data"
        }
      ],
      "source": [
        "display(X_train_n.toarray())"
      ]
    },
    {
      "cell_type": "code",
      "execution_count": null,
      "metadata": {},
      "outputs": [],
      "source": [
        "X_train_n = pd.DataFrame(X_train_n.toarray(), columns=cv.get_feature_names_out())\n",
        "X_test_n = pd.DataFrame(X_test_n.toarray(), columns=cv.get_feature_names_out())"
      ]
    },
    {
      "cell_type": "code",
      "execution_count": null,
      "metadata": {
        "colab": {
          "base_uri": "https://localhost:8080/"
        },
        "id": "rdsO-RGhpafC",
        "outputId": "ae4fc329-f0b3-4c50-d0bd-3733c09465ee"
      },
      "outputs": [
        {
          "data": {
            "text/html": [
              "<div>\n",
              "<style scoped>\n",
              "    .dataframe tbody tr th:only-of-type {\n",
              "        vertical-align: middle;\n",
              "    }\n",
              "\n",
              "    .dataframe tbody tr th {\n",
              "        vertical-align: top;\n",
              "    }\n",
              "\n",
              "    .dataframe thead th {\n",
              "        text-align: right;\n",
              "    }\n",
              "</style>\n",
              "<table border=\"1\" class=\"dataframe\">\n",
              "  <thead>\n",
              "    <tr style=\"text-align: right;\">\n",
              "      <th></th>\n",
              "      <th>00</th>\n",
              "      <th>000</th>\n",
              "      <th>00000001</th>\n",
              "      <th>00015</th>\n",
              "      <th>000dm</th>\n",
              "      <th>000s</th>\n",
              "      <th>001</th>\n",
              "      <th>003830</th>\n",
              "      <th>006</th>\n",
              "      <th>0069</th>\n",
              "      <th>...</th>\n",
              "      <th>übermensch</th>\n",
              "      <th>übermenschlich</th>\n",
              "      <th>überwoman</th>\n",
              "      <th>ünfaithful</th>\n",
              "      <th>üvegtigris</th>\n",
              "      <th>þorleifsson</th>\n",
              "      <th>þór</th>\n",
              "      <th>żmijewski</th>\n",
              "      <th>יגאל</th>\n",
              "      <th>כרמון</th>\n",
              "    </tr>\n",
              "  </thead>\n",
              "  <tbody>\n",
              "    <tr>\n",
              "      <th>30889</th>\n",
              "      <td>0</td>\n",
              "      <td>0</td>\n",
              "      <td>0</td>\n",
              "      <td>0</td>\n",
              "      <td>0</td>\n",
              "      <td>0</td>\n",
              "      <td>0</td>\n",
              "      <td>0</td>\n",
              "      <td>0</td>\n",
              "      <td>0</td>\n",
              "      <td>...</td>\n",
              "      <td>0</td>\n",
              "      <td>0</td>\n",
              "      <td>0</td>\n",
              "      <td>0</td>\n",
              "      <td>0</td>\n",
              "      <td>0</td>\n",
              "      <td>0</td>\n",
              "      <td>0</td>\n",
              "      <td>0</td>\n",
              "      <td>0</td>\n",
              "    </tr>\n",
              "    <tr>\n",
              "      <th>21341</th>\n",
              "      <td>0</td>\n",
              "      <td>0</td>\n",
              "      <td>0</td>\n",
              "      <td>0</td>\n",
              "      <td>0</td>\n",
              "      <td>0</td>\n",
              "      <td>0</td>\n",
              "      <td>0</td>\n",
              "      <td>0</td>\n",
              "      <td>0</td>\n",
              "      <td>...</td>\n",
              "      <td>0</td>\n",
              "      <td>0</td>\n",
              "      <td>0</td>\n",
              "      <td>0</td>\n",
              "      <td>0</td>\n",
              "      <td>0</td>\n",
              "      <td>0</td>\n",
              "      <td>0</td>\n",
              "      <td>0</td>\n",
              "      <td>0</td>\n",
              "    </tr>\n",
              "    <tr>\n",
              "      <th>320</th>\n",
              "      <td>0</td>\n",
              "      <td>0</td>\n",
              "      <td>0</td>\n",
              "      <td>0</td>\n",
              "      <td>0</td>\n",
              "      <td>0</td>\n",
              "      <td>0</td>\n",
              "      <td>0</td>\n",
              "      <td>0</td>\n",
              "      <td>0</td>\n",
              "      <td>...</td>\n",
              "      <td>0</td>\n",
              "      <td>0</td>\n",
              "      <td>0</td>\n",
              "      <td>0</td>\n",
              "      <td>0</td>\n",
              "      <td>0</td>\n",
              "      <td>0</td>\n",
              "      <td>0</td>\n",
              "      <td>0</td>\n",
              "      <td>0</td>\n",
              "    </tr>\n",
              "  </tbody>\n",
              "</table>\n",
              "<p>3 rows × 82878 columns</p>\n",
              "</div>"
            ],
            "text/plain": [
              "       00  000  00000001  00015  000dm  000s  001  003830  006  0069  ...  \\\n",
              "30889   0    0         0      0      0     0    0       0    0     0  ...   \n",
              "21341   0    0         0      0      0     0    0       0    0     0  ...   \n",
              "320     0    0         0      0      0     0    0       0    0     0  ...   \n",
              "\n",
              "       übermensch  übermenschlich  überwoman  ünfaithful  üvegtigris  \\\n",
              "30889           0               0          0           0           0   \n",
              "21341           0               0          0           0           0   \n",
              "320             0               0          0           0           0   \n",
              "\n",
              "       þorleifsson  þór  żmijewski  יגאל  כרמון  \n",
              "30889            0    0          0     0      0  \n",
              "21341            0    0          0     0      0  \n",
              "320              0    0          0     0      0  \n",
              "\n",
              "[3 rows x 82878 columns]"
            ]
          },
          "metadata": {},
          "output_type": "display_data"
        }
      ],
      "source": [
        "display(X_train_n.sample(3))"
      ]
    },
    {
      "cell_type": "code",
      "execution_count": null,
      "metadata": {
        "colab": {
          "base_uri": "https://localhost:8080/"
        },
        "id": "0NY8tatypbgc",
        "outputId": "ce31fd26-95bd-4ab3-dd1f-cd3e01c41408"
      },
      "outputs": [
        {
          "data": {
            "text/html": [
              "<div>\n",
              "<style scoped>\n",
              "    .dataframe tbody tr th:only-of-type {\n",
              "        vertical-align: middle;\n",
              "    }\n",
              "\n",
              "    .dataframe tbody tr th {\n",
              "        vertical-align: top;\n",
              "    }\n",
              "\n",
              "    .dataframe thead th {\n",
              "        text-align: right;\n",
              "    }\n",
              "</style>\n",
              "<table border=\"1\" class=\"dataframe\">\n",
              "  <thead>\n",
              "    <tr style=\"text-align: right;\">\n",
              "      <th></th>\n",
              "      <th>00</th>\n",
              "      <th>000</th>\n",
              "      <th>00000001</th>\n",
              "      <th>00015</th>\n",
              "      <th>000dm</th>\n",
              "      <th>000s</th>\n",
              "      <th>001</th>\n",
              "      <th>003830</th>\n",
              "      <th>006</th>\n",
              "      <th>0069</th>\n",
              "      <th>...</th>\n",
              "      <th>übermensch</th>\n",
              "      <th>übermenschlich</th>\n",
              "      <th>überwoman</th>\n",
              "      <th>ünfaithful</th>\n",
              "      <th>üvegtigris</th>\n",
              "      <th>þorleifsson</th>\n",
              "      <th>þór</th>\n",
              "      <th>żmijewski</th>\n",
              "      <th>יגאל</th>\n",
              "      <th>כרמון</th>\n",
              "    </tr>\n",
              "  </thead>\n",
              "  <tbody>\n",
              "    <tr>\n",
              "      <th>7506</th>\n",
              "      <td>0</td>\n",
              "      <td>0</td>\n",
              "      <td>0</td>\n",
              "      <td>0</td>\n",
              "      <td>0</td>\n",
              "      <td>0</td>\n",
              "      <td>0</td>\n",
              "      <td>0</td>\n",
              "      <td>0</td>\n",
              "      <td>0</td>\n",
              "      <td>...</td>\n",
              "      <td>0</td>\n",
              "      <td>0</td>\n",
              "      <td>0</td>\n",
              "      <td>0</td>\n",
              "      <td>0</td>\n",
              "      <td>0</td>\n",
              "      <td>0</td>\n",
              "      <td>0</td>\n",
              "      <td>0</td>\n",
              "      <td>0</td>\n",
              "    </tr>\n",
              "    <tr>\n",
              "      <th>9934</th>\n",
              "      <td>0</td>\n",
              "      <td>0</td>\n",
              "      <td>0</td>\n",
              "      <td>0</td>\n",
              "      <td>0</td>\n",
              "      <td>0</td>\n",
              "      <td>0</td>\n",
              "      <td>0</td>\n",
              "      <td>0</td>\n",
              "      <td>0</td>\n",
              "      <td>...</td>\n",
              "      <td>0</td>\n",
              "      <td>0</td>\n",
              "      <td>0</td>\n",
              "      <td>0</td>\n",
              "      <td>0</td>\n",
              "      <td>0</td>\n",
              "      <td>0</td>\n",
              "      <td>0</td>\n",
              "      <td>0</td>\n",
              "      <td>0</td>\n",
              "    </tr>\n",
              "    <tr>\n",
              "      <th>2028</th>\n",
              "      <td>0</td>\n",
              "      <td>0</td>\n",
              "      <td>0</td>\n",
              "      <td>0</td>\n",
              "      <td>0</td>\n",
              "      <td>0</td>\n",
              "      <td>0</td>\n",
              "      <td>0</td>\n",
              "      <td>0</td>\n",
              "      <td>0</td>\n",
              "      <td>...</td>\n",
              "      <td>0</td>\n",
              "      <td>0</td>\n",
              "      <td>0</td>\n",
              "      <td>0</td>\n",
              "      <td>0</td>\n",
              "      <td>0</td>\n",
              "      <td>0</td>\n",
              "      <td>0</td>\n",
              "      <td>0</td>\n",
              "      <td>0</td>\n",
              "    </tr>\n",
              "  </tbody>\n",
              "</table>\n",
              "<p>3 rows × 82878 columns</p>\n",
              "</div>"
            ],
            "text/plain": [
              "      00  000  00000001  00015  000dm  000s  001  003830  006  0069  ...  \\\n",
              "7506   0    0         0      0      0     0    0       0    0     0  ...   \n",
              "9934   0    0         0      0      0     0    0       0    0     0  ...   \n",
              "2028   0    0         0      0      0     0    0       0    0     0  ...   \n",
              "\n",
              "      übermensch  übermenschlich  überwoman  ünfaithful  üvegtigris  \\\n",
              "7506           0               0          0           0           0   \n",
              "9934           0               0          0           0           0   \n",
              "2028           0               0          0           0           0   \n",
              "\n",
              "      þorleifsson  þór  żmijewski  יגאל  כרמון  \n",
              "7506            0    0          0     0      0  \n",
              "9934            0    0          0     0      0  \n",
              "2028            0    0          0     0      0  \n",
              "\n",
              "[3 rows x 82878 columns]"
            ]
          },
          "metadata": {},
          "output_type": "display_data"
        }
      ],
      "source": [
        "display(X_test_n.sample(3))"
      ]
    },
    {
      "cell_type": "markdown",
      "metadata": {
        "id": "u7kN9Zy7o4vu"
      },
      "source": [
        "Ahora, además podemos ver las \"features\" con la siguiente función de nuestro count vectorizer (en la siguiente celda, cambien el nombre del vectorizer que ustedes hayan utilizado)."
      ]
    },
    {
      "cell_type": "code",
      "execution_count": null,
      "metadata": {
        "colab": {
          "base_uri": "https://localhost:8080/"
        },
        "id": "2bfj1_JCn7gZ",
        "outputId": "b69fd05c-f0c7-41a9-fb9b-c117492a7f0d"
      },
      "outputs": [
        {
          "data": {
            "text/plain": [
              "array(['00', '000', '00000001', ..., 'żmijewski', 'יגאל', 'כרמון'],\n",
              "      dtype=object)"
            ]
          },
          "execution_count": 46,
          "metadata": {},
          "output_type": "execute_result"
        }
      ],
      "source": [
        "cv.get_feature_names_out()"
      ]
    },
    {
      "cell_type": "markdown",
      "metadata": {
        "id": "gGFAtTsknl2m"
      },
      "source": [
        "Vamos a encontrar muchisimas palabras que no tienen sentido y no aportan nada a nuestro modelo, o caracteres como \"__________________________________________________________________\".\n",
        "Todo esto podríamos tenerlo en cuenta para la etapa de preprocesamiento.\n",
        "\n",
        "Con el X_train y X_test que generamos con nuestro countVectorizer ya podríamos entrenar un modelo.\n",
        "\n",
        "Ahora, aplicaremos TF IDF\n",
        "\n",
        "\n",
        "### TFIDF\n",
        "\n",
        "https://scikit-learn.org/stable/modules/generated/sklearn.feature_extraction.text.TfidfVectorizer.html\n",
        "\n",
        "Generar X_train, X_test, y_train e y_test de nuevo, ya que las modificamos anteriormente con el count vectorizer:"
      ]
    },
    {
      "cell_type": "code",
      "execution_count": null,
      "metadata": {
        "id": "inqnSYJyoFF0"
      },
      "outputs": [],
      "source": [
        "#COMPLETAR\n",
        "# X = df.REVIEW.copy()\n",
        "# y = df.TARGET.copy()\n",
        "\n",
        "# X_train, X_test, y_train, y_test = train_test_split(X, y, test_size=0.2, random_state=0)"
      ]
    },
    {
      "cell_type": "markdown",
      "metadata": {
        "id": "xmY2Lc-1oHuW"
      },
      "source": [
        "Ahora, importar tfidf vectorizer y aplicarlo sobre X_train y X_test"
      ]
    },
    {
      "cell_type": "code",
      "execution_count": null,
      "metadata": {
        "id": "lqhOwXu7oQMe"
      },
      "outputs": [],
      "source": [
        "#COMPLETAR\n",
        "from sklearn.feature_extraction.text import TfidfVectorizer\n",
        "\n",
        "tf = TfidfVectorizer()\n",
        "\n",
        "tf.fit(X_train)\n",
        "\n",
        "X_train_nt = tf.transform(X_train)\n",
        "X_test_nt = tf.transform(X_test)"
      ]
    },
    {
      "cell_type": "code",
      "execution_count": null,
      "metadata": {
        "colab": {
          "base_uri": "https://localhost:8080/"
        },
        "id": "svdA2OkloXqD",
        "outputId": "7dfe701b-c14f-4392-b0be-8dceafeff88f"
      },
      "outputs": [
        {
          "data": {
            "text/plain": [
              "<40000x82878 sparse matrix of type '<class 'numpy.float64'>'\n",
              "\twith 3392944 stored elements in Compressed Sparse Row format>"
            ]
          },
          "execution_count": 49,
          "metadata": {},
          "output_type": "execute_result"
        }
      ],
      "source": [
        "display(X_train_nt)"
      ]
    },
    {
      "cell_type": "code",
      "execution_count": null,
      "metadata": {
        "colab": {
          "base_uri": "https://localhost:8080/"
        },
        "id": "2MvwGOBroYpj",
        "outputId": "26d6cb73-5ad9-4303-86d2-f7e9ce657ea3"
      },
      "outputs": [
        {
          "data": {
            "text/plain": [
              "<10000x82878 sparse matrix of type '<class 'numpy.float64'>'\n",
              "\twith 834101 stored elements in Compressed Sparse Row format>"
            ]
          },
          "execution_count": 50,
          "metadata": {},
          "output_type": "execute_result"
        }
      ],
      "source": [
        "X_test_nt"
      ]
    },
    {
      "cell_type": "markdown",
      "metadata": {
        "id": "NEqLJ5yLoac0"
      },
      "source": [
        "Entrenar un SVC con los datos ya vectorizados.\n",
        "\n",
        "Utilizaremos: \n",
        "- random_state=0\n",
        "- C=0.5"
      ]
    },
    {
      "cell_type": "code",
      "execution_count": null,
      "metadata": {
        "id": "Mje1CSJpogxN"
      },
      "outputs": [],
      "source": [
        "#COMPLETAR\n",
        "from sklearn.svm import SVC\n",
        "clf = SVC(random_state=0, C=0.5,probability=True).fit(X_train_nt, y_train)"
      ]
    },
    {
      "cell_type": "code",
      "execution_count": null,
      "metadata": {},
      "outputs": [
        {
          "data": {
            "text/plain": [
              "19204    1\n",
              "11955    1\n",
              "14914    0\n",
              "1436     1\n",
              "7664     0\n",
              "        ..\n",
              "13134    1\n",
              "23276    0\n",
              "18384    1\n",
              "2491     1\n",
              "3365     1\n",
              "Name: TARGET, Length: 40000, dtype: int64"
            ]
          },
          "execution_count": 52,
          "metadata": {},
          "output_type": "execute_result"
        }
      ],
      "source": [
        "y_train"
      ]
    },
    {
      "cell_type": "markdown",
      "metadata": {
        "id": "ivIslAjUEOMm"
      },
      "source": [
        "Ahora, como siempre hicimos, podemos medir métricas. Por ejemplo, imprimir el classification report."
      ]
    },
    {
      "cell_type": "code",
      "execution_count": null,
      "metadata": {
        "id": "XCloPJhYoyaQ"
      },
      "outputs": [
        {
          "name": "stdout",
          "output_type": "stream",
          "text": [
            "              precision    recall  f1-score   support\n",
            "\n",
            "           0       0.97      0.96      0.96     20000\n",
            "           1       0.96      0.97      0.96     20000\n",
            "\n",
            "    accuracy                           0.96     40000\n",
            "   macro avg       0.96      0.96      0.96     40000\n",
            "weighted avg       0.96      0.96      0.96     40000\n",
            "\n",
            "              precision    recall  f1-score   support\n",
            "\n",
            "           0       0.90      0.87      0.88      5000\n",
            "           1       0.87      0.91      0.89      5000\n",
            "\n",
            "    accuracy                           0.89     10000\n",
            "   macro avg       0.89      0.89      0.89     10000\n",
            "weighted avg       0.89      0.89      0.89     10000\n",
            "\n"
          ]
        }
      ],
      "source": [
        "#COMPLETAR\n",
        "from sklearn.metrics import classification_report\n",
        "y_p_train=clf.predict(X_train_nt)\n",
        "y_p_test=clf.predict(X_test_nt)\n",
        "print(classification_report(y_train, y_p_train))\n",
        "print(classification_report(y_test,y_p_test))"
      ]
    },
    {
      "cell_type": "code",
      "execution_count": null,
      "metadata": {},
      "outputs": [
        {
          "data": {
            "image/png": "[encoded data removed]",
            "text/plain": [
              "<Figure size 640x480 with 2 Axes>"
            ]
          },
          "metadata": {},
          "output_type": "display_data"
        },
        {
          "name": "stdout",
          "output_type": "stream",
          "text": [
            "              precision    recall  f1-score   support\n",
            "\n",
            "           0       0.90      0.87      0.88      5000\n",
            "           1       0.87      0.91      0.89      5000\n",
            "\n",
            "    accuracy                           0.89     10000\n",
            "   macro avg       0.89      0.89      0.89     10000\n",
            "weighted avg       0.89      0.89      0.89     10000\n",
            "\n"
          ]
        },
        {
          "data": {
            "text/plain": [
              "(0.1332, 0.9072)"
            ]
          },
          "execution_count": 54,
          "metadata": {},
          "output_type": "execute_result"
        }
      ],
      "source": [
        "from f_func import fmatcon\n",
        "\n",
        "fmatcon(y_test,y_p_test,clf)"
      ]
    },
    {
      "cell_type": "code",
      "execution_count": null,
      "metadata": {},
      "outputs": [
        {
          "data": {
            "image/png": "[encoded data removed]",
            "text/plain": [
              "<Figure size 1000x600 with 1 Axes>"
            ]
          },
          "metadata": {},
          "output_type": "display_data"
        },
        {
          "name": "stdout",
          "output_type": "stream",
          "text": [
            "Umbral optimo= 0.5433402538065069\n"
          ]
        },
        {
          "data": {
            "image/png": "[encoded data removed]",
            "text/plain": [
              "<Figure size 640x480 with 2 Axes>"
            ]
          },
          "metadata": {},
          "output_type": "display_data"
        },
        {
          "name": "stdout",
          "output_type": "stream",
          "text": [
            "              precision    recall  f1-score   support\n",
            "\n",
            "           0       0.89      0.90      0.89      5000\n",
            "           1       0.90      0.89      0.89      5000\n",
            "\n",
            "    accuracy                           0.89     10000\n",
            "   macro avg       0.89      0.89      0.89     10000\n",
            "weighted avg       0.89      0.89      0.89     10000\n",
            "\n",
            "              precision    recall  f1-score   support\n",
            "\n",
            "           0     0.8865    0.8984    0.8924      5000\n",
            "           1     0.8970    0.8850    0.8910      5000\n",
            "\n",
            "    accuracy                         0.8917     10000\n",
            "   macro avg     0.8918    0.8917    0.8917     10000\n",
            "weighted avg     0.8918    0.8917    0.8917     10000\n",
            "\n"
          ]
        }
      ],
      "source": [
        "from sklearn.metrics import roc_curve, auc,roc_auc_score,accuracy_score,classification_report\n",
        "from f_func import fplotROC,fmatcon\n",
        "import numpy as np\n",
        "\n",
        "# Predicciones probabilisticas\n",
        "y_p_test_P=clf.predict_proba(X_test_nt)\n",
        "\n",
        "fpr_, tpr_, umbral_ = roc_curve(y_test, y_p_test_P[:,1],)\n",
        "\n",
        "fplotROC(fpr_,tpr_,'SVC','DarkOrange',marksize=5)\n",
        "\n",
        "indice_optimo = np.argmax(tpr_ - fpr_)\n",
        "umbral_optimo = umbral_[indice_optimo]\n",
        "print(f'Umbral optimo= {umbral_optimo}')\n",
        "\n",
        "# Se determina las predicciones segun el umbral optimo calculado segun criterio.\n",
        "y_pP=(y_p_test_P[:,1] >=umbral_optimo).astype(int)\n",
        "\n",
        "# Se Calcula y muestra matriz de confusion y reporte.\n",
        "fpr_p,tpr_p=fmatcon(y_test,y_pP,clf)\n",
        "print(classification_report(y_test, y_pP,digits=4))"
      ]
    }
  ],
  "metadata": {
    "colab": {
      "collapsed_sections": [],
      "name": "NLP_intro.ipynb",
      "provenance": []
    },
    "kernelspec": {
      "display_name": "Python 3.8.13 ('base')",
      "language": "python",
      "name": "python3"
    },
    "language_info": {
      "codemirror_mode": {
        "name": "ipython",
        "version": 3
      },
      "file_extension": ".py",
      "mimetype": "text/x-python",
      "name": "python",
      "nbconvert_exporter": "python",
      "pygments_lexer": "ipython3",
      "version": "3.11.5"
    },
    "vscode": {
      "interpreter": {
        "hash": "892d461b55a6ce994a56bafd67ae2f3489d9f23234c096cfb51dfe498c166e4b"
      }
    }
  },
  "nbformat": 4,
  "nbformat_minor": 0
}
