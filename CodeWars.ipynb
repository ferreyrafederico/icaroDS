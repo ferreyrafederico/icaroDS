{
 "cells": [
  {
   "cell_type": "markdown",
   "metadata": {},
   "source": [
    "The Simple Game"
   ]
  },
  {
   "cell_type": "markdown",
   "metadata": {},
   "source": [
    "This game is played with a random string of digits 0-9. The object is to reduce the string to zero length by removing digits from the left end of the string. Removals are governed by one simple rule. If the leftmost digit is n, you can remove up to n digits from the left end (inclusive). After doing this the new leftmost digit is reduced by the number of digits removed. If this would cause the leftmost digit to fall to zero or below then the move is not allowed. The final move of reducing the string to zero length must be done by exact count.\n",
    "\n",
    "The game \"4621\" can be won in one move since there are 4 digits and the leftmost digit is 4. \"6348\" requires two moves to win: remove 2 to get to \"28\", and remove 2 again to get to \"\". \"12345\" can't be won by any combination of moves.\n",
    "\n",
    "Devise a function that takes a string and returns the shortest sequence of moves that will win the game. If there are ties for the shortest, sort them in ascending order. If the game is unwinnable return [].\n",
    "\n",
    "Examples\n",
    "\n",
    "solve(\"4621\") ➞ [(4,)]\n",
    "Exact count, 4 digits, leftmost is 4.\n",
    "\n",
    "solve(\"6348\") ➞ [(2, 2)]\n",
    "\n",
    "solve(\"65042485\") ➞ [(6, 2)]\n",
    "\n",
    "solve(\"51416573385334\") ➞ [(4, 2, 3, 5)]\n",
    "String after each move: \"2573385334\", \"53385334\", \"55334\", \"\"\n",
    "\n",
    "solve(\"38088198647805\") ➞ [(1, 5, 1, 7), (3, 3, 1, 7), (3, 3, 5, 3), (3, 4, 3, 4)]\n",
    "Four are tied for shortest, sorted ascending.\n",
    "\n",
    "solve(\"2177510183994154\") ➞ [(2, 1, 5, 3, 3, 2)]\n",
    "\n",
    "solve(\"9555267224559216\") ➞ []\n",
    "No possible solution.\n",
    "\n",
    "Note\n",
    "This game could be made less simple by allowing draws from either end of the string or, perhaps, by making it a 2 player game with the player making the last move being the winner."
   ]
  },
  {
   "cell_type": "code",
   "execution_count": 14,
   "metadata": {},
   "outputs": [
    {
     "data": {
      "text/plain": [
       "[(1, 4, 3, 1, 7), (1, 5, 1, 4, 5), (1, 5, 2, 1, 7)]"
      ]
     },
     "execution_count": 14,
     "metadata": {},
     "output_type": "execute_result"
    }
   ],
   "source": [
    "cd3=\"65042485\"\n",
    "cd2=\"6348\"\n",
    "cd1=\"38088198647805\"\n",
    "cd4=\"1871379558590150\"\n",
    "cd5=\"9555267224559216\"\n",
    "\n",
    "def solve(game):\n",
    "    ar=list(map(int,game))\n",
    "    m,w=[],[]\n",
    "    def solven(ar,m):\n",
    "            p=ar[0]\n",
    "            n=len(ar)\n",
    "            mm=m.copy()\n",
    "            if n<2 and p!=1:\n",
    "                return m\n",
    "            lim=min(p+1,n+1)\n",
    "            for j in range(1,lim):\n",
    "                if j==n:\n",
    "                    if p==n:\n",
    "                        mm.append(p)\n",
    "                        w.append(tuple(mm))\n",
    "                        return m\n",
    "                    else:\n",
    "                        continue\n",
    "                if ar[j]-j<1:\n",
    "                    continue\n",
    "                ar[j]=ar[j]-j\n",
    "                mm.append(j)\n",
    "                v=solven(ar[j:],mm)\n",
    "                if len(v)==len(mm):\n",
    "                    v.pop()\n",
    "                mm=v\n",
    "            return mm \n",
    "    solven(ar,m)\n",
    "    if w==[]:\n",
    "        return []\n",
    "    mx=len(min(w,key=lambda x: len(x)))\n",
    "    s=[e for e in w if len(e)==mx]\n",
    "    s=sorted(s)\n",
    "    return s\n",
    "\n",
    "solve(cd4)"
   ]
  },
  {
   "cell_type": "code",
   "execution_count": null,
   "metadata": {},
   "outputs": [],
   "source": [
    "def solve(game):\n",
    "    ar=list(map(int,game))\n",
    "    m,w=[],[]\n",
    "    def solven(ar,m):\n",
    "            p=ar[0]\n",
    "            n=len(ar)\n",
    "            mm=m.copy()\n",
    "            if n<2 and p!=1:\n",
    "                return m\n",
    "            lim=min(p+1,n+1)\n",
    "            for j in range(1,lim):\n",
    "                if j==n:\n",
    "                    if p==n:\n",
    "                        mm.append(p)\n",
    "                        w.append(tuple(mm))\n",
    "                        return m\n",
    "                    else:\n",
    "                        continue\n",
    "                if ar[j]-j<1:\n",
    "                    continue\n",
    "                ar[j]=ar[j]-j\n",
    "                mm.append(j)\n",
    "                v=solven(ar[j:],mm)\n",
    "                if len(v)==len(mm):\n",
    "                    v.pop()\n",
    "                mm=v\n",
    "            return mm \n",
    "    solven(ar,m)\n",
    "    if w==[]:\n",
    "        return []\n",
    "    mx=len(min(w,key=lambda x: len(x)))\n",
    "    s=[e for e in w if len(e)==mx]\n",
    "    s=sorted(s)\n",
    "    return s"
   ]
  },
  {
   "cell_type": "code",
   "execution_count": 35,
   "metadata": {},
   "outputs": [
    {
     "data": {
      "text/plain": [
       "[(1, 4, 3, 1, 7), (1, 5, 1, 4, 5), (1, 5, 2, 1, 7)]"
      ]
     },
     "execution_count": 35,
     "metadata": {},
     "output_type": "execute_result"
    }
   ],
   "source": [
    "cd2=\"1871379558590150\"\n",
    "\n",
    "def solve(game):\n",
    "    ar,s=list(map(int,game)),[]\n",
    "    def solven(ar,m=[]):\n",
    "        p,n=ar[0],len(ar)\n",
    "        mm=m.copy()\n",
    "        if n>1 and p!=n:\n",
    "            for i in range(1,min(p+1,n)):\n",
    "                mm=m.copy()\n",
    "                if (r:=ar[i]-i)>0:\n",
    "                    ar[i]=r\n",
    "                    mm.append(i)\n",
    "                    solven(ar[i:],mm)\n",
    "        elif p==n:\n",
    "            mm.append(p)\n",
    "            s.append(tuple(mm))\n",
    "        return None\n",
    "    solven(ar)\n",
    "    if s:=sorted([e for e in s if len(e)==min(map(len,s))]):\n",
    "        return s\n",
    "    return []\n",
    "\n",
    "solve(cd2)"
   ]
  },
  {
   "cell_type": "code",
   "execution_count": 30,
   "metadata": {},
   "outputs": [
    {
     "data": {
      "text/plain": [
       "[(6, 2)]"
      ]
     },
     "execution_count": 30,
     "metadata": {},
     "output_type": "execute_result"
    }
   ],
   "source": [
    "def solve(game):\n",
    "    stack = [(tuple(map(int, game)), ())]\n",
    "    while stack:\n",
    "        sol= [p + (g[0],) for g, p in stack if len(g) == g[0]]\n",
    "        if sol: \n",
    "            return sol\n",
    "        stack = [((g[d] - d,) + g[d + 1:], p + (d,)) for g, p in stack\n",
    "                 for d in range(1, min(g[0] + 1, len(g))) if g[d] > d]\n",
    "    return []\n",
    "\n",
    "cd2=\"65042485\"\n",
    "solve(cd2)"
   ]
  },
  {
   "cell_type": "markdown",
   "metadata": {},
   "source": [
    "Jack really likes his number five: the trick here is that you have to multiply each number by 5 raised to the number of digits of each numbers, so, for example:\n",
    "\n",
    "multiply(3)==15 # 3 * 5¹\n",
    "multiply(10)==250 # 10 * 5²\n",
    "multiply(200)==25000 # 200 * 5³\n",
    "multiply(0)==0 # 0 * 5¹\n",
    "multiply(-3)==-15 # -3 * 5¹"
   ]
  },
  {
   "cell_type": "code",
   "execution_count": 46,
   "metadata": {},
   "outputs": [
    {
     "data": {
      "text/plain": [
       "750"
      ]
     },
     "execution_count": 46,
     "metadata": {},
     "output_type": "execute_result"
    }
   ],
   "source": [
    "n=30\n",
    "def multiply(n):\n",
    "    return n*5**len(str(abs(n)))\n",
    "\n",
    "multiply(n)"
   ]
  },
  {
   "cell_type": "code",
   "execution_count": 105,
   "metadata": {},
   "outputs": [
    {
     "data": {
      "text/plain": [
       "[6, 6]"
      ]
     },
     "execution_count": 105,
     "metadata": {},
     "output_type": "execute_result"
    }
   ],
   "source": [
    "def sum_and_multiply(sum, multiply):\n",
    "    if (s:=sum*sum)>=(m:=4*multiply):\n",
    "        p,q=s-m,0\n",
    "        for r in range(int(p/2)+2):\n",
    "            if q==p:\n",
    "                return [int((sum-r)/2),int((sum+r)/2)]\n",
    "            q+=2*r+1\n",
    "    return None\n",
    "\n",
    "sum_and_multiply(12,36)\n",
    "\n",
    "    \n",
    "    "
   ]
  },
  {
   "cell_type": "code",
   "execution_count": null,
   "metadata": {},
   "outputs": [],
   "source": [
    "def sum_and_multiply(sum, multiply):\n",
    "    for x in range(sum + 1):\n",
    "            if x * (sum - x) == multiply:\n",
    "                return [x, sum - x]"
   ]
  },
  {
   "cell_type": "code",
   "execution_count": null,
   "metadata": {},
   "outputs": [],
   "source": [
    "def multiply(n, k):\n",
    "    pass"
   ]
  },
  {
   "cell_type": "code",
   "execution_count": 8,
   "metadata": {},
   "outputs": [
    {
     "data": {
      "text/plain": [
       "[1, 2, 5]"
      ]
     },
     "execution_count": 8,
     "metadata": {},
     "output_type": "execute_result"
    }
   ],
   "source": [
    "n=10\n",
    "k=3\n",
    "def multiply(n):\n",
    "    fac=[1]\n",
    "    while n % 2 == 0:\n",
    "        fac.append(2)\n",
    "        n = n // 2\n",
    "    for i in range(3,int(n/2)+1,2):\n",
    "        while n % i== 0:\n",
    "            fac.append(i)\n",
    "            n = n / i\n",
    "    if n > 2:\n",
    "        fac.append(n)\n",
    "    return fac\n",
    "        \n",
    "multiply(n)"
   ]
  },
  {
   "cell_type": "code",
   "execution_count": 7,
   "metadata": {},
   "outputs": [
    {
     "name": "stdout",
     "output_type": "stream",
     "text": [
      "[[('A',), ('B',), ('C', 'D', 'E', 'F', 'G')], [('A',), ('C',), ('B', 'D', 'E', 'F', 'G')], [('A',), ('D',), ('B', 'C', 'E', 'F', 'G')], [('A',), ('E',), ('B', 'C', 'D', 'F', 'G')], [('A',), ('F',), ('B', 'C', 'D', 'E', 'G')], [('A',), ('G',), ('B', 'C', 'D', 'E', 'F')], [('B',), ('C',), ('A', 'D', 'E', 'F', 'G')], [('B',), ('D',), ('A', 'C', 'E', 'F', 'G')], [('B',), ('E',), ('A', 'C', 'D', 'F', 'G')], [('B',), ('F',), ('A', 'C', 'D', 'E', 'G')], [('B',), ('G',), ('A', 'C', 'D', 'E', 'F')], [('C',), ('D',), ('A', 'B', 'E', 'F', 'G')], [('C',), ('E',), ('A', 'B', 'D', 'F', 'G')], [('C',), ('F',), ('A', 'B', 'D', 'E', 'G')], [('C',), ('G',), ('A', 'B', 'D', 'E', 'F')], [('D',), ('E',), ('A', 'B', 'C', 'F', 'G')], [('D',), ('F',), ('A', 'B', 'C', 'E', 'G')], [('D',), ('G',), ('A', 'B', 'C', 'E', 'F')], [('E',), ('F',), ('A', 'B', 'C', 'D', 'G')], [('E',), ('G',), ('A', 'B', 'C', 'D', 'F')], [('F',), ('G',), ('A', 'B', 'C', 'D', 'E')], [('A',), ('B', 'C'), ('D', 'E', 'F', 'G')], [('A',), ('B', 'D'), ('C', 'E', 'F', 'G')], [('A',), ('B', 'E'), ('C', 'D', 'F', 'G')], [('A',), ('B', 'F'), ('C', 'D', 'E', 'G')], [('A',), ('B', 'G'), ('C', 'D', 'E', 'F')], [('A',), ('C', 'D'), ('B', 'E', 'F', 'G')], [('A',), ('C', 'E'), ('B', 'D', 'F', 'G')], [('A',), ('C', 'F'), ('B', 'D', 'E', 'G')], [('A',), ('C', 'G'), ('B', 'D', 'E', 'F')], [('A',), ('D', 'E'), ('B', 'C', 'F', 'G')], [('A',), ('D', 'F'), ('B', 'C', 'E', 'G')], [('A',), ('D', 'G'), ('B', 'C', 'E', 'F')], [('A',), ('E', 'F'), ('B', 'C', 'D', 'G')], [('A',), ('E', 'G'), ('B', 'C', 'D', 'F')], [('A',), ('F', 'G'), ('B', 'C', 'D', 'E')], [('B',), ('A', 'C'), ('D', 'E', 'F', 'G')], [('B',), ('A', 'D'), ('C', 'E', 'F', 'G')], [('B',), ('A', 'E'), ('C', 'D', 'F', 'G')], [('B',), ('A', 'F'), ('C', 'D', 'E', 'G')], [('B',), ('A', 'G'), ('C', 'D', 'E', 'F')], [('B',), ('C', 'D'), ('A', 'E', 'F', 'G')], [('B',), ('C', 'E'), ('A', 'D', 'F', 'G')], [('B',), ('C', 'F'), ('A', 'D', 'E', 'G')], [('B',), ('C', 'G'), ('A', 'D', 'E', 'F')], [('B',), ('D', 'E'), ('A', 'C', 'F', 'G')], [('B',), ('D', 'F'), ('A', 'C', 'E', 'G')], [('B',), ('D', 'G'), ('A', 'C', 'E', 'F')], [('B',), ('E', 'F'), ('A', 'C', 'D', 'G')], [('B',), ('E', 'G'), ('A', 'C', 'D', 'F')], [('B',), ('F', 'G'), ('A', 'C', 'D', 'E')], [('C',), ('A', 'B'), ('D', 'E', 'F', 'G')], [('C',), ('A', 'D'), ('B', 'E', 'F', 'G')], [('C',), ('A', 'E'), ('B', 'D', 'F', 'G')], [('C',), ('A', 'F'), ('B', 'D', 'E', 'G')], [('C',), ('A', 'G'), ('B', 'D', 'E', 'F')], [('C',), ('B', 'D'), ('A', 'E', 'F', 'G')], [('C',), ('B', 'E'), ('A', 'D', 'F', 'G')], [('C',), ('B', 'F'), ('A', 'D', 'E', 'G')], [('C',), ('B', 'G'), ('A', 'D', 'E', 'F')], [('C',), ('D', 'E'), ('A', 'B', 'F', 'G')], [('C',), ('D', 'F'), ('A', 'B', 'E', 'G')], [('C',), ('D', 'G'), ('A', 'B', 'E', 'F')], [('C',), ('E', 'F'), ('A', 'B', 'D', 'G')], [('C',), ('E', 'G'), ('A', 'B', 'D', 'F')], [('C',), ('F', 'G'), ('A', 'B', 'D', 'E')], [('D',), ('A', 'B'), ('C', 'E', 'F', 'G')], [('D',), ('A', 'C'), ('B', 'E', 'F', 'G')], [('D',), ('A', 'E'), ('B', 'C', 'F', 'G')], [('D',), ('A', 'F'), ('B', 'C', 'E', 'G')], [('D',), ('A', 'G'), ('B', 'C', 'E', 'F')], [('D',), ('B', 'C'), ('A', 'E', 'F', 'G')], [('D',), ('B', 'E'), ('A', 'C', 'F', 'G')], [('D',), ('B', 'F'), ('A', 'C', 'E', 'G')], [('D',), ('B', 'G'), ('A', 'C', 'E', 'F')], [('D',), ('C', 'E'), ('A', 'B', 'F', 'G')], [('D',), ('C', 'F'), ('A', 'B', 'E', 'G')], [('D',), ('C', 'G'), ('A', 'B', 'E', 'F')], [('D',), ('E', 'F'), ('A', 'B', 'C', 'G')], [('D',), ('E', 'G'), ('A', 'B', 'C', 'F')], [('D',), ('F', 'G'), ('A', 'B', 'C', 'E')], [('E',), ('A', 'B'), ('C', 'D', 'F', 'G')], [('E',), ('A', 'C'), ('B', 'D', 'F', 'G')], [('E',), ('A', 'D'), ('B', 'C', 'F', 'G')], [('E',), ('A', 'F'), ('B', 'C', 'D', 'G')], [('E',), ('A', 'G'), ('B', 'C', 'D', 'F')], [('E',), ('B', 'C'), ('A', 'D', 'F', 'G')], [('E',), ('B', 'D'), ('A', 'C', 'F', 'G')], [('E',), ('B', 'F'), ('A', 'C', 'D', 'G')], [('E',), ('B', 'G'), ('A', 'C', 'D', 'F')], [('E',), ('C', 'D'), ('A', 'B', 'F', 'G')], [('E',), ('C', 'F'), ('A', 'B', 'D', 'G')], [('E',), ('C', 'G'), ('A', 'B', 'D', 'F')], [('E',), ('D', 'F'), ('A', 'B', 'C', 'G')], [('E',), ('D', 'G'), ('A', 'B', 'C', 'F')], [('E',), ('F', 'G'), ('A', 'B', 'C', 'D')], [('F',), ('A', 'B'), ('C', 'D', 'E', 'G')], [('F',), ('A', 'C'), ('B', 'D', 'E', 'G')], [('F',), ('A', 'D'), ('B', 'C', 'E', 'G')], [('F',), ('A', 'E'), ('B', 'C', 'D', 'G')], [('F',), ('A', 'G'), ('B', 'C', 'D', 'E')], [('F',), ('B', 'C'), ('A', 'D', 'E', 'G')], [('F',), ('B', 'D'), ('A', 'C', 'E', 'G')], [('F',), ('B', 'E'), ('A', 'C', 'D', 'G')], [('F',), ('B', 'G'), ('A', 'C', 'D', 'E')], [('F',), ('C', 'D'), ('A', 'B', 'E', 'G')], [('F',), ('C', 'E'), ('A', 'B', 'D', 'G')], [('F',), ('C', 'G'), ('A', 'B', 'D', 'E')], [('F',), ('D', 'E'), ('A', 'B', 'C', 'G')], [('F',), ('D', 'G'), ('A', 'B', 'C', 'E')], [('F',), ('E', 'G'), ('A', 'B', 'C', 'D')], [('G',), ('A', 'B'), ('C', 'D', 'E', 'F')], [('G',), ('A', 'C'), ('B', 'D', 'E', 'F')], [('G',), ('A', 'D'), ('B', 'C', 'E', 'F')], [('G',), ('A', 'E'), ('B', 'C', 'D', 'F')], [('G',), ('A', 'F'), ('B', 'C', 'D', 'E')], [('G',), ('B', 'C'), ('A', 'D', 'E', 'F')], [('G',), ('B', 'D'), ('A', 'C', 'E', 'F')], [('G',), ('B', 'E'), ('A', 'C', 'D', 'F')], [('G',), ('B', 'F'), ('A', 'C', 'D', 'E')], [('G',), ('C', 'D'), ('A', 'B', 'E', 'F')], [('G',), ('C', 'E'), ('A', 'B', 'D', 'F')], [('G',), ('C', 'F'), ('A', 'B', 'D', 'E')], [('G',), ('D', 'E'), ('A', 'B', 'C', 'F')], [('G',), ('D', 'F'), ('A', 'B', 'C', 'E')], [('G',), ('E', 'F'), ('A', 'B', 'C', 'D')], [('A',), ('B', 'C', 'D'), ('E', 'F', 'G')], [('A',), ('B', 'C', 'E'), ('D', 'F', 'G')], [('A',), ('B', 'C', 'F'), ('D', 'E', 'G')], [('A',), ('B', 'C', 'G'), ('D', 'E', 'F')], [('A',), ('B', 'D', 'E'), ('C', 'F', 'G')], [('A',), ('B', 'D', 'F'), ('C', 'E', 'G')], [('A',), ('B', 'D', 'G'), ('C', 'E', 'F')], [('A',), ('B', 'E', 'F'), ('C', 'D', 'G')], [('A',), ('B', 'E', 'G'), ('C', 'D', 'F')], [('A',), ('B', 'F', 'G'), ('C', 'D', 'E')], [('B',), ('A', 'C', 'D'), ('E', 'F', 'G')], [('B',), ('A', 'C', 'E'), ('D', 'F', 'G')], [('B',), ('A', 'C', 'F'), ('D', 'E', 'G')], [('B',), ('A', 'C', 'G'), ('D', 'E', 'F')], [('B',), ('A', 'D', 'E'), ('C', 'F', 'G')], [('B',), ('A', 'D', 'F'), ('C', 'E', 'G')], [('B',), ('A', 'D', 'G'), ('C', 'E', 'F')], [('B',), ('A', 'E', 'F'), ('C', 'D', 'G')], [('B',), ('A', 'E', 'G'), ('C', 'D', 'F')], [('B',), ('A', 'F', 'G'), ('C', 'D', 'E')], [('C',), ('A', 'B', 'D'), ('E', 'F', 'G')], [('C',), ('A', 'B', 'E'), ('D', 'F', 'G')], [('C',), ('A', 'B', 'F'), ('D', 'E', 'G')], [('C',), ('A', 'B', 'G'), ('D', 'E', 'F')], [('C',), ('A', 'D', 'E'), ('B', 'F', 'G')], [('C',), ('A', 'D', 'F'), ('B', 'E', 'G')], [('C',), ('A', 'D', 'G'), ('B', 'E', 'F')], [('C',), ('A', 'E', 'F'), ('B', 'D', 'G')], [('C',), ('A', 'E', 'G'), ('B', 'D', 'F')], [('C',), ('A', 'F', 'G'), ('B', 'D', 'E')], [('D',), ('A', 'B', 'C'), ('E', 'F', 'G')], [('D',), ('A', 'B', 'E'), ('C', 'F', 'G')], [('D',), ('A', 'B', 'F'), ('C', 'E', 'G')], [('D',), ('A', 'B', 'G'), ('C', 'E', 'F')], [('D',), ('A', 'C', 'E'), ('B', 'F', 'G')], [('D',), ('A', 'C', 'F'), ('B', 'E', 'G')], [('D',), ('A', 'C', 'G'), ('B', 'E', 'F')], [('D',), ('A', 'E', 'F'), ('B', 'C', 'G')], [('D',), ('A', 'E', 'G'), ('B', 'C', 'F')], [('D',), ('A', 'F', 'G'), ('B', 'C', 'E')], [('E',), ('A', 'B', 'C'), ('D', 'F', 'G')], [('E',), ('A', 'B', 'D'), ('C', 'F', 'G')], [('E',), ('A', 'B', 'F'), ('C', 'D', 'G')], [('E',), ('A', 'B', 'G'), ('C', 'D', 'F')], [('E',), ('A', 'C', 'D'), ('B', 'F', 'G')], [('E',), ('A', 'C', 'F'), ('B', 'D', 'G')], [('E',), ('A', 'C', 'G'), ('B', 'D', 'F')], [('E',), ('A', 'D', 'F'), ('B', 'C', 'G')], [('E',), ('A', 'D', 'G'), ('B', 'C', 'F')], [('E',), ('A', 'F', 'G'), ('B', 'C', 'D')], [('F',), ('A', 'B', 'C'), ('D', 'E', 'G')], [('F',), ('A', 'B', 'D'), ('C', 'E', 'G')], [('F',), ('A', 'B', 'E'), ('C', 'D', 'G')], [('F',), ('A', 'B', 'G'), ('C', 'D', 'E')], [('F',), ('A', 'C', 'D'), ('B', 'E', 'G')], [('F',), ('A', 'C', 'E'), ('B', 'D', 'G')], [('F',), ('A', 'C', 'G'), ('B', 'D', 'E')], [('F',), ('A', 'D', 'E'), ('B', 'C', 'G')], [('F',), ('A', 'D', 'G'), ('B', 'C', 'E')], [('F',), ('A', 'E', 'G'), ('B', 'C', 'D')], [('G',), ('A', 'B', 'C'), ('D', 'E', 'F')], [('G',), ('A', 'B', 'D'), ('C', 'E', 'F')], [('G',), ('A', 'B', 'E'), ('C', 'D', 'F')], [('G',), ('A', 'B', 'F'), ('C', 'D', 'E')], [('G',), ('A', 'C', 'D'), ('B', 'E', 'F')], [('G',), ('A', 'C', 'E'), ('B', 'D', 'F')], [('G',), ('A', 'C', 'F'), ('B', 'D', 'E')], [('G',), ('A', 'D', 'E'), ('B', 'C', 'F')], [('G',), ('A', 'D', 'F'), ('B', 'C', 'E')], [('G',), ('A', 'E', 'F'), ('B', 'C', 'D')], [('A', 'B'), ('C', 'D'), ('E', 'F', 'G')], [('A', 'B'), ('C', 'E'), ('D', 'F', 'G')], [('A', 'B'), ('C', 'F'), ('D', 'E', 'G')], [('A', 'B'), ('C', 'G'), ('D', 'E', 'F')], [('A', 'B'), ('D', 'E'), ('C', 'F', 'G')], [('A', 'B'), ('D', 'F'), ('C', 'E', 'G')], [('A', 'B'), ('D', 'G'), ('C', 'E', 'F')], [('A', 'B'), ('E', 'F'), ('C', 'D', 'G')], [('A', 'B'), ('E', 'G'), ('C', 'D', 'F')], [('A', 'B'), ('F', 'G'), ('C', 'D', 'E')], [('A', 'C'), ('B', 'D'), ('E', 'F', 'G')], [('A', 'C'), ('B', 'E'), ('D', 'F', 'G')], [('A', 'C'), ('B', 'F'), ('D', 'E', 'G')], [('A', 'C'), ('B', 'G'), ('D', 'E', 'F')], [('A', 'C'), ('D', 'E'), ('B', 'F', 'G')], [('A', 'C'), ('D', 'F'), ('B', 'E', 'G')], [('A', 'C'), ('D', 'G'), ('B', 'E', 'F')], [('A', 'C'), ('E', 'F'), ('B', 'D', 'G')], [('A', 'C'), ('E', 'G'), ('B', 'D', 'F')], [('A', 'C'), ('F', 'G'), ('B', 'D', 'E')], [('A', 'D'), ('B', 'C'), ('E', 'F', 'G')], [('A', 'D'), ('B', 'E'), ('C', 'F', 'G')], [('A', 'D'), ('B', 'F'), ('C', 'E', 'G')], [('A', 'D'), ('B', 'G'), ('C', 'E', 'F')], [('A', 'D'), ('C', 'E'), ('B', 'F', 'G')], [('A', 'D'), ('C', 'F'), ('B', 'E', 'G')], [('A', 'D'), ('C', 'G'), ('B', 'E', 'F')], [('A', 'D'), ('E', 'F'), ('B', 'C', 'G')], [('A', 'D'), ('E', 'G'), ('B', 'C', 'F')], [('A', 'D'), ('F', 'G'), ('B', 'C', 'E')], [('A', 'E'), ('B', 'C'), ('D', 'F', 'G')], [('A', 'E'), ('B', 'D'), ('C', 'F', 'G')], [('A', 'E'), ('B', 'F'), ('C', 'D', 'G')], [('A', 'E'), ('B', 'G'), ('C', 'D', 'F')], [('A', 'E'), ('C', 'D'), ('B', 'F', 'G')], [('A', 'E'), ('C', 'F'), ('B', 'D', 'G')], [('A', 'E'), ('C', 'G'), ('B', 'D', 'F')], [('A', 'E'), ('D', 'F'), ('B', 'C', 'G')], [('A', 'E'), ('D', 'G'), ('B', 'C', 'F')], [('A', 'E'), ('F', 'G'), ('B', 'C', 'D')], [('A', 'F'), ('B', 'C'), ('D', 'E', 'G')], [('A', 'F'), ('B', 'D'), ('C', 'E', 'G')], [('A', 'F'), ('B', 'E'), ('C', 'D', 'G')], [('A', 'F'), ('B', 'G'), ('C', 'D', 'E')], [('A', 'F'), ('C', 'D'), ('B', 'E', 'G')], [('A', 'F'), ('C', 'E'), ('B', 'D', 'G')], [('A', 'F'), ('C', 'G'), ('B', 'D', 'E')], [('A', 'F'), ('D', 'E'), ('B', 'C', 'G')], [('A', 'F'), ('D', 'G'), ('B', 'C', 'E')], [('A', 'F'), ('E', 'G'), ('B', 'C', 'D')], [('A', 'G'), ('B', 'C'), ('D', 'E', 'F')], [('A', 'G'), ('B', 'D'), ('C', 'E', 'F')], [('A', 'G'), ('B', 'E'), ('C', 'D', 'F')], [('A', 'G'), ('B', 'F'), ('C', 'D', 'E')], [('A', 'G'), ('C', 'D'), ('B', 'E', 'F')], [('A', 'G'), ('C', 'E'), ('B', 'D', 'F')], [('A', 'G'), ('C', 'F'), ('B', 'D', 'E')], [('A', 'G'), ('D', 'E'), ('B', 'C', 'F')], [('A', 'G'), ('D', 'F'), ('B', 'C', 'E')], [('A', 'G'), ('E', 'F'), ('B', 'C', 'D')], [('B', 'C'), ('D', 'E'), ('A', 'F', 'G')], [('B', 'C'), ('D', 'F'), ('A', 'E', 'G')], [('B', 'C'), ('D', 'G'), ('A', 'E', 'F')], [('B', 'C'), ('E', 'F'), ('A', 'D', 'G')], [('B', 'C'), ('E', 'G'), ('A', 'D', 'F')], [('B', 'C'), ('F', 'G'), ('A', 'D', 'E')], [('B', 'D'), ('C', 'E'), ('A', 'F', 'G')], [('B', 'D'), ('C', 'F'), ('A', 'E', 'G')], [('B', 'D'), ('C', 'G'), ('A', 'E', 'F')], [('B', 'D'), ('E', 'F'), ('A', 'C', 'G')], [('B', 'D'), ('E', 'G'), ('A', 'C', 'F')], [('B', 'D'), ('F', 'G'), ('A', 'C', 'E')], [('B', 'E'), ('C', 'D'), ('A', 'F', 'G')], [('B', 'E'), ('C', 'F'), ('A', 'D', 'G')], [('B', 'E'), ('C', 'G'), ('A', 'D', 'F')], [('B', 'E'), ('D', 'F'), ('A', 'C', 'G')], [('B', 'E'), ('D', 'G'), ('A', 'C', 'F')], [('B', 'E'), ('F', 'G'), ('A', 'C', 'D')], [('B', 'F'), ('C', 'D'), ('A', 'E', 'G')], [('B', 'F'), ('C', 'E'), ('A', 'D', 'G')], [('B', 'F'), ('C', 'G'), ('A', 'D', 'E')], [('B', 'F'), ('D', 'E'), ('A', 'C', 'G')], [('B', 'F'), ('D', 'G'), ('A', 'C', 'E')], [('B', 'F'), ('E', 'G'), ('A', 'C', 'D')], [('B', 'G'), ('C', 'D'), ('A', 'E', 'F')], [('B', 'G'), ('C', 'E'), ('A', 'D', 'F')], [('B', 'G'), ('C', 'F'), ('A', 'D', 'E')], [('B', 'G'), ('D', 'E'), ('A', 'C', 'F')], [('B', 'G'), ('D', 'F'), ('A', 'C', 'E')], [('B', 'G'), ('E', 'F'), ('A', 'C', 'D')], [('C', 'D'), ('E', 'F'), ('A', 'B', 'G')], [('C', 'D'), ('E', 'G'), ('A', 'B', 'F')], [('C', 'D'), ('F', 'G'), ('A', 'B', 'E')], [('C', 'E'), ('D', 'F'), ('A', 'B', 'G')], [('C', 'E'), ('D', 'G'), ('A', 'B', 'F')], [('C', 'E'), ('F', 'G'), ('A', 'B', 'D')], [('C', 'F'), ('D', 'E'), ('A', 'B', 'G')], [('C', 'F'), ('D', 'G'), ('A', 'B', 'E')], [('C', 'F'), ('E', 'G'), ('A', 'B', 'D')], [('C', 'G'), ('D', 'E'), ('A', 'B', 'F')], [('C', 'G'), ('D', 'F'), ('A', 'B', 'E')], [('C', 'G'), ('E', 'F'), ('A', 'B', 'D')], [('D', 'E'), ('F', 'G'), ('A', 'B', 'C')], [('D', 'F'), ('E', 'G'), ('A', 'B', 'C')], [('D', 'G'), ('E', 'F'), ('A', 'B', 'C')]] 301\n"
     ]
    }
   ],
   "source": [
    "seq=['A','B', 'C', 'D','E','F','G']\n",
    "k=3\n",
    "def sorted_k_partitions(seq, k):\n",
    "    n = len(seq)\n",
    "    groups = []  # a list of lists, currently empty\n",
    "    def generate_partitions(i):\n",
    "        if i >= n:\n",
    "            yield map(tuple, groups)\n",
    "        else:\n",
    "            if n - i > k - len(groups):\n",
    "                for group in groups:\n",
    "                    group.append(seq[i])\n",
    "                    yield from generate_partitions(i + 1)\n",
    "                    group.pop()\n",
    "            if len(groups) < k:   # si falta un grupo lo agrega\n",
    "                groups.append([seq[i]])\n",
    "                yield from generate_partitions(i + 1)\n",
    "                groups.pop()\n",
    "    result = generate_partitions(0)\n",
    "    # Sort the parts in each partition in shortlex order\n",
    "    result = [sorted(ps, key = lambda p: (len(p), p)) for ps in result]\n",
    "    # Sort partitions by the length of each part, then lexicographically.\n",
    "    result = sorted(result, key = lambda ps: (*map(len, ps), ps))\n",
    "    return result\n",
    "pts=sorted_k_partitions(seq,k)\n",
    "print(pts,len(pts))\n"
   ]
  },
  {
   "cell_type": "code",
   "execution_count": 17,
   "metadata": {},
   "outputs": [
    {
     "data": {
      "text/plain": [
       "[[],\n",
       " [1],\n",
       " [2],\n",
       " [1, 2],\n",
       " [2],\n",
       " [1, 2],\n",
       " [2, 2],\n",
       " [1, 2, 2],\n",
       " [2],\n",
       " [1, 2],\n",
       " [2, 2],\n",
       " [1, 2, 2],\n",
       " [2, 2],\n",
       " [1, 2, 2],\n",
       " [2, 2, 2],\n",
       " [1, 2, 2, 2],\n",
       " [3],\n",
       " [1, 3],\n",
       " [2, 3],\n",
       " [1, 2, 3],\n",
       " [2, 3],\n",
       " [1, 2, 3],\n",
       " [2, 2, 3],\n",
       " [1, 2, 2, 3],\n",
       " [2, 3],\n",
       " [1, 2, 3],\n",
       " [2, 2, 3],\n",
       " [1, 2, 2, 3],\n",
       " [2, 2, 3],\n",
       " [1, 2, 2, 3],\n",
       " [2, 2, 2, 3],\n",
       " [1, 2, 2, 2, 3]]"
      ]
     },
     "execution_count": 17,
     "metadata": {},
     "output_type": "execute_result"
    }
   ],
   "source": [
    "def sub(ar):\n",
    "    subsets=[[]]\n",
    "    for e in ar:\n",
    "        for i in range(len(subsets)):\n",
    "            subsets.append(subsets[i]+[e])\n",
    "    return subsets\n",
    "\n",
    "sub([1, 2, 2, 2, 3])"
   ]
  }
 ],
 "metadata": {
  "kernelspec": {
   "display_name": "Python 3",
   "language": "python",
   "name": "python3"
  },
  "language_info": {
   "codemirror_mode": {
    "name": "ipython",
    "version": 3
   },
   "file_extension": ".py",
   "mimetype": "text/x-python",
   "name": "python",
   "nbconvert_exporter": "python",
   "pygments_lexer": "ipython3",
   "version": "3.11.5"
  },
  "orig_nbformat": 4
 },
 "nbformat": 4,
 "nbformat_minor": 2
}
