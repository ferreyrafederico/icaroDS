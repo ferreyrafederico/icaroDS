{
 "cells": [
  {
   "cell_type": "markdown",
   "metadata": {},
   "source": [
    "##### **Ejercicio de Regresión Lineal Múltiple** (4 variables independientes)  \n",
    "Dados 11 registros de propiedades (Tabla 1), con las características de ***Valor de la propiedad***, ***antigüedad***, ***accesos***, ***oficinas*** y ***superficie***.  \n",
    "Determine a partir de una regresión lineal múltiple en que medida estas características pueden predecir el ***valor de la propiedad***.   \n",
    "  \n",
    "**Obtenga:**  \n",
    "1) Los Coeficientes de regresion para cada variable y su desviación estandar.  \n",
    "2) Error esperado en la prediccion del valor de la propiedad o intervalo de confianza.\n",
    "\n",
    "**Ecuaciones:**  \n",
    "  \n",
    "$$ \\begin{pmatrix}\n",
    "y_1 \\\\\n",
    "y_2 \\\\\n",
    "\\vdots \\\\\n",
    "y_{n}\\end{pmatrix}=\n",
    "\\begin{pmatrix}\n",
    "1 & x_{1,1} & x_{1,2} & \\cdots & x_{1,k} \\\\\n",
    "1 & x_{2,1} & x_{2,2} & \\cdots & x_{2,k} \\\\\n",
    "\\vdots  & \\vdots  & \\ddots & \\vdots  \\\\\n",
    "1 & x_{n,1} & x_{n,2} & \\cdots & x_{n,k} \n",
    "\\end{pmatrix}\n",
    "\\begin{pmatrix}\n",
    "b_0 \\\\\n",
    "b_1 \\\\\n",
    "\\vdots \\\\\n",
    "b_k\\end{pmatrix} +\n",
    "\\begin{pmatrix}\n",
    "u_1 \\\\\n",
    "u_2 \\\\\n",
    "\\vdots \\\\\n",
    "u_n\\end{pmatrix} \\quad \\text{en adelante} \\quad y=Xb+u$$  \n",
    "en donde   \n",
    "$n=$ *número de registros de la muestra* (en este caso $n=11$)   \n",
    "$k=$ *número de variables* independientes (en este caso $k=4$)  \n",
    "$b=$ vector de coeficientes de la regresión  \n",
    "$X=$ matriz de variables donde se agrega una columna de unos, ***\"matriz de diseño\"***.  \n",
    "$u = $ vector de perturbaciones aleatorias  \n",
    "**Una estimación para $y$ será entonces:**\n",
    "$$\\hat{y}=X\\hat{b}$$\n",
    "y para obtener esos $\\hat{b}$ en regresión lineal múltiple se minimizan los cuadrados de los residuos, es decir la función:\n",
    "$$(e^Te)=(y-Xb)^T(y-Xb)$$  \n",
    "$$e=y-y(b)$$\n",
    "para cierto $\\hat{b}$ la función $(e^Te)=(y-Xb)^T(y-Xb)$ tendrá un mínimo.  \n",
    "Entonces:  \n",
    "$$\\frac{\\partial{e^Te}}{\\partial{b}}=\\frac{\\partial}{\\partial{b}}{(y-Xb)^T(y-Xb)}=\\frac{\\partial}{\\partial{b}}\\big({y^Ty-(Xb)^Ty-y^TXb+(Xb)^TXb}\\big)$$  \n",
    "$$\\frac{\\partial}{\\partial{b}}\\big({(Xb)^TXb-2y^TXb}\\big)=2X^TXb-2y^TX$$  \n",
    "$$X^TX\\hat{b}-y^TX=0 \\quad \\implies \\quad X^TX\\hat{b}=y^TX \\quad \\implies \\quad \\hat{b}=(X^TX)^{-1}y^TX= (X^TX)^{-1}X^Ty$$  \n",
    "$$\\hat{b}={(X^TX)}^{-1}X^Ty \\quad\\text {son los coeficientes estimados de la regresión}$$  \n",
    "**Ahora se puede calcular la varianza para los coeficientes estimados $\\hat{b}$:**  \n",
    "$$\\hat{b}-b={(X^TX)}^{-1}X^Ty-b={(X^TX)}^{-1}X^T(Xb+u)-b=b+(X^TX)^{-1}X^Tu-b$$\n",
    "$$(\\hat{b}-b)=(X^TX)^{-1}X^Tu$$\n",
    "$$(\\hat{b}-b)^T=u^TX(X^TX)^{-1}$$\n",
    "$$V_{\\hat{b}}=E\\big[(\\hat{b}-b)^T(\\hat{b}-b)\\big]=E\\big[(X^TX)^{-1}X^Tuu^TX(X^TX)^{-1}\\big]=(X^TX)^{-1}X^TE\\big[uu^T\\big]X(X^TX)^{-1}$$  \n",
    "$$E\\big[uu^T\\big]\\quad\\text{puede estimarse por}\\quad v_{\\hat{y}}=\\frac{\\hat{e}^T\\hat{e}}{n-(k+1)}\\quad\\text{de modo que:}$$\n",
    "$$V_{\\hat{b}}=v_{\\hat{y}}X(X^TX)^{-1}=\\frac{\\hat{e}^T\\hat{e}}{n-(k+1)}X(X^TX)^{-1}$$\n",
    "$V_{\\hat{b}} \\quad \\text {es la matriz de varianzas covarianzas de los coeficientes de la regresión}$  \n",
    "$E[\\quad]\\text{\\quad es el valor esperado}$  \n",
    "$\\hat{e}=y-\\hat{y}$  "
   ]
  },
  {
   "cell_type": "markdown",
   "metadata": {},
   "source": [
    "**Resumen de Fórmulas básicas de la regresión lineal múltiple:**  \n",
    "$$\\hat{b}={(X^TX)}^{-1}X^Ty$$\n",
    "$$\\hat{e}=y-\\hat{y}\\quad\\text{en donde}\\quad \\hat{y}=X\\hat{b} \\quad\\text{son los valores ajustados}$$\n",
    "$$ v_{\\hat{y}} = \\frac{\\hat{e}^T\\hat{e}}{n - (k+1)} \\quad \\sigma_{\\hat{y}} = \\sqrt{v_{\\hat{y}}} \\quad \\text{es la desviación de los residuos.}$$\n",
    "$$V_{\\hat{b}} = v_{\\hat{y}}(X^TX)^{-1}=v_{ij}$$ \n",
    "$$\\sigma_D=\\begin{pmatrix}\\sqrt{v_{00}},&\\sqrt{v_{11}},&\\dots,\\sqrt{v_{kk}}\\end{pmatrix}\\quad\\text{son las desviaciones estandar de los coeficientes de la regresión.}$$"
   ]
  },
  {
   "cell_type": "markdown",
   "metadata": {},
   "source": [
    "#### Presentación de los datos en el dataframe."
   ]
  },
  {
   "cell_type": "code",
   "execution_count": 1,
   "metadata": {},
   "outputs": [
    {
     "data": {
      "text/html": [
       "<div>\n",
       "<style scoped>\n",
       "    .dataframe tbody tr th:only-of-type {\n",
       "        vertical-align: middle;\n",
       "    }\n",
       "\n",
       "    .dataframe tbody tr th {\n",
       "        vertical-align: top;\n",
       "    }\n",
       "\n",
       "    .dataframe thead th {\n",
       "        text-align: right;\n",
       "    }\n",
       "</style>\n",
       "<table border=\"1\" class=\"dataframe\">\n",
       "  <thead>\n",
       "    <tr style=\"text-align: right;\">\n",
       "      <th></th>\n",
       "      <th>Valor</th>\n",
       "      <th>Antigüedad</th>\n",
       "      <th>Accesos</th>\n",
       "      <th>Oficinas</th>\n",
       "      <th>Superficie</th>\n",
       "    </tr>\n",
       "  </thead>\n",
       "  <tbody>\n",
       "    <tr>\n",
       "      <th>0</th>\n",
       "      <td>142.0</td>\n",
       "      <td>20</td>\n",
       "      <td>2.0</td>\n",
       "      <td>2</td>\n",
       "      <td>2310</td>\n",
       "    </tr>\n",
       "    <tr>\n",
       "      <th>1</th>\n",
       "      <td>144.0</td>\n",
       "      <td>12</td>\n",
       "      <td>2.0</td>\n",
       "      <td>2</td>\n",
       "      <td>2333</td>\n",
       "    </tr>\n",
       "    <tr>\n",
       "      <th>2</th>\n",
       "      <td>151.0</td>\n",
       "      <td>33</td>\n",
       "      <td>1.5</td>\n",
       "      <td>3</td>\n",
       "      <td>2356</td>\n",
       "    </tr>\n",
       "    <tr>\n",
       "      <th>3</th>\n",
       "      <td>360.0</td>\n",
       "      <td>40</td>\n",
       "      <td>2.0</td>\n",
       "      <td>3</td>\n",
       "      <td>2273</td>\n",
       "    </tr>\n",
       "    <tr>\n",
       "      <th>4</th>\n",
       "      <td>139.0</td>\n",
       "      <td>53</td>\n",
       "      <td>3.0</td>\n",
       "      <td>2</td>\n",
       "      <td>2402</td>\n",
       "    </tr>\n",
       "    <tr>\n",
       "      <th>5</th>\n",
       "      <td>169.0</td>\n",
       "      <td>23</td>\n",
       "      <td>2.0</td>\n",
       "      <td>4</td>\n",
       "      <td>2425</td>\n",
       "    </tr>\n",
       "    <tr>\n",
       "      <th>6</th>\n",
       "      <td>126.0</td>\n",
       "      <td>99</td>\n",
       "      <td>1.5</td>\n",
       "      <td>2</td>\n",
       "      <td>2448</td>\n",
       "    </tr>\n",
       "    <tr>\n",
       "      <th>7</th>\n",
       "      <td>142.9</td>\n",
       "      <td>34</td>\n",
       "      <td>2.0</td>\n",
       "      <td>2</td>\n",
       "      <td>2471</td>\n",
       "    </tr>\n",
       "    <tr>\n",
       "      <th>8</th>\n",
       "      <td>163.0</td>\n",
       "      <td>23</td>\n",
       "      <td>3.0</td>\n",
       "      <td>3</td>\n",
       "      <td>2494</td>\n",
       "    </tr>\n",
       "    <tr>\n",
       "      <th>9</th>\n",
       "      <td>189.0</td>\n",
       "      <td>55</td>\n",
       "      <td>4.0</td>\n",
       "      <td>4</td>\n",
       "      <td>2517</td>\n",
       "    </tr>\n",
       "    <tr>\n",
       "      <th>10</th>\n",
       "      <td>149.0</td>\n",
       "      <td>22</td>\n",
       "      <td>3.0</td>\n",
       "      <td>2</td>\n",
       "      <td>2540</td>\n",
       "    </tr>\n",
       "  </tbody>\n",
       "</table>\n",
       "</div>"
      ],
      "text/plain": [
       "    Valor  Antigüedad  Accesos  Oficinas  Superficie\n",
       "0   142.0          20      2.0         2        2310\n",
       "1   144.0          12      2.0         2        2333\n",
       "2   151.0          33      1.5         3        2356\n",
       "3   360.0          40      2.0         3        2273\n",
       "4   139.0          53      3.0         2        2402\n",
       "5   169.0          23      2.0         4        2425\n",
       "6   126.0          99      1.5         2        2448\n",
       "7   142.9          34      2.0         2        2471\n",
       "8   163.0          23      3.0         3        2494\n",
       "9   189.0          55      4.0         4        2517\n",
       "10  149.0          22      3.0         2        2540"
      ]
     },
     "execution_count": 1,
     "metadata": {},
     "output_type": "execute_result"
    }
   ],
   "source": [
    "import numpy as np\n",
    "import pandas as pd\n",
    "\n",
    "data = pd.read_csv(\"ValorInmueble.csv\")\n",
    "df = pd.DataFrame(data)\n",
    "df"
   ]
  },
  {
   "cell_type": "markdown",
   "metadata": {},
   "source": [
    "#### Ejemplo de Regresión Lineal Múltiple\n",
    "\n",
    "##### Datos\n",
    "\n",
    "| Valor $y$ | Antigüedad $x_1$| Accesos $x_2$ | Oficinas $x_3$| Superficie $x_4$ |\n",
    "|-------|------------|---------|----------|------------|\n",
    "| 142.0 | 20         | 2.0     | 2        | 2310       |\n",
    "| 144.0 | 12         | 2.0     | 2        | 2333       |\n",
    "| 151.0 | 33         | 1.5     | 3        | 2356       |\n",
    "| 360.0 | 40         | 2.0     | 3        | 2273       |\n",
    "| 139.0 | 53         | 3.0     | 2        | 2402       |\n",
    "| 169.0 | 23         | 2.0     | 4        | 2425       |\n",
    "| 126.0 | 99         | 1.5     | 2        | 2448       |\n",
    "| 142.9 | 34         | 2.0     | 2        | 2471       |\n",
    "| 163.0 | 23         | 3.0     | 3        | 2494       |\n",
    "| 189.0 | 55         | 4.0     | 4        | 2517       |\n",
    "| 149.0 | 22         | 3.0     | 2        | 2540       |\n",
    "\n",
    "\n",
    "##### Matrices y Vectores\n",
    "\n",
    "Se construye la matriz **X** agregando una columna de \"unos\" (1) al principio:\n",
    "\n",
    "$$\n",
    "\\begin{bmatrix}\n",
    "1 & 20 & 2.0 & 2 & 2310 \\\\\n",
    "1 & 12 & 2.0 & 2 & 2333 \\\\\n",
    "1 & 33 & 1.5 & 3 & 2356 \\\\\n",
    "1 & 40 & 2.0 & 3 & 2273 \\\\\n",
    "1 & 53 & 3.0 & 2 & 2402 \\\\\n",
    "1 & 23 & 2.0 & 4 & 2425 \\\\\n",
    "1 & 99 & 1.5 & 2 & 2448 \\\\\n",
    "1 & 34 & 2.0 & 2 & 2471 \\\\\n",
    "1 & 23 & 3.0 & 3 & 2494 \\\\\n",
    "1 & 55 & 4.0 & 4 & 2517 \\\\\n",
    "1 & 22 & 3.0 & 2 & 2540 \\\\\n",
    "\\end{bmatrix}\n",
    "$$\n",
    "\n",
    "El vector de la variable dependiente **y** es:\n",
    "\n",
    "$$ y =\n",
    "\\begin{bmatrix}\n",
    "142.0 \\\\\n",
    "144.0 \\\\\n",
    "151.0 \\\\\n",
    "360.0 \\\\\n",
    "139.0 \\\\\n",
    "169.0 \\\\\n",
    "126.0 \\\\\n",
    "142.9 \\\\\n",
    "163.0 \\\\\n",
    "189.0 \\\\\n",
    "149.0 \\\\\n",
    "\\end{bmatrix}\n",
    "$$"
   ]
  },
  {
   "cell_type": "code",
   "execution_count": 3,
   "metadata": {},
   "outputs": [],
   "source": [
    "import numpy as np\n",
    "\n",
    "x = np.array(\n",
    "    [\n",
    "        [1, 20, 2.0, 2, 2310],\n",
    "        [1, 12, 2.0, 2, 2333],\n",
    "        [1, 33, 1.5, 3, 2356],\n",
    "        [1, 40, 2.0, 3, 2273],\n",
    "        [1, 53, 3.0, 2, 2402],\n",
    "        [1, 23, 2.0, 4, 2425],\n",
    "        [1, 99, 1.5, 2, 2448],\n",
    "        [1, 34, 2.0, 2, 2471],\n",
    "        [1, 23, 3.0, 3, 2494],\n",
    "        [1, 55, 4.0, 4, 2517],\n",
    "        [1, 22, 3.0, 2, 2540],\n",
    "    ]\n",
    ")\n",
    "k = len(x[0]) - 1"
   ]
  },
  {
   "cell_type": "markdown",
   "metadata": {},
   "source": [
    "##### Ecuación Matricial\n",
    "\n",
    "La ecuación matricial es:\n",
    "\n",
    "$$ \\begin{bmatrix}\n",
    "142.0 \\\\\n",
    "144.0 \\\\\n",
    "151.0 \\\\\n",
    "360.0 \\\\\n",
    "139.0 \\\\\n",
    "169.0 \\\\\n",
    "126.0 \\\\\n",
    "142.9 \\\\\n",
    "163.0 \\\\\n",
    "189.0 \\\\\n",
    "149.0 \\\\\n",
    "\\end{bmatrix} = \n",
    "\\begin{bmatrix}\n",
    "1 & 20 & 2.0 & 2 & 2310 \\\\\n",
    "1 & 12 & 2.0 & 2 & 2333 \\\\\n",
    "1 & 33 & 1.5 & 3 & 2356 \\\\\n",
    "1 & 40 & 2.0 & 3 & 2273 \\\\\n",
    "1 & 53 & 3.0 & 2 & 2402 \\\\\n",
    "1 & 23 & 2.0 & 4 & 2425 \\\\\n",
    "1 & 99 & 1.5 & 2 & 2448 \\\\\n",
    "1 & 34 & 2.0 & 2 & 2471 \\\\\n",
    "1 & 23 & 3.0 & 3 & 2494 \\\\\n",
    "1 & 55 & 4.0 & 4 & 2517 \\\\\n",
    "1 & 22 & 3.0 & 2 & 2540 \\\\\n",
    "\\end{bmatrix}\n",
    "·\n",
    "\\begin{bmatrix} b_0 \\\\ b_1 \\\\ b_2 \\\\ b_3 \\\\b_4 \\end{bmatrix}\n",
    "$$\n",
    "\n",
    "##### Solución\n",
    "\n",
    "La solución para el vector de coeficientes **b** se obtiene utilizando la fórmula:\n",
    "\n",
    "$$ \\hat{b} = (X^T X)^{-1} X^T y $$\n",
    "\n",
    "Calcular $X^T X$:\n",
    "\n",
    "$$\n",
    "\\begin{bmatrix}\n",
    "11 & 414 & 26 & 29 & 26569 \\\\\n",
    "414 & 21566 & 970 & 1080 & 1003988 \\\\\n",
    "26 & 970 & 67.5 & 70.5 & 63206 \\\\\n",
    "29 & 1080 & 70.5 & 83 & 70145 \\\\\n",
    "26569 & 1003988 & 63206 & 70145 & 64251953 \\\\\n",
    "\\end{bmatrix}\n",
    "$$"
   ]
  },
  {
   "cell_type": "code",
   "execution_count": 4,
   "metadata": {},
   "outputs": [
    {
     "data": {
      "text/plain": [
       "array([[1.1000000e+01, 4.1400000e+02, 2.6000000e+01, 2.9000000e+01,\n",
       "        2.6569000e+04],\n",
       "       [4.1400000e+02, 2.1566000e+04, 9.7000000e+02, 1.0800000e+03,\n",
       "        1.0039880e+06],\n",
       "       [2.6000000e+01, 9.7000000e+02, 6.7500000e+01, 7.0500000e+01,\n",
       "        6.3206000e+04],\n",
       "       [2.9000000e+01, 1.0800000e+03, 7.0500000e+01, 8.3000000e+01,\n",
       "        7.0145000e+04],\n",
       "       [2.6569000e+04, 1.0039880e+06, 6.3206000e+04, 7.0145000e+04,\n",
       "        6.4251953e+07]])"
      ]
     },
     "execution_count": 4,
     "metadata": {},
     "output_type": "execute_result"
    }
   ],
   "source": [
    "import numpy as np\n",
    "\n",
    "xt = x.T  # Se calcula la traspuesta de X con el método .T\n",
    "xtx = np.dot(\n",
    "    xt, x\n",
    ")  # Se calcula el producto entre XT y X es un producto matricial (producto punto).\n",
    "xtx"
   ]
  },
  {
   "cell_type": "markdown",
   "metadata": {},
   "source": [
    "Calcular $(X^T X)^{-1}$:\n",
    "\n",
    "$$\n",
    "(\\mathbf{X}^T \\mathbf{X})^{-1} = \n",
    "\\begin{bmatrix}\n",
    "1.07665224 \\times 10^2 & 2.88525398 \\times 10^{-2} & 3.00540699  & -5.30286799 \\times 10^{-1} & -4.73493426 \\times 10^{-2} \\\\\n",
    "2.88525398 \\times 10^{-2} & 1.80180546 \\times 10^{-4} & 1.28723649 \\times 10^{-3} & 1.77174972 \\times 10^{-4} & -1.62060637 \\times 10^{-5} \\\\\n",
    "3.00540699 & 1.28723649 \\times 10^{-3} & 2.86286108 \\times 10^{-1} & -6.07756694 \\times 10^{-2} & -1.47816392 \\times 10^{-3} \\\\\n",
    "-5.30286799 \\times 10^{-1} & 1.77174972 \\times 10^{-4} & -6.07756694 \\times 10^{-2} & 1.69855498 \\times 10^{-1} & 9.08638756 \\times 10^{-5} \\\\\n",
    "-4.73493426 \\times 10^{-2} & -1.62060637 \\times 10^{-5} & -1.47816392 \\times 10^{-3} & 9.08638756 \\times 10^{-5} & 2.12032553 \\times 10^{-5} \\\\\n",
    "\\end{bmatrix}\n",
    "$$"
   ]
  },
  {
   "cell_type": "code",
   "execution_count": 5,
   "metadata": {},
   "outputs": [
    {
     "data": {
      "text/plain": [
       "array([[ 1.07665224e+02,  2.88525398e-02,  3.00540699e+00,\n",
       "        -5.30286799e-01, -4.73493426e-02],\n",
       "       [ 2.88525398e-02,  1.80180546e-04,  1.28723649e-03,\n",
       "         1.77174972e-04, -1.62060637e-05],\n",
       "       [ 3.00540699e+00,  1.28723649e-03,  2.86286108e-01,\n",
       "        -6.07756694e-02, -1.47816392e-03],\n",
       "       [-5.30286799e-01,  1.77174972e-04, -6.07756694e-02,\n",
       "         1.69855498e-01,  9.08638756e-05],\n",
       "       [-4.73493426e-02, -1.62060637e-05, -1.47816392e-03,\n",
       "         9.08638756e-05,  2.12032553e-05]])"
      ]
     },
     "execution_count": 5,
     "metadata": {},
     "output_type": "execute_result"
    }
   ],
   "source": [
    "xtx_1 = np.linalg.inv(\n",
    "    xtx\n",
    ")  # Se calcula la inversa del resultado anterior con el metodo .linalg.inv()\n",
    "\n",
    "\n",
    "xtx_1"
   ]
  },
  {
   "cell_type": "markdown",
   "metadata": {},
   "source": [
    "Calcular $X^T y$:\n",
    "\n",
    "$$ X^T y = \n",
    "\\begin{bmatrix}\n",
    "1874.9 \\\\\n",
    "69959.6 \\\\\n",
    "4440.3 \\\\\n",
    "5139.8 \\\\\n",
    "4503959.9 \\\\\n",
    "\\end{bmatrix}\n",
    "$$"
   ]
  },
  {
   "cell_type": "code",
   "execution_count": 7,
   "metadata": {},
   "outputs": [
    {
     "data": {
      "text/plain": [
       "array([1.8749000e+03, 6.9959600e+04, 4.4403000e+03, 5.1398000e+03,\n",
       "       4.5039599e+06])"
      ]
     },
     "execution_count": 7,
     "metadata": {},
     "output_type": "execute_result"
    }
   ],
   "source": [
    "y = df[\"Valor\"]  # Se establece \"y\" con los valores medidos.\n",
    "n = len(y)\n",
    "xty = np.dot(\n",
    "    xt, y\n",
    ")  # Se obtiene el producto de la traspuesta de X por \"y\" con el método .dot() (producto punto)\n",
    "xty"
   ]
  },
  {
   "cell_type": "markdown",
   "metadata": {},
   "source": [
    "Multiplicar $(X^T X)^{-1}$ por $X^T y$ para obtener **b**:\n",
    "\n",
    "$$ (X^T X)^{-1}·X^Ty = \\hat{b} = \n",
    "\\begin{bmatrix}\n",
    "1239.8414 \\\\\n",
    "0.3359 \\\\\n",
    "26.1225 \\\\\n",
    "30.5687 \\\\\n",
    "-0.5069 \\\\\n",
    "\\end{bmatrix}\n",
    "$$"
   ]
  },
  {
   "cell_type": "code",
   "execution_count": 8,
   "metadata": {},
   "outputs": [
    {
     "data": {
      "text/plain": [
       "array([ 1.23984142e+03,  3.35884808e-01,  2.61225137e+01,  3.05687069e+01,\n",
       "       -5.06909926e-01])"
      ]
     },
     "execution_count": 8,
     "metadata": {},
     "output_type": "execute_result"
    }
   ],
   "source": [
    "# b = np.dot(xtx_1, xty)\n",
    "b = xtx_1@xty # Otra notación de multiplicar mas compacta\n",
    "b"
   ]
  },
  {
   "cell_type": "markdown",
   "metadata": {},
   "source": [
    "Se calcula ahora $\\hat{e}=y-\\hat{y}=y-X\\hat{b}$:"
   ]
  },
  {
   "cell_type": "code",
   "execution_count": 9,
   "metadata": {},
   "outputs": [
    {
     "data": {
      "text/plain": [
       "0     -46.979632\n",
       "1     -30.633625\n",
       "2     -36.535728\n",
       "3     114.978298\n",
       "4     -40.550631\n",
       "5     -23.830058\n",
       "6      -6.499705\n",
       "7      30.830479\n",
       "8       9.592920\n",
       "9     -20.187687\n",
       "10     49.815368\n",
       "Name: Valor, dtype: float64"
      ]
     },
     "execution_count": 9,
     "metadata": {},
     "output_type": "execute_result"
    }
   ],
   "source": [
    "# ys = np.dot(x, b)\n",
    "ys = x@b\n",
    "e = y - ys\n",
    "e"
   ]
  },
  {
   "cell_type": "markdown",
   "metadata": {},
   "source": [
    "Se calcula la varianza $v_{\\hat{y}} = \\frac{1}{n - (k+1)}\\hat{e}^T\\hat{e}=3981.08$:"
   ]
  },
  {
   "cell_type": "code",
   "execution_count": 10,
   "metadata": {},
   "outputs": [
    {
     "data": {
      "text/plain": [
       "3981.083467464503"
      ]
     },
     "execution_count": 10,
     "metadata": {},
     "output_type": "execute_result"
    }
   ],
   "source": [
    "et = e.T\n",
    "vy = (1 / (n - k - 1)) * et@e\n",
    "vy"
   ]
  },
  {
   "cell_type": "markdown",
   "metadata": {},
   "source": [
    "Se calcula la desviación en y $\\sigma_{\\hat{y}}=\\sqrt{v_{\\hat{y}}}=63$:"
   ]
  },
  {
   "cell_type": "code",
   "execution_count": 11,
   "metadata": {},
   "outputs": [
    {
     "data": {
      "text/plain": [
       "63.095827654960694"
      ]
     },
     "execution_count": 11,
     "metadata": {},
     "output_type": "execute_result"
    }
   ],
   "source": [
    "sy = np.sqrt(vy)\n",
    "sy"
   ]
  },
  {
   "cell_type": "markdown",
   "metadata": {},
   "source": [
    "Ahora se calcula la matriz de varianza-covarianza de la regresión:\n",
    "$$V_{\\hat{b}} = v_{\\hat{y}}(X^TX)^{-1}=v_{ij}$$ \n",
    "\n",
    "$$\n",
    "\\begin{bmatrix}\n",
    "428624.245 & 114.864369 & 11964.7761 & -2111.11601 & -188.501685 \\\\\n",
    "114.864369 & 0.717313791 & 5.12459589 & 0.705348352 & -0.0645176923 \\\\\n",
    "11964.7761 & 5.12459589 & 1139.72889 & -241.953012 & -5.88469395 \\\\\n",
    "-2111.11601 & 0.705348352 & -241.953012 & 676.208915 & 0.361736673 \\\\\n",
    "-188.501685 & -0.0645176923 & -5.88469395 & 0.361736673 & 0.084411929\n",
    "\\end{bmatrix}\n",
    "$$"
   ]
  },
  {
   "cell_type": "code",
   "execution_count": 12,
   "metadata": {},
   "outputs": [
    {
     "data": {
      "text/plain": [
       "array([[ 4.28624245e+05,  1.14864369e+02,  1.19647761e+04,\n",
       "        -2.11111601e+03, -1.88501685e+02],\n",
       "       [ 1.14864369e+02,  7.17313791e-01,  5.12459589e+00,\n",
       "         7.05348352e-01, -6.45176923e-02],\n",
       "       [ 1.19647761e+04,  5.12459589e+00,  1.13972889e+03,\n",
       "        -2.41953012e+02, -5.88469395e+00],\n",
       "       [-2.11111601e+03,  7.05348352e-01, -2.41953012e+02,\n",
       "         6.76208915e+02,  3.61736673e-01],\n",
       "       [-1.88501685e+02, -6.45176923e-02, -5.88469395e+00,\n",
       "         3.61736673e-01,  8.44119290e-02]])"
      ]
     },
     "execution_count": 12,
     "metadata": {},
     "output_type": "execute_result"
    }
   ],
   "source": [
    "vb = vy * xtx_1\n",
    "vb"
   ]
  },
  {
   "cell_type": "markdown",
   "metadata": {},
   "source": [
    "Ahora se extrae la diagonal y se realiza la raiz cuadrada para obtener las desviaciones de los coeficientes de la regresión:\n",
    "$$\\sigma_D=\\begin{pmatrix}\\sqrt{v_{00}},&\\sqrt{v_{11}},&\\dots,\\sqrt{v_{kk}}\\end{pmatrix}$$\n",
    "$$\\sigma_D=\n",
    "\\begin{pmatrix}\n",
    "654.6940, & 0.8469, & 33.7599, & 26.0040, & 0.2905 \\\\\n",
    "\\end{pmatrix}\n",
    "$$"
   ]
  },
  {
   "cell_type": "code",
   "execution_count": 13,
   "metadata": {},
   "outputs": [
    {
     "data": {
      "text/plain": [
       "array([6.54694009e+02, 8.46943794e-01, 3.37598710e+01, 2.60040173e+01,\n",
       "       2.90537311e-01])"
      ]
     },
     "execution_count": 13,
     "metadata": {},
     "output_type": "execute_result"
    }
   ],
   "source": [
    "vd = np.diagonal(vb)\n",
    "sd = np.sqrt(vd)\n",
    "sd"
   ]
  },
  {
   "cell_type": "markdown",
   "metadata": {},
   "source": [
    "Se puede calcular también el coeficiente de determinación $R^2$:\n",
    "$$R^2=1-\\frac{(y-\\hat y)^T(y-\\hat y)}{(y-\\bar y)^T(y-\\bar y)}=1-\\frac{\\hat{e}^T\\hat{e}}{\\bar{e}^T\\bar{e}}=0.4367$$\n",
    "y el coeficiente de correlación múltiple, $\\sqrt{R^2}=R$:  \n",
    "$$R=0.6608$$"
   ]
  },
  {
   "cell_type": "code",
   "execution_count": 14,
   "metadata": {},
   "outputs": [
    {
     "data": {
      "text/plain": [
       "0.43666872376417354"
      ]
     },
     "execution_count": 14,
     "metadata": {},
     "output_type": "execute_result"
    }
   ],
   "source": [
    "ym = df[\"Valor\"].mean()\n",
    "ym = np.full(11, ym)\n",
    "em = y - ym\n",
    "r2 = 1 - et@e /(em.T@em)\n",
    "r2"
   ]
  },
  {
   "cell_type": "markdown",
   "metadata": {},
   "source": [
    "El coeficiente de determinación ajustado $R^2_{\\text{ajustado}}$ se calcula utilizando la siguiente fórmula:\n",
    "\n",
    "$$\n",
    "R^2_{\\text{ajustado}} = 1 - \\frac{  (n - 1)}{(n - 1) - k}\\cdot(1 - R^2)=0.0611\n",
    "$$\n",
    "\n",
    "Donde:\n",
    "- $R^2$ es el coeficiente de determinación.\n",
    "- $n$ es el número de observaciones.\n",
    "- $k$ es el número de predictores (variables independientes).\n",
    "\n",
    "Esta fórmula ajusta el $R^2$ para tener en cuenta el número de predictores en el modelo y el número total de observaciones. Cuanto mayor sea el $R^2_{\\text{ajustado}}$, mejor se ajusta el modelo a los datos, considerando el número de predictores.\n"
   ]
  },
  {
   "cell_type": "code",
   "execution_count": 15,
   "metadata": {},
   "outputs": [
    {
     "data": {
      "text/plain": [
       "0.0611145396069559"
      ]
     },
     "execution_count": 15,
     "metadata": {},
     "output_type": "execute_result"
    }
   ],
   "source": [
    "ra2 = 1 - (1 - r2) * (n - 1) / (n - k - 1)\n",
    "ra2"
   ]
  },
  {
   "cell_type": "markdown",
   "metadata": {},
   "source": [
    "El estadístico F puede expresarse de la siguiente manera:\n",
    "\n",
    "$$ F =\\frac{MSR}{MSE}= \\frac{(\\bar Y-\\hat Y)^T(\\bar Y-\\hat Y)/k}{(Y-\\hat Y)^T(Y-\\hat Y)/(n-k-1)} = 1.1627$$\n",
    "\n",
    "\n",
    "Donde:\n",
    "- MSR (Mean Square Regression) es la media de los cuadrados de la regresión.\n",
    "- MSE (Mean Square Error) es la media de los cuadrados del error.\n",
    "- $ Y $ es el vector de observaciones de la variable dependiente.\n",
    "- $ \\hat{Y} $ es el vector de valores predichos por el modelo de regresión.\n",
    "- $ \\bar{Y}$ es el vector cuyas componentes es la media de los $Y$.\n",
    "- $ k $ es el número de parámetros en el modelo.\n",
    "- $ n $ es el número de observaciones.\n",
    "\n",
    "El estadístico F evalúa la significancia global del modelo de regresión. El numerador mide la reducción de la variabilidad explicada por el modelo, y el denominador mide la variabilidad no explicada por el modelo. La comparación entre estas dos cantidades proporciona información sobre si el modelo en su conjunto es estadísticamente significativo."
   ]
  },
  {
   "cell_type": "code",
   "execution_count": 16,
   "metadata": {},
   "outputs": [
    {
     "data": {
      "text/plain": [
       "1.1627316168615074"
      ]
     },
     "execution_count": 16,
     "metadata": {},
     "output_type": "execute_result"
    }
   ],
   "source": [
    "ysym = ys - ym\n",
    "yys = y - ys\n",
    "ve = ysym.T@ysym / 4\n",
    "vne = yys.T@yys / (11 - 4 - 1)\n",
    "F = ve / vne\n",
    "F"
   ]
  },
  {
   "cell_type": "markdown",
   "metadata": {},
   "source": [
    "#### Coeficiente de Durbin-Watson:\n",
    "$$dw=\\frac{\\displaystyle\\sum_{i=2}^{n} (\\hat{e}_i-\\hat{e}_{i-1})^2}{\\displaystyle\\sum_{i=1}^{n} \\hat{e}_i^2}$$  \n",
    "En forma matricial:\n",
    "$$dw=\\frac{\\hat{e}_r^T\\hat{e}_r}{\\hat{e}^T\\hat{e}}$$  \n",
    "$$dw=2.330$$\n",
    "En donde:  \n",
    "  \n",
    "$\\hat{e}_r=\\hat{e}[1:]-\\hat{e}[:-1]$  \n",
    "$\\hat{e}=y-\\hat{y}$"
   ]
  },
  {
   "cell_type": "code",
   "execution_count": 17,
   "metadata": {},
   "outputs": [
    {
     "data": {
      "text/plain": [
       "2.33016892195727"
      ]
     },
     "execution_count": 17,
     "metadata": {},
     "output_type": "execute_result"
    }
   ],
   "source": [
    "er = e[1:].reset_index(drop=True) - e[:-1]\n",
    "dw = er.T@er / (e.T@e)\n",
    "dw"
   ]
  },
  {
   "cell_type": "markdown",
   "metadata": {},
   "source": [
    "##### Kurtosis de los residuos  \n",
    "$$K=\\frac{\\mu_4}{V^2}=\\frac{\\frac{1}{n}\\displaystyle\\sum_{i=1}^{n}(\\hat{e}_i-\\bar{\\hat{e}})^4}{\\Big(\\frac{1}{n}\\displaystyle\\sum_{i=1}^{n}(\\hat{e}_i-\\bar{\\hat{e}})^2\\Big)^2}=\\frac{\\frac{1}{n}\\displaystyle\\sum_{i=1}^{n}E_i^4}{\\Big(\\frac{1}{n}\\displaystyle\\sum_{i=1}^{n}E_i^2\\Big)^2}$$\n",
    "$$K=n\\frac{E^TE_DE_DE}{(E^TE)^2}=n\\frac{E_2^TE_2}{(E^TE)^2}=3.7125$$"
   ]
  },
  {
   "cell_type": "code",
   "execution_count": 18,
   "metadata": {},
   "outputs": [
    {
     "data": {
      "text/plain": [
       "3.7125209308622495"
      ]
     },
     "execution_count": 18,
     "metadata": {},
     "output_type": "execute_result"
    }
   ],
   "source": [
    "emn = e.mean()\n",
    "E = e - emn\n",
    "E2 = E**2\n",
    "K = n * (E2.T@E2) / (E.T@E) ** 2\n",
    "K"
   ]
  },
  {
   "cell_type": "markdown",
   "metadata": {},
   "source": [
    "##### Asimetría de la muestra (skew):\n",
    "$$S=\\frac{\\frac{1}{n}\\displaystyle\\sum_{i=1}^{n}(\\hat{e}_i-\\bar{\\hat{e}})^3}{\\Big(\\frac{1}{n}\\displaystyle\\sum_{i=1}^{n}(\\hat{e}_i-\\bar{\\hat{e}})^2\\Big)^{\\frac{3}{2}}}=\\frac{\\frac{1}{n}\\displaystyle\\sum_{i=1}^{n}E_i^3}{\\Big(\\frac{1}{n}\\displaystyle\\sum_{i=1}^{n}E_i^2\\Big)^{\\frac{3}{2}}}$$\n",
    "$$S=\\sqrt{n}\\frac{E^TE_DE}{(E^TE)^{\\frac{3}{2}}}=\\sqrt{n}\\frac{E_2^TE}{(E^TE)^{\\frac{3}{2}}}=1.2613$$"
   ]
  },
  {
   "cell_type": "code",
   "execution_count": 19,
   "metadata": {},
   "outputs": [
    {
     "data": {
      "text/plain": [
       "1.2612600491455257"
      ]
     },
     "execution_count": 19,
     "metadata": {},
     "output_type": "execute_result"
    }
   ],
   "source": [
    "S = np.sqrt(n) * (E2.T@E) / (E.T@E) ** (3 / 2)\n",
    "S"
   ]
  },
  {
   "cell_type": "markdown",
   "metadata": {},
   "source": [
    "##### Jarque-Bera\n",
    "$$JB=\\frac{n}{6}\\Big(S^2+\\frac{1}{4}(K-3)^2\\Big)=3.1591$$"
   ]
  },
  {
   "cell_type": "code",
   "execution_count": 20,
   "metadata": {},
   "outputs": [
    {
     "data": {
      "text/plain": [
       "3.1491137897995882"
      ]
     },
     "execution_count": 20,
     "metadata": {},
     "output_type": "execute_result"
    }
   ],
   "source": [
    "JB = (n / 6) * (S**2 + (1 / 4) * (K - 3) ** 2)\n",
    "JB"
   ]
  },
  {
   "cell_type": "markdown",
   "metadata": {},
   "source": [
    "##### Omnibus\n",
    "$$OM=\\frac{\\frac{1}{4}(S^2+K^2)}{\\frac{1}{6}S^2\\frac{1}{24}K^2}=36\\Bigg(\\frac{S^2+K^2}{S^2K^2}\\Bigg)$$"
   ]
  },
  {
   "cell_type": "code",
   "execution_count": 21,
   "metadata": {},
   "outputs": [
    {
     "data": {
      "text/plain": [
       "0.839413304515525"
      ]
     },
     "execution_count": 21,
     "metadata": {},
     "output_type": "execute_result"
    }
   ],
   "source": [
    "OM = 36 * ((S**2 + K**2) / (S**2 * K**2))\n",
    "OM\n",
    "S**2 / 6 + K**2 / 24"
   ]
  },
  {
   "cell_type": "markdown",
   "metadata": {},
   "source": [
    "##### Distribución de Fisher-Snedecor\n",
    "$$f(x,df1,df2)=\\frac{\\sqrt{\\frac{(df1x)^{df1}df2^{df2}}{(df1x+df2)^{df1+df2}}}}{xBeta(\\frac{df1}{2},\\frac{df2}{2})}\n",
    "=\\frac{1}{Beta(\\frac{df1}{2},\\frac{df2}{2})}\\Big(\\frac{df1}{df2}\\Big)^\\frac{df1}{2}x^{(\\frac{df1}{2}-1)}(1+\\frac{df1}{df2}x)^{-(\\frac{df1+df2}{2})}$$\n",
    "\n",
    "$$P(F\\leq x)=\\frac{Beta(\\frac{d_1x}{d_1x+d_2},\\frac{d_1}{2},\\frac{d_2}{2})}{Beta(1,\\frac{d_1}{2},\\frac{d_2}{2})}=I\\Bigg(\\frac{d_1x}{d_1x+d_2},\\frac{d_1}{2},\\frac{d_2}{2}\\Bigg)$$\n",
    "$$P(F\\geq x)=1-P(F\\leq x)$$\n",
    "$Beta(z,a,b)=\\int_0^z t^{a-1}(1-t)^{b-1} \\mathrm{d}t$\n",
    "$$P(F\\leq x)=\\frac{Beta(\\frac{4 \\cdot 1.163}{4 \\cdot 1.163+6},\\frac{4}{2},\\frac{6}{2})}{Beta(1,\\frac{4}{2},\\frac{6}{2})}=0.587$$\n",
    "$$P(F\\geq x)=1-0.587=0.413$$"
   ]
  },
  {
   "cell_type": "markdown",
   "metadata": {},
   "source": [
    "##### Función beta incompleta inferior regularizada:\n",
    "$$I(x,a,b)=\\frac{Beta(x,a,b)}{Beta(a,b)}$$\n",
    "para el caso de Fisher-Snedecor:\n",
    "$$P(F\\geq x)=1-I\\Bigg(\\frac{d_1x}{d_1x+d_2},\\frac{d_1}{2},\\frac{d_2}{2}\\Bigg)$$\n",
    "para el caso de la t-Student:\n",
    "$$P(t\\geq x)=\\frac{1}{2}I\\Bigg(\\frac{v}{v+t^2},\\frac{v}{2},\\frac{1}{2}\\Bigg)$$\n",
    "$$P(|t|\\geq x)=I\\Bigg(\\frac{v}{v+t^2},\\frac{v}{2},\\frac{1}{2}\\Bigg)$$\n"
   ]
  },
  {
   "cell_type": "code",
   "execution_count": 22,
   "metadata": {},
   "outputs": [
    {
     "data": {
      "text/plain": [
       "0.4129569048435814"
      ]
     },
     "execution_count": 22,
     "metadata": {},
     "output_type": "execute_result"
    }
   ],
   "source": [
    "from scipy import integrate\n",
    "\n",
    "\n",
    "\n",
    "def betaF(a, b, x=1):\n",
    "    i, e = integrate.quad(lambda t: t ** (a - 1) * (1 - t) ** (b - 1), 0, x)\n",
    "    return i\n",
    "\n",
    "\n",
    "\n",
    "def FisherP(d1, d2, p):\n",
    "\n",
    "    x = d1 * p / (d1 * p + d2)\n",
    "\n",
    "    a, b = d1 / 2, d2 / 2\n",
    "\n",
    "    fm = betaF(a, b, x) / betaF(a, b)\n",
    "\n",
    "    return 1 - fm\n",
    "\n",
    "\n",
    "\n",
    "FisherP(4, 6, 1.1627316168615074)"
   ]
  },
  {
   "cell_type": "code",
   "execution_count": 23,
   "metadata": {},
   "outputs": [
    {
     "data": {
      "text/plain": [
       "0.10705673423352648"
      ]
     },
     "execution_count": 23,
     "metadata": {},
     "output_type": "execute_result"
    }
   ],
   "source": [
    "def PStudent(dr, t):\n",
    "    x = dr / (dr + t**2)\n",
    "    a = dr / 2\n",
    "    ps = betaF(a, 0.5, x) / betaF(a, 0.5)\n",
    "    return ps\n",
    "\n",
    "\n",
    "PStudent(6, 1.894)"
   ]
  },
  {
   "cell_type": "markdown",
   "metadata": {},
   "source": [
    "##### Inversa de la función de distribución acumulada de Student e inversa de la beta incompleta inferior:\n"
   ]
  },
  {
   "cell_type": "markdown",
   "metadata": {},
   "source": [
    "##### Resumen:\n",
    "El valor de una propiedad se puede estimar con la siguiente expresión lineal:\n",
    "###### $$ \\textbf{valor prop}(\\pm63)=(1239\\pm655)+(0.33\\pm0.85)·\\textbf{Antigüedad}+(26\\pm34)·\\textbf{Accesos}+(30\\pm26)·\\textbf{Oficinas}-(0.51\\pm0.29)·\\textbf{Superficie}$$"
   ]
  },
  {
   "cell_type": "markdown",
   "metadata": {},
   "source": [
    "##### Biblioteca Statsmodels\n",
    "\n"
   ]
  },
  {
   "cell_type": "code",
   "execution_count": 24,
   "metadata": {},
   "outputs": [
    {
     "name": "stdout",
     "output_type": "stream",
     "text": [
      "                            OLS Regression Results                            \n",
      "==============================================================================\n",
      "Dep. Variable:                      y   R-squared:                       0.437\n",
      "Model:                            OLS   Adj. R-squared:                  0.061\n",
      "Method:                 Least Squares   F-statistic:                     1.163\n",
      "Date:                Wed, 20 Mar 2024   Prob (F-statistic):              0.413\n",
      "Time:                        15:33:44   Log-Likelihood:                -57.866\n",
      "No. Observations:                  11   AIC:                             125.7\n",
      "Df Residuals:                       6   BIC:                             127.7\n",
      "Df Model:                           4                                         \n",
      "Covariance Type:            nonrobust                                         \n",
      "==============================================================================\n",
      "                 coef    std err          t      P>|t|      [0.025      0.975]\n",
      "------------------------------------------------------------------------------\n",
      "const       1239.8414    654.694      1.894      0.107    -362.137    2841.820\n",
      "x1             0.3359      0.847      0.397      0.705      -1.737       2.408\n",
      "x2            26.1225     33.760      0.774      0.468     -56.485     108.730\n",
      "x3            30.5687     26.004      1.176      0.284     -33.061      94.198\n",
      "x4            -0.5069      0.291     -1.745      0.132      -1.218       0.204\n",
      "==============================================================================\n",
      "Omnibus:                        6.912   Durbin-Watson:                   2.330\n",
      "Prob(Omnibus):                  0.032   Jarque-Bera (JB):                3.149\n",
      "Skew:                           1.261   Prob(JB):                        0.207\n",
      "Kurtosis:                       3.713   Cond. No.                     8.32e+04\n",
      "==============================================================================\n",
      "\n",
      "Notes:\n",
      "[1] Standard Errors assume that the covariance matrix of the errors is correctly specified.\n",
      "[2] The condition number is large, 8.32e+04. This might indicate that there are\n",
      "strong multicollinearity or other numerical problems.\n"
     ]
    },
    {
     "name": "stderr",
     "output_type": "stream",
     "text": [
      "c:\\Users\\admin\\Desktop\\Icaro\\Codigo\\Resumen\\.venv\\Lib\\site-packages\\scipy\\stats\\_stats_py.py:1806: UserWarning: kurtosistest only valid for n>=20 ... continuing anyway, n=11\n",
      "  warnings.warn(\"kurtosistest only valid for n>=20 ... continuing \"\n"
     ]
    }
   ],
   "source": [
    "import numpy as np\n",
    "import statsmodels.api as sm\n",
    "\n",
    "# Datos de entrada\n",
    "x = np.array(\n",
    "    [\n",
    "        [1, 20, 2.0, 2, 2310],\n",
    "        [1, 12, 2.0, 2, 2333],\n",
    "        [1, 33, 1.5, 3, 2356],\n",
    "        [1, 40, 2.0, 3, 2273],\n",
    "        [1, 53, 3.0, 2, 2402],\n",
    "        [1, 23, 2.0, 4, 2425],\n",
    "        [1, 99, 1.5, 2, 2448],\n",
    "        [1, 34, 2.0, 2, 2471],\n",
    "        [1, 23, 3.0, 3, 2494],\n",
    "        [1, 55, 4.0, 4, 2517],\n",
    "        [1, 22, 3.0, 2, 2540],\n",
    "    ]\n",
    ")\n",
    "\n",
    "y = np.array(\n",
    "    [142.0, 144.0, 151.0, 360.0, 139.0, 169.0, 126.0, 142.9, 163.0, 189.0, 149.0]\n",
    ")\n",
    "\n",
    "# Ajuste de la regresión lineal múltiple\n",
    "model = sm.OLS(y, x).fit()\n",
    "\n",
    "# Imprimir los resultados\n",
    "print(model.summary())"
   ]
  },
  {
   "cell_type": "code",
   "execution_count": 25,
   "metadata": {},
   "outputs": [
    {
     "name": "stdout",
     "output_type": "stream",
     "text": [
      "Inverse of Beta Incomplete Function: 0.500526487827301\n"
     ]
    }
   ],
   "source": [
    "import numpy as np\n",
    "from scipy.special import betainc, betaincinv\n",
    "\n",
    "\n",
    "def inverse_beta_inc_interpolation(a, b, p, tol=1e-9, max_iter=100):\n",
    "    # Establecer límites para la búsqueda\n",
    "    lower_limit = 0.0\n",
    "    upper_limit = 1.0\n",
    "\n",
    "    # Realizar búsqueda binaria para encontrar un punto cercano a la solución\n",
    "    for _ in range(max_iter):\n",
    "        midpoint = (lower_limit + upper_limit) / 2.0\n",
    "        cdf_midpoint = betainc(a, b, midpoint)\n",
    "\n",
    "        if np.abs(cdf_midpoint - p) < tol:\n",
    "            return midpoint\n",
    "\n",
    "        if cdf_midpoint < p:\n",
    "            lower_limit = midpoint\n",
    "        else:\n",
    "            upper_limit = midpoint\n",
    "\n",
    "    # Si la búsqueda binaria no converge, usar el método de interpolación\n",
    "    x = np.linspace(lower_limit, upper_limit, 1000)\n",
    "    cdf_values = betainc(a, b, x)\n",
    "    inverse_interp = np.interp(p, cdf_values, x)\n",
    "\n",
    "    return inverse_interp\n",
    "\n",
    "\n",
    "# Ejemplo de uso\n",
    "a = 3.0\n",
    "b = 0.5\n",
    "p = 0.05\n",
    "\n",
    "result = inverse_beta_inc_interpolation(a, b, p)\n",
    "print(\"Inverse of Beta Incomplete Function:\", result)"
   ]
  },
  {
   "cell_type": "code",
   "execution_count": 26,
   "metadata": {},
   "outputs": [
    {
     "data": {
      "text/plain": [
       "2.446911846234417"
      ]
     },
     "execution_count": 26,
     "metadata": {},
     "output_type": "execute_result"
    }
   ],
   "source": [
    "pp = 0.500526487827301\n",
    "np.sqrt((6 - 6 * pp) / pp)"
   ]
  }
 ],
 "metadata": {
  "kernelspec": {
   "display_name": ".venv",
   "language": "python",
   "name": "python3"
  },
  "language_info": {
   "codemirror_mode": {
    "name": "ipython",
    "version": 3
   },
   "file_extension": ".py",
   "mimetype": "text/x-python",
   "name": "python",
   "nbconvert_exporter": "python",
   "pygments_lexer": "ipython3",
   "version": "3.11.5"
  }
 },
 "nbformat": 4,
 "nbformat_minor": 2
}
