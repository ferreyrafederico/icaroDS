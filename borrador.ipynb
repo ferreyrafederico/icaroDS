{
 "cells": [
  {
   "cell_type": "code",
   "execution_count": 2,
   "metadata": {},
   "outputs": [
    {
     "name": "stdout",
     "output_type": "stream",
     "text": [
      "0 i\n",
      "1 t\n",
      "2 e\n",
      "3 r\n",
      "4 a\n",
      "5 c\n",
      "6 i\n",
      "7 o\n",
      "8 n\n"
     ]
    }
   ],
   "source": [
    "cadena='iteracion'\n",
    "for i,letter in enumerate(cadena):\n",
    "    print(i,letter)"
   ]
  },
  {
   "cell_type": "code",
   "execution_count": 3,
   "metadata": {},
   "outputs": [
    {
     "name": "stdout",
     "output_type": "stream",
     "text": [
      "{0: 'i', 1: 't', 2: 'e', 3: 'r', 4: 'a', 5: 'c', 6: 'i', 7: 'o', 8: 'n'}\n",
      "[(0, 'i'), (1, 't'), (2, 'e'), (3, 'r'), (4, 'a'), (5, 'c'), (6, 'i'), (7, 'o'), (8, 'n')]\n"
     ]
    }
   ],
   "source": [
    "lista=dict(enumerate(cadena))\n",
    "print(lista)\n",
    "lista2=list(enumerate(cadena))\n",
    "print(lista2)"
   ]
  },
  {
   "cell_type": "code",
   "execution_count": 31,
   "metadata": {},
   "outputs": [
    {
     "name": "stdout",
     "output_type": "stream",
     "text": [
      "(0, 'i')\n",
      "(1, 't')\n",
      "(2, 'e')\n",
      "(3, 'r')\n",
      "(4, 'a')\n",
      "(5, 'c')\n",
      "(6, 'i')\n",
      "(7, 'o')\n",
      "(8, 'n')\n"
     ]
    }
   ],
   "source": [
    "for i in lista.items():\n",
    "    print(i)"
   ]
  },
  {
   "cell_type": "code",
   "execution_count": 37,
   "metadata": {},
   "outputs": [
    {
     "name": "stdout",
     "output_type": "stream",
     "text": [
      "['i', 't', 'e', 'r', 'a', 'c', 'i', 'o', 'n']\n",
      "iteracion\n",
      "['i', 't', 'e', 'r', 'a', 'c', 'i', 'o', 'n']\n"
     ]
    }
   ],
   "source": [
    "vect=list(cadena)\n",
    "print(vect)\n",
    "cadena2=''.join(vect)\n",
    "print(cadena2)\n",
    "cadena3=list(lista.values())\n",
    "print(cadena3)"
   ]
  },
  {
   "cell_type": "code",
   "execution_count": 4,
   "metadata": {},
   "outputs": [
    {
     "name": "stdout",
     "output_type": "stream",
     "text": [
      "['hoja2', 'hoja3', 'hoja4']\n"
     ]
    }
   ],
   "source": [
    "libro=['hoja1','hoja2','hoja3','hoja4']\n",
    "iterador=iter(libro)\n",
    "next(iterador)\n",
    "print(list(iterador))"
   ]
  },
  {
   "cell_type": "markdown",
   "metadata": {},
   "source": [
    "Zip método."
   ]
  },
  {
   "cell_type": "code",
   "execution_count": 9,
   "metadata": {},
   "outputs": [
    {
     "name": "stdout",
     "output_type": "stream",
     "text": [
      "[(2, 'b', 'b'), (3, 'c', 'c')]\n"
     ]
    }
   ],
   "source": [
    "lista_1 = [1, 2, 3]\n",
    "lista_2 = ['a', 'b', 'c','d']\n",
    "lista_3 = ['a', 'b', 'c','d']\n",
    "combinacion = zip(lista_1, lista_2,lista_3)\n",
    "next(combinacion)\n",
    "print(list(combinacion))"
   ]
  },
  {
   "cell_type": "markdown",
   "metadata": {},
   "source": [
    "Multiplicar lista por 2 Lista por comprensión."
   ]
  },
  {
   "cell_type": "code",
   "execution_count": 10,
   "metadata": {},
   "outputs": [
    {
     "name": "stdout",
     "output_type": "stream",
     "text": [
      "[1, 2, 3, 4, 5, 6, 7, 8, 9, 10, 11, 12, 13, 14, 15, 16, 17, 18, 19, 20]\n",
      "[4, 8, 12, 16, 20, 24, 28, 32, 36, 40]\n"
     ]
    }
   ],
   "source": [
    "num=list(range(1,21))\n",
    "print(num)\n",
    "paresx2=[e*2 for e in num if e%2==0]\n",
    "print(paresx2)\n"
   ]
  },
  {
   "cell_type": "code",
   "execution_count": 11,
   "metadata": {},
   "outputs": [
    {
     "name": "stdout",
     "output_type": "stream",
     "text": [
      "[1, 2, 3, 5, 6, 7, 8, 9, 10]\n"
     ]
    }
   ],
   "source": [
    "lista=[1,2,3,3,3,5,6,5,6,8,7,8,9,10]\n",
    "lista2=list(set(lista))\n",
    "print(lista2)"
   ]
  },
  {
   "cell_type": "code",
   "execution_count": 4,
   "metadata": {},
   "outputs": [
    {
     "name": "stdout",
     "output_type": "stream",
     "text": [
      "8\n",
      "15\n"
     ]
    }
   ],
   "source": [
    "# Se puede llamar una funcion dentro de otra muy bueno\n",
    "\n",
    "def suma(n1,n2):\n",
    "    n3=n1+n2\n",
    "    return n3\n",
    "def producto(n1,n2):\n",
    "    n3=n1*n2\n",
    "    return n3\n",
    "def operacion(num1,num2,op):\n",
    "    num3=op(num1,num2)\n",
    "    return num3\n",
    "print(operacion(5,3,suma))\n",
    "print(operacion(5,3,producto))"
   ]
  },
  {
   "cell_type": "code",
   "execution_count": 9,
   "metadata": {},
   "outputs": [
    {
     "name": "stdout",
     "output_type": "stream",
     "text": [
      "xid 2207350345088\n",
      "yid 2207350345088\n",
      "xid 2207350345088\n",
      "yid 2207350345088\n"
     ]
    }
   ],
   "source": [
    "x=[1,2,3]\n",
    "\n",
    "def fun(y,a):\n",
    "    if a==0:\n",
    "        y[1]=8\n",
    "        print('xid',id(x))\n",
    "        print('yid',id(y))\n",
    "    else:\n",
    "        y.append(8)\n",
    "        print('xid',id(x))\n",
    "        print('yid',id(y))\n",
    "\n",
    "fun(x,0)\n",
    "fun(x,1)"
   ]
  },
  {
   "cell_type": "code",
   "execution_count": 24,
   "metadata": {},
   "outputs": [],
   "source": [
    "import unittest\n",
    "class Test(unittest.TestCase):\n",
    "    def test_sumar_positivos(self):\n",
    "        num1=5\n",
    "        num2=10\n",
    "        resultado=sumar(num1,num2)\n",
    "        self.assertEqual(resultado,15)\n",
    "    def testsumar_negativos(self):\n",
    "        num1=-6\n",
    "        num2=-10\n",
    "        resultado=sumar(num1,num2)\n",
    "        self.assertEqual(resultado,-16)"
   ]
  },
  {
   "cell_type": "code",
   "execution_count": 25,
   "metadata": {},
   "outputs": [
    {
     "name": "stderr",
     "output_type": "stream",
     "text": [
      "test_sumar_positivos (__main__.Test.test_sumar_positivos) ... ok\n",
      "testsumar_negativos (__main__.Test.testsumar_negativos) ... ok\n",
      "\n",
      "----------------------------------------------------------------------\n",
      "Ran 2 tests in 0.002s\n",
      "\n",
      "OK\n"
     ]
    },
    {
     "data": {
      "text/plain": [
       "<unittest.main.TestProgram at 0x20d6c8cc190>"
      ]
     },
     "execution_count": 25,
     "metadata": {},
     "output_type": "execute_result"
    }
   ],
   "source": [
    "unittest.main(argv=[\"\"],verbosity=2,exit=False)"
   ]
  },
  {
   "cell_type": "code",
   "execution_count": 17,
   "metadata": {},
   "outputs": [],
   "source": [
    "def sumar(num1,num2):\n",
    "    return num1+num2"
   ]
  },
  {
   "cell_type": "code",
   "execution_count": 19,
   "metadata": {},
   "outputs": [
    {
     "name": "stderr",
     "output_type": "stream",
     "text": [
      "\n",
      "----------------------------------------------------------------------\n",
      "Ran 0 tests in 0.000s\n",
      "\n",
      "OK\n"
     ]
    },
    {
     "data": {
      "text/plain": [
       "<unittest.main.TestProgram at 0x20d6c88b7d0>"
      ]
     },
     "execution_count": 19,
     "metadata": {},
     "output_type": "execute_result"
    }
   ],
   "source": [
    "import unittest\n",
    "\n",
    "class TestNotebook(unittest.TestCase):\n",
    "    \n",
    "    def sumar_positivos(self):\n",
    "        self.assertEqual(sumar(2, 2), 4)\n",
    "        \n",
    "\n",
    "unittest.main(argv=[''], verbosity=2, exit=False)"
   ]
  },
  {
   "cell_type": "code",
   "execution_count": 15,
   "metadata": {},
   "outputs": [
    {
     "name": "stdout",
     "output_type": "stream",
     "text": [
      "Everest,1,Himalaya,Nepal,8849\n",
      "K2,2,Karakórum,Pakistán,8611\n",
      "Kanchenjunga,3,Himalaya,Nepal,8586\n",
      "Lhotse,4,Himalaya,Nepal,8516\n",
      "Makalu,5,Himalaya,Nepal,8485\n",
      "Cho Oyu,6,Himalaya,Nepal,8188\n",
      "Dhaulagiri,7,Himalaya,Nepal,8167\n",
      "Manaslu,8,Himalaya,Nepal,8163\n",
      "Nanga Parbat,9,Karakórum,Pakistán,8125\n",
      "Annapurna I,10,Himalaya,Nepal,8091\n"
     ]
    }
   ],
   "source": [
    "montañas = {'nombre':[  'Everest','K2','Kanchenjunga','Lhotse','Makalu',\n",
    "                        'Cho Oyu','Dhaulagiri','Manaslu','Nanga Parbat','Annapurna I'],\n",
    "            'orden':[1,2,3,4,5,6,7,8,9,10],\n",
    "            'cordillera':['Himalaya','Karakórum','Himalaya','Himalaya','Himalaya'\n",
    "                        ,'Himalaya','Himalaya','Himalaya','Karakórum','Himalaya'],\n",
    "            'pais': ['Nepal','Pakistán','Nepal','Nepal','Nepal','Nepal','Nepal','Nepal',\n",
    "                    'Pakistán','Nepal'],\n",
    "            'altura':[8849,8611,8586,8516,8485,8188,8167,8163,8125,8091]}\n",
    "\n",
    "campos=montañas.keys()\n",
    "datos=list(montañas.values())\n",
    "rmax=0\n",
    "for e in datos:\n",
    "    rlargo=len(e)\n",
    "    if rlargo>rmax:\n",
    "        rmax=rlargo\n",
    "for i in range(rmax):\n",
    "    registro=[]\n",
    "    for j in range(len(campos)):\n",
    "        registro.append(str(datos[j][i]))\n",
    "    print(','.join(registro))"
   ]
  },
  {
   "cell_type": "code",
   "execution_count": 17,
   "metadata": {},
   "outputs": [
    {
     "name": "stdout",
     "output_type": "stream",
     "text": [
      "<enumerate object at 0x000001C3AABB3790>\n"
     ]
    }
   ],
   "source": [
    "lista=[1,2,5,6,9,8]\n",
    "print(enumerate(lista))"
   ]
  },
  {
   "cell_type": "markdown",
   "metadata": {},
   "source": [
    "Año bisiesto"
   ]
  },
  {
   "cell_type": "code",
   "execution_count": 28,
   "metadata": {},
   "outputs": [
    {
     "data": {
      "text/plain": [
       "True"
      ]
     },
     "execution_count": 28,
     "metadata": {},
     "output_type": "execute_result"
    }
   ],
   "source": [
    "def is_leap(year):\n",
    "    leap = False\n",
    "    if year%4==0:\n",
    "        if year%100==0:\n",
    "            if year%400==0:\n",
    "                leap=True\n",
    "        else:\n",
    "            leap=True\n",
    "    return leap\n",
    "\n",
    "is_leap(2032)"
   ]
  },
  {
   "cell_type": "code",
   "execution_count": 55,
   "metadata": {},
   "outputs": [
    {
     "name": "stdout",
     "output_type": "stream",
     "text": [
      "1234567891011121314151617\n",
      "1 5 9 45 6 85\n"
     ]
    }
   ],
   "source": [
    "n = 17\n",
    "print(*range(1,n+1), sep=\"\")\n",
    "lista=[1,5,9,45,6,85]\n",
    "print(*lista, sep=\" \")"
   ]
  },
  {
   "cell_type": "code",
   "execution_count": null,
   "metadata": {},
   "outputs": [],
   "source": [
    "# No se puede hacer\n",
    "list=[1,2]\n",
    "list=[list[i-2]+list[i-1]for i in range(2,6)]\n",
    "print(list)"
   ]
  },
  {
   "cell_type": "code",
   "execution_count": 15,
   "metadata": {},
   "outputs": [
    {
     "data": {
      "text/plain": [
       "40320"
      ]
     },
     "execution_count": 15,
     "metadata": {},
     "output_type": "execute_result"
    }
   ],
   "source": [
    "def Factorial(numero):\n",
    "    if type(numero)!=int or numero<1:\n",
    "        return None\n",
    "    elif numero>1:\n",
    "        numero*=Factorial(numero-1)\n",
    "    return numero\n",
    "\n",
    "Factorial(8)"
   ]
  },
  {
   "cell_type": "code",
   "execution_count": null,
   "metadata": {},
   "outputs": [],
   "source": [
    "def EsPrimo(valor):\n",
    "    primo=True\n",
    "    if type(valor)!=int or valor<1:\n",
    "        return None\n",
    "    else:\n",
    "        for div in range(2,int(valor/2)+1):\n",
    "            if valor%div==0:\n",
    "                primo=False\n",
    "                break\n",
    "    return primo\n",
    "\n",
    "EsPrimo(3)"
   ]
  },
  {
   "cell_type": "code",
   "execution_count": 94,
   "metadata": {},
   "outputs": [
    {
     "data": {
      "text/plain": [
       "{'clave1': ['b', 'a', 'c'],\n",
       " 'clave2': ['barco', 'auto', 'casa'],\n",
       " 'clave3': [3, 2, 1]}"
      ]
     },
     "execution_count": 94,
     "metadata": {},
     "output_type": "execute_result"
    }
   ],
   "source": [
    "dicc = {\n",
    "    'clave1':['c','a','b',],\n",
    "    'clave2':['casa','auto','barco'],\n",
    "    'clave3':[1,2,3]\n",
    "}\n",
    "\n",
    "def ordenarDiccionario(diccionario, clave, ascendente=True):\n",
    "    if not(clave in diccionario):\n",
    "        return None\n",
    "    ord=diccionario[clave]\n",
    "    for cl,val in diccionario.items():\n",
    "        zipeado=list(zip(ord,val))\n",
    "        zipeado.sort(reverse=not(ascendente))\n",
    "        ordenado=[]\n",
    "        for i in range(len(val)):\n",
    "            ordenado.append(zipeado[i][1])\n",
    "        diccionario[cl]=ordenado\n",
    "    return diccionario\n",
    "ordenarDiccionario(dicc,'clave3',False)"
   ]
  },
  {
   "cell_type": "code",
   "execution_count": 101,
   "metadata": {},
   "outputs": [
    {
     "data": {
      "text/plain": [
       "{'clave1': ['c', 'b', 'a'],\n",
       " 'clave2': ['casa', 'barco', 'auto'],\n",
       " 'clave3': [1, 3, 2]}"
      ]
     },
     "execution_count": 101,
     "metadata": {},
     "output_type": "execute_result"
    }
   ],
   "source": [
    "# Una forma que se me ocurrio despues del examen que me ahorra 2 líneas.\n",
    "dicc = {\n",
    "    'clave1':['c','a','b',],\n",
    "    'clave2':['casa','auto','barco'],\n",
    "    'clave3':[1,2,3]\n",
    "}\n",
    "\n",
    "def ordenarDiccionario(diccionario, clave, ascendente=True):\n",
    "    if not(clave in diccionario):\n",
    "        return None\n",
    "    ord=diccionario[clave]\n",
    "    for cl,val in diccionario.items():\n",
    "        zipeado=list(zip(ord,val))\n",
    "        zipeado.sort(reverse=not(ascendente))\n",
    "        ordenado=[e[1]for e in zipeado]\n",
    "        diccionario[cl]=ordenado\n",
    "    return diccionario\n",
    "ordenarDiccionario(dicc,'clave1',False)"
   ]
  },
  {
   "cell_type": "code",
   "execution_count": 118,
   "metadata": {},
   "outputs": [
    {
     "data": {
      "text/plain": [
       "{'clave1': ('b', 'a', 'c'),\n",
       " 'clave2': ('barco', 'auto', 'casa'),\n",
       " 'clave3': (3, 2, 1)}"
      ]
     },
     "execution_count": 118,
     "metadata": {},
     "output_type": "execute_result"
    }
   ],
   "source": [
    "# Otra forma a partir del operador * que no sabia funcionaba asi.\n",
    "dicc = {\n",
    "    'clave1':['c','a','b',],\n",
    "    'clave2':['casa','auto','barco'],\n",
    "    'clave3':[1,2,3]\n",
    "}\n",
    "\n",
    "def ordenarDiccionario(diccionario, clave, ascendente=True):\n",
    "    if not(clave in diccionario):\n",
    "        return None\n",
    "    claves=list(diccionario.keys())\n",
    "    guia=diccionario[clave]\n",
    "    zipeado=list(zip(guia,*diccionario.values()))\n",
    "    zipeado.sort(reverse=not(ascendente))\n",
    "    valores=list(zip(*zipeado))\n",
    "    valores.pop(0)\n",
    "    diccionario=dict(zip(claves,valores))\n",
    "    \n",
    "    return diccionario\n",
    "ordenarDiccionario(dicc,'clave3',False)"
   ]
  },
  {
   "cell_type": "code",
   "execution_count": 41,
   "metadata": {},
   "outputs": [
    {
     "data": {
      "text/plain": [
       "[2, 1]"
      ]
     },
     "execution_count": 41,
     "metadata": {},
     "output_type": "execute_result"
    }
   ],
   "source": [
    "def DividirDosNumeros(dividendo, divisor):\n",
    "    if divisor==0:\n",
    "        return None\n",
    "    cociente=dividendo//divisor\n",
    "    resto=dividendo-cociente*divisor\n",
    "    return [cociente,resto]\n",
    "\n",
    "DividirDosNumeros(7,3)"
   ]
  },
  {
   "cell_type": "code",
   "execution_count": 68,
   "metadata": {},
   "outputs": [
    {
     "data": {
      "text/plain": [
       "3"
      ]
     },
     "execution_count": 68,
     "metadata": {},
     "output_type": "execute_result"
    }
   ],
   "source": [
    "def proximoPrimo(num=2):\n",
    "    if num<1:\n",
    "        return None\n",
    "    def isprimo(n):\n",
    "        p=True\n",
    "        for i in range(2,int(n/2)+1):\n",
    "            p=True\n",
    "            if n%i==0:\n",
    "                p=False\n",
    "                break\n",
    "        return p\n",
    "    if isprimo(num):\n",
    "        num+=1\n",
    "        while not (isprimo(num)):\n",
    "            num+=1\n",
    "        return num\n",
    "    return None\n",
    "\n",
    "proximoPrimo()"
   ]
  },
  {
   "cell_type": "code",
   "execution_count": 70,
   "metadata": {},
   "outputs": [
    {
     "data": {
      "text/plain": [
       "False"
      ]
     },
     "execution_count": 70,
     "metadata": {},
     "output_type": "execute_result"
    }
   ],
   "source": [
    "def trianguloRectangulo(a, b, c):\n",
    "    if c**2==a**2+b**2:\n",
    "        return True\n",
    "    else:\n",
    "        return False\n",
    "\n",
    "trianguloRectangulo(3,4,6)"
   ]
  },
  {
   "cell_type": "code",
   "execution_count": 6,
   "metadata": {},
   "outputs": [
    {
     "data": {
      "text/plain": [
       "[2, 1, 1, -6]"
      ]
     },
     "execution_count": 6,
     "metadata": {},
     "output_type": "execute_result"
    }
   ],
   "source": [
    "listap=[2,4,1,-3]\n",
    "def dividirMultiplicar(lista):\n",
    "    ord=[]\n",
    "    for e in lista:\n",
    "        if e<0:\n",
    "            ord.append(int(2*e))\n",
    "        elif e%2==0:\n",
    "            ord.append(int(e/2))\n",
    "        else:\n",
    "            ord.append(int(e))\n",
    "    ord.sort(reverse=True)\n",
    "    return ord\n",
    "\n",
    "dividirMultiplicar(listap)"
   ]
  },
  {
   "cell_type": "code",
   "execution_count": 10,
   "metadata": {},
   "outputs": [
    {
     "data": {
      "text/plain": [
       "[6, 12, 18, 24, 30]"
      ]
     },
     "execution_count": 10,
     "metadata": {},
     "output_type": "execute_result"
    }
   ],
   "source": [
    "lista=[6,12,18,24,30]\n",
    "def listaDivisibles(divisor, tope):\n",
    "    if tope<1:\n",
    "        return None\n",
    "    res=[e for e in range(1,tope+1) if e%divisor==0]\n",
    "    return res\n",
    "listaDivisibles(6,30)"
   ]
  },
  {
   "cell_type": "code",
   "execution_count": 125,
   "metadata": {},
   "outputs": [
    {
     "name": "stdout",
     "output_type": "stream",
     "text": [
      "0.5\n",
      "0.333333\n",
      "0.166667\n"
     ]
    }
   ],
   "source": [
    "# Hackerrank 1 semana\n",
    "arr=[-4,3,-9,0,4,1]\n",
    "def plusMinus(arr):\n",
    "    div=len(arr)\n",
    "    negatives=len([e for e in arr if e<0])\n",
    "    positives=len([e for e in arr if e>0])\n",
    "    ceros=len([e for e in arr if e==0])\n",
    "    res=[round(positives/div,6),round(negatives/div,6),round(ceros/div,6)]\n",
    "    print(*res,sep='\\n')\n",
    "\n",
    "plusMinus(arr)"
   ]
  },
  {
   "cell_type": "code",
   "execution_count": 15,
   "metadata": {},
   "outputs": [
    {
     "name": "stdout",
     "output_type": "stream",
     "text": [
      "Si existe en la lista.\n"
     ]
    }
   ],
   "source": [
    "some_list = ['abc-123', 'def-456', 'ghi-789', 'abc-456']\n",
    "if any(\"abc\" in s for i,s in enumerate(some_list)):\n",
    "    print(f'Si existe en la lista.')"
   ]
  },
  {
   "cell_type": "code",
   "execution_count": 8,
   "metadata": {},
   "outputs": [
    {
     "data": {
      "text/plain": [
       "'{\"casa\":\"roja\",\"pais\":[\"argentina\",\"brasil\"]}'"
      ]
     },
     "execution_count": 8,
     "metadata": {},
     "output_type": "execute_result"
    }
   ],
   "source": [
    "import json\n",
    "dicc={'casa':'roja', 'pais':['argentina','brasil']}\n",
    "diccjson=json.dumps(dicc,separators=(',', ':'))\n",
    "diccjson\n"
   ]
  },
  {
   "cell_type": "code",
   "execution_count": 6,
   "metadata": {},
   "outputs": [
    {
     "data": {
      "text/plain": [
       "{'casa': 'roja', 'pais': 'argentina'}"
      ]
     },
     "execution_count": 6,
     "metadata": {},
     "output_type": "execute_result"
    }
   ],
   "source": [
    "dicc=json.loads(diccjson)\n",
    "dicc"
   ]
  },
  {
   "cell_type": "code",
   "execution_count": 23,
   "metadata": {},
   "outputs": [
    {
     "name": "stdout",
     "output_type": "stream",
     "text": [
      "['berlín', 'andorra', 'viena', 'bruselas', 'sofía', 'praga', 'zagreb', 'copenhague', 'madrid', 'helsinki', 'parís', 'athens', 'budapest', 'dublin', 'reykjavík', 'roma', 'monaco', 'oslo', 'varsovia', 'lisboa', 'unido', 'bucarest', 'moscú', 'belgrado', 'estocolmo', 'berna', 'buenos aires', 'sucre', 'brasilia', 'ottawa', 'santiago', 'bogotá', 'la habana', 'quito', 'washington', 'nuuk', 'tegucigalpa', 'kingston', 'ciudad de méxico', 'managua', 'asunción', 'lima', 'montevideo', 'caracas', 'kabul', 'pekín', 'manila', 'jacarta', 'teherán', 'bagdad', 'jerusalén', 'tokio', 'beirut', 'kathmandu', 'islamabad', 'ramallah', 'singapur', 'damasco', 'bangkok', 'taipei', 'ankara', 'hanoi', 'canberra', 'luanda', 'cairo', 'nairobi', 'trípoli', 'dakar', 'victoria', 'pretoria', 'túnez']\n"
     ]
    }
   ],
   "source": [
    "lista=['berlín',\t'andorra',\t'viena',\t'bruselas',\t'sofía',\t'praga',\t'zagreb',\t'copenhague',\t'madrid',\t'helsinki',\t'parís',\t'athens',\t'budapest',\t'dublin',\t'reykjavík',\t'roma',\t'monaco',\t'oslo',\t'varsovia',\t'lisboa',\t'unido',\t'bucarest',\t'moscú',\t'belgrado',\t'estocolmo',\t'berna',\t'buenos aires',\t'sucre',\t'brasilia',\t'ottawa',\t'santiago',\t'bogotá',\t'la habana',\t'quito',\t'washington',\t'nuuk',\t'tegucigalpa',\t'kingston',\t'ciudad de méxico',\t'managua',\t'asunción',\t'lima',\t'montevideo',\t'caracas',\t'kabul',\t'pekín',\t'manila',\t'jacarta',\t'teherán',\t'bagdad',\t'jerusalén',\t'tokio',\t'beirut',\t'kathmandu',\t'islamabad',\t'ramallah',\t'singapur',\t'damasco',\t'bangkok',\t'taipei',\t'ankara',\t'hanoi',\t'canberra',\t'luanda',\t'cairo',\t'nairobi',\t'trípoli',\t'dakar',\t'victoria',\t'pretoria',\t'túnez']\n",
    "print(lista)"
   ]
  },
  {
   "cell_type": "code",
   "execution_count": 42,
   "metadata": {},
   "outputs": [
    {
     "name": "stdout",
     "output_type": "stream",
     "text": [
      "[3, 7, 6, 5, 9, 8, 2, 4, 1]\n",
      "[4, 6, 2, 7, 9]\n"
     ]
    }
   ],
   "source": [
    "from random import shuffle\n",
    "from random import sample\n",
    "def show_grades(lista):\n",
    "\tshuffle(lista)\n",
    "\tprint(lista)\n",
    "\tlista2=sample(lista,5)\n",
    "\tprint(lista2)\n",
    "show_grades([1,2,3,4,5,6,7,8,9])"
   ]
  },
  {
   "cell_type": "code",
   "execution_count": 35,
   "metadata": {},
   "outputs": [
    {
     "name": "stdout",
     "output_type": "stream",
     "text": [
      "['virginia', 'javier', 'mariana', 'delia', 'clara', 'jorge']\n",
      "['cárdenas', 'rojas', 'barrios', 'maidana', 'aguirre', 'mercado']\n",
      "('carla', 'roberto', 'maximo', 'carina', 'cristian', 'marcelo')\n",
      "('rios', 'herrera', 'carrizo', 'moyano', 'lucero', 'páez')\n",
      "{'nombres': ['teresa', 'nicolás', 'mariano', 'omar', 'marco', 'ricardo', 'manuel'], 'apellidos': ['jiménez', 'mansilla', 'domínguez', 'cárdenas', 'nieto', 'fuentes', 'díaz']}\n",
      "[10, 16, 13, 8, 14, 6, 9, 2, 7, 11, 4, 12, 3, 1, 5]\n",
      "[14, 9, 10, 4, 9, 3, 4, 1, 8, 1, 11, 3, 10, 14, 13]\n"
     ]
    }
   ],
   "source": [
    "import gw\n",
    "import importlib\n",
    "importlib.reload(gw)\n",
    "print(gw.listg(nombres=6))\n",
    "print(gw.listg(apellidos=6))\n",
    "print(gw.tupleg(nombres=6))\n",
    "print(gw.tupleg(apellidos=6))\n",
    "print(gw.dicg(nombres=7,apellidos=7))\n",
    "print(gw.numg(1,16,15))\n",
    "print(gw.numgRan(1,16,15))"
   ]
  },
  {
   "cell_type": "code",
   "execution_count": 2,
   "metadata": {},
   "outputs": [
    {
     "data": {
      "text/plain": [
       "4"
      ]
     },
     "execution_count": 2,
     "metadata": {},
     "output_type": "execute_result"
    }
   ],
   "source": [
    "lista=[1,2,3,4,3,2,1]\n",
    "def lonelyinteger(a):\n",
    "    res,=[e for e in a if a.count(e)==1]\n",
    "    return res\n",
    "\n",
    "lonelyinteger(lista)"
   ]
  },
  {
   "cell_type": "code",
   "execution_count": 6,
   "metadata": {},
   "outputs": [
    {
     "name": "stdout",
     "output_type": "stream",
     "text": [
      "1\n",
      "¿Desea encontrar el siguiente número primo?\n",
      "2\n",
      "¿Desea encontrar el siguiente número primo?\n",
      "3\n",
      "¿Desea encontrar el siguiente número primo?\n",
      "Se finaliza el proceso\n"
     ]
    }
   ],
   "source": [
    "n=1\n",
    "sigue=1\n",
    "primo=True\n",
    "while (sigue==1):\n",
    "    for div in range(2,n):\n",
    "        if (n%div==0):\n",
    "            primo=False\n",
    "            break\n",
    "    if (primo):\n",
    "        print(n)\n",
    "        print('¿Desea encontrar el siguiente número primo?')\n",
    "        if (input()!='1'):\n",
    "            print('Se finaliza el proceso')\n",
    "            break\n",
    "    else:\n",
    "        primo=True\n",
    "    n+=1"
   ]
  },
  {
   "cell_type": "markdown",
   "metadata": {},
   "source": [
    "Fibonacci por formula de Binet Edouard Lucas"
   ]
  },
  {
   "cell_type": "code",
   "execution_count": 4,
   "metadata": {},
   "outputs": [
    {
     "data": {
      "text/plain": [
       "610"
      ]
     },
     "execution_count": 4,
     "metadata": {},
     "output_type": "execute_result"
    }
   ],
   "source": [
    "from math import sqrt\n",
    "def fibo(n):\n",
    "    r=sqrt(5)\n",
    "    f=int((((1+r)/2)**n)/r+1/2)\n",
    "    return f\n",
    "\n",
    "fibo(15)"
   ]
  },
  {
   "cell_type": "code",
   "execution_count": null,
   "metadata": {},
   "outputs": [],
   "source": [
    "mi_lista = [1, 2, 3, 4, 5, 6, 7, 8, 9, 10]\n",
    "\n",
    "filtrado = filter(lambda x: x % 2 != 0, mi_lista)\n",
    "\n",
    "list(filtrado)"
   ]
  },
  {
   "cell_type": "code",
   "execution_count": 21,
   "metadata": {},
   "outputs": [
    {
     "name": "stdout",
     "output_type": "stream",
     "text": [
      "[10, 9, 8, 7, 6, 5, 4, 3, 2, 1]\n"
     ]
    }
   ],
   "source": [
    "lista = [1, 2, 3, 4, 5, 6, 7, 8, 9, 10]\n",
    "\n",
    "print(lista[::-1])"
   ]
  },
  {
   "cell_type": "code",
   "execution_count": 34,
   "metadata": {},
   "outputs": [
    {
     "name": "stdout",
     "output_type": "stream",
     "text": [
      "0\n",
      "2\n",
      "4\n",
      "6\n",
      "8\n",
      "10\n",
      "12\n",
      "14\n",
      "16\n",
      "18\n",
      "20\n",
      "22\n",
      "24\n",
      "26\n",
      "28\n",
      "30\n"
     ]
    }
   ],
   "source": [
    "for i in range(31)[::2]:\n",
    "    print(i)"
   ]
  },
  {
   "cell_type": "code",
   "execution_count": 21,
   "metadata": {},
   "outputs": [
    {
     "data": {
      "text/plain": [
       "'Left'"
      ]
     },
     "execution_count": 21,
     "metadata": {},
     "output_type": "execute_result"
    }
   ],
   "source": [
    "from functools import reduce\n",
    "lista=[3, 1, 4, 1, 5, 9, 2, 6]\n",
    "def tree_photography(lst):\n",
    "    l=reduce(lambda a,x: [a[0]+1,x] if a[1]<x else a,lst[1:],[1,lst[0]])\n",
    "    r=reduce(lambda a,x: [a[0]+1,x] if a[1]<x else a,lst[-1::-1],[1,lst[-1]])\n",
    "    if l<r:return f'right'\n",
    "    else: return f'left'\n",
    "    \n",
    "tree_photography(lista)"
   ]
  },
  {
   "cell_type": "code",
   "execution_count": 21,
   "metadata": {},
   "outputs": [
    {
     "data": {
      "text/plain": [
       "('left', 4, 3)"
      ]
     },
     "execution_count": 21,
     "metadata": {},
     "output_type": "execute_result"
    }
   ],
   "source": [
    "lista=[3, 1, 4, 1, 5, 9, 2, 6]\n",
    "lista2=[1, 2, 3, 3, 3, 3, 3]\n",
    "lista3=[-5,-4,-3, 6, 5, 4]\n",
    "lista4=[1, 3, 1, 6, 5]\n",
    "def tree_photography(lst):\n",
    "    l,r=1,1\n",
    "    m,p=lst[0],lst[-1]\n",
    "    for i in range(1,len(lst)):\n",
    "        if m<lst[i]:\n",
    "            l+=1\n",
    "            m=lst[i]\n",
    "        if p<lst[-i-1]:\n",
    "            r+=1\n",
    "            p=lst[-i-1]\n",
    "    if l<r:return f'right',l,r\n",
    "    else: return f'left',l,r\n",
    "    \n",
    "tree_photography(lista3)"
   ]
  },
  {
   "cell_type": "code",
   "execution_count": 24,
   "metadata": {},
   "outputs": [
    {
     "data": {
      "text/plain": [
       "'right'"
      ]
     },
     "execution_count": 24,
     "metadata": {},
     "output_type": "execute_result"
    }
   ],
   "source": [
    "lista3=[-5,-4,-3, 6, 8, 7]\n",
    "def tree_photography(lst):\n",
    "    a = b = x = y = 0\n",
    "    for i in range(len(lst)):\n",
    "        if lst[i] > a: a, x = lst[i], x + 1\n",
    "        if lst[-i - 1] > b: b, y = lst[-i - 1], y + 1\n",
    "    return \"left\" if x > y else \"right\"\n",
    "tree_photography(lista3)"
   ]
  },
  {
   "cell_type": "code",
   "execution_count": null,
   "metadata": {},
   "outputs": [],
   "source": [
    "from itertools import accumulate\n",
    "def tree_photography(lst):\n",
    "    return 'rliegfhtt'[len(set(accumulate(lst, max))) > len(set(accumulate(reversed(lst), max))) :: 2]"
   ]
  },
  {
   "cell_type": "code",
   "execution_count": 45,
   "metadata": {},
   "outputs": [
    {
     "data": {
      "text/plain": [
       "1"
      ]
     },
     "execution_count": 45,
     "metadata": {},
     "output_type": "execute_result"
    }
   ],
   "source": [
    "lista=[1, 5, 6, 3, 4, 2]\n",
    "lista2=[1, 2, 3, 4]\n",
    "lista3=[1, 1, 0]\n",
    "\n",
    "def largest_radial_sum(arr, d):\n",
    "    r=len(arr)//d\n",
    "    sums=[]\n",
    "    for i in range(r):\n",
    "        sums.append(sum(arr[i::r]))\n",
    "    return max(sums)\n",
    "\n",
    "largest_radial_sum(lista3,1)"
   ]
  },
  {
   "cell_type": "code",
   "execution_count": null,
   "metadata": {},
   "outputs": [],
   "source": [
    "\n",
    "lista=[1, 5, 6, 3, 4, 2,2,8,9]\n",
    "lista2=[1, 2, 3, 4]\n",
    "lista3=[1, 1, 0]\n",
    "\n",
    "def largest_radial_sum(arr, d):\n",
    "    n=len(arr)\n",
    "    r=n//d\n",
    "    sums=[0]*r\n",
    "    for i in range(r):\n",
    "        sums.append(sum(arr[i::r]))\n",
    "    return max(sums)\n",
    "\n",
    "largest_radial_sum(lista3,1)"
   ]
  },
  {
   "cell_type": "code",
   "execution_count": 20,
   "metadata": {},
   "outputs": [
    {
     "data": {
      "text/plain": [
       "17"
      ]
     },
     "execution_count": 20,
     "metadata": {},
     "output_type": "execute_result"
    }
   ],
   "source": [
    "lista=[1, 5, 6, 3, 4, 2,2,8,9]\n",
    "lista2=[1, 2, 3, 4]\n",
    "lista3=[1, 1, 0]\n",
    "\n",
    "def largest_radial_sum(arr, d):\n",
    "    r=len(arr)//d\n",
    "    return max([sum(arr[i::r]) for i in range(r)])\n",
    "\n",
    "largest_radial_sum(lista,3)"
   ]
  },
  {
   "cell_type": "markdown",
   "metadata": {},
   "source": [
    "Closed Brackets"
   ]
  },
  {
   "cell_type": "code",
   "execution_count": null,
   "metadata": {},
   "outputs": [],
   "source": [
    "cd='{}))))((])({{[[}{])([})[([(]([)()(()(][](}]}])({]{()}[()(){[}(([[{{)}]]}(})((]}[([[()('\n",
    "def closed_brackets(s):\n",
    "    if len(s)%2:\n",
    "        return print('NO')\n",
    "    i=0\n",
    "    while i < len(s)-1:\n",
    "        if ord(s[i])==ord(s[i+1])-1 or ord(s[i])==ord(s[i+1])-2:\n",
    "            s=s[:i]+s[i+2:]\n",
    "            i-=1\n",
    "            if i<0:\n",
    "                i=0\n",
    "            continue\n",
    "        i+=1\n",
    "    if s=='':\n",
    "        return print('YES')\n",
    "    return print('NO')"
   ]
  },
  {
   "cell_type": "code",
   "execution_count": null,
   "metadata": {},
   "outputs": [],
   "source": [
    "from re import *\n",
    "\n",
    "cd='((((()JJ))J)J(JJ)))JJ)(J))((()JJ)J)JJJJJ(J'\n",
    "cd1='J()J)J())J))JJ()()(J())((()(()((J))J(()J())J(JJ)J))))))J))J)()((J)()(J)()J(J'\n",
    "cd2='J((()J(JJJ(J()J()((J))())))J((JJ(JJ(((J)JJ(J)(J)J)J)J)())J)))(JJJ)JJ(JJ)()J)J(J(J(()J)(JJ(J)())J'\n",
    "cd3='J((()))((())))'\n",
    "cd4='(J)('\n",
    "def closed_brackets(s):\n",
    "    d,r=s,['J']\n",
    "    while len(r)>0:\n",
    "        r=findall('\\(J*\\)',d)\n",
    "        for e in r:\n",
    "            d=d.replace(e,'J'*(len(e)-2))\n",
    "    print(d)\n",
    "    e=['J']\n",
    "    while len(e)!=len(d):\n",
    "        e=d\n",
    "        d=sub('\\(J|J\\)','',e)\n",
    "    return not(')' in d or '(' in d)\n",
    "\n",
    "closed_brackets(cd2)"
   ]
  },
  {
   "cell_type": "code",
   "execution_count": 32,
   "metadata": {},
   "outputs": [
    {
     "data": {
      "text/plain": [
       "True"
      ]
     },
     "execution_count": 32,
     "metadata": {},
     "output_type": "execute_result"
    }
   ],
   "source": [
    "def closed_brackets(s):\n",
    "    a,b=0,0\n",
    "    for c in s:\n",
    "        if c=='(':\n",
    "            a+=1\n",
    "            b+=1\n",
    "        elif c==')':\n",
    "            if b==0: return False\n",
    "            b-=1\n",
    "            a=a and a-1\n",
    "        else:\n",
    "            b+=1\n",
    "            a=a and a-1\n",
    "    return not a\n",
    "\n",
    "closed_brackets('J())')"
   ]
  },
  {
   "cell_type": "code",
   "execution_count": 36,
   "metadata": {},
   "outputs": [
    {
     "data": {
      "text/plain": [
       "True"
      ]
     },
     "execution_count": 36,
     "metadata": {},
     "output_type": "execute_result"
    }
   ],
   "source": [
    "def closed_brackets(s):\n",
    "    a,b=0,0\n",
    "    for c in s:\n",
    "        if c=='(': a+=1; b+=1\n",
    "        elif c==')': \n",
    "            if b==0: return False\n",
    "            b-=1; a=a and a-1\n",
    "        else: b+=1;a=a and a-1\n",
    "    return not a\n",
    "\n",
    "closed_brackets('J())')"
   ]
  },
  {
   "cell_type": "code",
   "execution_count": 161,
   "metadata": {},
   "outputs": [
    {
     "data": {
      "text/plain": [
       "True"
      ]
     },
     "execution_count": 161,
     "metadata": {},
     "output_type": "execute_result"
    }
   ],
   "source": [
    "def closed_brackets(s):\n",
    "    a, b = 0, 0\n",
    "    for c in s:\n",
    "        if c == \")\" and b == 0:\n",
    "            return False\n",
    "        a=a+1 if c == \"(\" else a and a-1\n",
    "        b=b-1 if c == \")\" else b+1\n",
    "    return not a\n",
    "\n",
    "closed_brackets(cd2)"
   ]
  },
  {
   "cell_type": "markdown",
   "metadata": {},
   "source": [
    "Refactored Greeting"
   ]
  },
  {
   "cell_type": "code",
   "execution_count": 44,
   "metadata": {},
   "outputs": [
    {
     "data": {
      "text/plain": [
       "'Joe'"
      ]
     },
     "execution_count": 44,
     "metadata": {},
     "output_type": "execute_result"
    }
   ],
   "source": [
    "class Person:\n",
    "    def __init__(self,name):\n",
    "        self.name=name\n",
    "    def greet(self,your_name):\n",
    "        return f'Hello {your_name}, my name is {self.name}'\n",
    "\n",
    "joe=Person('Joe')\n",
    "joe.greet('Kate')\n",
    "joe.name"
   ]
  },
  {
   "cell_type": "code",
   "execution_count": 27,
   "metadata": {},
   "outputs": [
    {
     "name": "stdout",
     "output_type": "stream",
     "text": [
      "14\n"
     ]
    },
    {
     "data": {
      "text/plain": [
       "[(1,),\n",
       " (2, 3, 5, 6),\n",
       " (),\n",
       " (1, 3, 4, 5),\n",
       " (2, 3, 4, 6, 7),\n",
       " (),\n",
       " (1, 2, 3, 4, 5),\n",
       " (1, 2, 3, 4),\n",
       " (1, 2, 3),\n",
       " (1, 2),\n",
       " (1, 3),\n",
       " (2,),\n",
       " (),\n",
       " ()]"
      ]
     },
     "execution_count": 27,
     "metadata": {},
     "output_type": "execute_result"
    }
   ],
   "source": [
    "cd=\"6348\"\n",
    "cd2=\"38088198647805\"\n",
    "def solve(game):\n",
    "    arr=list(map(int,game))\n",
    "    print(len(arr[0:]))\n",
    "    w=[tuple(j for j in range(1,min(e,len(arr[i:]))) if (j<=len(arr[i:]) and arr[i+j]-j>0)) for i,e in enumerate(arr)]\n",
    "    return w\n",
    "    \n",
    "solve(cd2)"
   ]
  },
  {
   "cell_type": "code",
   "execution_count": 34,
   "metadata": {},
   "outputs": [
    {
     "name": "stdout",
     "output_type": "stream",
     "text": [
      "4\n"
     ]
    },
    {
     "data": {
      "text/plain": [
       "[(1, 2), (), (), ()]"
      ]
     },
     "execution_count": 34,
     "metadata": {},
     "output_type": "execute_result"
    }
   ],
   "source": [
    "cd=\"6348\"\n",
    "cd2=\"38088198647805\"\n",
    "def solve(game):\n",
    "    arr=list(map(int,game))\n",
    "    ar=arr.copy()\n",
    "    z=len(arr)\n",
    "    print(len(arr))\n",
    "    w=[]\n",
    "    for i,e in enumerate(arr):\n",
    "        m=[]\n",
    "        for j in range(1,e+1):\n",
    "            if i+j>z:continue\n",
    "            n=len(ar[i+j:])\n",
    "            if i+j>n:continue\n",
    "            le=ar[i+j]-j\n",
    "            if le<1 or le>n:\n",
    "                continue\n",
    "            m.append(j)\n",
    "        m=tuple(m)\n",
    "        w.append(m)\n",
    "    return w\n",
    "\n",
    "\n",
    "solve(cd)"
   ]
  },
  {
   "cell_type": "code",
   "execution_count": 33,
   "metadata": {},
   "outputs": [
    {
     "data": {
      "text/plain": [
       "[(1, 3, 6), (2, 5), (), (1, 2, 3, 4), (1, 2), (1, 2, 3), (1, 2), (1,)]"
      ]
     },
     "execution_count": 33,
     "metadata": {},
     "output_type": "execute_result"
    }
   ],
   "source": [
    "cd=\"6348\"\n",
    "cd2=\"38088198647805\"\n",
    "cd3=\"65042485\"\n",
    "def solve(game):\n",
    "    arr=list(map(int,game))\n",
    "    ar=arr.copy()\n",
    "    z=len(arr)\n",
    "    w=[]\n",
    "    for i,e in enumerate(arr):\n",
    "        m=[]\n",
    "        n=len(ar[i:])\n",
    "        lim=min(e+1,n+1)\n",
    "        for j in range(1,lim):\n",
    "            if i+j>z-1:\n",
    "                m.append(j)\n",
    "                continue\n",
    "            le=ar[i+j]-j\n",
    "            if le<1:\n",
    "                continue\n",
    "            m.append(j)\n",
    "        # if ar[i]==n:\n",
    "        #     m.append(ar[i])\n",
    "        m=tuple(m)\n",
    "        w.append(m)\n",
    "    return w\n",
    "\n",
    "\n",
    "solve(cd3)"
   ]
  },
  {
   "cell_type": "code",
   "execution_count": 26,
   "metadata": {},
   "outputs": [
    {
     "name": "stdout",
     "output_type": "stream",
     "text": [
      "4 8\n"
     ]
    }
   ],
   "source": [
    "print(cd[2],cd[3:])"
   ]
  },
  {
   "cell_type": "code",
   "execution_count": null,
   "metadata": {},
   "outputs": [],
   "source": [
    "cd3=\"65042485\"\n",
    "def solve(game):\n",
    "    arr=list(map(int,game))\n",
    "    ar=arr.copy()\n",
    "    def solven(ar,v):\n",
    "        m=[]\n",
    "        n=len(ar)\n",
    "        p=ar[0]\n",
    "        lim=min(p+1,n+1)\n",
    "        for j in range(1,lim):\n",
    "            if ar[j]-j<1:\n",
    "                continue\n",
    "            m.append(j)\n",
    "        return m\n",
    "        \n",
    "\n",
    "\n",
    "solve(cd3)"
   ]
  },
  {
   "cell_type": "code",
   "execution_count": 9,
   "metadata": {},
   "outputs": [
    {
     "name": "stdout",
     "output_type": "stream",
     "text": [
      "p:6, j:1\n",
      "[4, 0, 4, 2, 4, 8, 5]\n",
      "[1]\n",
      "p:4, j:1\n",
      "p:4, j:2\n",
      "[2, 2, 4, 8, 5]\n",
      "[1, 2]\n",
      "p:2, j:1\n",
      "[1, 4, 8, 5]\n",
      "[1, 2, 1]\n",
      "p:1, j:1\n",
      "[3, 8, 5]\n",
      "[1, 2, 1, 1]\n",
      "p:3 terminó\n",
      "w:[[1, 2, 1, 1, 3]],m:[1, 2, 1, 1, 3]\n",
      "m:[]\n",
      "m:[]\n",
      "p:2, j:2\n",
      "[2, 8, 5]\n",
      "[2]\n",
      "p:2, j:1\n",
      "[7, 5]\n",
      "[2, 1]\n",
      "p:7, j:1\n",
      "[4]\n",
      "[2, 1, 1]\n",
      "p:4 sobra no va\n",
      "m:[]\n",
      "p:7, j:2\n",
      "sobra no va\n",
      "m:[]\n",
      "p:2, j:2\n",
      "[3]\n",
      "[2]\n",
      "p:3 sobra no va\n",
      "m:[]\n",
      "m:[]\n",
      "m:[]\n",
      "p:4, j:3\n",
      "p:4, j:4\n",
      "m:[]\n",
      "p:6, j:2\n",
      "p:6, j:3\n",
      "[1, 2, 4, 8, 5]\n",
      "[3]\n",
      "p:1, j:1\n",
      "[1, 4, 8, 5]\n",
      "[3, 1]\n",
      "p:1, j:1\n",
      "[3, 8, 5]\n",
      "[3, 1, 1]\n",
      "p:3 terminó\n",
      "w:[[1, 2, 1, 1, 3], [3, 1, 1, 3]],m:[3, 1, 1, 3]\n",
      "m:[]\n",
      "m:[]\n",
      "m:[]\n",
      "p:6, j:4\n",
      "p:6, j:5\n",
      "p:6, j:6\n",
      "[2, 5]\n",
      "[6]\n",
      "p:2 terminó\n",
      "w:[[1, 2, 1, 1, 3], [3, 1, 1, 3], [6, 2]],m:[6, 2]\n",
      "m:[]\n",
      "[[1, 2, 1, 1, 3], [3, 1, 1, 3], [6, 2]]\n"
     ]
    }
   ],
   "source": [
    "cd3=\"65042485\"\n",
    "cd2=\"6348\"\n",
    "cd1=\"38088198647805\"\n",
    "arr=list(map(int,cd3))\n",
    "ar=arr.copy()\n",
    "m=[]\n",
    "w=[]\n",
    "def solven(ar,m):\n",
    "        p=ar[0]\n",
    "        n=len(ar)\n",
    "        if n<2 and p!=1:\n",
    "            print(f'p:{p} sobra no va')\n",
    "            m=[]\n",
    "            return m\n",
    "        if n!=p:\n",
    "            lim=min(p+1,n+1)\n",
    "            for j in range(1,lim):\n",
    "                print(f'p:{p}, j:{j}')\n",
    "                if j>n-1:\n",
    "                     print('sobra no va')\n",
    "                     continue\n",
    "                if ar[j]-j<1:\n",
    "                    continue\n",
    "                ar[j]=ar[j]-j\n",
    "                print(f'{ar[j:]}')\n",
    "                m.append(j)\n",
    "                print(m)\n",
    "                m=solven(ar[j:],m)\n",
    "                print(f'm:{m}')\n",
    "            return m\n",
    "        m.append(p)\n",
    "        w.append(m)\n",
    "        print(f'p:{p} terminó')\n",
    "        print(f'w:{w},m:{m}')\n",
    "        m=[]\n",
    "        return m\n",
    "\n",
    "solven(ar,m)\n",
    "print(w)"
   ]
  },
  {
   "cell_type": "code",
   "execution_count": 11,
   "metadata": {},
   "outputs": [
    {
     "name": "stdout",
     "output_type": "stream",
     "text": [
      "p:6, j:1\n",
      "ar:[4, 0, 4, 2, 4, 8, 5]\n",
      "mm:[1]\n",
      "p:4, j:1\n",
      "p:4, j:2\n",
      "ar:[2, 2, 4, 8, 5]\n",
      "mm:[1, 2]\n",
      "p:2, j:1\n",
      "ar:[1, 4, 8, 5]\n",
      "mm:[1, 2, 1]\n",
      "p:1, j:1\n",
      "ar:[3, 8, 5]\n",
      "mm:[1, 2, 1, 1]\n",
      "p:3, j:1\n",
      "ar:[7, 5]\n",
      "mm:[1, 2, 1, 1, 1]\n",
      "p:7, j:1\n",
      "ar:[4]\n",
      "mm:[1, 2, 1, 1, 1, 1]\n",
      "p:4 Terminó MAL\n",
      "mm:[1, 2, 1, 1, 1]\n",
      "p:7, j:2\n",
      "sobra no va\n",
      "mm:[1, 2, 1, 1]\n",
      "p:3, j:2\n",
      "ar:[3]\n",
      "mm:[1, 2, 1, 1, 2]\n",
      "p:3 Terminó MAL\n",
      "mm:[1, 2, 1, 1]\n",
      "p:3, j:3\n",
      "p:3 terminó\n",
      "w:[(1, 2, 1, 1, 3)],mm:[1, 2, 1, 1, 3],m:[1, 2, 1, 1]\n",
      "mm:[1, 2, 1]\n",
      "mm:[1, 2]\n",
      "p:2, j:2\n",
      "ar:[2, 8, 5]\n",
      "mm:[1, 2, 2]\n",
      "p:2, j:1\n",
      "ar:[7, 5]\n",
      "mm:[1, 2, 2, 1]\n",
      "p:7, j:1\n",
      "ar:[4]\n",
      "mm:[1, 2, 2, 1, 1]\n",
      "p:4 Terminó MAL\n",
      "mm:[1, 2, 2, 1]\n",
      "p:7, j:2\n",
      "sobra no va\n",
      "mm:[1, 2, 2]\n",
      "p:2, j:2\n",
      "ar:[3]\n",
      "mm:[1, 2, 2, 2]\n",
      "p:3 Terminó MAL\n",
      "mm:[1, 2, 2]\n",
      "mm:[1, 2]\n",
      "mm:[1]\n",
      "p:4, j:3\n",
      "p:4, j:4\n",
      "mm:[]\n",
      "p:6, j:2\n",
      "p:6, j:3\n",
      "ar:[1, 2, 4, 8, 5]\n",
      "mm:[3]\n",
      "p:1, j:1\n",
      "ar:[1, 4, 8, 5]\n",
      "mm:[3, 1]\n",
      "p:1, j:1\n",
      "ar:[3, 8, 5]\n",
      "mm:[3, 1, 1]\n",
      "p:3, j:1\n",
      "ar:[7, 5]\n",
      "mm:[3, 1, 1, 1]\n",
      "p:7, j:1\n",
      "ar:[4]\n",
      "mm:[3, 1, 1, 1, 1]\n",
      "p:4 Terminó MAL\n",
      "mm:[3, 1, 1, 1]\n",
      "p:7, j:2\n",
      "sobra no va\n",
      "mm:[3, 1, 1]\n",
      "p:3, j:2\n",
      "ar:[3]\n",
      "mm:[3, 1, 1, 2]\n",
      "p:3 Terminó MAL\n",
      "mm:[3, 1, 1]\n",
      "p:3, j:3\n",
      "p:3 terminó\n",
      "w:[(1, 2, 1, 1, 3), (3, 1, 1, 3)],mm:[3, 1, 1, 3],m:[3, 1, 1]\n",
      "mm:[3, 1]\n",
      "mm:[3]\n",
      "mm:[]\n",
      "p:6, j:4\n",
      "p:6, j:5\n",
      "p:6, j:6\n",
      "ar:[2, 5]\n",
      "mm:[6]\n",
      "p:2, j:1\n",
      "ar:[4]\n",
      "mm:[6, 1]\n",
      "p:4 Terminó MAL\n",
      "mm:[6]\n",
      "p:2, j:2\n",
      "p:2 terminó\n",
      "w:[(1, 2, 1, 1, 3), (3, 1, 1, 3), (6, 2)],mm:[6, 2],m:[6]\n",
      "mm:[]\n",
      "Final: [(1, 2, 1, 1, 3), (3, 1, 1, 3), (6, 2)]\n"
     ]
    }
   ],
   "source": [
    "cd3=\"65042485\"\n",
    "cd2=\"6348\"\n",
    "cd1=\"38088198647805\"\n",
    "cd4=\"1871379558590150\"\n",
    "cd5=\"9555267224559216\"\n",
    "arr=list(map(int,cd3))\n",
    "ar=arr.copy()\n",
    "m=[]\n",
    "w=[]\n",
    "def solven(ar,m):\n",
    "        p=ar[0]\n",
    "        n=len(ar)\n",
    "        mm=m.copy()\n",
    "        if n<2 and p!=1:\n",
    "            print(f'p:{p} Terminó MAL')\n",
    "            return m\n",
    "        lim=min(p+1,n+1)\n",
    "        for j in range(1,lim):\n",
    "            print(f'p:{p}, j:{j}')\n",
    "            if j==n and p==n:\n",
    "                mm.append(p)\n",
    "                w.append(tuple(mm))\n",
    "                print(f'p:{p} terminó')\n",
    "                print(f'w:{w},mm:{mm},m:{m}')\n",
    "                return m\n",
    "            if j>n-1:\n",
    "                    print('sobra no va')\n",
    "                    continue\n",
    "            if ar[j]-j<1:\n",
    "                continue\n",
    "            ar[j]=ar[j]-j\n",
    "            print(f'ar:{ar[j:]}')\n",
    "            mm.append(j)\n",
    "            print(f'mm:{mm}')\n",
    "            v=solven(ar[j:],mm)\n",
    "            if len(v)==len(mm):\n",
    "                 v.pop()\n",
    "                 mm=v\n",
    "            else:\n",
    "                 mm=v\n",
    "            print(f'mm:{mm}')\n",
    "        return mm \n",
    "        \n",
    "solven(ar,m)\n",
    "print(f'Final: {w}')\n"
   ]
  },
  {
   "cell_type": "code",
   "execution_count": 31,
   "metadata": {},
   "outputs": [
    {
     "data": {
      "text/plain": [
       "[(1, 2, 1, 1, 3), (3, 1, 1, 3), (6, 2)]"
      ]
     },
     "execution_count": 31,
     "metadata": {},
     "output_type": "execute_result"
    }
   ],
   "source": [
    "cd3=\"65042485\"\n",
    "cd2=\"6348\"\n",
    "cd1=\"38088198647805\"\n",
    "cd4=\"1871379558590150\"\n",
    "cd5=\"9555267224559216\"\n",
    "\n",
    "def solve(game):\n",
    "    ar=list(map(int,game))\n",
    "    m,w=[],[]\n",
    "    def solven(ar,m):\n",
    "            p=ar[0]\n",
    "            n=len(ar)\n",
    "            mm=m.copy()\n",
    "            if n<2 and p!=1:\n",
    "                return m\n",
    "            lim=min(p+1,n+1)\n",
    "            for j in range(1,lim):\n",
    "                if j==n:\n",
    "                    if p==n:\n",
    "                        mm.append(p)\n",
    "                        w.append(tuple(mm))\n",
    "                        return m\n",
    "                    else:\n",
    "                        continue\n",
    "                if ar[j]-j<1:\n",
    "                    continue\n",
    "                ar[j]=ar[j]-j\n",
    "                mm.append(j)\n",
    "                v=solven(ar[j:],mm)\n",
    "                if len(v)==len(mm):\n",
    "                    v.pop()\n",
    "                mm=v\n",
    "            return mm \n",
    "    solven(ar,m)\n",
    "    return w\n",
    "\n",
    "solve(cd3)"
   ]
  },
  {
   "cell_type": "code",
   "execution_count": 22,
   "metadata": {},
   "outputs": [
    {
     "name": "stdout",
     "output_type": "stream",
     "text": [
      "p:6, j:1\n",
      "ar:[4, 0, 4, 2, 4, 8, 5]\n",
      "mm:[1]\n",
      "p:4, j:1\n",
      "p:4, j:2\n",
      "ar:[2, 2, 4, 8, 5]\n",
      "mm:[1, 2]\n",
      "p:2, j:1\n",
      "ar:[1, 4, 8, 5]\n",
      "mm:[1, 2, 1]\n",
      "p:1, j:1\n",
      "ar:[3, 8, 5]\n",
      "mm:[1, 2, 1, 1]\n",
      "p:3, j:1\n",
      "ar:[7, 5]\n",
      "mm:[1, 2, 1, 1, 1]\n",
      "p:7, j:1\n",
      "ar:[4]\n",
      "mm:[1, 2, 1, 1, 1, 1]\n",
      "p:4 Terminó MAL\n",
      "mm:[1, 2, 1, 1, 1]\n",
      "p:7, j:2\n",
      "sobra no va\n",
      "mm:[1, 2, 1, 1]\n",
      "p:3, j:2\n",
      "ar:[3]\n",
      "mm:[1, 2, 1, 1, 2]\n",
      "p:3 Terminó MAL\n",
      "mm:[1, 2, 1, 1]\n",
      "p:3, j:3\n",
      "p:3 terminó\n",
      "w:[(1, 2, 1, 1, 3)],mm:[1, 2, 1, 1, 3],m:[1, 2, 1, 1]\n",
      "mm:[1, 2, 1]\n",
      "mm:[1, 2]\n",
      "p:2, j:2\n",
      "ar:[2, 8, 5]\n",
      "mm:[1, 2, 2]\n",
      "p:2, j:1\n",
      "ar:[7, 5]\n",
      "mm:[1, 2, 2, 1]\n",
      "p:7, j:1\n",
      "ar:[4]\n",
      "mm:[1, 2, 2, 1, 1]\n",
      "p:4 Terminó MAL\n",
      "mm:[1, 2, 2, 1]\n",
      "p:7, j:2\n",
      "sobra no va\n",
      "mm:[1, 2, 2]\n",
      "p:2, j:2\n",
      "ar:[3]\n",
      "mm:[1, 2, 2, 2]\n",
      "p:3 Terminó MAL\n",
      "mm:[1, 2, 2]\n",
      "mm:[1, 2]\n",
      "mm:[1]\n",
      "p:4, j:3\n",
      "p:4, j:4\n",
      "mm:[]\n",
      "p:6, j:2\n",
      "p:6, j:3\n",
      "ar:[1, 2, 4, 8, 5]\n",
      "mm:[3]\n",
      "p:1, j:1\n",
      "ar:[1, 4, 8, 5]\n",
      "mm:[3, 1]\n",
      "p:1, j:1\n",
      "ar:[3, 8, 5]\n",
      "mm:[3, 1, 1]\n",
      "p:3, j:1\n",
      "ar:[7, 5]\n",
      "mm:[3, 1, 1, 1]\n",
      "p:7, j:1\n",
      "ar:[4]\n",
      "mm:[3, 1, 1, 1, 1]\n",
      "p:4 Terminó MAL\n",
      "mm:[3, 1, 1, 1]\n",
      "p:7, j:2\n",
      "sobra no va\n",
      "mm:[3, 1, 1]\n",
      "p:3, j:2\n",
      "ar:[3]\n",
      "mm:[3, 1, 1, 2]\n",
      "p:3 Terminó MAL\n",
      "mm:[3, 1, 1]\n",
      "p:3, j:3\n",
      "p:3 terminó\n",
      "w:[(1, 2, 1, 1, 3), (3, 1, 1, 3)],mm:[3, 1, 1, 3],m:[3, 1, 1]\n",
      "mm:[3, 1]\n",
      "mm:[3]\n",
      "mm:[]\n",
      "p:6, j:4\n",
      "p:6, j:5\n",
      "p:6, j:6\n",
      "ar:[2, 5]\n",
      "mm:[6]\n",
      "p:2, j:1\n",
      "ar:[4]\n",
      "mm:[6, 1]\n",
      "p:4 Terminó MAL\n",
      "mm:[6]\n",
      "p:2, j:2\n",
      "p:2 terminó\n",
      "w:[(1, 2, 1, 1, 3), (3, 1, 1, 3), (6, 2)],mm:[6, 2],m:[6]\n",
      "mm:[]\n"
     ]
    },
    {
     "data": {
      "text/plain": [
       "[(1, 2, 1, 1, 3), (3, 1, 1, 3), (6, 2)]"
      ]
     },
     "execution_count": 22,
     "metadata": {},
     "output_type": "execute_result"
    }
   ],
   "source": [
    "cd3=\"65042485\"\n",
    "cd2=\"6348\"\n",
    "cd1=\"38088198647805\"\n",
    "cd4=\"1871379558590150\"\n",
    "cd5=\"9555267224559216\"\n",
    "\n",
    "def solve(game):\n",
    "    ar=list(map(int,game))\n",
    "    m,w=[],[]\n",
    "    def solven(ar,m):\n",
    "            p=ar[0]\n",
    "            n=len(ar)\n",
    "            mm=m.copy()\n",
    "            if n<2 and p!=1:\n",
    "                return m\n",
    "            lim=min(p+1,n+1)\n",
    "            for j in range(1,lim):\n",
    "                if j==n:\n",
    "                    if p==n:\n",
    "                        mm.append(p)\n",
    "                        w.append(tuple(mm))\n",
    "                        return m\n",
    "                    else:\n",
    "                        continue\n",
    "                if ar[j]-j<1:\n",
    "                    continue\n",
    "                ar[j]=ar[j]-j\n",
    "                mm.append(j)\n",
    "                v=solven(ar[j:],mm)\n",
    "                if len(v)==len(mm):\n",
    "                    v.pop()\n",
    "                mm=v\n",
    "            return mm \n",
    "    solven(ar,m)\n",
    "    return w\n",
    "\n",
    "solve(cd3)"
   ]
  },
  {
   "cell_type": "markdown",
   "metadata": {},
   "source": [
    "### Numpy"
   ]
  },
  {
   "cell_type": "code",
   "execution_count": 14,
   "metadata": {},
   "outputs": [
    {
     "name": "stdout",
     "output_type": "stream",
     "text": [
      "[  1   2   3   4 -10]\n"
     ]
    }
   ],
   "source": [
    "import numpy as np\n",
    "\n",
    "ab = np.array([[1 , 2, 3, 4], [5, 6, 7, 8], [9, -10, 11, 12]])\n",
    "b=np.linspace(0,10,5)\n",
    "\n",
    "print(ab[ab<5])"
   ]
  },
  {
   "cell_type": "code",
   "execution_count": 19,
   "metadata": {},
   "outputs": [
    {
     "data": {
      "text/plain": [
       "[2,\n",
       " 'ventilador',\n",
       " True,\n",
       " 'cursor',\n",
       " 'martillo',\n",
       " 5,\n",
       " 'linterna',\n",
       " 'tenedor',\n",
       " 'tecla',\n",
       " 'tanque',\n",
       " 8.2,\n",
       " 'luna',\n",
       " 'frasco',\n",
       " 2,\n",
       " 'caja']"
      ]
     },
     "execution_count": 19,
     "metadata": {},
     "output_type": "execute_result"
    }
   ],
   "source": [
    "lista=[1,2,[[2,8,5,[56,2,4,1],6],6],95]\n",
    "\n",
    "def unested(arr):\n",
    "    flag=True\n",
    "    while flag:\n",
    "        res=[]\n",
    "        flag=False\n",
    "        for e in arr:\n",
    "            if type(e) is list:\n",
    "                res+=e\n",
    "                flag=True\n",
    "            else:\n",
    "                res+=[e]\n",
    "        arr=res.copy()\n",
    "    return res\n",
    "\n",
    "unested(lista)\n",
    "unested([2,['ventilador',True],'cursor',['martillo',5,'linterna',['tenedor','tecla']],['tanque',[8.2,'luna',['frasco',2,'caja']]]])"
   ]
  },
  {
   "cell_type": "code",
   "execution_count": 14,
   "metadata": {},
   "outputs": [
    {
     "data": {
      "text/plain": [
       "[1, 1, 2, 2, 3, 5, 5, 8, 9, 2]"
      ]
     },
     "execution_count": 14,
     "metadata": {},
     "output_type": "execute_result"
    }
   ],
   "source": [
    "def unested(arr):\n",
    "    flat = []\n",
    "    for element in arr:\n",
    "        if isinstance(element, list):\n",
    "            flat.extend(unested(element))\n",
    "        else:\n",
    "            flat.append(element)\n",
    "             \n",
    "    return flat\n",
    "\n",
    "unested([[[1,[[[[[[1],2],2],3],5],5],8],9],2])"
   ]
  },
  {
   "cell_type": "code",
   "execution_count": 119,
   "metadata": {},
   "outputs": [],
   "source": [
    "def unested1(arr):\n",
    "    flat = []\n",
    "    for element in arr:\n",
    "        if isinstance(element,(list,range,tuple)):\n",
    "            flat.extend(unested(element))\n",
    "        else:\n",
    "            flat.append(element)\n",
    "             \n",
    "    return flat"
   ]
  },
  {
   "cell_type": "code",
   "execution_count": 141,
   "metadata": {},
   "outputs": [
    {
     "name": "stdout",
     "output_type": "stream",
     "text": [
      "[95, range(0, 5), (2, 5, 6)] *\n",
      "[[2, 8, 5, [56, 2, 4, 1], 6], 6, 95, range(0, 5), (2, 5, 6)]\n",
      "[6, 95, range(0, 5), (2, 5, 6)] *\n",
      "[2, 8, 5, [56, 2, 4, 1], 6, 6, 95, range(0, 5), (2, 5, 6)]\n",
      "[6, 6, 95, range(0, 5), (2, 5, 6)] *\n",
      "[56, 2, 4, 1, 6, 6, 95, range(0, 5), (2, 5, 6)]\n",
      "[(2, 5, 6)] *\n",
      "[0, 1, 2, 3, 4, (2, 5, 6)]\n",
      "[] *\n",
      "[2, 5, 6]\n"
     ]
    },
    {
     "data": {
      "text/plain": [
       "[1, 2, 2, 8, 5, 56, 2, 4, 1, 6, 6, 95, 0, 1, 2, 3, 4, 2, 5, 6]"
      ]
     },
     "execution_count": 141,
     "metadata": {},
     "output_type": "execute_result"
    }
   ],
   "source": [
    "lista=[1,2,[[2,8,5,[56,2,4,1],6],6],95,range(5),(2,5,6)]\n",
    "\n",
    "def unested(arr):\n",
    "    flag=True\n",
    "    res=[]           \n",
    "    while flag:\n",
    "        flag=False\n",
    "        for e in arr:\n",
    "            if isinstance(e,(list,range,tuple)):\n",
    "                print(arr[arr.index(e)+1:],'*')\n",
    "                arr=[*e]+arr[arr.index(e)+1:]\n",
    "                print(arr)\n",
    "                flag=True\n",
    "                break\n",
    "            else:\n",
    "                res.append(e)\n",
    "    return res\n",
    "\n",
    "unested(lista)\n",
    "#unested([2,['ventilador',True],'cursor',['martillo',5,'linterna',['tenedor','tecla']],['tanque',[8.2,'luna',['frasco',2,'caja']]]])"
   ]
  },
  {
   "cell_type": "code",
   "execution_count": 101,
   "metadata": {},
   "outputs": [
    {
     "data": {
      "text/plain": [
       "[1, 2, 2, 8, 5, 56, 2, 4, 1, 6, 6, 95, 0, 1, 2, 3, 4, 2, 5, 6]"
      ]
     },
     "execution_count": 101,
     "metadata": {},
     "output_type": "execute_result"
    }
   ],
   "source": [
    "def unestedy(arr):\n",
    "    for e in arr:\n",
    "        if isinstance(e, (list, tuple, range)):\n",
    "            yield from unested(e)\n",
    "        else:\n",
    "            yield e\n",
    "\n",
    "list(unestedy(lista))"
   ]
  },
  {
   "cell_type": "code",
   "execution_count": null,
   "metadata": {},
   "outputs": [],
   "source": [
    "import random\n",
    "import pandas as pd\n",
    "\n",
    "num_list = random.sample(range(0, 1000000), 10000)\n",
    "\n",
    "def for_loop():\n",
    "    new_list = []\n",
    "    for num in num_list:\n",
    "        if num > 500000:\n",
    "            new_list.append(num)\n",
    "\n",
    "def list_comp():\n",
    "    new_list = [num for num in num_list if num > 500000]\n",
    "\n",
    "    \n",
    "# Calculate timings\n",
    "for_loop_time = %timeit -o -q for_loop()\n",
    "list_comp_time = %timeit -o -q list_comp()\n",
    "\n",
    "# Create data table\n",
    "data = [['for loop', for_loop_time.average], ['list comprehension', list_comp_time.average]]\n",
    "df = pd.DataFrame(data, columns=['type', 'microseconds'])\n",
    "df.microseconds = round(df.microseconds * 1e6, 2) \n",
    "df.sort_values('microseconds', inplace=True)\n",
    "\n",
    "df"
   ]
  },
  {
   "cell_type": "code",
   "execution_count": 135,
   "metadata": {},
   "outputs": [
    {
     "data": {
      "text/plain": [
       "'f1:0.003200926285722484, f2:0.002766402142853102, dif:0.00043452414286938206,dif%:15.70719369170383'"
      ]
     },
     "execution_count": 135,
     "metadata": {},
     "output_type": "execute_result"
    }
   ],
   "source": [
    "from time import time\n",
    "\n",
    "def lc(arr):\n",
    "    lc=[e*e for e in arr]\n",
    "    return lc\n",
    "\n",
    "def loop(arr):\n",
    "    c=[]\n",
    "    for e in arr:\n",
    "        c.append(e*e)\n",
    "    return c\n",
    "\n",
    "def comparetime(f1,f2,arg,factor=1):\n",
    "    a = %timeit -o -q f1(arg)\n",
    "    b = %timeit -o -q f2(arg)\n",
    "    a=a.average*factor\n",
    "    b=b.average*factor\n",
    "    dt=abs(b-a)\n",
    "    dtp=100*dt/min(b,a)\n",
    "    return f'f1:{a}, f2:{b}, dif:{dt},dif%:{dtp}'\n",
    "\n",
    "\n",
    "comparetime(unested,unested1,lista,1000)"
   ]
  }
 ],
 "metadata": {
  "kernelspec": {
   "display_name": "Python 3",
   "language": "python",
   "name": "python3"
  },
  "language_info": {
   "codemirror_mode": {
    "name": "ipython",
    "version": 3
   },
   "file_extension": ".py",
   "mimetype": "text/x-python",
   "name": "python",
   "nbconvert_exporter": "python",
   "pygments_lexer": "ipython3",
   "version": "3.11.5"
  },
  "orig_nbformat": 4
 },
 "nbformat": 4,
 "nbformat_minor": 2
}
