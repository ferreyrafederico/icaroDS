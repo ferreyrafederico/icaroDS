{
 "cells": [
  {
   "cell_type": "markdown",
   "metadata": {},
   "source": [
    "Funcion con abecedario personalizado que codifica y decodifica texto por desplazamiento."
   ]
  },
  {
   "cell_type": "code",
   "execution_count": 45,
   "metadata": {},
   "outputs": [
    {
     "data": {
      "text/plain": [
       "'Algun caracter no está en el abecedario'"
      ]
     },
     "execution_count": 45,
     "metadata": {},
     "output_type": "execute_result"
    }
   ],
   "source": [
    "texto='Este es un código secretoÇ'\n",
    "codificado='DrsdÚdrÚtmÚbíchfñÚrdbqdsñ'\n",
    "\n",
    "def enigma(text,cod,dis):\n",
    "    abc='abcdefghijklmnñopqrstuüvwxyz\"!¡.,:;$&/¿?@()=0123456789áéíóúABCDEFGHIJKLMNÑOPQRSTUÜVWXYÁÉÍÓÚ '\n",
    "    verf=sum([1 for e in text if not(e in abc)])\n",
    "    if verf:\n",
    "        res=f'Algun caracter no está en el abecedario'\n",
    "        return res\n",
    "    abc2=abc[-dis:]+abc[:-dis]\n",
    "    if cod:\n",
    "        trans=dict(zip(abc,abc2))\n",
    "    else:\n",
    "        trans=dict(zip(abc2,abc))\n",
    "    res=\"\".join(list([trans[e] for e in text]))\n",
    "    return res\n",
    "enigma(texto,True,3)"
   ]
  },
  {
   "cell_type": "code",
   "execution_count": 72,
   "metadata": {},
   "outputs": [
    {
     "data": {
      "text/plain": [
       "'Este es un mensaje secreto.~'"
      ]
     },
     "execution_count": 72,
     "metadata": {},
     "output_type": "execute_result"
    }
   ],
   "source": [
    "texto='Este es un mensaje secreto.~'\n",
    "codificado='ímnÓXÓmXñgXfÓgmYcÓXmÓÉlÓniw~'\n",
    "\n",
    "def enigma(text,cod,dis):\n",
    "    abc='abcdefghijklmnñopqrstuüvwxyz\"!¡.,:;$&/¿?@()=0123456789áéíóúABCDEFGHIJKLMNÑOPQRSTUÜVWXYÁÉÍÓÚ '\n",
    "    abc2=abc[-dis:]+abc[:-dis]\n",
    "    if cod:\n",
    "        table=str.maketrans(abc,abc2)\n",
    "    else:\n",
    "        table=str.maketrans(abc2,abc)\n",
    "    res=text.translate(table)\n",
    "    return res\n",
    "enigma(codificado,False,7)"
   ]
  },
  {
   "cell_type": "code",
   "execution_count": 118,
   "metadata": {},
   "outputs": [
    {
     "name": "stdout",
     "output_type": "stream",
     "text": [
      "[]\n"
     ]
    }
   ],
   "source": [
    "import urllib.request\n",
    "import re\n",
    "html = urllib.request.urlopen(\"http://www.pythonchallenge.com/pc/def/ocr.html\").read().decode()\n",
    "res=re.findall(\"<!--(\\w*\\n)?-->\",html)\n",
    "print(res)"
   ]
  },
  {
   "cell_type": "code",
   "execution_count": 104,
   "metadata": {},
   "outputs": [
    {
     "name": "stdout",
     "output_type": "stream",
     "text": [
      "[('secre', 'secr'), ('detec', 'dete')]\n"
     ]
    }
   ],
   "source": [
    "import re\n",
    "cadena='Esta es una frase secreta de prueba y error.\\n Para ver si detecta las palabras de prueba 22'\n",
    "res=re.findall(r'\\w*[^E][^s]ta',cadena)\n",
    "print(res)"
   ]
  },
  {
   "cell_type": "code",
   "execution_count": 123,
   "metadata": {},
   "outputs": [
    {
     "name": "stdout",
     "output_type": "stream",
     "text": [
      "16 24\n"
     ]
    }
   ],
   "source": [
    "list=[3,1,5,7,9]\n",
    "def miniMaxSum(arr):\n",
    "    arr.sort()\n",
    "    print(sum(arr[:4]),sum(arr[-4:]))\n",
    "\n",
    "miniMaxSum(list)"
   ]
  },
  {
   "cell_type": "code",
   "execution_count": 150,
   "metadata": {},
   "outputs": [
    {
     "name": "stdout",
     "output_type": "stream",
     "text": [
      "11:05:45\n"
     ]
    }
   ],
   "source": [
    "h='11:05:45AM'\n",
    "def timeConversion(s):\n",
    "    id=s[-2:]\n",
    "    hh=int(s[:2])\n",
    "    if id=='PM' and hh!=12:\n",
    "        hh+=12\n",
    "    elif id=='AM' and hh==12:\n",
    "        hh-=12\n",
    "    if hh<10:\n",
    "        hh='0'+str(hh)\n",
    "    hh=str(hh)+s[2:8]\n",
    "    print(hh)\n",
    "\n",
    "timeConversion(h)"
   ]
  },
  {
   "cell_type": "code",
   "execution_count": 4,
   "metadata": {},
   "outputs": [
    {
     "data": {
      "text/plain": [
       "2"
      ]
     },
     "execution_count": 4,
     "metadata": {},
     "output_type": "execute_result"
    }
   ],
   "source": [
    "lista=[[1,2,3],[4,5,6],[9,8,9]]\n",
    "def diagonalDifference(arr):\n",
    "    d1=0\n",
    "    d2=0\n",
    "    n=len(arr)\n",
    "    for i in range(n):\n",
    "        d1+=arr[i][i]\n",
    "    for i in range(n):\n",
    "        d2+=arr[i][n-1-i]\n",
    "    return abs(d1-d2)\n",
    "\n",
    "diagonalDifference(lista)"
   ]
  },
  {
   "cell_type": "code",
   "execution_count": 10,
   "metadata": {},
   "outputs": [
    {
     "name": "stdout",
     "output_type": "stream",
     "text": [
      "[0, 2, 0, 2, 0, 0, 1, 0, 1, 2, 1, 0, 1, 1, 0, 0, 2, 0, 1, 0, 1, 2, 1, 1, 1, 3, 0, 2, 0, 0, 2, 0, 3, 3, 1, 0, 0, 0, 0, 2, 2, 1, 1, 1, 2, 0, 2, 0, 1, 0, 1, 0, 0, 1, 0, 0, 2, 1, 0, 1, 1, 1, 0, 1, 0, 1, 0, 2, 1, 3, 2, 0, 0, 2, 1, 2, 1, 0, 2, 2, 1, 2, 1, 2, 1, 1, 2, 2, 0, 3, 2, 1, 1, 0, 1, 1, 1, 0, 2, 2]\n"
     ]
    }
   ],
   "source": [
    "lista=[63, 25, 73, 1, 98, 73, 56, 84, 86, 57, 16, 83, 8, 25, 81, 56, 9, 53, 98, 67, 99, 12, 83, 89, 80, 91, 39, 86, 76, 85, 74, 39, 25, 90, 59, 10, 94, 32, 44, 3, 89, 30, 27, 79, 46, 96, 27, 32, 18, 21, 92, 69, 81, 40, 40, 34, 68, 78, 24, 87, 42, 69, 23, 41, 78, 22, 6, 90, 99, 89, 50, 30, 20, 1, 43, 3, 70, 95, 33, 46, 44, 9, 69, 48, 33, 60, 65, 16, 82, 67, 61, 32, 21, 79, 75, 75, 13, 87, 70, 33]\n",
    "def countingSort(arr):\n",
    "    n=len(arr)\n",
    "    res=[0 for i in range(100)]\n",
    "    for e in arr:\n",
    "        res[e]+=1\n",
    "    return res\n",
    "\n",
    "print(countingSort(lista))\n",
    "\n"
   ]
  },
  {
   "cell_type": "code",
   "execution_count": 17,
   "metadata": {},
   "outputs": [
    {
     "data": {
      "text/plain": [
       "4"
      ]
     },
     "execution_count": 17,
     "metadata": {},
     "output_type": "execute_result"
    }
   ],
   "source": [
    "lista=[[112,42,83,119],[56,125,56,49],[15,78,101,43],[62,98,114,108]]\n",
    "lista2=[[1,2],[3,4]]\n",
    "def flippingMatrix(matrix):\n",
    "    n=len(matrix)\n",
    "    m=n//2\n",
    "    sum=0\n",
    "    for i in range(m):\n",
    "        for j in range(m):\n",
    "            sum+=max(matrix[i][j],matrix[i][n-1-j],matrix[n-1-i][j],matrix[n-1-i][n-1-j])\n",
    "    return sum\n",
    "flippingMatrix(lista2)"
   ]
  },
  {
   "cell_type": "code",
   "execution_count": 41,
   "metadata": {},
   "outputs": [
    {
     "name": "stdout",
     "output_type": "stream",
     "text": [
      "1 2 3 4 9 8 7 6 5\n"
     ]
    }
   ],
   "source": [
    "lista=[1,2,3,4,5,6,7,8,9]\n",
    "def findZigZagSequence(a, n):\n",
    "    a.sort()\n",
    "    mid = int((n + 1)/2)-1\n",
    "    a[mid], a[n-1] = a[n-1], a[mid]\n",
    "\n",
    "    st = mid + 1\n",
    "    ed = n-2\n",
    "    while(st <= ed):\n",
    "        a[st], a[ed] = a[ed], a[st]\n",
    "        st = st + 1\n",
    "        ed = ed - 1\n",
    "\n",
    "    for i in range (n):\n",
    "        if i == n-1:\n",
    "            print(a[i])\n",
    "        else:\n",
    "            print(a[i], end = ' ')\n",
    "    return\n",
    "\n",
    "findZigZagSequence(lista,9)"
   ]
  },
  {
   "cell_type": "code",
   "execution_count": 43,
   "metadata": {},
   "outputs": [
    {
     "data": {
      "text/plain": [
       "1"
      ]
     },
     "execution_count": 43,
     "metadata": {},
     "output_type": "execute_result"
    }
   ],
   "source": [
    "def towerBreakers(n, m):\n",
    "    if n%2 and m>1:\n",
    "        return 1\n",
    "    else:\n",
    "        return 2\n",
    "    \n",
    "towerBreakers(3,6)"
   ]
  },
  {
   "cell_type": "code",
   "execution_count": 64,
   "metadata": {},
   "outputs": [
    {
     "data": {
      "text/plain": [
       "'fff.jkl.gh'"
      ]
     },
     "execution_count": 64,
     "metadata": {},
     "output_type": "execute_result"
    }
   ],
   "source": [
    "texto=\"www.abc.xy\"\n",
    "codificado='ímnÓXÓmXñgXfÓgmYcÓXmÓÉlÓniw~'\n",
    "\n",
    "\n",
    "def caesarCipher(s, k):\n",
    "    k=k-(k//26)*26\n",
    "    abc='abcdefghijklmnopqrstuvwxyz'\n",
    "    abc2=abc[k:]+abc[:k]\n",
    "    trans=dict(zip(abc,abc2))\n",
    "    res=list([trans[e] if e in abc else e for e in s.lower()])\n",
    "    res=\"\".join(list([e.upper() if s[i].isupper() else e for i,e in enumerate(res)]))\n",
    "    return res\n",
    "\n",
    "caesarCipher(texto,87)"
   ]
  },
  {
   "cell_type": "code",
   "execution_count": 108,
   "metadata": {},
   "outputs": [
    {
     "data": {
      "text/plain": [
       "-1"
      ]
     },
     "execution_count": 108,
     "metadata": {},
     "output_type": "execute_result"
    }
   ],
   "source": [
    "texto='boroiorob'\n",
    "\n",
    "def palindromeIndex(s):\n",
    "    t=list(s)\n",
    "    p=t.copy()\n",
    "    t.reverse()\n",
    "    if p==t:\n",
    "        return -1\n",
    "    else:\n",
    "        t=p.copy()\n",
    "        q=p.copy()\n",
    "        for i,e in enumerate(t):\n",
    "            p.pop(i)\n",
    "            q=p.copy()\n",
    "            q.reverse()\n",
    "            if p==q:\n",
    "                return i\n",
    "            p=t.copy()\n",
    "            q=t.copy()\n",
    "        return -1\n",
    "\n",
    "palindromeIndex(texto)"
   ]
  },
  {
   "cell_type": "code",
   "execution_count": 118,
   "metadata": {},
   "outputs": [
    {
     "name": "stdout",
     "output_type": "stream",
     "text": [
      "[('a', 'f', 'd', 'p', 'u'), ('b', 'g', 'k', 'q', 'v'), ('c', 'h', 'l', 'r', 'w'), ('d', 'i', 'm', 's', 'x'), ('e', 'j', 'n', 't', 'y')]\n"
     ]
    },
    {
     "data": {
      "text/plain": [
       "'NO'"
      ]
     },
     "execution_count": 118,
     "metadata": {},
     "output_type": "execute_result"
    }
   ],
   "source": [
    "texto=['ebacd', 'fghij', 'dlmkn', 'trpqs', 'xywuv']\n",
    "def gridChallenge(grid):\n",
    "    mat=list(map(list,grid))\n",
    "    mat=list(map(sorted,mat))\n",
    "    mat=list(zip(*mat))\n",
    "    flags=[0 if all(e[i]<=e[i+1] for i in range(len(e)-1)) else 1 for e in mat]\n",
    "    flag=sum(flags)\n",
    "    if flag:\n",
    "        return 'NO'\n",
    "    return 'YES'\n",
    "\n",
    "gridChallenge(texto)"
   ]
  },
  {
   "cell_type": "code",
   "execution_count": 132,
   "metadata": {},
   "outputs": [
    {
     "data": {
      "text/plain": [
       "3"
      ]
     },
     "execution_count": 132,
     "metadata": {},
     "output_type": "execute_result"
    }
   ],
   "source": [
    "num='7404954009694227446246375747227852213692570890717884174001587537145838723390362624487926131161112710589127423098959327020544003395792482625191721603328307774998124389641069884634086849138515079220750462317357487762780480576640689175346956135668451835480490089962406773267569650663927778867764315211280625033388271518264961090111547480467065229843613873499846390257375933040086863430523668050046930387013897062106309406874425001127890574986610018093859693455518413268914361859000614904461902442822577552997680098389183082654625098817411306985010658756762152160904278169491634807464356130877526392725432086439934006728914411061861235300979536190100734360684054557448454640750198466877185875290011114667186730452681943043971812380628117527172389889545776779555664826488520325234792648448625225364535053605515386730925070072896004645416713682004600636574389040662827182696337187610904694029221880801372864040345567230941110986028568372710970460116491983700312243090679537497139499778923997433720159174153'\n",
    "ks=100000\n",
    "def superDigit(n, k):\n",
    "    nums=list(map(int,n))\n",
    "    nums=list(map(int,str(sum(nums)*k)))\n",
    "    while len(nums)>1:\n",
    "        nums=list(map(int,str(sum(nums))))\n",
    "    return nums[0]\n",
    "\n",
    "superDigit(num,ks)"
   ]
  },
  {
   "cell_type": "code",
   "execution_count": null,
   "metadata": {},
   "outputs": [],
   "source": [
    "per=[1,2,5,3,7,8,6,4]\n",
    "def minimumBribes(q):\n",
    "    n=len(q)\n",
    "    i=n\n",
    "    s=[]\n",
    "    while i>1:\n",
    "        f=q[:i].index(i)\n",
    "        q.pop(f)\n",
    "        q.insert(i-1,i)\n",
    "        i-=1\n",
    "        s.append(i-f)\n",
    "    chaos=all(e<=2 for e in s)\n",
    "    if chaos:\n",
    "        s=sum(s)\n",
    "        return print(s)\n",
    "    return print('Too chaotic')\n",
    "\n",
    "minimumBribes(per)\n",
    "        "
   ]
  },
  {
   "cell_type": "code",
   "execution_count": 59,
   "metadata": {},
   "outputs": [
    {
     "name": "stdout",
     "output_type": "stream",
     "text": [
      "[1, 2, 5, 3, 7, 8, 6, 4]\n",
      "[1, 2, 5, 3, 7, 8, 6, 4]\n",
      "[1, 2, 5, 3, 7, 8, 6, 4]\n",
      "paso\n",
      "[1, 2, 6, 3, 5, 8, 7, 4]\n",
      "paso\n",
      "paso\n",
      "[1, 2, 3, 4, 5, 6, 7, 8]\n",
      "[1, 2, 3, 4, 5, 6, 7, 8]\n",
      "[1, 2, 3, 4, 5, 6, 7, 8]\n",
      "[1, 2, 3, 4, 5, 6, 7, 8]\n"
     ]
    },
    {
     "data": {
      "text/plain": [
       "([1, 2, 3, 4, 5, 6, 7, 8], 0)"
      ]
     },
     "execution_count": 59,
     "metadata": {},
     "output_type": "execute_result"
    }
   ],
   "source": [
    "per=[1,2,5,3,7,8,6,4]\n",
    "per2=[2, 1, 5, 3, 4]\n",
    "def minimumBribes(q):\n",
    "    n=len(q)\n",
    "    s=0\n",
    "    c=0\n",
    "    for i,e in enumerate(q):\n",
    "        print(q)\n",
    "        q[e-1],q[i]=e,q[e-1]\n",
    "        while q[i]>e:\n",
    "            e=q[i]\n",
    "            q[e-1],q[i]=e,q[e-1]\n",
    "            print('paso')\n",
    "    return q,c+s\n",
    "\n",
    "minimumBribes(per)"
   ]
  },
  {
   "cell_type": "code",
   "execution_count": 96,
   "metadata": {},
   "outputs": [
    {
     "data": {
      "text/plain": [
       "3"
      ]
     },
     "execution_count": 96,
     "metadata": {},
     "output_type": "execute_result"
    }
   ],
   "source": [
    "per=[1,2,5,3,7,8,6,4]\n",
    "per2=[2, 1, 5, 3, 4]\n",
    "def minimumBribes(q):\n",
    "    n=len(q)\n",
    "    i=n\n",
    "    s=0\n",
    "    flag=False\n",
    "    while i>1:\n",
    "        if i==q[i-1]:\n",
    "            pass\n",
    "        elif i==q[i-2]:\n",
    "            q[i-1],q[i-2]=q[i-2],q[i-1]\n",
    "            s+=1\n",
    "        elif i==q[i-3]:\n",
    "            q[i-3],q[i-2],q[i-1]=q[i-2],q[i-1],q[i-3]\n",
    "            s+=2\n",
    "        else:\n",
    "            flag=True\n",
    "            break\n",
    "        i-=1\n",
    "    if flag:\n",
    "        return print('Too chaotic')\n",
    "    return print(s)\n",
    "\n",
    "minimumBribes(per2)"
   ]
  },
  {
   "cell_type": "code",
   "execution_count": 13,
   "metadata": {},
   "outputs": [
    {
     "data": {
      "text/plain": [
       "1"
      ]
     },
     "execution_count": 13,
     "metadata": {},
     "output_type": "execute_result"
    }
   ],
   "source": [
    "petrol=[[1,5],[10,3],[3,4]]\n",
    "def truckTour(petrolpumps):\n",
    "    p=petrolpumps\n",
    "    n=len(p)\n",
    "    for i in range(n):\n",
    "        flag=1\n",
    "        t=0\n",
    "        for j in range(n-1):\n",
    "            t+=p[j][0]-p[j][1]\n",
    "            if t<0:\n",
    "                p.append(p[0])\n",
    "                p.pop(0)\n",
    "                flag=0\n",
    "                break\n",
    "        if flag:\n",
    "            return i\n",
    "    return i\n",
    "\n",
    "truckTour(petrol)"
   ]
  },
  {
   "cell_type": "code",
   "execution_count": 20,
   "metadata": {},
   "outputs": [
    {
     "data": {
      "text/plain": [
       "[1, 2, 3, 5, 7, 8, 10, 10]"
      ]
     },
     "execution_count": 20,
     "metadata": {},
     "output_type": "execute_result"
    }
   ],
   "source": [
    "lista1=[3,7,10]\n",
    "lista2=[1,2,5,8,10]\n",
    "\n",
    "def mergeLists(head1, head2):\n",
    "    head1.append(None)\n",
    "    head2.append(None)\n",
    "    p=0\n",
    "    t=0\n",
    "    res=[]\n",
    "    while not(head1[p]==None and head2[t]==None) :\n",
    "        if head1[p]==None:\n",
    "            res.append(head2[t])\n",
    "            t+=1\n",
    "            continue\n",
    "        if head2[t]==None:\n",
    "            res.append(head1[p])\n",
    "            p+=1\n",
    "            continue\n",
    "            \n",
    "        if head1[p]<head2[t] or head2[t]==None:\n",
    "            res.append(head1[p])\n",
    "            p+=1\n",
    "        else:\n",
    "            res.append(head2[t])\n",
    "            t+=1\n",
    "    return res\n",
    "\n",
    "mergeLists(lista1,lista2)"
   ]
  },
  {
   "cell_type": "code",
   "execution_count": null,
   "metadata": {},
   "outputs": [],
   "source": [
    "def mergeLists(head1, head2):\n",
    "    if head1 == None:\n",
    "        return head2\n",
    "    if head2 == None:\n",
    "        return head1\n",
    "    \n",
    "    if head1.data <= head2.data:\n",
    "        head = head1\n",
    "        head1 = head1.next\n",
    "    else:\n",
    "        head = head2\n",
    "        head2 = head2.next\n",
    "    \n",
    "    current = head\n",
    "    while head1 != None or head2 != None:\n",
    "        if head1 == None:\n",
    "            current.next = head2\n",
    "            break\n",
    "        if head2 == None:\n",
    "            current.next = head1\n",
    "            break\n",
    "        if head1.data <= head2.data:\n",
    "            current.next = head1\n",
    "            head1 = head1.next\n",
    "        else:\n",
    "            current.next = head2\n",
    "            head2 = head2.next\n",
    "        current = current.next\n",
    "    return head"
   ]
  },
  {
   "cell_type": "code",
   "execution_count": 2,
   "metadata": {},
   "outputs": [
    {
     "name": "stdout",
     "output_type": "stream",
     "text": [
      "33\n",
      "33\n",
      "33\n"
     ]
    }
   ],
   "source": [
    "#arr2=[list(map(int, input().split())) for _ in range(10)]\n",
    "arr1=[[10],[1,76],[1,33],[2],[1,23],[1,97],[1,21],[3],[3],[1,74],[3]]\n",
    "def solution(arr):\n",
    "    arr.pop(0)\n",
    "    pila=[]\n",
    "    for e in arr:\n",
    "        if e[0]==1:\n",
    "            pila.append(int(e[1]))\n",
    "        elif e[0]==2:\n",
    "            pila.pop(0)\n",
    "        else:\n",
    "            print(pila[0])\n",
    "    \n",
    "solution(arr1)"
   ]
  },
  {
   "cell_type": "code",
   "execution_count": 27,
   "metadata": {},
   "outputs": [
    {
     "name": "stdout",
     "output_type": "stream",
     "text": [
      "['1', ' ', '2', '0']\n",
      "1\n",
      "20\n"
     ]
    }
   ],
   "source": [
    "n=int(input())\n",
    "arr=[list(map(int, input().split())) for _ in range(n)]\n",
    "def solution(arr):\n",
    "    pila=[]\n",
    "    for e in arr:\n",
    "        if e[0]==1:\n",
    "            pila.append(int(e[1]))\n",
    "        elif e[0]==2:\n",
    "            pila.pop(0)\n",
    "        else:\n",
    "            print(pila[0])\n",
    "    \n",
    "solution(arr)"
   ]
  },
  {
   "cell_type": "code",
   "execution_count": 2,
   "metadata": {},
   "outputs": [],
   "source": [
    "def isBalanced(s):\n",
    "    def fuera(v):\n",
    "        if v[0]==']' or v[-1]=='[' or v[0]=='}' or v[-1]=='{' or v[0]==')' or v[-1]=='(':\n",
    "            return 0\n",
    "        return 1\n",
    "    m=len(s)\n",
    "    if m%2:\n",
    "        return 'NO'\n",
    "    else:\n",
    "        n=m/2\n",
    "        for i in range(n):\n",
    "            fuera(s)\n",
    "    "
   ]
  },
  {
   "cell_type": "code",
   "execution_count": 4,
   "metadata": {},
   "outputs": [],
   "source": [
    "cds=['[]][{]{(({{)[})(}[[))}{}){[{]}{})()[{}]{{]]]){{}){({(}](({[{[{)]{)}}}({[)}}([{{]]({{',\n",
    " '[]()([{}])[]{}[]',\n",
    " ')}{){(]{)([)}{)]())[(})[]]))({[[[)}[((]](])][({[]())',\n",
    " '{}()[[((()(({{[]}{}{{[]}}{}}))))]]{{{{([{{{{}}}}])}}}}',\n",
    " '{{[()()]}()}(())()()[[[]]][{[]()}(())]',\n",
    " '[}}{}]{[{)}[{(([)(([)(](}(]([}(()[)])}[{[{{](([]()[[[])([}}])){}(][)]{(]{)]]()({}}}(((]{]]',\n",
    " '(}{(()[][[){{}{{[}][]{{{{[{{[](}{)}](}}()]}(}(}}]}[](]]){{{()}({[[}}{{[]}(]}{(]{}}[()(}]{[[]{){{',\n",
    " '{}{[[[[[][]]]]({})]}[[]]',\n",
    " ')}}}){}{](]}){}((]]{][)]({[{)])[{])}(]]][)[{[}()[}])}}}]}}})]))[',\n",
    " '))())][})[{)]]})[({}[){)([])[}{}]{])({]{}}[(({({])]}',\n",
    " '[{(((([]))({{}{}[]{{()}[({[{}[]]}[][([])[]]{})[{}(){{[{}({}{{}[]}{({})}{((({})))})(){}]}}]]}})))}]',\n",
    " ')][)]}([]]))(]){}({{[]({{{({)]]}]{[}]]([)][[[()[][[}{}(]){(()[)[[[{]{)]}{{)[][()]{}(({]}])',\n",
    " '{]({}[[)[}([][[[)]()(]((}}}{}){}{}{]({][(]}()[}}{[{[((])})]{}}](}[[[){(([)({()[{(}}({}{]][)}(}({([(]',\n",
    " '{[])[))[)}}]}([}()}{{]}[)}{)}[}}]])}((((])[)[[()[{({](}]',\n",
    " '{(){{}}}{}{{({})}}{({(){}})}',\n",
    " '{}{([{{{{}})]{)]()[[}(}{',\n",
    " '[[()]{{}[()[([])([]{}[])]]}]',\n",
    " '{}))))((])({{[[}{])([})[([(]([)()(()(][](}]}])({]{()}[()(){[}(([[{{)}]]}(})((]}[([[()(',\n",
    " '[]{()({}[[]])}{}[()[[]]][]',\n",
    " '[][]{}({({})}({})()(){})',\n",
    " '[[()({()([()])()}[][])]][]([](){}{[{{}{[]()}}{{()}}{}]})(){}[[[(([]))]][]{[][]{()}()[[()]]}]',\n",
    " '}{)[(}]])[{)([()[})((}}]{]{{]([[]{{]([[{}[}(]]}({[{{))]][]]{}}])]([]())]](([}(}([[)}())([{',\n",
    " ')}}[({}}]{',\n",
    " ')()[(}}[{}[])))}({',\n",
    " '({([{}{((){}()[])}])})',\n",
    " '{][{(}[)()(}[)(]()(){))}]}]({)({}(}]',\n",
    " '{]))}}{)[}}(]()[]))]](]}([{}]}(}[){])(',\n",
    " '()])}{])(]})){){)){][}[{}[}[}[()[(({{{][[{}}{]]])}]([)][({',\n",
    " '{[[[[([{}]{{}(){}}[]){}]]]][{}]{}()}{}()[[[(([])){[]}]]]{}(())(){[]{[(([]()()))]}}[([]){}()]{{[{}]}}',\n",
    " '[[}]((({}()})[]][([(}]][',\n",
    " '{{[]{}}}[{[]}[{}]{}][](()[])[][([([[({{(()(()()[[[[]()]()()]()]){})(([[]{}]))}})]]())])]',\n",
    " '({]][[){[((([][[)[',\n",
    " '}[]{{]}{[{]]}[]}}](}[]}[)]){{)](}]}]}]][(]}(((})])([{}',\n",
    " '[({[][]}({{}[[{}{}()]]{()}}){{}[]{}{{()}}})]',\n",
    " '[]{}{()}[[]]{}(([])){}{}()[]{}{[(()){}{()}]({}){({})}}[[{{}[()]}{()}]]{{}}{()}{}{{}[]}',\n",
    " '[][{{[[{}(){}(())]{[{}]({})}]{}[[[{}[[]]]{}]]}}][([])([]())]',\n",
    " '()}}}[)}([}})[(}',\n",
    " '{(({}{}[{}()]{[]{}}))}',\n",
    " '[][][{}]{()(()({{{[]}[(){[][[(){{}}][{}][]{()}[(([[]{}[[](()[[]])]]){()}[])(([]()))]]}]}}))}',\n",
    " '(}(]}()(])()]}}{[]{(]]((]])}](}{}){{][[}{([[())([((}[](]([][[)})[[}[){[(}{]]][()[}',\n",
    " '}]([([[[{}{](({([])){[)([([(}}}}[{})(}](()]((](])})}]])){]}{}]()]](]])]]]]',\n",
    " '[(]){[}]}([[){){}[[}}}())})]})({](]{}([(][[]]()[[])}])',\n",
    " '{{)))}])(({){])]}{}]{})[]){)}(]{])][]{(}{{{)}{{[((]][]){](]()}])][](((]{{{',\n",
    " '){}[{())(]({]}]]){)]{((}{[{){[([([})]}])))}}[([([){({[[{}}{)}{',\n",
    " ')(][()){}{[}[{[[{({})([{{{)({[([)]]][[{(){}[{}(}[[{])(({([[)({}{{)}())}}})[({}])[(({({{{})[)((',\n",
    " '{[{{[[]]{}[{}]}{}}][](){}[[]]}[][](((({}))))[]{()}',\n",
    " '({}){{}}[]{}{}[{}(){}][][]{}[({{{[()]}({}{{}}[[]()])}[{[([[]{()}()]){}]}]})]',\n",
    " '})[)}[[[}(}[()])}([[)]()[)([{)(][)]})]{[}{({)))(()[)}[)[](',\n",
    " '[]',\n",
    " '[[([[]({[]}())])]](){}()()[]()[()][{}()](){[]}',\n",
    " '{[[[})){}){}[[((]][{[({}([{{[({[)]{)])[[[{((]{){]{))(}({}[([({}){[(}{(]]{}[{)({]]{}}}()]([',\n",
    " '[]{}[]{}[]({[{[]}]})',\n",
    " '({}({}))()()({(())}{{[]}{}[]((([[[][([][[]{}(()())()][][({})][]{}[]()[](()){})]]])))})',\n",
    " '{}}][[){(}{][}{{[))[(])(]][}{][}[)})({(][(}[{})[{){}',\n",
    " '(([[({})]()][])()()[])',\n",
    " '[({[(()[([{[][][]}])()]()[][])]})][](){{}[{}]}',\n",
    " ']}[(][})))}{){(])[}]))()}[)][){({[{(]]]}[[]{)([{([)[{)[]][)((([[(([}',\n",
    " '}{){{]})])}]',\n",
    " '{([()][[{[[]()]}({()}){()[{()}]}]])}',\n",
    " '[}[)]]]((]}){(](]{]]([)))][](]{]]]({{}]]]){)}})[()))({[[[([{}{))()[((]}]]{[}](}}}))}[[}[[{})',\n",
    " '[()][]({}){}[]()[()]{(([]))[{}]}{}{}()[[](){}]()[{()()}{}][][({}[])]{}{}[]()',\n",
    " '[][]()[]()({}){[{}[]{{}}{[]}[{(){[]{}()([][]())()}[[([])]]}]]}',\n",
    " '[)[[[(]]{[{[]]',\n",
    " '])}[{}][)]){(}))({([(}}[{{}[}](]{[][]()]([]{{{}})[))(]',\n",
    " '()()[]{}[](){}[][]()[][][](()(())){}{{(){[[()]]{}{{}}}}}',\n",
    " '}(}}',\n",
    " ')})()([)[}){',\n",
    " '(()){[[{}{{}}]]}',\n",
    " '{()()}{{[][[[{[][()][(()){[{}{}(({()}))[()](){}][]}({([({})](){})})]{(()()[(([{}]))])}}]]]}}',\n",
    " '(()){(){}[](()[])[]}()[[][]]()(){}{{}}()({}([({})([])])([[[]]][()])())()(){}[][{[([([{}{({})}])])]}]',\n",
    " '[[]][{{}[]}][[]{}([(({{}}[]([]{})))()])((()[]))]{(){}{}}({})[[]{}]()[{}]()(){}[[(())[()]]]',\n",
    " '(){}{()()((()([]{()}))[][({{{}{}()}[({}[(){}(()[[()[]]({}{}){}])]{})]}{})])}',\n",
    " '{())))[[(]{[}(])()()[}}((][{[{))}{{}}[){]}()}(]{]]})}{[(][][((]]]}(}]}])])}})]{}]{]([)({',\n",
    " '({]}]]']"
   ]
  },
  {
   "cell_type": "code",
   "execution_count": null,
   "metadata": {},
   "outputs": [],
   "source": [
    "cd='{}))))((])({{[[}{])([})[([(]([)()(()(][](}]}])({]{()}[()(){[}(([[{{)}]]}(})((]}[([[()('\n",
    "def parent(s):\n",
    "    if len(s)%2:\n",
    "        return print('NO')\n",
    "    i=0\n",
    "    while i < len(s)-1:\n",
    "        if ord(s[i])==ord(s[i+1])-1 or ord(s[i])==ord(s[i+1])-2:\n",
    "            s=s[:i]+s[i+2:]\n",
    "            i-=1\n",
    "            if i<0:\n",
    "                i=0\n",
    "            continue\n",
    "        i+=1\n",
    "    if s=='':\n",
    "        return print('YES')\n",
    "    return print('NO')\n",
    "for e in cds[:74]:\n",
    "    parent(e)"
   ]
  },
  {
   "cell_type": "code",
   "execution_count": 12,
   "metadata": {},
   "outputs": [
    {
     "data": {
      "text/plain": [
       "'{}))((])({{[[}{])([})[([(]([)()(()(][](}]}])({]{()}[()(){[}(([[{{)}]]}(})((]}[([[()('"
      ]
     },
     "execution_count": 12,
     "metadata": {},
     "output_type": "execute_result"
    }
   ],
   "source": [
    "cd[:2]+cd[2+2:]"
   ]
  },
  {
   "cell_type": "code",
   "execution_count": 19,
   "metadata": {},
   "outputs": [
    {
     "data": {
      "text/plain": [
       "3"
      ]
     },
     "execution_count": 19,
     "metadata": {},
     "output_type": "execute_result"
    }
   ],
   "source": [
    "lista=[1,6,3,4,2]\n",
    "z=2\n",
    "def pairs(k, arr):\n",
    "    sum=0\n",
    "    m=len(arr)\n",
    "    for i in range(m):\n",
    "        for j in range(i+1,m):\n",
    "            if abs(arr[i]-arr[j])==k:\n",
    "                sum+=1\n",
    "    return sum\n",
    "\n",
    "pairs(z,lista)"
   ]
  },
  {
   "cell_type": "code",
   "execution_count": 9,
   "metadata": {},
   "outputs": [
    {
     "data": {
      "text/plain": [
       "[1, 1, 2, 2, 4, 7, 8, 9, 10, 11, 13]"
      ]
     },
     "execution_count": 9,
     "metadata": {},
     "output_type": "execute_result"
    }
   ],
   "source": [
    "arr=[1,8,7,9,10,2,11,1,13,2,4]\n",
    "def partition(array,low,high):\n",
    "    \n",
    "    pivot = array[high]\n",
    "    i =low-1\n",
    "\n",
    "    for j in range(low, high):\n",
    "        if array[j] <= pivot:\n",
    "            i = i + 1\n",
    "            (array[i], array[j]) = (array[j], array[i])\n",
    "    (array[i + 1], array[high]) = (array[high], array[i + 1])\n",
    " \n",
    "    return i + 1\n",
    "\n",
    "def qord(array,low,high):\n",
    "    if low<high:\n",
    "        pi=partition(array,low,high)\n",
    "        qord(array,low,pi-1)\n",
    "        qord(array,pi+1,high)\n",
    "        \n",
    "def quickOrd(array):\n",
    "    n=len(array)-1\n",
    "    qord(array,0,n)\n",
    "    return array\n",
    "\n",
    "#def order(array):\n",
    "    \n",
    "quickOrd(arr)"
   ]
  },
  {
   "cell_type": "code",
   "execution_count": null,
   "metadata": {},
   "outputs": [],
   "source": [
    "MAX = 10;\n",
    "lista=[1,6,3,4,2]\n",
    "def countPairsWithDiffK(arr, n, k):\n",
    "    count = 0;  \n",
    "    hashmap = [False for i in range(MAX)];\n",
    "    print(f'inicio: {hashmap}')\n",
    "\n",
    "    for i in range(n):\n",
    "        hashmap[arr[i]] = True;\n",
    "    print(f'final: {hashmap}')\n",
    " \n",
    "    for i in range(n):\n",
    "        x = arr[i];\n",
    "        print(f'x:{x} x-k:{x-k} hashmap[x-k]:{hashmap[x-k]}')\n",
    "        if (x - k >= 0 and hashmap[x - k]):\n",
    "            count+=1;\n",
    "            print(f'count:{count}')\n",
    "        print(f'x:{x} x+k:{x+k} hashmap[x+k]:{hashmap[x+k]}')\n",
    "        if (x + k < MAX and hashmap[x + k]):\n",
    "            count+=1;\n",
    "            print(f'count:{count}')\n",
    "        print(f'hashmap[x]:{hashmap[x]}')\n",
    "        hashmap[x] = False;\n",
    "        print(f'hashmap[x]:{hashmap[x]}')\n",
    "     \n",
    "    return count;\n",
    "countPairsWithDiffK(lista,5,2)"
   ]
  },
  {
   "cell_type": "code",
   "execution_count": 32,
   "metadata": {},
   "outputs": [
    {
     "data": {
      "text/plain": [
       "3"
      ]
     },
     "execution_count": 32,
     "metadata": {},
     "output_type": "execute_result"
    }
   ],
   "source": [
    "lista=[1,6,3,4,2]\n",
    "\n",
    "def pairs(k, arr):\n",
    "\n",
    "    n=len(arr)\n",
    "    count =0\n",
    "     \n",
    "    arr.sort()\n",
    " \n",
    "    l=0\n",
    "    r=0\n",
    " \n",
    "    while r<n:\n",
    "        if arr[r]-arr[l]==k:\n",
    "            count+=1\n",
    "            l+=1\n",
    "            r+=1\n",
    "        elif arr[r]-arr[l]>k:\n",
    "            l+=1\n",
    "        else:\n",
    "            r+=1\n",
    "    return count\n",
    "\n",
    "countPairsWithDiffK(lista,5,2)"
   ]
  },
  {
   "cell_type": "code",
   "execution_count": 33,
   "metadata": {},
   "outputs": [
    {
     "name": "stdout",
     "output_type": "stream",
     "text": [
      "n\n",
      "p\n",
      "x\n",
      "s\n",
      "p\n",
      "p\n",
      "p\n",
      "i\n",
      "l\n",
      "p\n",
      "d\n",
      "x\n",
      "z\n",
      "b\n",
      "x\n",
      "s\n",
      "n\n"
     ]
    }
   ],
   "source": [
    "#arr=[list(map(int, input().split())) for _ in range(n)]\n",
    "\n",
    "arr=[['1', 'abc'], ['3', '3'], ['2', '3'], ['1', 'xy'], ['3', '2'], ['4'], ['4'], ['3', '1']]\n",
    "arr2=[['1','zsfncpxdzl'],['3','4'],['3','6'],['2','1'],['3','7'],['3','2'],['4'],['2','4'],['2','6'],['4'],['4'],['1','l'],['1','hpe'],['3','6'],['2','7'],['4'],['3','6'],['4'],['3','6'],['1','zipsqagri'],['1','vuqxstnj'],['4'],['3','13'],['4'],['3','10'],['3','6'],['1','uzdpy'],['1','bupqp'],['1','kn'],['2','6'],['3','8'],['1','iiuvfbn'],['4'],['2','1'],['2','12'],['4'],['3','7'],['4'],['2','9'],['3','1'],['1','axbhx'],['1','wovbfyvt'],['3','11'],['3','7'],['3','2'],['4'],['1','tjmqp'],['4'],['2','6'],['3','4']]\n",
    "\n",
    "def editor(arr):\n",
    "    s=''\n",
    "    u=[]\n",
    "    i=0\n",
    "    for e in arr:\n",
    "        if e[0]=='1':\n",
    "            u.append(s)            \n",
    "            s+=e[1]\n",
    "        if e[0]=='2':\n",
    "            u.append(s)            \n",
    "            s=s[:-int(e[1])]\n",
    "        if e[0]=='3':\n",
    "            print(s[int(e[1])-1])\n",
    "        if e[0]=='4':\n",
    "            s=u[-1]\n",
    "            u.pop()\n",
    "\n",
    "editor(arr2)"
   ]
  },
  {
   "cell_type": "code",
   "execution_count": 15,
   "metadata": {},
   "outputs": [
    {
     "name": "stdout",
     "output_type": "stream",
     "text": [
      "[]\n"
     ]
    }
   ],
   "source": [
    "arrf=[]\n",
    "print(arrf[:-2])"
   ]
  },
  {
   "cell_type": "code",
   "execution_count": 44,
   "metadata": {},
   "outputs": [
    {
     "name": "stdout",
     "output_type": "stream",
     "text": [
      "[1, 1, 1, 1, 1, 1, 1, 1, 1, 1]\n"
     ]
    }
   ],
   "source": [
    "lista=[1]*10\n",
    "print(lista)"
   ]
  },
  {
   "cell_type": "code",
   "execution_count": 6,
   "metadata": {},
   "outputs": [
    {
     "name": "stdout",
     "output_type": "stream",
     "text": [
      "[1, 1, 2, 4, 8, 15, 29, 56, 108, 208, 401, 773, 1490, 2872, 5536, 10671, 20569, 39648, 76424, 147312, 283953]\n",
      "[1, 1, 8, 64, 512, 3375, 24389, 175616, 1259712, 8998912, 64481201, 461889917, 3307949000, 23689358848, 169663430656, 1215109341711, 8702409880009, 62325224865792, 446364137153024, 3196791983075328, 22894933385964177]\n",
      "[1, 1, 8, 64, 512, 3375, 24389, 175616, 1259712, 8998912, 64481201, 461889917, 307948979, 689358687, 663429473, 109333206, 409819095, 224429517, 134028476, 960697791, 225699646]\n"
     ]
    }
   ],
   "source": [
    "def legoBlocks(n, m):\n",
    "    A = 1000000000+7\n",
    "    r = [0]*(m+1)\n",
    "    a = [0]*(m+1)\n",
    "\n",
    "    a[0] = 1\n",
    "    for j in range(1, m+1):\n",
    "        a[j] += a[j-1] if j-1>=0 else 0\n",
    "        a[j] += a[j-2] if j-2>=0 else 0\n",
    "        a[j] += a[j-3] if j-3>=0 else 0\n",
    "        a[j] += a[j-4] if j-4>=0 else 0\n",
    "    print(a)\n",
    "    b=list(map(lambda x: x**n,a))\n",
    "    print(b)\n",
    "    for j in range(1, m+1):\n",
    "        a[j] = a[j] % A\n",
    "        a[j] = a[j] ** n\n",
    "        a[j] = a[j] % A\n",
    "    print(a)\n",
    "\n",
    "legoBlocks(3,20)"
   ]
  },
  {
   "cell_type": "code",
   "execution_count": 3,
   "metadata": {},
   "outputs": [
    {
     "name": "stdout",
     "output_type": "stream",
     "text": [
      "[1, 1, 2, 4, 8, 15, 29, 56, 108, 208, 401, 773, 1490, 2872, 5536, 10671, 20569, 39648, 76424, 147312, 283953]\n"
     ]
    }
   ],
   "source": [
    "inc=[1,1,2,4]\n",
    "n=21\n",
    "for i in range(4,n):\n",
    "    s=0\n",
    "    for j in range(4):\n",
    "        s+=inc[i-1-j]\n",
    "    inc.append(s)\n",
    "print(inc)"
   ]
  }
 ],
 "metadata": {
  "kernelspec": {
   "display_name": "Python 3",
   "language": "python",
   "name": "python3"
  },
  "language_info": {
   "codemirror_mode": {
    "name": "ipython",
    "version": 3
   },
   "file_extension": ".py",
   "mimetype": "text/x-python",
   "name": "python",
   "nbconvert_exporter": "python",
   "pygments_lexer": "ipython3",
   "version": "3.11.5"
  },
  "orig_nbformat": 4
 },
 "nbformat": 4,
 "nbformat_minor": 2
}
