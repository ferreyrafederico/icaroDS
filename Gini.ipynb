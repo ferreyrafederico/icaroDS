{
 "cells": [
  {
   "cell_type": "markdown",
   "metadata": {},
   "source": [
    "Explicación breve de impureza de Gini, ejemplo del práctico de clase:  \n",
    "  \n",
    "Proceso visto en clase:\n",
    "1) Calcular impureza de Gini de las variables \"Sex\" y \"Pclase\".(podrian se más)\n",
    "2) Primero se calcula la impureza de Gini para cada categoria de la variable a evaluar, y luego se realiza un promedio ponderado para obtener la impureza de Gini para la variable. \n",
    "   Ejemplo: \"Sex\"  \n",
    "   $$G_{sex}=\\frac{N_f \\cdot G_f+N_m \\cdot G_m}{N_f+N_m}$$  \n",
    "   \n",
    "   en donde:  \n",
    "   \n",
    "   $N_f$ es la cantidad de muestras pertenecientes a la *\"categoría femenino\"* de la variable \"$Sex$\"   \n",
    "   $N_m$ es la cantidad de muestras pertenecientes a la *\"categoría masculino\"* de la variable \"$Sex$\"  \n",
    "   $G_f$ número de Gini para la *\"categoría femenino\"* de la variable \"$Sex$\"  \n",
    "   $G_m$ número de Gini para la *\"categoría masculino\"* de la variable \"$Sex$\"  \n",
    "     \n",
    "   si '$sex$' fuera una variable '$x$' con $n$ categorias $G_x$ gini de la variable sería: \n",
    "   $$G_{x}=\\frac{1}{N_x}\\displaystyle\\sum_{i=1}^{n}{N_n \\cdot G_n}$$ \n",
    "\n",
    "    en donde:  \n",
    "   \n",
    "   $N_x$ es la cantidad total de muestras de la variable \"$x$\"   \n",
    "   $N_n$ es la cantidad de muestras pertenecientes a la *\"categoría n\"* de la variable \"$x$\"  \n",
    "   $G_n$ número de Gini para la *\"categoría n\"* de la variable \"$x$\"  \n",
    "   $G_x$ número de Gini para la variable \"$x$\"    \n",
    "     \n",
    "     \n",
    "3) Fórmula de Gini: (con esta fórmula se calcula el gini de cada categoria de la variable predictora)\n",
    "   $$G_n=1-\\displaystyle\\sum_{i=1}^{Ny} (\\frac{N_i}{Ny})^2$$\n",
    "     \n",
    "   en donde:    \n",
    "     \n",
    "   $Ny$ es la cantidad de categorías de \"**$y$**\"  \n",
    "   $N_i$ es la cantidad de muestras pertenecientes a la \"categoría $i$\" de \"**$y$**\" para la \"categoria $n$\" de \"$x$\".  \n",
    "   $G_n$ es la impuereza de gini para la \"categoria $n$\" de \"$x$\"."
   ]
  },
  {
   "cell_type": "code",
   "execution_count": 17,
   "metadata": {},
   "outputs": [],
   "source": [
    "import pandas as pd\n",
    "import numpy as np"
   ]
  },
  {
   "cell_type": "markdown",
   "metadata": {},
   "source": [
    "Función impureza de gini:  \n",
    "$$fgini('\\text{nombre de y variable objetivo}','\\text{lista de nombres de columnas x categoricas}',df\\text{ dataframe})$$"
   ]
  },
  {
   "cell_type": "code",
   "execution_count": 18,
   "metadata": {},
   "outputs": [],
   "source": [
    "def fgini(y: str, xs: list, df: pd.DataFrame)-> pd.DataFrame:\n",
    "    \"\"\"\n",
    "    Calcula la impureza de Gini para n variables predictoras en un DataFrame.\n",
    "\n",
    "    Parámetros:\n",
    "    - y: Nombre de la variable objetivo.(debe ser categórica)\n",
    "    - xs: Lista de nombres de las variables predictoras.(deben ser categóricas no hace falta que esten codificadas)\n",
    "    - df: DataFrame que contiene las variables objetivo y predictoras.\n",
    "\n",
    "    Devuelve:\n",
    "    - DataFrame con las impurezas de Gini para cada variable predictora.\n",
    "    \"\"\"\n",
    "    csy = df[y].unique() # Obtiene las categorías de la variable objetivo.\n",
    "    G_xs = []   # Inicializa lista para almacenar las impurezas de Gini de cada variable predictora\n",
    "    \n",
    "    for x in xs:                 # Iterar sobre cada variable predictora\n",
    "        csx = df[x].unique()    # Obtiene las categorías únicas de la variable predictora\n",
    "        G_csx =[]   # Inicializa lista para almacenar las impurezas de Gini para cada categoría de la variable predictora. \n",
    "        N_csx = []  # Inicializa lista para almacenar número total de muestras para cada categoría de la variable predictora.\n",
    "        for cx in csx:  # Itera sobre cada categoría de la variable predictora.\n",
    "            y_cx = df[df[x] == cx][y]   # Seleccionar las muestras correspondientes a la categoría cx de la variable predictora\n",
    "            Ncx = len(y_cx) # Cuenta el número de muestras en la categoría cx\n",
    "            # Cuenta la cantidad de muestras para cada categoría de la variable objetivo en la categoría cx\n",
    "            cx_csy = [(y_cx == cy).sum() for cy in csy] \n",
    "            Gcx = 1 - np.sum((np.array(cx_csy) / Ncx) ** 2) # Calcular la impureza de Gini para la categoría cx de la variable predictora\n",
    "            N_csx.append(Ncx)   # Almacena el número de muestras para la categoría cx\n",
    "            G_csx.append(Gcx)   # Almacena la impureza de Gini para la categoría cx\n",
    "        \n",
    "        Nx = np.sum(N_csx)  # Calcula el número total de muestras para la variable predictora x\n",
    "        Gx = np.dot(G_csx, N_csx) / Nx  # Calcula la impureza de Gini ponderada para la variable predictora x\n",
    "        G_xs.append(Gx) # Almacena la impureza de Gini para la variable predictora x\n",
    "    # Crear un DataFrame con los resultados y establece la variable predictora como índice\n",
    "    res = pd.DataFrame({'Variable': xs, 'Impureza de Gini': G_xs}).set_index(\"Variable\") \n",
    "    return res  # Devuelve el DataFrame con las impurezas de Gini"
   ]
  },
  {
   "cell_type": "markdown",
   "metadata": {},
   "source": [
    "Para probar la función y no usar el del practico, se utiliza el siguiente:  \n",
    "Ejemplo de dataframe obtenido de esta [pagina](https://www.learndatasci.com/glossary/gini-impurity/#ComputationofGiniImpurityforasimpledataset), allí se calcula manualmente variable por variable. "
   ]
  },
  {
   "cell_type": "code",
   "execution_count": 19,
   "metadata": {},
   "outputs": [
    {
     "data": {
      "text/html": [
       "<div>\n",
       "<style scoped>\n",
       "    .dataframe tbody tr th:only-of-type {\n",
       "        vertical-align: middle;\n",
       "    }\n",
       "\n",
       "    .dataframe tbody tr th {\n",
       "        vertical-align: top;\n",
       "    }\n",
       "\n",
       "    .dataframe thead th {\n",
       "        text-align: right;\n",
       "    }\n",
       "</style>\n",
       "<table border=\"1\" class=\"dataframe\">\n",
       "  <thead>\n",
       "    <tr style=\"text-align: right;\">\n",
       "      <th></th>\n",
       "      <th>age</th>\n",
       "      <th>income</th>\n",
       "      <th>student</th>\n",
       "      <th>credit_rate</th>\n",
       "      <th>default</th>\n",
       "    </tr>\n",
       "  </thead>\n",
       "  <tbody>\n",
       "    <tr>\n",
       "      <th>0</th>\n",
       "      <td>youth</td>\n",
       "      <td>high</td>\n",
       "      <td>no</td>\n",
       "      <td>fair</td>\n",
       "      <td>no</td>\n",
       "    </tr>\n",
       "    <tr>\n",
       "      <th>1</th>\n",
       "      <td>youth</td>\n",
       "      <td>high</td>\n",
       "      <td>no</td>\n",
       "      <td>excellent</td>\n",
       "      <td>no</td>\n",
       "    </tr>\n",
       "    <tr>\n",
       "      <th>2</th>\n",
       "      <td>middle_age</td>\n",
       "      <td>high</td>\n",
       "      <td>no</td>\n",
       "      <td>fair</td>\n",
       "      <td>yes</td>\n",
       "    </tr>\n",
       "    <tr>\n",
       "      <th>3</th>\n",
       "      <td>senior</td>\n",
       "      <td>medium</td>\n",
       "      <td>no</td>\n",
       "      <td>fair</td>\n",
       "      <td>yes</td>\n",
       "    </tr>\n",
       "    <tr>\n",
       "      <th>4</th>\n",
       "      <td>senior</td>\n",
       "      <td>low</td>\n",
       "      <td>yes</td>\n",
       "      <td>fair</td>\n",
       "      <td>yes</td>\n",
       "    </tr>\n",
       "  </tbody>\n",
       "</table>\n",
       "</div>"
      ],
      "text/plain": [
       "          age  income student credit_rate default\n",
       "0       youth    high      no        fair      no\n",
       "1       youth    high      no   excellent      no\n",
       "2  middle_age    high      no        fair     yes\n",
       "3      senior  medium      no        fair     yes\n",
       "4      senior     low     yes        fair     yes"
      ]
     },
     "execution_count": 19,
     "metadata": {},
     "output_type": "execute_result"
    }
   ],
   "source": [
    "data1 ={\n",
    "    'age' : ['youth', 'youth', 'middle_age', 'senior', 'senior', 'senior','middle_age', 'youth', 'youth', 'senior', 'youth', 'middle_age','middle_age', 'senior'],\n",
    "    'income' : ['high', 'high', 'high', 'medium', 'low', 'low', 'low', 'medium','low', 'medium', 'medium', 'medium', 'high', 'medium'],\n",
    "    'student' : ['no','no','no','no','yes','yes','yes','no','yes','yes','yes','no','yes','no'],\n",
    "    'credit_rate' : ['fair', 'excellent', 'fair', 'fair', 'fair', 'excellent', 'excellent', 'fair', 'fair', 'fair','excellent', 'excellent', 'fair', 'excellent'],\n",
    "    'default' : ['no', 'no', 'yes', 'yes', 'yes', 'no', 'yes', 'no', 'yes', 'yes','yes', 'yes', 'yes', 'no']\n",
    "}\n",
    "df1 = pd.DataFrame (data1, columns=data1.keys())\n",
    "df1.head()"
   ]
  },
  {
   "cell_type": "markdown",
   "metadata": {},
   "source": [
    "\"default\" es la variable objetivo \"y\", y las demás son las predictoras."
   ]
  },
  {
   "cell_type": "markdown",
   "metadata": {},
   "source": [
    "Según los cálculos de la página, los gini de cada variable son:  \n",
    "    \n",
    "Gini for age is 0.343  \n",
    "Gini for income is 0.440  \n",
    "Gini for student is 0.367  \n",
    "Gini for credit_rate is 0.429  "
   ]
  },
  {
   "cell_type": "markdown",
   "metadata": {},
   "source": [
    "Cálculo con la función fgini."
   ]
  },
  {
   "cell_type": "code",
   "execution_count": 20,
   "metadata": {},
   "outputs": [
    {
     "data": {
      "text/html": [
       "<div>\n",
       "<style scoped>\n",
       "    .dataframe tbody tr th:only-of-type {\n",
       "        vertical-align: middle;\n",
       "    }\n",
       "\n",
       "    .dataframe tbody tr th {\n",
       "        vertical-align: top;\n",
       "    }\n",
       "\n",
       "    .dataframe thead th {\n",
       "        text-align: right;\n",
       "    }\n",
       "</style>\n",
       "<table border=\"1\" class=\"dataframe\">\n",
       "  <thead>\n",
       "    <tr style=\"text-align: right;\">\n",
       "      <th></th>\n",
       "      <th>Impureza de Gini</th>\n",
       "    </tr>\n",
       "    <tr>\n",
       "      <th>Variable</th>\n",
       "      <th></th>\n",
       "    </tr>\n",
       "  </thead>\n",
       "  <tbody>\n",
       "    <tr>\n",
       "      <th>age</th>\n",
       "      <td>0.342857</td>\n",
       "    </tr>\n",
       "    <tr>\n",
       "      <th>income</th>\n",
       "      <td>0.440476</td>\n",
       "    </tr>\n",
       "    <tr>\n",
       "      <th>student</th>\n",
       "      <td>0.367347</td>\n",
       "    </tr>\n",
       "    <tr>\n",
       "      <th>credit_rate</th>\n",
       "      <td>0.428571</td>\n",
       "    </tr>\n",
       "  </tbody>\n",
       "</table>\n",
       "</div>"
      ],
      "text/plain": [
       "             Impureza de Gini\n",
       "Variable                     \n",
       "age                  0.342857\n",
       "income               0.440476\n",
       "student              0.367347\n",
       "credit_rate          0.428571"
      ]
     },
     "execution_count": 20,
     "metadata": {},
     "output_type": "execute_result"
    }
   ],
   "source": [
    "fgini('default',['age','income','student','credit_rate'], df1)"
   ]
  },
  {
   "cell_type": "markdown",
   "metadata": {},
   "source": [
    "Otra forma de mostrar el resultado"
   ]
  },
  {
   "cell_type": "code",
   "execution_count": 21,
   "metadata": {},
   "outputs": [
    {
     "data": {
      "text/html": [
       "<div>\n",
       "<style scoped>\n",
       "    .dataframe tbody tr th:only-of-type {\n",
       "        vertical-align: middle;\n",
       "    }\n",
       "\n",
       "    .dataframe tbody tr th {\n",
       "        vertical-align: top;\n",
       "    }\n",
       "\n",
       "    .dataframe thead th {\n",
       "        text-align: right;\n",
       "    }\n",
       "</style>\n",
       "<table border=\"1\" class=\"dataframe\">\n",
       "  <thead>\n",
       "    <tr style=\"text-align: right;\">\n",
       "      <th>Variable</th>\n",
       "      <th>age</th>\n",
       "      <th>income</th>\n",
       "      <th>student</th>\n",
       "      <th>credit_rate</th>\n",
       "    </tr>\n",
       "  </thead>\n",
       "  <tbody>\n",
       "    <tr>\n",
       "      <th>Impureza de Gini</th>\n",
       "      <td>0.342857</td>\n",
       "      <td>0.440476</td>\n",
       "      <td>0.367347</td>\n",
       "      <td>0.428571</td>\n",
       "    </tr>\n",
       "  </tbody>\n",
       "</table>\n",
       "</div>"
      ],
      "text/plain": [
       "Variable               age    income   student  credit_rate\n",
       "Impureza de Gini  0.342857  0.440476  0.367347     0.428571"
      ]
     },
     "execution_count": 21,
     "metadata": {},
     "output_type": "execute_result"
    }
   ],
   "source": [
    "fgini('default',['age','income','student','credit_rate'], df1).T"
   ]
  },
  {
   "cell_type": "markdown",
   "metadata": {},
   "source": [
    "queda utilizar la función para comprobar la del práctico."
   ]
  }
 ],
 "metadata": {
  "kernelspec": {
   "display_name": ".venv",
   "language": "python",
   "name": "python3"
  },
  "language_info": {
   "codemirror_mode": {
    "name": "ipython",
    "version": 3
   },
   "file_extension": ".py",
   "mimetype": "text/x-python",
   "name": "python",
   "nbconvert_exporter": "python",
   "pygments_lexer": "ipython3",
   "version": "3.11.5"
  }
 },
 "nbformat": 4,
 "nbformat_minor": 2
}
