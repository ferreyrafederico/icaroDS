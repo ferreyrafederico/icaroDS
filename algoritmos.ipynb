{
 "cells": [
  {
   "cell_type": "markdown",
   "metadata": {},
   "source": [
    "#### Ordenamiento."
   ]
  },
  {
   "cell_type": "markdown",
   "metadata": {},
   "source": [
    "Selection Sort"
   ]
  },
  {
   "cell_type": "code",
   "execution_count": 1,
   "metadata": {},
   "outputs": [
    {
     "data": {
      "text/plain": [
       "[1, 2, 3, 4, 5, 6, 8, 11, 13, 21, 25]"
      ]
     },
     "execution_count": 1,
     "metadata": {},
     "output_type": "execute_result"
    }
   ],
   "source": [
    "vector = [5,6,8,4,1,2,3,25,13,11,21]\n",
    "\n",
    "def selection(arr):\n",
    "    n=len(arr)\n",
    "    for i in range(n-1):\n",
    "        im=i\n",
    "        for j in range(i+1,n):\n",
    "            if arr[j]<arr[im]:\n",
    "                im=j\n",
    "        arr[im],arr[i]=arr[i],arr[im]\n",
    "    return arr\n",
    "\n",
    "selection(vector)"
   ]
  },
  {
   "cell_type": "markdown",
   "metadata": {},
   "source": [
    "QuickSort"
   ]
  },
  {
   "cell_type": "code",
   "execution_count": 2,
   "metadata": {},
   "outputs": [
    {
     "data": {
      "text/plain": [
       "[1, 2, 3, 4, 5, 6, 8, 11, 13, 21, 25]"
      ]
     },
     "execution_count": 2,
     "metadata": {},
     "output_type": "execute_result"
    }
   ],
   "source": [
    "vector = [5,6,8,4,1,2,3,25,13,11,21]\n",
    "\n",
    "def qsort(arr):\n",
    "    n=len(arr)\n",
    "    if n<2:\n",
    "        return arr\n",
    "    pv=arr[0]\n",
    "    iz=[e for e in arr[1:] if e<pv]\n",
    "    de=[e for e in arr[1:] if e>=pv]\n",
    "    return qsort(iz)+[pv]+qsort(de)\n",
    "\n",
    "qsort(vector)"
   ]
  },
  {
   "cell_type": "markdown",
   "metadata": {},
   "source": [
    "Bubble."
   ]
  },
  {
   "cell_type": "code",
   "execution_count": 3,
   "metadata": {},
   "outputs": [
    {
     "data": {
      "text/plain": [
       "[1, 2, 3, 4, 5, 6, 8, 11, 13, 21, 25]"
      ]
     },
     "execution_count": 3,
     "metadata": {},
     "output_type": "execute_result"
    }
   ],
   "source": [
    "vector = [5,6,8,4,1,2,3,25,13,11,21]\n",
    "\n",
    "def bubble(arr):\n",
    "    n=len(arr)-1\n",
    "    flag=True\n",
    "    while flag:\n",
    "        flag=False\n",
    "        for i in range(n):\n",
    "            if arr[i]>arr[i+1]:\n",
    "                arr[i+1],arr[i]=arr[i],arr[i+1]\n",
    "                flag=True\n",
    "    return arr\n",
    "\n",
    "bubble(vector)"
   ]
  },
  {
   "cell_type": "markdown",
   "metadata": {},
   "source": [
    "Insertion Sort"
   ]
  },
  {
   "cell_type": "code",
   "execution_count": 5,
   "metadata": {},
   "outputs": [
    {
     "data": {
      "text/plain": [
       "[1, 2, 3, 4, 5, 6, 8, 11, 13, 21, 25]"
      ]
     },
     "execution_count": 5,
     "metadata": {},
     "output_type": "execute_result"
    }
   ],
   "source": [
    "vector = [5,6,8,4,1,2,3,25,13,11,21]\n",
    "\n",
    "def insertionSort(ar):\n",
    "    for i in range(1, len(ar)):\n",
    "        p = ar[i]\n",
    "        for j in range(i-1,-1,-1):\n",
    "            if p < ar[j]:\n",
    "                ar[j + 1] = ar[j]\n",
    "            else:\n",
    "                j=j+1\n",
    "                break\n",
    "        ar[j] = p\n",
    "    return ar\n",
    "\n",
    "insertionSort(vector)"
   ]
  },
  {
   "cell_type": "code",
   "execution_count": 6,
   "metadata": {},
   "outputs": [
    {
     "data": {
      "text/plain": [
       "[1, 2, 3, 4, 5, 6, 8, 11, 13, 21, 25]"
      ]
     },
     "execution_count": 6,
     "metadata": {},
     "output_type": "execute_result"
    }
   ],
   "source": [
    "vector = [5,6,8,4,1,2,3,25,13,11,21]\n",
    "\n",
    "def insertionSort(ar):\n",
    "    for i in range(1,len(ar)):\n",
    "            p = ar[i]\n",
    "            j = i\n",
    "            while j>= 1 and p < ar[j-1]:\n",
    "                ar[j] = ar[j-1]\n",
    "                j-=1\n",
    "            ar[j] = p\n",
    "    return ar\n",
    "\n",
    "insertionSort(vector)"
   ]
  },
  {
   "cell_type": "markdown",
   "metadata": {},
   "source": [
    "Merge Sort."
   ]
  },
  {
   "cell_type": "code",
   "execution_count": 7,
   "metadata": {},
   "outputs": [
    {
     "data": {
      "text/plain": [
       "[1, 2, 3, 4, 5, 6, 8, 11, 13, 21, 25]"
      ]
     },
     "execution_count": 7,
     "metadata": {},
     "output_type": "execute_result"
    }
   ],
   "source": [
    "vector = [5,6,8,4,1,2,3,25,13,11,21]\n",
    "\n",
    "def merge(arr):\n",
    "    \n",
    "    n=len(arr)\n",
    "    if n<2:\n",
    "        return arr\n",
    "\n",
    "    m=n//2\n",
    "    iz=merge(arr[:m])\n",
    "    de=merge(arr[m:])\n",
    "    i,j=0,0\n",
    "    res=[]\n",
    "\n",
    "    while i<m and j<n-m:\n",
    "        if iz[i]<de[j]:\n",
    "            res.append(iz[i])\n",
    "            i+=1\n",
    "        else:\n",
    "            res.append(de[j])\n",
    "            j+=1\n",
    "    while i<m:\n",
    "        res.append(iz[i])\n",
    "        i+=1\n",
    "    while j<n-m:\n",
    "        res.append(de[j])\n",
    "        j+=1\n",
    "    return res\n",
    "\n",
    "merge(vector)\n",
    "\n",
    "    "
   ]
  },
  {
   "cell_type": "markdown",
   "metadata": {},
   "source": [
    "Ordenamiento Shell"
   ]
  },
  {
   "cell_type": "code",
   "execution_count": 8,
   "metadata": {},
   "outputs": [
    {
     "data": {
      "text/plain": [
       "[1, 2, 3, 4, 5, 6, 8, 11, 13, 21, 25]"
      ]
     },
     "execution_count": 8,
     "metadata": {},
     "output_type": "execute_result"
    }
   ],
   "source": [
    "vector = [5,6,8,4,1,2,3,25,13,11,21]\n",
    "\n",
    "def shellSort(ar):\n",
    "    n=len(ar)\n",
    "    g = n // 2\n",
    "    while g > 0:\n",
    "        for i in range(0, n-g):\n",
    "            p = ar[i+g]\n",
    "            j = i + g\n",
    "            while j-g >= 0 and p < ar[j-g]:\n",
    "                ar[j] = ar[j-g]\n",
    "                j = j - g\n",
    "            ar[j] = p\n",
    "        g = g//2\n",
    "    return ar\n",
    "\n",
    "shellSort(vector)"
   ]
  },
  {
   "cell_type": "markdown",
   "metadata": {},
   "source": [
    "Búsqueda Binaria"
   ]
  },
  {
   "cell_type": "code",
   "execution_count": 11,
   "metadata": {},
   "outputs": [
    {
     "name": "stdout",
     "output_type": "stream",
     "text": [
      "5\n",
      "None\n"
     ]
    }
   ],
   "source": [
    "list = [2,7,19,34,53,72]\n",
    "\n",
    "def bsearch(list, val):\n",
    "   a,n = 0,len(list) - 1\n",
    "# Indice medio\n",
    "   while a <= n:\n",
    "    m= (a + n)// 2\n",
    "    if list[m] == val:\n",
    "        return m\n",
    "# Compara el buscado con el del valor del indice medio\n",
    "    if val > list[m]:\n",
    "        a = m + 1\n",
    "    else:\n",
    "        n = m - 1\n",
    "    if a > n:\n",
    "        return None\n",
    "\n",
    "\n",
    "# Print the search result\n",
    "print(bsearch(list,72))\n",
    "print(bsearch(list,1))"
   ]
  },
  {
   "cell_type": "markdown",
   "metadata": {},
   "source": [
    "Con Recurrencia"
   ]
  },
  {
   "cell_type": "code",
   "execution_count": null,
   "metadata": {},
   "outputs": [],
   "source": [
    "list = [2,7,19,34,53,72]\n",
    "\n",
    "def bsearch(list,val,a = 0,n=len(list) - 1):\n",
    "    if n<a:\n",
    "        return None\n",
    "    m= (a + n)// 2\n",
    "    if list[m] == val:\n",
    "        return m\n",
    "    if val > list[m]:\n",
    "        return bsearch(list,val,m+1,n)\n",
    "    else:\n",
    "        return bsearch(list,val,0,m-1)\n",
    "\n",
    "\n",
    "# Print the search result\n",
    "print(bsearch(list,72))\n",
    "print(bsearch(list,34))"
   ]
  },
  {
   "cell_type": "markdown",
   "metadata": {},
   "source": [
    "Backtracking o Recursión por Retroceso."
   ]
  },
  {
   "cell_type": "code",
   "execution_count": null,
   "metadata": {},
   "outputs": [],
   "source": [
    "lista=['a','b','c']\n",
    "\n",
    "def back(lista,c=3):\n",
    "    if c==1:\n",
    "        return lista\n",
    "    return [x+y for x in back(lista,1) for y in back(lista,c-1)]\n",
    "\n",
    "back(lista)"
   ]
  },
  {
   "cell_type": "markdown",
   "metadata": {},
   "source": [
    "#### Máximo Común Divisor con algoritmo de Euclídes.\n",
    "MCD(a,b) = MCD(a,b%a)"
   ]
  },
  {
   "cell_type": "code",
   "execution_count": 51,
   "metadata": {},
   "outputs": [
    {
     "data": {
      "text/plain": [
       "70"
      ]
     },
     "execution_count": 51,
     "metadata": {},
     "output_type": "execute_result"
    }
   ],
   "source": [
    "def mcd(*nums):\n",
    "    if (n:=len(nums))<2:\n",
    "        return nums[0]\n",
    "    if n<3:\n",
    "        a,b=sorted(nums)\n",
    "        if (r:=b%a)==0:\n",
    "            return a\n",
    "        return mcd(a,r)\n",
    "    return mcd(nums[0],mcd(*nums[1:]))\n",
    "\n",
    "mcd(1750,1960,3080)\n",
    "    "
   ]
  },
  {
   "cell_type": "markdown",
   "metadata": {},
   "source": [
    "#### Factorización de N"
   ]
  },
  {
   "cell_type": "code",
   "execution_count": 36,
   "metadata": {},
   "outputs": [
    {
     "data": {
      "text/plain": [
       "[1, 5, 5]"
      ]
     },
     "execution_count": 36,
     "metadata": {},
     "output_type": "execute_result"
    }
   ],
   "source": [
    "def factor(n):\n",
    "    fac=[1]\n",
    "    while n % 2 == 0:\n",
    "        fac.append(2)\n",
    "        n //= 2\n",
    "    for i in range(3,int(n/2)+1,2):\n",
    "        while n % i== 0:\n",
    "            fac.append(i)\n",
    "            n /= i\n",
    "    if n > 2:\n",
    "        fac.append(n)\n",
    "    return fac\n",
    "\n",
    "factor(25)"
   ]
  },
  {
   "cell_type": "markdown",
   "metadata": {},
   "source": [
    "#### Decimal a Fraccion"
   ]
  },
  {
   "cell_type": "code",
   "execution_count": 72,
   "metadata": {},
   "outputs": [
    {
     "data": {
      "text/plain": [
       "(7, 5)"
      ]
     },
     "execution_count": 72,
     "metadata": {},
     "output_type": "execute_result"
    }
   ],
   "source": [
    "def decfrac(n):\n",
    "    sn=str(n).split('.')\n",
    "    m=10**len(sn[1])\n",
    "    n=int(sn[0]+sn[1])\n",
    "    p=mcd(n,m)\n",
    "\n",
    "    return int(n/p),int(m/p)\n",
    "\n",
    "decfrac(1.4)"
   ]
  },
  {
   "cell_type": "code",
   "execution_count": 102,
   "metadata": {},
   "outputs": [
    {
     "name": "stdout",
     "output_type": "stream",
     "text": [
      "[[1, 9], [2, 9], [3, 9], [4, 9], [5, 9], [6, 9], [7, 9], [8, 9]]\n"
     ]
    }
   ],
   "source": [
    "lista=[1,2,3,4,5,6,7,8,9]\n",
    "vs = []\n",
    "\n",
    "def p(i):\n",
    "    n=len(lista)\n",
    "    #print(n)\n",
    "    if i >=n:\n",
    "        yield map(tuple, vs)\n",
    "    else:\n",
    "            if n-i>1:\n",
    "                #print('paso impar')\n",
    "                vs.append([lista[i]])\n",
    "                yield from p(i + 1)\n",
    "            else: \n",
    "                for v in vs:\n",
    "                    #print('paso par')\n",
    "                    v.append(lista[i])\n",
    "                    yield from p(i + 1)\n",
    "\n",
    "r=p(0)\n",
    "r=list(r)\n",
    "\n",
    "print(vs)\n",
    "    "
   ]
  },
  {
   "cell_type": "markdown",
   "metadata": {},
   "source": [
    "#### Permutación Combinación"
   ]
  },
  {
   "cell_type": "markdown",
   "metadata": {},
   "source": [
    "Permutacion con Yield"
   ]
  },
  {
   "cell_type": "code",
   "execution_count": 10,
   "metadata": {},
   "outputs": [
    {
     "name": "stdout",
     "output_type": "stream",
     "text": [
      "ABC\n",
      "ACB\n",
      "BAC\n",
      "BCA\n",
      "CAB\n",
      "CBA\n"
     ]
    }
   ],
   "source": [
    "w='ABC'\n",
    "\n",
    "def per(w):\n",
    "    n=len(w)\n",
    "    if n==0:\n",
    "        yield ''\n",
    "    else:\n",
    "        for i in range(n):\n",
    "            for j in per(w[:i]+w[i+1:]):\n",
    "                yield w[i]+j\n",
    "            \n",
    "for k in per(w):\n",
    "    print(k)\n"
   ]
  },
  {
   "cell_type": "markdown",
   "metadata": {},
   "source": [
    "Permutación con return con salida string "
   ]
  },
  {
   "cell_type": "code",
   "execution_count": 11,
   "metadata": {},
   "outputs": [
    {
     "data": {
      "text/plain": [
       "['ABC', 'ACB', 'BAC', 'BCA', 'CAB', 'CBA']"
      ]
     },
     "execution_count": 11,
     "metadata": {},
     "output_type": "execute_result"
    }
   ],
   "source": [
    "w='ABC'\n",
    "\n",
    "def per(w):\n",
    "    cb=[]\n",
    "    n=len(w)\n",
    "    if n==0:\n",
    "        return ['']\n",
    "    else:\n",
    "        for i in range(n):\n",
    "            for j in per(w[:i]+w[i+1:]):\n",
    "                cb.append(w[i]+j)\n",
    "        return cb\n",
    "\n",
    "per(w)"
   ]
  },
  {
   "cell_type": "markdown",
   "metadata": {},
   "source": [
    "Permutación con return con salida lista."
   ]
  },
  {
   "cell_type": "code",
   "execution_count": 1,
   "metadata": {},
   "outputs": [
    {
     "data": {
      "text/plain": [
       "[['A', 'B', 'C'],\n",
       " ['A', 'C', 'B'],\n",
       " ['B', 'A', 'C'],\n",
       " ['B', 'C', 'A'],\n",
       " ['C', 'A', 'B'],\n",
       " ['C', 'B', 'A']]"
      ]
     },
     "execution_count": 1,
     "metadata": {},
     "output_type": "execute_result"
    }
   ],
   "source": [
    "w=['A','B','C']\n",
    "\n",
    "def per(w):\n",
    "    cb=[]\n",
    "    n=len(w)\n",
    "    if n==0:\n",
    "        return [[]]\n",
    "    for i in range(n):\n",
    "        for j in per(w[:i]+w[i+1:]):\n",
    "            cb.append([w[i]]+j)\n",
    "    return cb\n",
    "\n",
    "per(w)"
   ]
  },
  {
   "cell_type": "markdown",
   "metadata": {},
   "source": [
    "Combinatoria con return salida lista."
   ]
  },
  {
   "cell_type": "code",
   "execution_count": 13,
   "metadata": {},
   "outputs": [
    {
     "data": {
      "text/plain": [
       "[[], ['A'], ['B'], ['B', 'A'], ['C'], ['C', 'A'], ['C', 'B'], ['C', 'B', 'A']]"
      ]
     },
     "execution_count": 13,
     "metadata": {},
     "output_type": "execute_result"
    }
   ],
   "source": [
    "def comb(a):\n",
    "    if len(a) == 0:\n",
    "        return [[]]\n",
    "    cs = []\n",
    "    for c in comb(a[1:]):\n",
    "        cs += [c, c+[a[0]]]\n",
    "    return cs\n",
    "\n",
    "comb(w)"
   ]
  },
  {
   "cell_type": "markdown",
   "metadata": {},
   "source": [
    "Permutación (segundo argumento False) y Combinación (segundo argumento True)"
   ]
  },
  {
   "cell_type": "code",
   "execution_count": 16,
   "metadata": {},
   "outputs": [
    {
     "data": {
      "text/plain": [
       "[[], ['A'], ['B'], ['A', 'B'], ['C'], ['A', 'C'], ['B', 'C'], ['A', 'B', 'C']]"
      ]
     },
     "execution_count": 16,
     "metadata": {},
     "output_type": "execute_result"
    }
   ],
   "source": [
    "w=['A','B','C']\n",
    "\n",
    "def perComb(w,m=False):\n",
    "    cb=[]\n",
    "    if not m:\n",
    "        n=len(w)\n",
    "    else:\n",
    "        n=m\n",
    "    if len(w)==0:\n",
    "        return [[]]\n",
    "    else:\n",
    "        for i in range(n):\n",
    "            for j in perComb(w[:i]+w[i+1:],m):\n",
    "                if m:\n",
    "                    cb.append(j)\n",
    "                cb.append([w[i]]+j)\n",
    "        return cb\n",
    "\n",
    "perComb(w,1)"
   ]
  },
  {
   "cell_type": "markdown",
   "metadata": {},
   "source": [
    "Particiones k de n"
   ]
  },
  {
   "cell_type": "code",
   "execution_count": 20,
   "metadata": {},
   "outputs": [
    {
     "name": "stdout",
     "output_type": "stream",
     "text": [
      "[[['D'], ['A', 'B', 'C']], [['C', 'D'], ['A', 'B']], [['C'], ['A', 'B', 'D']], [['A', 'C', 'D'], ['B']], [['A', 'C'], ['B', 'D']], [['A', 'D'], ['B', 'C']], [['A'], ['B', 'C', 'D']]]\n",
      "Cantidad: 7\n"
     ]
    }
   ],
   "source": [
    "w=['A','B','C','D']\n",
    "\n",
    "def part(w,k):\n",
    "    n=len(w)\n",
    "    if k==1:\n",
    "        return [[w]]\n",
    "    pts=[list(map(lambda e:[e],w[:k]))]\n",
    "    for i in range(k,n):\n",
    "        pts2=[]\n",
    "        for d in part(w[:i],k-1):\n",
    "            pts2.append([[w[i]],*d])\n",
    "        for m in pts:\n",
    "            for s in range(len(m)):\n",
    "                pts2.append(m[:s]+[m[s]+[w[i]]]+m[s+1:])\n",
    "        pts=pts2.copy()\n",
    "    return pts\n",
    "\n",
    "pts=part(w,2)\n",
    "print(pts)\n",
    "print(f'Cantidad: {len(pts)}')"
   ]
  },
  {
   "cell_type": "markdown",
   "metadata": {},
   "source": [
    "Particiones k de n con Yield."
   ]
  },
  {
   "cell_type": "code",
   "execution_count": 21,
   "metadata": {},
   "outputs": [
    {
     "name": "stdout",
     "output_type": "stream",
     "text": [
      "[[('A',), ('B', 'C', 'D')], [('B',), ('A', 'C', 'D')], [('C',), ('A', 'B', 'D')], [('D',), ('A', 'B', 'C')], [('A', 'B'), ('C', 'D')], [('A', 'C'), ('B', 'D')], [('A', 'D'), ('B', 'C')]]\n",
      "Cantidad: 7\n"
     ]
    }
   ],
   "source": [
    "w=['A','B','C','D']\n",
    "k=2\n",
    "\n",
    "def sorted_k_partitions(seq, k):\n",
    "    n = len(seq)\n",
    "    groups = []  # a list of lists, currently empty\n",
    "    def generate_partitions(i):\n",
    "        if i >= n:\n",
    "            yield map(tuple, groups)\n",
    "        else:\n",
    "            if n - i > k - len(groups):\n",
    "                for group in groups:\n",
    "                    group.append(seq[i])\n",
    "                    yield from generate_partitions(i + 1)\n",
    "                    group.pop()\n",
    "            if len(groups) < k:   # si falta un grupo lo agrega\n",
    "                groups.append([seq[i]])\n",
    "                yield from generate_partitions(i + 1)\n",
    "                groups.pop()\n",
    "    result = generate_partitions(0)\n",
    "    # Sort the parts in each partition in shortlex order\n",
    "    result = [sorted(ps, key = lambda p: (len(p), p)) for ps in result]\n",
    "    # Sort partitions by the length of each part, then lexicographically.\n",
    "    result = sorted(result, key = lambda ps: (*map(len, ps), ps))\n",
    "    return result\n",
    "\n",
    "pts=sorted_k_partitions(w,k)\n",
    "print(pts)\n",
    "print(f'Cantidad: {len(pts)}')"
   ]
  },
  {
   "cell_type": "code",
   "execution_count": 1,
   "metadata": {},
   "outputs": [
    {
     "name": "stdout",
     "output_type": "stream",
     "text": [
      "[[['A'], ['B'], ['C'], ['D']], [['A'], ['B'], ['C', 'D']], [['A'], ['B', 'C'], ['D']], [['A'], ['B', 'C', 'D']], [['A', 'B'], ['C'], ['D']], [['A', 'B'], ['C', 'D']], [['A', 'B', 'C'], ['D']]]\n"
     ]
    }
   ],
   "source": [
    "def partitions(lst, k, current_partition=[], all_partitions=[]):\n",
    "    if not lst:\n",
    "        if all(len(subset) <= k for subset in current_partition):\n",
    "            all_partitions.append(current_partition)\n",
    "        return\n",
    "\n",
    "    for i in range(1, len(lst) + 1):\n",
    "        new_partition = current_partition + [lst[:i]]\n",
    "        remaining_elements = lst[i:]\n",
    "        partitions(remaining_elements, k, new_partition, all_partitions)\n",
    "\n",
    "    return all_partitions\n",
    "\n",
    "# Example usage:\n",
    "n = 4\n",
    "k = 3\n",
    "elements = ['A','B','C','D']\n",
    "\n",
    "result = partitions(elements, k)\n",
    "print(result)\n",
    "# for i, partition in enumerate(result, 1):\n",
    "#     print(f\"Partition {i}: {partition}\")\n",
    "\n"
   ]
  },
  {
   "cell_type": "code",
   "execution_count": 3,
   "metadata": {},
   "outputs": [
    {
     "name": "stdout",
     "output_type": "stream",
     "text": [
      "Combination 1: [1, 1, 12]\n",
      "Combination 2: [1, 2, 6]\n",
      "Combination 3: [1, 3, 4]\n",
      "Combination 4: [1, 4, 3]\n",
      "Combination 5: [1, 6, 2]\n",
      "Combination 6: [1, 12, 1]\n",
      "Combination 7: [2, 1, 6]\n",
      "Combination 8: [2, 2, 3]\n",
      "Combination 9: [2, 3, 2]\n",
      "Combination 10: [2, 6, 1]\n",
      "Combination 11: [3, 1, 4]\n",
      "Combination 12: [3, 2, 2]\n",
      "Combination 13: [3, 4, 1]\n",
      "Combination 14: [4, 1, 3]\n",
      "Combination 15: [4, 3, 1]\n",
      "Combination 16: [6, 1, 2]\n",
      "Combination 17: [6, 2, 1]\n",
      "Combination 18: [12, 1, 1]\n"
     ]
    }
   ],
   "source": [
    "def generate_product_combinations(n, k, current_combination=[], all_combinations=[]):\n",
    "    if n == 1 and k == 0:\n",
    "        all_combinations.append(current_combination.copy())\n",
    "        return\n",
    "\n",
    "    for i in range(1, n + 1):\n",
    "        if n % i == 0 and k > 0:\n",
    "            current_combination.append(i)\n",
    "            generate_product_combinations(n // i, k - 1, current_combination, all_combinations)\n",
    "            current_combination.pop()\n",
    "\n",
    "# Example usage:\n",
    "n_value = 12\n",
    "k_value = 3\n",
    "\n",
    "combinations = []\n",
    "generate_product_combinations(n_value, k_value, [], combinations)\n",
    "\n",
    "for i, combination in enumerate(combinations, 1):\n",
    "    print(f\"Combination {i}: {combination}\")"
   ]
  },
  {
   "cell_type": "code",
   "execution_count": null,
   "metadata": {},
   "outputs": [],
   "source": [
    "def es_primo(numero):\n",
    "    if numero < 2:\n",
    "        return False\n",
    "    elif numero == 2:\n",
    "        return True\n",
    "    elif numero % 2 == 0:\n",
    "        return False\n",
    "    else:\n",
    "        limite = int(numero**0.5) + 1\n",
    "        for i in range(3, limite, 2):\n",
    "            if numero % i == 0:\n",
    "                return False\n",
    "        return True\n",
    "\n",
    "# Ejemplos de uso\n",
    "numero_ejemplo = 23\n",
    "if es_primo(numero_ejemplo):\n",
    "    print(f\"{numero_ejemplo} es un número primo.\")\n",
    "else:\n",
    "    print(f\"{numero_ejemplo} no es un número primo.\")"
   ]
  }
 ],
 "metadata": {
  "kernelspec": {
   "display_name": "Python 3",
   "language": "python",
   "name": "python3"
  },
  "language_info": {
   "codemirror_mode": {
    "name": "ipython",
    "version": 3
   },
   "file_extension": ".py",
   "mimetype": "text/x-python",
   "name": "python",
   "nbconvert_exporter": "python",
   "pygments_lexer": "ipython3",
   "version": "3.11.5"
  },
  "orig_nbformat": 4
 },
 "nbformat": 4,
 "nbformat_minor": 2
}
