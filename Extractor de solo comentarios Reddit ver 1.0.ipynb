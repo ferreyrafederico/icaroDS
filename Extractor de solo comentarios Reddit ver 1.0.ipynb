{
 "cells": [
  {
   "cell_type": "markdown",
   "id": "8385aa87",
   "metadata": {},
   "source": [
    "# Descargar Librerias"
   ]
  },
  {
   "cell_type": "code",
   "execution_count": null,
   "id": "83671fbc",
   "metadata": {},
   "outputs": [],
   "source": [
    "#Descargar siempre cuando usen Colab\n",
    "#!pip install praw tqdm"
   ]
  },
  {
   "cell_type": "markdown",
   "id": "3f76fbd0",
   "metadata": {},
   "source": [
    "# Iniciar el Extractor y Completar debajo"
   ]
  },
  {
   "cell_type": "code",
   "execution_count": 12,
   "id": "74bc5226",
   "metadata": {
    "scrolled": true
   },
   "outputs": [
    {
     "name": "stdout",
     "output_type": "stream",
     "text": [
      "Ingrese el nombre del subreddit: argentina\n",
      "Ingrese el filtro para los títulos de las publicaciones (deje en blanco para no filtrar por título): milei\n",
      "Ingrese el filtro para el cuerpo de las publicaciones (deje en blanco para no filtrar por cuerpo): milei\n"
     ]
    },
    {
     "name": "stderr",
     "output_type": "stream",
     "text": [
      "Recopilando comentarios: 975it [28:16,  1.74s/it]"
     ]
    },
    {
     "name": "stdout",
     "output_type": "stream",
     "text": [
      "Se han extraído y guardado exitosamente 1559 comentarios nuevos del subreddit 'argentina'.\n",
      "Proceso finalizado.\n"
     ]
    },
    {
     "name": "stderr",
     "output_type": "stream",
     "text": [
      "\n"
     ]
    }
   ],
   "source": [
    "import praw\n",
    "import pandas as pd\n",
    "import os\n",
    "import time\n",
    "from tqdm import tqdm\n",
    "\n",
    "# Configura tu instancia de PRAW con tus credenciales de la aplicación y un user_agent único\n",
    "reddit_config = {\n",
    "    'client_id': '9zK4SSfBSCMJPnpX1rbg4Q',\n",
    "    'client_secret': 'CI5_-mXS5NGVZMvNjmOb6kyE60fG_A',\n",
    "    'user_agent': 'MiScriptRedditBot/v1.7 (by Sheincito en Reddit)'\n",
    "}\n",
    "\n",
    "# Define el subreddit a extraer\n",
    "subreddit_to_extract = input(\"Ingrese el nombre del subreddit: \")\n",
    "\n",
    "# Define el filtro para los títulos de las publicaciones\n",
    "filtro_titulo = input(\"Ingrese el filtro para los títulos de las publicaciones (deje en blanco para no filtrar por título): \")\n",
    "\n",
    "# Define el filtro para el cuerpo de las publicaciones\n",
    "filtro_cuerpo = input(\"Ingrese el filtro para el cuerpo de las publicaciones (deje en blanco para no filtrar por cuerpo): \")\n",
    "\n",
    "# Nombre del archivo CSV basado en el subreddit extraído\n",
    "csv_filename = f\"extractor_{subreddit_to_extract}.csv\"\n",
    "\n",
    "# Función para cargar los títulos existentes del archivo CSV\n",
    "def cargar_titulos_existentes(filename, subreddit_name):\n",
    "    if os.path.isfile(filename):  \n",
    "        try:\n",
    "            df = pd.read_csv(filename)\n",
    "            if df.empty:\n",
    "                return df\n",
    "            else:\n",
    "                return set(df['Reddit'])\n",
    "        except pd.errors.EmptyDataError:\n",
    "            return df\n",
    "    else: \n",
    "        return pd.DataFrame(columns=[subreddit_name])\n",
    "\n",
    "# Función para recopilar comentarios\n",
    "def recopilar_comentarios(subreddit_name, filename, reddit, filtro_titulo=None, filtro_cuerpo=None):\n",
    "    # Cargar los títulos existentes del archivo CSV\n",
    "    titulos_existentes = cargar_titulos_existentes(filename, subreddit_name)\n",
    "    \n",
    "    # Obtiene el subreddit\n",
    "    subreddit = reddit.subreddit(subreddit_name)\n",
    "    \n",
    "    # Lista para almacenar los comentarios\n",
    "    comentarios = []\n",
    "    \n",
    "    # Convertir el filtro de título a minúsculas si está presente\n",
    "    filtro_titulo = filtro_titulo.lower() if filtro_titulo else None\n",
    "    \n",
    "    # Convertir el filtro de cuerpo a minúsculas si está presente\n",
    "    filtro_cuerpo = filtro_cuerpo.lower() if filtro_cuerpo else None\n",
    "    \n",
    "    # Dividir el filtro de título en palabras si contiene varias palabras\n",
    "    filtro_titulo_palabras = filtro_titulo.split() if filtro_titulo else None\n",
    "    \n",
    "    # Dividir el filtro de cuerpo en palabras si contiene varias palabras\n",
    "    filtro_cuerpo_palabras = filtro_cuerpo.split() if filtro_cuerpo else None\n",
    "    \n",
    "    # Bucle para recopilar comentarios\n",
    "    for submission in tqdm(subreddit.new(limit=None), desc='Recopilando comentarios'):\n",
    "        # Verificar si la publicación cumple con al menos uno de los filtros\n",
    "        if (not filtro_titulo or any(word in submission.title.lower() for word in filtro_titulo_palabras)) \\\n",
    "            or (not filtro_cuerpo or any(word in submission.selftext.lower() for word in filtro_cuerpo_palabras)):\n",
    "            # Obtener todos los comentarios del hilo\n",
    "            submission.comments.replace_more(limit=None)\n",
    "            count = 0\n",
    "            for comment in submission.comments.list():\n",
    "                # Verificar si el comentario tiene más o igual 6 palabras\n",
    "                if len(comment.body.split()) >= 6:\n",
    "                    # Limitar a 15comentarios por publicación\n",
    "                    if count >= 15:\n",
    "                        break\n",
    "                    # Agregar el comentario a la lista de comentarios\n",
    "                    comentarios.append({'Reddit': submission.id, 'Comentario': comment.body})\n",
    "                    count += 1\n",
    "                    \n",
    "                    # Esperar 1 segundo antes de procesar el siguiente comentario\n",
    "                    time.sleep(1)\n",
    "    \n",
    "    # Convierte la lista de comentarios en un DataFrame\n",
    "    df = pd.DataFrame(comentarios)\n",
    "    \n",
    "    # Guarda los comentarios en un archivo CSV (modo 'a' para agregar datos sin sobrescribir)\n",
    "    df.to_csv(filename, index=False, mode='a', header=not os.path.exists(filename))\n",
    "    \n",
    "    # Mensaje de finalización\n",
    "    print(f\"Se han extraído y guardado exitosamente {len(comentarios)} comentarios nuevos del subreddit '{subreddit_name}'.\")\n",
    "    print(\"Proceso finalizado.\")\n",
    "\n",
    "# Configura PRAW con la configuración especificada\n",
    "reddit = praw.Reddit(**reddit_config)\n",
    "\n",
    "# Llama a la función para recopilar comentarios y guardarlos en un archivo CSV\n",
    "recopilar_comentarios(subreddit_to_extract, csv_filename, reddit, filtro_titulo, filtro_cuerpo)\n"
   ]
  },
  {
   "cell_type": "markdown",
   "id": "d3fdfe2c",
   "metadata": {},
   "source": [
    "# Cargamos el DF generado para probar"
   ]
  },
  {
   "cell_type": "code",
   "execution_count": 13,
   "id": "ae7e82d8",
   "metadata": {},
   "outputs": [],
   "source": [
    "# Carga el archivo CSV que contiene los datos del DataFrame\n",
    "df = pd.read_csv(csv_filename)\n",
    "pd.options.display.max_colwidth = 10000"
   ]
  },
  {
   "cell_type": "code",
   "execution_count": 26,
   "id": "93673733",
   "metadata": {},
   "outputs": [
    {
     "data": {
      "text/html": [
       "<div>\n",
       "<style scoped>\n",
       "    .dataframe tbody tr th:only-of-type {\n",
       "        vertical-align: middle;\n",
       "    }\n",
       "\n",
       "    .dataframe tbody tr th {\n",
       "        vertical-align: top;\n",
       "    }\n",
       "\n",
       "    .dataframe thead th {\n",
       "        text-align: right;\n",
       "    }\n",
       "</style>\n",
       "<table border=\"1\" class=\"dataframe\">\n",
       "  <thead>\n",
       "    <tr style=\"text-align: right;\">\n",
       "      <th></th>\n",
       "      <th>Reddit</th>\n",
       "      <th>Comentario</th>\n",
       "    </tr>\n",
       "  </thead>\n",
       "  <tbody>\n",
       "    <tr>\n",
       "      <th>558</th>\n",
       "      <td>1b8cy7y</td>\n",
       "      <td>parece joda que detengan a alguien poner comentar en la redes, si fuera por eso el presidente ya debería tener perpetua. Muy cara dura todo</td>\n",
       "    </tr>\n",
       "    <tr>\n",
       "      <th>529</th>\n",
       "      <td>1b8fs2s</td>\n",
       "      <td>***\"Observamos cómo el sistema argentino de ciencia y tecnología se acerca a un peligroso precipicio y nos desalientan las consecuencias que esta situación podría tener tanto para el pueblo argentino como para el mundo\"***\\n\\n***\"Para el mundo\",*** uyyy si, esos papers del ano de Batman van a extrañarse mucho en todo el mundo. así como tantos desarrollos argentinos que hacen mover al mundo hoy en día, y que nos hace ser el país más desarrollado del mundo desde hace 30 años.</td>\n",
       "    </tr>\n",
       "    <tr>\n",
       "      <th>229</th>\n",
       "      <td>1bamo1g</td>\n",
       "      <td>Y bueno que vayan a votar, los presidentes no se eligen por el tamaño de la marcha</td>\n",
       "    </tr>\n",
       "    <tr>\n",
       "      <th>1177</th>\n",
       "      <td>1b3e7cc</td>\n",
       "      <td>Después se llenan la boca de amor y democracia.</td>\n",
       "    </tr>\n",
       "    <tr>\n",
       "      <th>324</th>\n",
       "      <td>1b9s3rg</td>\n",
       "      <td>Me parece bueno marchar por \"derechos en peligro\" pero mira a esta mina. Su mayor preocupacion es poder comprarse un nuevo iphone, quien mierda era para decirle a la gente comun que psota sufre que hacer? Que payasa</td>\n",
       "    </tr>\n",
       "    <tr>\n",
       "      <th>1498</th>\n",
       "      <td>1b15ls1</td>\n",
       "      <td>Jaja, si viniera a salvar a alguien lo haría más al estilo de Jesús de Laferrere...jeje</td>\n",
       "    </tr>\n",
       "    <tr>\n",
       "      <th>937</th>\n",
       "      <td>1b5ty1w</td>\n",
       "      <td>Sueño que K5N vea esto y digan \"LAS POLEMICAS PALABRAS DE MEGAHIPERSUPERULTRISIMA- DERECHA\" en el congreso</td>\n",
       "    </tr>\n",
       "    <tr>\n",
       "      <th>1277</th>\n",
       "      <td>1b2i0nk</td>\n",
       "      <td>Está  perfecto, porque harían documentos en un lenguaje que no existe?</td>\n",
       "    </tr>\n",
       "    <tr>\n",
       "      <th>761</th>\n",
       "      <td>1b7a2g1</td>\n",
       "      <td>Danann se une al club de los Gerardo Morales, aunque ya se sospechaba</td>\n",
       "    </tr>\n",
       "    <tr>\n",
       "      <th>12</th>\n",
       "      <td>1bc7h4k</td>\n",
       "      <td>Pero ahí arriba dice Linguahouse, que parece ser un curso a lo OpenEnglish.  \\n  \\n Porque en Oxford usarían ese material cuando tienen el propio el cual es muy bueno?</td>\n",
       "    </tr>\n",
       "  </tbody>\n",
       "</table>\n",
       "</div>"
      ],
      "text/plain": [
       "       Reddit  \\\n",
       "558   1b8cy7y   \n",
       "529   1b8fs2s   \n",
       "229   1bamo1g   \n",
       "1177  1b3e7cc   \n",
       "324   1b9s3rg   \n",
       "1498  1b15ls1   \n",
       "937   1b5ty1w   \n",
       "1277  1b2i0nk   \n",
       "761   1b7a2g1   \n",
       "12    1bc7h4k   \n",
       "\n",
       "                                                                                                                                                                                                                                                                                                                                                                                                                                                                                          Comentario  \n",
       "558                                                                                                                                                                                                                                                                                                                                                      parece joda que detengan a alguien poner comentar en la redes, si fuera por eso el presidente ya debería tener perpetua. Muy cara dura todo  \n",
       "529   ***\"Observamos cómo el sistema argentino de ciencia y tecnología se acerca a un peligroso precipicio y nos desalientan las consecuencias que esta situación podría tener tanto para el pueblo argentino como para el mundo\"***\\n\\n***\"Para el mundo\",*** uyyy si, esos papers del ano de Batman van a extrañarse mucho en todo el mundo. así como tantos desarrollos argentinos que hacen mover al mundo hoy en día, y que nos hace ser el país más desarrollado del mundo desde hace 30 años.  \n",
       "229                                                                                                                                                                                                                                                                                                                                                                                                               Y bueno que vayan a votar, los presidentes no se eligen por el tamaño de la marcha  \n",
       "1177                                                                                                                                                                                                                                                                                                                                                                                                                                                 Después se llenan la boca de amor y democracia.  \n",
       "324                                                                                                                                                                                                                                                                          Me parece bueno marchar por \"derechos en peligro\" pero mira a esta mina. Su mayor preocupacion es poder comprarse un nuevo iphone, quien mierda era para decirle a la gente comun que psota sufre que hacer? Que payasa  \n",
       "1498                                                                                                                                                                                                                                                                                                                                                                                                         Jaja, si viniera a salvar a alguien lo haría más al estilo de Jesús de Laferrere...jeje  \n",
       "937                                                                                                                                                                                                                                                                                                                                                                                       Sueño que K5N vea esto y digan \"LAS POLEMICAS PALABRAS DE MEGAHIPERSUPERULTRISIMA- DERECHA\" en el congreso  \n",
       "1277                                                                                                                                                                                                                                                                                                                                                                                                                          Está  perfecto, porque harían documentos en un lenguaje que no existe?  \n",
       "761                                                                                                                                                                                                                                                                                                                                                                                                                            Danann se une al club de los Gerardo Morales, aunque ya se sospechaba  \n",
       "12                                                                                                                                                                                                                                                                                                                           Pero ahí arriba dice Linguahouse, que parece ser un curso a lo OpenEnglish.  \\n  \\n Porque en Oxford usarían ese material cuando tienen el propio el cual es muy bueno?  "
      ]
     },
     "execution_count": 26,
     "metadata": {},
     "output_type": "execute_result"
    }
   ],
   "source": [
    "df.sample(10)"
   ]
  },
  {
   "cell_type": "code",
   "execution_count": null,
   "id": "bfcbb2b2",
   "metadata": {},
   "outputs": [],
   "source": []
  }
 ],
 "metadata": {
  "kernelspec": {
   "display_name": "Python 3 (ipykernel)",
   "language": "python",
   "name": "python3"
  },
  "language_info": {
   "codemirror_mode": {
    "name": "ipython",
    "version": 3
   },
   "file_extension": ".py",
   "mimetype": "text/x-python",
   "name": "python",
   "nbconvert_exporter": "python",
   "pygments_lexer": "ipython3",
   "version": "3.11.5"
  }
 },
 "nbformat": 4,
 "nbformat_minor": 5
}
