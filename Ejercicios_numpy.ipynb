{
 "cells": [
  {
   "cell_type": "markdown",
   "metadata": {},
   "source": [
    "#### Operaciones de arrays"
   ]
  },
  {
   "cell_type": "markdown",
   "metadata": {},
   "source": [
    "##### Producto por escalar\n",
    "$$\\begin{pmatrix}\n",
    "  a_{1,1} & a_{1,2} & \\cdots & a_{1,n} \\\\\n",
    "  a_{2,1} & a_{2,2} & \\cdots & a_{2,n} \\\\\n",
    "  \\vdots  & \\vdots  & \\ddots & \\vdots  \\\\\n",
    "  a_{m,1} & a_{m,2} & \\cdots & a_{m,n} \n",
    " \\end{pmatrix}·\\lambda=\\begin{pmatrix}\n",
    "  \\lambda·a_{1,1} & \\lambda·a_{1,2} & \\cdots & \\lambda·a_{1,n} \\\\\n",
    "  \\lambda·a_{2,1} & \\lambda·a_{2,2} & \\cdots & \\lambda·a_{2,n} \\\\\n",
    "  \\vdots  & \\vdots  & \\ddots & \\vdots  \\\\\n",
    "  \\lambda·a_{m,1} & \\lambda·a_{m,2} & \\cdots & \\lambda·a_{m,n} \n",
    " \\end{pmatrix}$$\n",
    "   \n",
    "Ejemplo:  \n",
    "$$\\begin{pmatrix}\n",
    "  2 & 5 & 7 \\\\\n",
    "  3 & 10 & 9 \\\\\n",
    "  1 & 6 & 11\\end{pmatrix}·2=\\begin{pmatrix}\n",
    "  4 & 10 & 14 \\\\\n",
    "  6 & 20 & 18 \\\\\n",
    "  2 & 12 & 22 \\end{pmatrix}$$"
   ]
  },
  {
   "cell_type": "code",
   "execution_count": 2,
   "metadata": {},
   "outputs": [
    {
     "name": "stdout",
     "output_type": "stream",
     "text": [
      "[[ 2  5  7]\n",
      " [ 3 10  9]\n",
      " [ 1  6 11]]\n",
      "-----------\n",
      "[[ 4 10 14]\n",
      " [ 6 20 18]\n",
      " [ 2 12 22]]\n"
     ]
    }
   ],
   "source": [
    "import numpy as np\n",
    "a = np.array([[2,5,7],[3,10,9],[1,6,11]])\n",
    "print(a)\n",
    "print('-----------')\n",
    "print(2*a)"
   ]
  },
  {
   "cell_type": "markdown",
   "metadata": {},
   "source": [
    "##### Producto punto por vector\n",
    "$$\\begin{pmatrix}\n",
    "  a_{1,1} & a_{1,2} & \\cdots & a_{1,n} \\\\\n",
    "  a_{2,1} & a_{2,2} & \\cdots & a_{2,n} \\\\\n",
    "  \\vdots  & \\vdots  & \\ddots & \\vdots  \\\\\n",
    "  a_{m,1} & a_{m,2} & \\cdots & a_{m,n} \n",
    " \\end{pmatrix}·\\begin{pmatrix}\n",
    "  b_{1,1} \\\\\n",
    "  b_{2,1} \\\\\n",
    "  \\vdots \\\\\n",
    "  b_{n,1}\\end{pmatrix} =\\begin{pmatrix}\n",
    "  c_{1,1} \\\\\n",
    "  c_{2,1} \\\\\n",
    "  \\vdots   \\\\\n",
    "  c_{n,1} \n",
    " \\end{pmatrix}$$\n",
    " En donde cada $c_{ij}$:  \n",
    " $$c_{1,1}=a_{1,1}·b_{1,1}+a_{1,2}·b_{2,1}+\\dotsb+a_{1,k}·b_{k,1}+\\dotsb+a_{1,n}·b_{n,1}\n",
    " =\\sum_{k=1}^n{a_{1,k}·b_{k,1}}$$\n",
    " $$c_{i,1}\n",
    " =\\sum_{k=1}^n{a_{i,k}·b_{k,1}} \\quad \\quad \\quad  i=1\\dotsb n$$\n",
    "\n",
    "   \n",
    "Ejemplo:  \n",
    "$$\\begin{pmatrix}\n",
    "  2 & 5 & 7 \\\\\n",
    "  3 & 10 & 9 \\\\\n",
    "  1 & 6 & 11\\end{pmatrix}·\\begin{pmatrix}\n",
    "  5 \\\\\n",
    "  1 \\\\\n",
    "  2 \\end{pmatrix}=\\begin{pmatrix}\n",
    "  29  \\\\\n",
    "  43  \\\\\n",
    "  33\\end{pmatrix}$$  \n",
    "  \n",
    "Notar que el producto no es conmutativo:\n",
    "    \n",
    "$$\\begin{pmatrix}\n",
    "  5 & 1 & 2 \\\\\n",
    " \\end{pmatrix}·\\begin{pmatrix}\n",
    "  2 & 5 & 7 \\\\\n",
    "  3 & 10 & 9 \\\\\n",
    "  1 & 6 & 11\\end{pmatrix}=\\begin{pmatrix}\n",
    "  15 &47&66 \\\\\n",
    "\\end{pmatrix}$$"
   ]
  },
  {
   "cell_type": "code",
   "execution_count": 6,
   "metadata": {},
   "outputs": [
    {
     "name": "stdout",
     "output_type": "stream",
     "text": [
      "[[ 2  5  7]\n",
      " [ 3 10  9]\n",
      " [ 1  6 11]]\n",
      "-----------\n",
      "[5 1 2]\n",
      "-----------\n",
      "[29 43 33]\n",
      "[15 47 66]\n"
     ]
    }
   ],
   "source": [
    "a = np.array([[2,5,7],[3,10,9],[1,6,11]])\n",
    "b = np.array([5,1,2])\n",
    "print(a)\n",
    "print('-----------')\n",
    "print(b)\n",
    "print('-----------')\n",
    "print(np.dot(a,b))\n",
    "print(np.dot(b,a))"
   ]
  },
  {
   "cell_type": "markdown",
   "metadata": {},
   "source": [
    "##### Producto punto de matrices\n",
    "$$\\begin{pmatrix}\n",
    "  a_{1,1} & a_{1,2} & \\cdots & a_{1,n} \\\\\n",
    "  a_{2,1} & a_{2,2} & \\cdots & a_{2,n} \\\\\n",
    "  \\vdots  & \\vdots  & \\ddots & \\vdots  \\\\\n",
    "  a_{m,1} & a_{m,2} & \\cdots & a_{m,n} \n",
    " \\end{pmatrix}·\\begin{pmatrix}\n",
    "  b_{1,1} & b_{1,2} & \\cdots & b_{1,w} \\\\\n",
    "  b_{2,1} & b_{2,2} & \\cdots & b_{2,w} \\\\\n",
    "  \\vdots  & \\vdots  & \\ddots & \\vdots  \\\\\n",
    "  b_{n,1} & b_{n,2} & \\cdots & b_{n,w} \n",
    " \\end{pmatrix} =\\begin{pmatrix}\n",
    "  c_{1,1} & c_{1,2} & \\cdots & c_{1,w} \\\\\n",
    "  c_{2,1} & c_{2,2} & \\cdots & c_{2,w} \\\\\n",
    "  \\vdots  & \\vdots  & \\ddots & \\vdots  \\\\\n",
    "  c_{n,1} & c_{n,2} & \\cdots & c_{n,w} \n",
    " \\end{pmatrix}$$\n",
    " En donde cada $c_{ij}$:  \n",
    " $$c_{1,1}=a_{1,1}·b_{1,1}+a_{1,2}·b_{2,1}+\\dotsb+a_{1,k}·b_{k,1}+\\dotsb+a_{1,n}·b_{n,1}\n",
    " =\\sum_{k=1}^n{a_{1,k}·b_{k,1}}$$\n",
    " $$c_{i,j}\n",
    " =\\sum_{k=1}^n{a_{i,k}·b_{k,j}} \\quad \\quad \\quad  i=1\\dotsb n \\quad \\quad j=1\\dotsb w$$  \n",
    "\n",
    "   \n",
    "Ejemplo:  \n",
    "$$\\begin{pmatrix}\n",
    "  3 & 1  \\\\\n",
    "  1 & 8 \\\\\n",
    "  5 & 4 \\end{pmatrix}·\\begin{pmatrix}\n",
    "  2 & 5 & 7 \\\\\n",
    "  1 & 6 & 11\\end{pmatrix}=\\begin{pmatrix}\n",
    "  7 & 21 & 32 \\\\\n",
    "  10 & 53 & 95 \\\\\n",
    "  14 & 49 & 79\\end{pmatrix}$$  \n",
    "  \n",
    "Notar que el producto no es conmutativo:\n",
    "    \n",
    "$$\\begin{pmatrix}\n",
    "  2 & 5 & 7 \\\\\n",
    "  1 & 6 & 11\\end{pmatrix}·\\begin{pmatrix}\n",
    "  3 & 1  \\\\\n",
    "  1 & 8 \\\\\n",
    "  5 & 4 \\end{pmatrix}=\\begin{pmatrix}\n",
    "  46 &70 \\\\\n",
    "  64 &93 \\\\\n",
    "\\end{pmatrix}$$"
   ]
  },
  {
   "cell_type": "code",
   "execution_count": 10,
   "metadata": {},
   "outputs": [
    {
     "name": "stdout",
     "output_type": "stream",
     "text": [
      "[[3 1]\n",
      " [1 8]\n",
      " [5 4]]\n",
      "-----------\n",
      "[[ 2  5  7]\n",
      " [ 1  6 11]]\n",
      "-----------\n",
      "[[ 7 21 32]\n",
      " [10 53 95]\n",
      " [14 49 79]]\n",
      "[[46 70]\n",
      " [64 93]]\n"
     ]
    }
   ],
   "source": [
    "a = np.array([[3,1],[1,8],[5,4]])\n",
    "b = np.array([[2,5,7],[1,6,11]])\n",
    "print(a)\n",
    "print('-----------')\n",
    "print(b)\n",
    "print('-----------')\n",
    "print(np.dot(a,b))\n",
    "print(np.dot(b,a))"
   ]
  },
  {
   "cell_type": "markdown",
   "metadata": {},
   "source": [
    "##### Algunas propiedades de las matrices\n",
    "$$\\lambda·(A+B)=\\lambda·A+\\lambda·B$$  \n",
    "$$A+(B+C)=(A+B)+C$$  \n",
    "$$A·(B+C)=A·B+A·C$$  \n",
    "$$(A^T)^T=A$$\n",
    "$$(A+B)^T=A^T+B^T$$\n",
    "$$(A·B)^T=B^T·A^T$$\n",
    "$$(B^T·A^T)^T=A·B$$"
   ]
  }
 ],
 "metadata": {
  "kernelspec": {
   "display_name": "Python 3",
   "language": "python",
   "name": "python3"
  },
  "language_info": {
   "codemirror_mode": {
    "name": "ipython",
    "version": 3
   },
   "file_extension": ".py",
   "mimetype": "text/x-python",
   "name": "python",
   "nbconvert_exporter": "python",
   "pygments_lexer": "ipython3",
   "version": "3.11.5"
  }
 },
 "nbformat": 4,
 "nbformat_minor": 2
}
