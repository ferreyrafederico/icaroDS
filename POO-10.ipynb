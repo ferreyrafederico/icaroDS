{
 "cells": [
  {
   "cell_type": "markdown",
   "metadata": {
    "id": "IZqAjLMQ5JHo"
   },
   "source": [
    "# Programación orientada a objetos\n",
    "\n",
    "Vimos que las clases son como plantillas para instanciar objetos. Estos objetos van a tener atributos y métodos.\n",
    "\n",
    "¿ Cómo definimos todo esto en python ?"
   ]
  },
  {
   "cell_type": "markdown",
   "metadata": {
    "id": "MI_50Naj5b-Q"
   },
   "source": [
    "## Definimos una clase\n",
    "\n",
    "Para definir clases se utiliza la palabra reservada ``class``.\n",
    "\n",
    "Los nombres de las clases, suelen ponerse con la primer letra en mayúsculas (no nos va a fallar nada si no lo hacemos, pero esta bueno si lo respetamos)\n",
    "\n",
    "Las clases tienen un **mètodo** que se llama ``__init__ ``. Este método es el que inicializa una clase. También es conocido como \"constructor\"\n",
    "\n",
    "En los parámetros que recibe el método ``__init__``, podemos definir los elementos que son necesarios para crear un objeto de nuestra clase. En el caso de la clase Persona vamos a usar Nombre y Edad.\n",
    "\n",
    "``self``: Cuando nos querramos referir a un atributo propio de nuestra clase, debemos utilizar la palabra reservada ``self``.\n",
    "\n",
    "\n",
    "Veamos un ejemplo:\n"
   ]
  },
  {
   "cell_type": "code",
   "execution_count": 1,
   "metadata": {
    "id": "0BDAIPCS5F91"
   },
   "outputs": [],
   "source": [
    "class Persona:\n",
    "    \"\"\"\n",
    "    Definición de una Persona.\n",
    "    \"\"\"\n",
    "\n",
    "    def __init__(self, nombre, edad):\n",
    "        self.nombre = nombre\n",
    "        self.edad = edad"
   ]
  },
  {
   "cell_type": "markdown",
   "metadata": {
    "id": "mTg_eg0N6zrF"
   },
   "source": [
    "Ya definimos nuestra Clase! Ahora, instanciemos un objeto de la misma.\n",
    "\n",
    "Para instanciar un objeto de esta clase vamos a tener que pasarle un nombre y edad."
   ]
  },
  {
   "cell_type": "code",
   "execution_count": 2,
   "metadata": {
    "id": "ZwBQuCqO6y6Z"
   },
   "outputs": [],
   "source": [
    "persona_1 = Persona(\"Jose\", 44)"
   ]
  },
  {
   "cell_type": "code",
   "execution_count": 3,
   "metadata": {
    "colab": {
     "base_uri": "https://localhost:8080/"
    },
    "id": "TGaImZtD7DAm",
    "outputId": "ead2b174-09f5-4e0c-bf3e-119daa21d940"
   },
   "outputs": [
    {
     "data": {
      "text/plain": [
       "<__main__.Persona at 0x25950182a50>"
      ]
     },
     "execution_count": 3,
     "metadata": {},
     "output_type": "execute_result"
    }
   ],
   "source": [
    "persona_1"
   ]
  },
  {
   "cell_type": "markdown",
   "metadata": {
    "id": "NNsvXnqG7OHS"
   },
   "source": [
    "Para acceder a los atributos de una clase se usa un punto ``.`` seguido por el nombre del atributo al que queremos acceder."
   ]
  },
  {
   "cell_type": "code",
   "execution_count": 4,
   "metadata": {
    "colab": {
     "base_uri": "https://localhost:8080/",
     "height": 35
    },
    "id": "5cCFvV9F7Lfc",
    "outputId": "5989aea5-815a-4582-b172-fba5f160ee55"
   },
   "outputs": [
    {
     "data": {
      "text/plain": [
       "'Jose'"
      ]
     },
     "execution_count": 4,
     "metadata": {},
     "output_type": "execute_result"
    }
   ],
   "source": [
    "persona_1.nombre"
   ]
  },
  {
   "cell_type": "code",
   "execution_count": null,
   "metadata": {
    "colab": {
     "base_uri": "https://localhost:8080/"
    },
    "id": "b9yxAsID7VKw",
    "outputId": "906f3772-ea49-4741-aadf-da005049e848"
   },
   "outputs": [
    {
     "data": {
      "text/plain": [
       "44"
      ]
     },
     "execution_count": 7,
     "metadata": {
      "tags": []
     },
     "output_type": "execute_result"
    }
   ],
   "source": [
    "persona_1.edad"
   ]
  },
  {
   "cell_type": "markdown",
   "metadata": {
    "id": "SIXe0lWD7bXE"
   },
   "source": [
    "Si miramos el type de el objeto persona_1:"
   ]
  },
  {
   "cell_type": "code",
   "execution_count": null,
   "metadata": {
    "colab": {
     "base_uri": "https://localhost:8080/"
    },
    "id": "tgjxgc9h7WeM",
    "outputId": "12cca7cc-56b0-4c8f-88ca-3f66ac8c774c"
   },
   "outputs": [
    {
     "data": {
      "text/plain": [
       "__main__.Persona"
      ]
     },
     "execution_count": 8,
     "metadata": {
      "tags": []
     },
     "output_type": "execute_result"
    }
   ],
   "source": [
    "type(persona_1)"
   ]
  },
  {
   "cell_type": "markdown",
   "metadata": {
    "id": "KzJhLEt3-ELk"
   },
   "source": [
    "El valor de los atributos de los objetos se puede modificar como cualquier variable"
   ]
  },
  {
   "cell_type": "code",
   "execution_count": null,
   "metadata": {
    "id": "UfPyJXvn7etb"
   },
   "outputs": [],
   "source": [
    "persona_1.edad = 45"
   ]
  },
  {
   "cell_type": "code",
   "execution_count": null,
   "metadata": {
    "colab": {
     "base_uri": "https://localhost:8080/"
    },
    "id": "Jjr1kicx-KEZ",
    "outputId": "e3dc51e1-69d8-4362-e410-c01061eaaff3"
   },
   "outputs": [
    {
     "data": {
      "text/plain": [
       "45"
      ]
     },
     "execution_count": 10,
     "metadata": {
      "tags": []
     },
     "output_type": "execute_result"
    }
   ],
   "source": [
    "persona_1.edad"
   ]
  },
  {
   "cell_type": "markdown",
   "metadata": {
    "id": "X4INma0b-QuI"
   },
   "source": [
    "## Métodos\n",
    "\n",
    "Vimos que en una clase podemos definir métodos (funciones).\n",
    "\n",
    "Los métodos pueden actuar sobre los valores de otros atributos de esa instancia, pueden devolver algun output a traves de return o pueden hacer ambas cosas.\n",
    "\n",
    "Para llamar a un método, utilizamos el . seguido por el nombre del mismo.\n",
    "\n",
    "Vamos a darle un método a la clase persona:"
   ]
  },
  {
   "cell_type": "code",
   "execution_count": null,
   "metadata": {
    "id": "ZsTD34z--Ljz"
   },
   "outputs": [],
   "source": [
    "class Persona:\n",
    "    \"\"\"\n",
    "    Definición de una Persona.\n",
    "    \"\"\"\n",
    "\n",
    "    def __init__(self, nombre, edad):\n",
    "        self.nombre = nombre\n",
    "        self.edad = edad\n",
    "\n",
    "    def digo_mi_nombre(self):\n",
    "        print(f\"Me llamo {self.nombre}.\")"
   ]
  },
  {
   "cell_type": "code",
   "execution_count": null,
   "metadata": {
    "colab": {
     "base_uri": "https://localhost:8080/"
    },
    "id": "C9aS-leC-rnx",
    "outputId": "dd06ce76-c616-4d82-b63d-5eea8a24d9ba"
   },
   "outputs": [
    {
     "name": "stdout",
     "output_type": "stream",
     "text": [
      "Me llamo Juan.\n"
     ]
    }
   ],
   "source": [
    "persona_2 = Persona(\"Juan\", 20)\n",
    "persona_2.digo_mi_nombre()"
   ]
  },
  {
   "cell_type": "markdown",
   "metadata": {
    "id": "XU2_pUf8-8Xa"
   },
   "source": [
    "Como ya dijimos, los métodos tambien pueden modificar el valor de ciertos atributos de una instancia. Vamos a crear un método para la clase persona, que haga cumplir un año a la persona y al mismo tiempo nos devuelva el valor de su edad:"
   ]
  },
  {
   "cell_type": "code",
   "execution_count": null,
   "metadata": {
    "id": "w4ocMBvb-xKy"
   },
   "outputs": [],
   "source": [
    "class Persona:\n",
    "    \"\"\"\n",
    "    Definición de una Persona.\n",
    "    \"\"\"\n",
    "\n",
    "    def __init__(self, nombre, edad):\n",
    "        self.nombre = nombre\n",
    "        self.edad = edad\n",
    "\n",
    "    def digo_mi_nombre(self):\n",
    "        print(f\"Me llamo {self.nombre}.\")\n",
    "\n",
    "    def cumplo_anios(self):\n",
    "        self.edad = self.edad + 1\n",
    "        return self.edad"
   ]
  },
  {
   "cell_type": "code",
   "execution_count": null,
   "metadata": {
    "colab": {
     "base_uri": "https://localhost:8080/"
    },
    "id": "NsFDNofD_GCM",
    "outputId": "57b6e3d3-3211-4c27-8792-dcd0ad2abbd8"
   },
   "outputs": [
    {
     "data": {
      "text/plain": [
       "40"
      ]
     },
     "execution_count": 14,
     "metadata": {
      "tags": []
     },
     "output_type": "execute_result"
    }
   ],
   "source": [
    "persona_3 = Persona(\"Carolina\", 40)\n",
    "persona_3.edad"
   ]
  },
  {
   "cell_type": "code",
   "execution_count": null,
   "metadata": {
    "colab": {
     "base_uri": "https://localhost:8080/"
    },
    "id": "pivJXIWX_LBm",
    "outputId": "bbab75c5-6164-4395-8010-7e49164ad388"
   },
   "outputs": [
    {
     "data": {
      "text/plain": [
       "41"
      ]
     },
     "execution_count": 16,
     "metadata": {
      "tags": []
     },
     "output_type": "execute_result"
    }
   ],
   "source": [
    "persona_3.cumplo_anios()"
   ]
  },
  {
   "cell_type": "code",
   "execution_count": null,
   "metadata": {
    "colab": {
     "base_uri": "https://localhost:8080/"
    },
    "id": "oqZN569M_Mb6",
    "outputId": "01b0a556-613e-4897-f786-66b9266cd545"
   },
   "outputs": [
    {
     "data": {
      "text/plain": [
       "41"
      ]
     },
     "execution_count": 17,
     "metadata": {
      "tags": []
     },
     "output_type": "execute_result"
    }
   ],
   "source": [
    "persona_3.edad"
   ]
  },
  {
   "cell_type": "markdown",
   "metadata": {
    "id": "Ke4CsSlS_Uxi"
   },
   "source": [
    "Estos nombres de métodos con doble guión-bajo a los costados indican que se trata de un método mágico. Son nombres especiales que Python se reserva para métodos que tienen una función específica. Por ejemplo, el método mágico ``__init__`` se correrá automáticamente cuando creemos una instancia de la clase."
   ]
  },
  {
   "cell_type": "code",
   "execution_count": null,
   "metadata": {
    "id": "4h6ci7m2_OCM"
   },
   "outputs": [],
   "source": [
    "class Persona:\n",
    "    \"\"\"\n",
    "    Definición de una Persona.\n",
    "    \"\"\"\n",
    "\n",
    "    def __init__(self, nombre, edad):\n",
    "        self.nombre = nombre\n",
    "        self.edad = edad\n",
    "        print(\"SE EJECUTA EL MÉTODO INIT PORQUE CREAMOS UNA NUEVA INSTANCIA!\")\n",
    "\n",
    "    def digo_mi_nombre(self):\n",
    "        print(f\"Me llamo {self.nombre}.\")\n",
    "\n",
    "    def cumplo_anios(self):\n",
    "        self.edad = self.edad + 1\n",
    "        return self.edad"
   ]
  },
  {
   "cell_type": "code",
   "execution_count": null,
   "metadata": {
    "colab": {
     "base_uri": "https://localhost:8080/"
    },
    "id": "GlAba3wN_f6E",
    "outputId": "31fe6432-b2a9-4560-ebe9-5758387dcd21"
   },
   "outputs": [
    {
     "name": "stdout",
     "output_type": "stream",
     "text": [
      "SE EJECUTA EL MÉTODO INIT PORQUE CREAMOS UNA NUEVA INSTANCIA!\n"
     ]
    }
   ],
   "source": [
    "persona_4 = Persona(\"Florencia\", 24)"
   ]
  },
  {
   "cell_type": "markdown",
   "metadata": {
    "id": "QMONfyH3_nnb"
   },
   "source": [
    "## Consistencia\n",
    "\n",
    "Uno de los beneficios de trabajar con clases es el hecho de poder chequear la consistencia de los distintos atributos pertenecientes a una misma instancia de esa clase.\n",
    "\n",
    "Por ejemplo, imaginen que tenemos una clase llamada Casa que representa una casa. Esta clase puede tener atributos como \"superficie_total\" y \"superficie_cubierta\". Sabemos que la superficie cubierta nunca podría ser mayor a la total, y podemos validar esto en el método init de la clase:"
   ]
  },
  {
   "cell_type": "code",
   "execution_count": null,
   "metadata": {
    "id": "nvRLQRaC_jHU"
   },
   "outputs": [],
   "source": [
    "class Casa:\n",
    "    def __init__(self, calle, altura, superficie_total, superficie_cubierta):\n",
    "        self.calle = calle\n",
    "        self.altura = altura\n",
    "        self.superficie_total = superficie_total\n",
    "        if superficie_cubierta < superficie_total:\n",
    "            self.superficie_cubierta = self.superficie_cubierta\n",
    "        else:\n",
    "            print(\n",
    "                \"El valor de superficie cubierta no puede ser mayor a el de superficie total. Se asigna superficie cubierta = superficie total\"\n",
    "            )\n",
    "            self.superficie_cubierta = self.superficie_total"
   ]
  },
  {
   "cell_type": "code",
   "execution_count": null,
   "metadata": {
    "colab": {
     "base_uri": "https://localhost:8080/"
    },
    "id": "e8u8FNmoAU-K",
    "outputId": "1d414bb5-a29b-4842-8ead-9e294cc52685"
   },
   "outputs": [
    {
     "name": "stdout",
     "output_type": "stream",
     "text": [
      "El valor de superficie cubierta no puede ser mayor a el de superficie total. Se asigna superficie cubierta = superficie total\n"
     ]
    }
   ],
   "source": [
    "casa_1 = Casa(calle=\"Colón\", altura=2000, superficie_total=100, superficie_cubierta=106)"
   ]
  },
  {
   "cell_type": "code",
   "execution_count": null,
   "metadata": {
    "colab": {
     "base_uri": "https://localhost:8080/"
    },
    "id": "lF4mNXVnAfgC",
    "outputId": "14648f8e-8d5a-4293-9d0b-bc4b78b70827"
   },
   "outputs": [
    {
     "data": {
      "text/plain": [
       "100"
      ]
     },
     "execution_count": 23,
     "metadata": {
      "tags": []
     },
     "output_type": "execute_result"
    }
   ],
   "source": [
    "casa_1.superficie_cubierta"
   ]
  },
  {
   "cell_type": "code",
   "execution_count": null,
   "metadata": {
    "colab": {
     "base_uri": "https://localhost:8080/"
    },
    "id": "OAGzfL1HAjPJ",
    "outputId": "168cfea5-06c9-43d0-da55-42b641c9067a"
   },
   "outputs": [
    {
     "data": {
      "text/plain": [
       "100"
      ]
     },
     "execution_count": 24,
     "metadata": {
      "tags": []
     },
     "output_type": "execute_result"
    }
   ],
   "source": [
    "casa_1.superficie_total"
   ]
  },
  {
   "cell_type": "markdown",
   "metadata": {
    "id": "YdQCqi8VAqEk"
   },
   "source": [
    "Otro de los beneficios de trabajar con objetos consiste en tener todas las variables relevantes agrupadas en un mismo objeto. De esta forma se nos facilita la tarea a la hora de mover esta información.\n",
    "\n",
    "Por ejemplo, si tenemos una función que calcula el precio de una casa en base a distintas propiedades de la misma, sería mucho más fácil para nosotros pasarle a esa función un único argumento (el objeto casa), y no cada uno de sus atributos:"
   ]
  },
  {
   "cell_type": "code",
   "execution_count": null,
   "metadata": {
    "id": "eCKGjw-NAkaO"
   },
   "outputs": [],
   "source": [
    "def CalculaPrecios(casa):\n",
    "    precio = 7 * casa.superficie_total + 3 * casa.superficie_cubierta\n",
    "    return precio"
   ]
  },
  {
   "cell_type": "markdown",
   "metadata": {
    "id": "FyUfczazBo9p"
   },
   "source": [
    "# Ejercicios\n",
    "\n",
    "### Ejercicio 1\n",
    "\n",
    "Vamos a crear una clase llamada Persona. Sus atributos son: nombre, edad y DNI. Construye los siguientes métodos para la clase:\n",
    "\n",
    "- Un constructor (init), donde los datos pueden estar vacíos.\n",
    "- Un método set_ por cada atributo (set_nombre, set_edad y set_dni) en el que antes de setear un valor a los atributos se validen los mismos. Validar:\n",
    "  - Nombre tiene que ser str\n",
    "  - Edad tiene que ser int\n",
    "  - Dni tiene que ser str\n",
    "\n",
    "- Un método mostrar(): Muestra los datos de la persona.\n",
    "- Un método es_mayor_de_edad(): Devuelve un valor lógico indicando si es mayor de edad."
   ]
  },
  {
   "cell_type": "code",
   "execution_count": 13,
   "metadata": {
    "id": "l5CR6qkbA1em"
   },
   "outputs": [
    {
     "name": "stdout",
     "output_type": "stream",
     "text": [
      "Nombre: Ninguno\n",
      "Edad: 0\n",
      "DNI: 0\n",
      "Nombre: Juan\n",
      "Edad: 20\n",
      "DNI: 123456789\n",
      "Nombre: Pedro\n",
      "Edad: 18\n",
      "DNI: 987654321\n"
     ]
    },
    {
     "data": {
      "text/plain": [
       "True"
      ]
     },
     "execution_count": 13,
     "metadata": {},
     "output_type": "execute_result"
    }
   ],
   "source": [
    "class Persona:\n",
    "    def __init__(self, nombre=\"Ninguno\", edad=0, dni=0):\n",
    "        self.setNombre(nombre)\n",
    "        self.setEdad(edad)\n",
    "        self.setDni(dni)\n",
    "\n",
    "    def setNombre(self, nombre: str) -> str:\n",
    "        if type(nombre) != str:\n",
    "            raise TypeError(f\"{nombre} debe ser del tipo Cadena\")\n",
    "        # Los dos guiones despues de \"self.\" significa que la variable será privada, es decir NO puede hacer persona.nombre\n",
    "        # y solo podrá ser accesible a través de persona.mostrar() cuya funcion es justamente esa, sino no tendria sentido.\n",
    "        self.__nombre = nombre\n",
    "        return self.__nombre\n",
    "\n",
    "    def setEdad(self, edad: int) -> int:\n",
    "        if type(edad) != int:\n",
    "            raise TypeError(f\"{edad} debe ser del tipo Entero\")\n",
    "        self.__edad = edad\n",
    "        return self.__edad\n",
    "\n",
    "    def setDni(self, dni: int) -> int:\n",
    "        if type(dni) != int:\n",
    "            raise TypeError(f\"{dni} debe ser del tipo Entero\")\n",
    "        self.__dni = dni\n",
    "        return self.__dni\n",
    "\n",
    "    def mostrarDatos(self):\n",
    "        print(f\"Nombre: {self.__nombre}\")\n",
    "        print(f\"Edad: {self.__edad}\")\n",
    "        print(f\"DNI: {self.__dni}\")\n",
    "        return None\n",
    "\n",
    "    def esMayordeEdad(self) -> bool:\n",
    "        return self.__edad >= 18\n",
    "\n",
    "\n",
    "# Prueba de instancia vacía ----------------------------------------------------------------\n",
    "persona1 = Persona()\n",
    "persona1.mostrarDatos()\n",
    "\n",
    "# Prueba de instancia con datos ------------------------------------------------------------\n",
    "\n",
    "persona2 = Persona(nombre=\"Juan\", edad=20, dni=123456789)\n",
    "persona2.mostrarDatos()\n",
    "\n",
    "# Prueba de seteos -------------------------------------------------------------------------\n",
    "\n",
    "persona2.setNombre(\"Pedro\")\n",
    "persona2.setEdad(18)\n",
    "persona2.setDni(987654321)\n",
    "persona2.mostrarDatos()\n",
    "\n",
    "# Prueba de métodos -------------------------------------------------------------------------\n",
    "\n",
    "persona2.esMayordeEdad()"
   ]
  },
  {
   "cell_type": "markdown",
   "metadata": {},
   "source": [
    "### Ejercicio 2\n",
    "\n",
    "Crea una clase llamada Cuenta que tendrá los siguientes atributos: \n",
    "- titular (que es de el tipo Persona, la clase que creamos recién)\n",
    "- cantidad (puede tener decimales).\n",
    "El titular será obligatorio y la cantidad es opcional. Construye los siguientes métodos para la clase:\n",
    "\n",
    "- Un constructor, donde los datos pueden estar vacíos.\n",
    "- mostrar(): Muestra los datos de la cuenta.\n",
    "- ingresar(cantidad): se ingresa una cantidad a la cuenta, si la cantidad introducida es negativa, no se hará nada.\n",
    "- retirar(cantidad): se retira una cantidad a la cuenta. La cuenta puede estar en números negativos."
   ]
  },
  {
   "cell_type": "code",
   "execution_count": 19,
   "metadata": {},
   "outputs": [
    {
     "name": "stdout",
     "output_type": "stream",
     "text": [
      "Nombre: Juan, saldo: 0\n",
      "Nombre: Pedro, saldo: 1000\n",
      "Nombre: Pedro, saldo: 1100\n",
      "Nombre: Maria, saldo: 1000\n",
      "Nombre: Maria, saldo: -100\n"
     ]
    }
   ],
   "source": [
    "class Cuenta:\n",
    "    def __init__(self, nombre: str, cantidad=0):\n",
    "        self.__nombre = nombre\n",
    "        self.__cantidad = cantidad\n",
    "\n",
    "    def mostrar(self):\n",
    "        print(f\"Nombre: {self.__nombre}, saldo: {self.__cantidad}\")\n",
    "\n",
    "    def ingresar(self, cantidad):\n",
    "        if type(cantidad) not in (float, int):\n",
    "            raise ValueError(\"El valor ingresado debe ser un float\")\n",
    "        if cantidad > 0:\n",
    "            self.__cantidad += cantidad\n",
    "        return self.__cantidad\n",
    "\n",
    "    def retirar(self, cantidad):\n",
    "        if type(cantidad) not in (float, int):\n",
    "            raise ValueError(\"El valor ingresado debe ser un float\")\n",
    "        if cantidad > 0:\n",
    "            self.__cantidad -= cantidad\n",
    "        return self.__cantidad\n",
    "\n",
    "\n",
    "# Prueba de clase sin cantidad --------------------------------------------------------\n",
    "cuenta1 = Cuenta(\"Juan\")\n",
    "cuenta1.mostrar()\n",
    "\n",
    "# Prueba de clase con cantidad ingreso ------------------------------------------------\n",
    "\n",
    "cuenta2 = Cuenta(\"Pedro\", 1000)\n",
    "cuenta2.mostrar()\n",
    "cuenta2.ingresar(100)\n",
    "cuenta2.mostrar()\n",
    "\n",
    "# Prueba de clase con cantidad retiro ------------------------------------------------\n",
    "\n",
    "cuenta3 = Cuenta(\"Maria\", 1000)\n",
    "cuenta3.mostrar()\n",
    "cuenta3.retirar(1100)\n",
    "cuenta3.mostrar()"
   ]
  }
 ],
 "metadata": {
  "colab": {
   "name": "POO.ipynb",
   "provenance": []
  },
  "kernelspec": {
   "display_name": "Python 3 (ipykernel)",
   "language": "python",
   "name": "python3"
  },
  "language_info": {
   "codemirror_mode": {
    "name": "ipython",
    "version": 3
   },
   "file_extension": ".py",
   "mimetype": "text/x-python",
   "name": "python",
   "nbconvert_exporter": "python",
   "pygments_lexer": "ipython3",
   "version": "3.11.5"
  }
 },
 "nbformat": 4,
 "nbformat_minor": 1
}
