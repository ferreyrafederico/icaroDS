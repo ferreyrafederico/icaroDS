{
 "cells": [
  {
   "cell_type": "code",
   "execution_count": 1,
   "metadata": {},
   "outputs": [],
   "source": [
    "import numpy as np\n",
    "from scipy.stats import mode\n",
    "import pandas as pd"
   ]
  },
  {
   "cell_type": "markdown",
   "metadata": {},
   "source": [
    "Estimadores."
   ]
  },
  {
   "cell_type": "code",
   "execution_count": 2,
   "metadata": {},
   "outputs": [
    {
     "name": "stdout",
     "output_type": "stream",
     "text": [
      "Rango de la Moda: (20.0, 30.0)\n",
      "media = 48.45   mediana = 46.5   desviacion estandar = 28.66    varianza = 821.44\n"
     ]
    }
   ],
   "source": [
    "numbers=np.arange(0,101,1)\n",
    "numbers=np.append(numbers,np.array([25,25,50,45,30,25,25,25,30]))\n",
    "\n",
    "media=np.mean(numbers)\n",
    "mediana=np.median(numbers)\n",
    "dev=np.std(numbers,ddof=1)\n",
    "var=np.var(numbers,ddof=1)\n",
    "# media=np.std(numbers)\n",
    "# Para la moda en una variable continua se utiliza histograma con un n bin establecido\n",
    "hist,bins=np.histogram(numbers,bins=10)\n",
    "# Encuentra el índice del intervalo (bin) con la mayor frecuencia\n",
    "indice_moda = np.argmax(hist)\n",
    "# Imprime el rango del intervalo con la moda\n",
    "print(\"Rango de la Moda:\", (bins[indice_moda], bins[indice_moda + 1]))\n",
    "\n",
    "print(f'media = {round(media,2)}   mediana = {round(mediana,2)}   desviacion estandar = {round(dev,2)}    varianza = {round(var,2)}')"
   ]
  },
  {
   "cell_type": "markdown",
   "metadata": {},
   "source": [
    "Pandas."
   ]
  },
  {
   "cell_type": "markdown",
   "metadata": {},
   "source": [
    "Data Frames"
   ]
  },
  {
   "cell_type": "code",
   "execution_count": 3,
   "metadata": {},
   "outputs": [
    {
     "name": "stdout",
     "output_type": "stream",
     "text": [
      "Lista: [[7, 6, 3], [10, 1, 4], [4, 2, 5], [12, 5, 11]]\n",
      "Array: [[ 7  6  3]\n",
      " [10  1  4]\n",
      " [ 4  2  5]\n",
      " [12  5 11]]\n",
      "Diccionario: {'col-1': (7, 10, 4, 12), 'col-2': (6, 1, 2, 5), 'col-3': (3, 4, 5, 11)}\n"
     ]
    },
    {
     "data": {
      "text/html": [
       "<div>\n",
       "<style scoped>\n",
       "    .dataframe tbody tr th:only-of-type {\n",
       "        vertical-align: middle;\n",
       "    }\n",
       "\n",
       "    .dataframe tbody tr th {\n",
       "        vertical-align: top;\n",
       "    }\n",
       "\n",
       "    .dataframe thead th {\n",
       "        text-align: right;\n",
       "    }\n",
       "</style>\n",
       "<table border=\"1\" class=\"dataframe\">\n",
       "  <thead>\n",
       "    <tr style=\"text-align: right;\">\n",
       "      <th></th>\n",
       "      <th>col-1</th>\n",
       "      <th>col-2</th>\n",
       "      <th>col-3</th>\n",
       "    </tr>\n",
       "  </thead>\n",
       "  <tbody>\n",
       "    <tr>\n",
       "      <th>0</th>\n",
       "      <td>7</td>\n",
       "      <td>6</td>\n",
       "      <td>3</td>\n",
       "    </tr>\n",
       "    <tr>\n",
       "      <th>1</th>\n",
       "      <td>10</td>\n",
       "      <td>1</td>\n",
       "      <td>4</td>\n",
       "    </tr>\n",
       "    <tr>\n",
       "      <th>2</th>\n",
       "      <td>4</td>\n",
       "      <td>2</td>\n",
       "      <td>5</td>\n",
       "    </tr>\n",
       "    <tr>\n",
       "      <th>3</th>\n",
       "      <td>12</td>\n",
       "      <td>5</td>\n",
       "      <td>11</td>\n",
       "    </tr>\n",
       "  </tbody>\n",
       "</table>\n",
       "</div>"
      ],
      "text/plain": [
       "   col-1  col-2  col-3\n",
       "0      7      6      3\n",
       "1     10      1      4\n",
       "2      4      2      5\n",
       "3     12      5     11"
      ]
     },
     "execution_count": 3,
     "metadata": {},
     "output_type": "execute_result"
    }
   ],
   "source": [
    "datosLista = [[7, 6, 3], [10, 1, 4], [4, 2, 5], [12, 5, 11]]\n",
    "datosArray = np.array([[7, 6, 3], [10, 1, 4], [4, 2, 5], [12, 5, 11]])\n",
    "columnsNames=['col-1','col-2','col-3']\n",
    "datosDicc=dict(zip(columnsNames,zip(*datosLista)))\n",
    "\n",
    "print(f'Lista: {datosLista}')\n",
    "print(f'Array: {datosArray}')\n",
    "print(f'Diccionario: {datosDicc}')\n",
    "\n",
    "# df=pd.DataFrame(datosLista,columns=columnsNames)\n",
    "# df=pd.DataFrame(datosArray,columns=columnsNames)\n",
    "df=pd.DataFrame(datosDicc)\n",
    "df.head()\n"
   ]
  },
  {
   "cell_type": "markdown",
   "metadata": {},
   "source": [
    "Listar Columnas"
   ]
  },
  {
   "cell_type": "code",
   "execution_count": 4,
   "metadata": {},
   "outputs": [
    {
     "data": {
      "text/plain": [
       "['col-1', 'col-2', 'col-3']"
      ]
     },
     "execution_count": 4,
     "metadata": {},
     "output_type": "execute_result"
    }
   ],
   "source": [
    "list(df.columns)\n",
    "df.columns.to_list()"
   ]
  },
  {
   "cell_type": "markdown",
   "metadata": {},
   "source": [
    "Estimadores en pandas"
   ]
  },
  {
   "cell_type": "code",
   "execution_count": 5,
   "metadata": {},
   "outputs": [
    {
     "data": {
      "text/plain": [
       "(8.25, 8.5, 3.5, 12.25)"
      ]
     },
     "execution_count": 5,
     "metadata": {},
     "output_type": "execute_result"
    }
   ],
   "source": [
    "df['col-1'].mean(), df['col-1'].median(),df['col-1'].std(),df['col-1'].var()"
   ]
  },
  {
   "cell_type": "code",
   "execution_count": 6,
   "metadata": {},
   "outputs": [
    {
     "data": {
      "text/plain": [
       "(48.45454545454545, 46.5, 28.66082464022185, 821.4428690575479)"
      ]
     },
     "execution_count": 6,
     "metadata": {},
     "output_type": "execute_result"
    }
   ],
   "source": [
    "pd.Series(numbers).mean(),pd.Series(numbers).median(),pd.Series(numbers).std(),pd.Series(numbers).var()"
   ]
  },
  {
   "cell_type": "markdown",
   "metadata": {},
   "source": [
    "Data Frame Manejo."
   ]
  },
  {
   "cell_type": "code",
   "execution_count": 7,
   "metadata": {},
   "outputs": [
    {
     "data": {
      "text/plain": [
       "array([[ 7,  6,  3],\n",
       "       [10,  1,  4],\n",
       "       [ 4,  2,  5],\n",
       "       [12,  5, 11]], dtype=int64)"
      ]
     },
     "execution_count": 7,
     "metadata": {},
     "output_type": "execute_result"
    }
   ],
   "source": [
    "df.values"
   ]
  },
  {
   "cell_type": "code",
   "execution_count": 8,
   "metadata": {},
   "outputs": [
    {
     "data": {
      "text/plain": [
       "array([[ 7,  6,  3],\n",
       "       [10,  1,  4],\n",
       "       [ 4,  2,  5],\n",
       "       [12,  5, 11]], dtype=int64)"
      ]
     },
     "execution_count": 8,
     "metadata": {},
     "output_type": "execute_result"
    }
   ],
   "source": [
    "# Devuelve un array bidimensional con la data es decir con todos los registros sin los nombres de columna.\n",
    "df.values"
   ]
  },
  {
   "cell_type": "code",
   "execution_count": 9,
   "metadata": {},
   "outputs": [],
   "source": [
    "datosLista = [[7, 6, 3], [10, 1, 4], [4, 2, 5], [5, 5, 11],[5, 5, 11]]\n",
    "df=pd.DataFrame(datosLista,columns=columnsNames)"
   ]
  },
  {
   "cell_type": "code",
   "execution_count": 10,
   "metadata": {},
   "outputs": [
    {
     "data": {
      "text/plain": [
       "col-1  col-2  col-3\n",
       "5      5      11       2\n",
       "4      2      5        1\n",
       "7      6      3        1\n",
       "10     1      4        1\n",
       "Name: count, dtype: int64"
      ]
     },
     "execution_count": 10,
     "metadata": {},
     "output_type": "execute_result"
    }
   ],
   "source": [
    "# Cuenta registros IGUALES y ordena por la primera columna en form creciente por valor y primero por repeticion.\n",
    "df.value_counts() "
   ]
  },
  {
   "cell_type": "markdown",
   "metadata": {},
   "source": [
    "Información del data frame."
   ]
  },
  {
   "cell_type": "code",
   "execution_count": 11,
   "metadata": {},
   "outputs": [
    {
     "name": "stdout",
     "output_type": "stream",
     "text": [
      "<class 'pandas.core.frame.DataFrame'>\n",
      "RangeIndex: 5 entries, 0 to 4\n",
      "Data columns (total 3 columns):\n",
      " #   Column  Non-Null Count  Dtype\n",
      "---  ------  --------------  -----\n",
      " 0   col-1   5 non-null      int64\n",
      " 1   col-2   5 non-null      int64\n",
      " 2   col-3   5 non-null      int64\n",
      "dtypes: int64(3)\n",
      "memory usage: 252.0 bytes\n"
     ]
    }
   ],
   "source": [
    "df.info()"
   ]
  },
  {
   "cell_type": "code",
   "execution_count": 12,
   "metadata": {},
   "outputs": [
    {
     "data": {
      "text/html": [
       "<div>\n",
       "<style scoped>\n",
       "    .dataframe tbody tr th:only-of-type {\n",
       "        vertical-align: middle;\n",
       "    }\n",
       "\n",
       "    .dataframe tbody tr th {\n",
       "        vertical-align: top;\n",
       "    }\n",
       "\n",
       "    .dataframe thead th {\n",
       "        text-align: right;\n",
       "    }\n",
       "</style>\n",
       "<table border=\"1\" class=\"dataframe\">\n",
       "  <thead>\n",
       "    <tr style=\"text-align: right;\">\n",
       "      <th></th>\n",
       "      <th>col-1</th>\n",
       "      <th>col-2</th>\n",
       "      <th>col-3</th>\n",
       "    </tr>\n",
       "  </thead>\n",
       "  <tbody>\n",
       "    <tr>\n",
       "      <th>count</th>\n",
       "      <td>5.000000</td>\n",
       "      <td>5.000000</td>\n",
       "      <td>5.000000</td>\n",
       "    </tr>\n",
       "    <tr>\n",
       "      <th>mean</th>\n",
       "      <td>6.200000</td>\n",
       "      <td>3.800000</td>\n",
       "      <td>6.800000</td>\n",
       "    </tr>\n",
       "    <tr>\n",
       "      <th>std</th>\n",
       "      <td>2.387467</td>\n",
       "      <td>2.167948</td>\n",
       "      <td>3.898718</td>\n",
       "    </tr>\n",
       "    <tr>\n",
       "      <th>min</th>\n",
       "      <td>4.000000</td>\n",
       "      <td>1.000000</td>\n",
       "      <td>3.000000</td>\n",
       "    </tr>\n",
       "    <tr>\n",
       "      <th>25%</th>\n",
       "      <td>5.000000</td>\n",
       "      <td>2.000000</td>\n",
       "      <td>4.000000</td>\n",
       "    </tr>\n",
       "    <tr>\n",
       "      <th>50%</th>\n",
       "      <td>5.000000</td>\n",
       "      <td>5.000000</td>\n",
       "      <td>5.000000</td>\n",
       "    </tr>\n",
       "    <tr>\n",
       "      <th>75%</th>\n",
       "      <td>7.000000</td>\n",
       "      <td>5.000000</td>\n",
       "      <td>11.000000</td>\n",
       "    </tr>\n",
       "    <tr>\n",
       "      <th>max</th>\n",
       "      <td>10.000000</td>\n",
       "      <td>6.000000</td>\n",
       "      <td>11.000000</td>\n",
       "    </tr>\n",
       "  </tbody>\n",
       "</table>\n",
       "</div>"
      ],
      "text/plain": [
       "           col-1     col-2      col-3\n",
       "count   5.000000  5.000000   5.000000\n",
       "mean    6.200000  3.800000   6.800000\n",
       "std     2.387467  2.167948   3.898718\n",
       "min     4.000000  1.000000   3.000000\n",
       "25%     5.000000  2.000000   4.000000\n",
       "50%     5.000000  5.000000   5.000000\n",
       "75%     7.000000  5.000000  11.000000\n",
       "max    10.000000  6.000000  11.000000"
      ]
     },
     "execution_count": 12,
     "metadata": {},
     "output_type": "execute_result"
    }
   ],
   "source": [
    "df.describe()"
   ]
  },
  {
   "cell_type": "markdown",
   "metadata": {},
   "source": [
    "Información personalizada."
   ]
  },
  {
   "cell_type": "code",
   "execution_count": 13,
   "metadata": {},
   "outputs": [
    {
     "data": {
      "text/html": [
       "<div>\n",
       "<style scoped>\n",
       "    .dataframe tbody tr th:only-of-type {\n",
       "        vertical-align: middle;\n",
       "    }\n",
       "\n",
       "    .dataframe tbody tr th {\n",
       "        vertical-align: top;\n",
       "    }\n",
       "\n",
       "    .dataframe thead th {\n",
       "        text-align: right;\n",
       "    }\n",
       "</style>\n",
       "<table border=\"1\" class=\"dataframe\">\n",
       "  <thead>\n",
       "    <tr style=\"text-align: right;\">\n",
       "      <th></th>\n",
       "      <th>col-1</th>\n",
       "      <th>col-2</th>\n",
       "      <th>col-3</th>\n",
       "    </tr>\n",
       "  </thead>\n",
       "  <tbody>\n",
       "    <tr>\n",
       "      <th>Tipo de dato</th>\n",
       "      <td>int64</td>\n",
       "      <td>int64</td>\n",
       "      <td>int64</td>\n",
       "    </tr>\n",
       "    <tr>\n",
       "      <th>Valores no nulos</th>\n",
       "      <td>5</td>\n",
       "      <td>5</td>\n",
       "      <td>5</td>\n",
       "    </tr>\n",
       "    <tr>\n",
       "      <th>NaNs</th>\n",
       "      <td>0</td>\n",
       "      <td>0</td>\n",
       "      <td>0</td>\n",
       "    </tr>\n",
       "    <tr>\n",
       "      <th>Valores únicos</th>\n",
       "      <td>4</td>\n",
       "      <td>4</td>\n",
       "      <td>4</td>\n",
       "    </tr>\n",
       "    <tr>\n",
       "      <th>Valores cero</th>\n",
       "      <td>0</td>\n",
       "      <td>0</td>\n",
       "      <td>0</td>\n",
       "    </tr>\n",
       "  </tbody>\n",
       "</table>\n",
       "</div>"
      ],
      "text/plain": [
       "                  col-1  col-2  col-3\n",
       "Tipo de dato      int64  int64  int64\n",
       "Valores no nulos      5      5      5\n",
       "NaNs                  0      0      0\n",
       "Valores únicos        4      4      4\n",
       "Valores cero          0      0      0"
      ]
     },
     "execution_count": 13,
     "metadata": {},
     "output_type": "execute_result"
    }
   ],
   "source": [
    "info_df = pd.DataFrame(df.dtypes, columns=['Tipo de dato']) # df.dtypes devuelve una serie con los tipos de cada columna.\n",
    "info_df['Valores no nulos'] = df.count()    # df.count() devuelve una serie con el conteo los valores no Nan de cada columna.\n",
    "info_df['NaNs'] = df.isna().sum()   # df.isna().sum() primero identifica los NaNs y luego los suma por cada columna. Serie.\n",
    "info_df['Valores únicos'] = df.nunique() # df.nunique() devuelve una serie con el conteo los valores únicos de cada columna. Serie\n",
    "info_df['Valores cero'] = (df.eq(0)).sum() # df.eq(0).sum() devuelve una serie con el conteo los valores únicos de cada columna. Serie\n",
    "info_df.T # Se transpone el dataframe creado (info_df)"
   ]
  },
  {
   "cell_type": "markdown",
   "metadata": {},
   "source": [
    "Selecciones de columnas registros y rangos."
   ]
  },
  {
   "cell_type": "code",
   "execution_count": 14,
   "metadata": {},
   "outputs": [
    {
     "data": {
      "text/plain": [
       "pandas.core.frame.DataFrame"
      ]
     },
     "execution_count": 14,
     "metadata": {},
     "output_type": "execute_result"
    }
   ],
   "source": [
    "df['col-1'] # Esto devuelve una serie con la columna.\n",
    "# type(df['col-1'])\n",
    "df[['col-1']] # Esto devuelve un dataframe con la columna.\n",
    "type(df[['col-1']])"
   ]
  },
  {
   "cell_type": "code",
   "execution_count": 15,
   "metadata": {},
   "outputs": [
    {
     "data": {
      "text/html": [
       "<div>\n",
       "<style scoped>\n",
       "    .dataframe tbody tr th:only-of-type {\n",
       "        vertical-align: middle;\n",
       "    }\n",
       "\n",
       "    .dataframe tbody tr th {\n",
       "        vertical-align: top;\n",
       "    }\n",
       "\n",
       "    .dataframe thead th {\n",
       "        text-align: right;\n",
       "    }\n",
       "</style>\n",
       "<table border=\"1\" class=\"dataframe\">\n",
       "  <thead>\n",
       "    <tr style=\"text-align: right;\">\n",
       "      <th></th>\n",
       "      <th>col-1</th>\n",
       "      <th>col-2</th>\n",
       "    </tr>\n",
       "  </thead>\n",
       "  <tbody>\n",
       "    <tr>\n",
       "      <th>2</th>\n",
       "      <td>4</td>\n",
       "      <td>2</td>\n",
       "    </tr>\n",
       "    <tr>\n",
       "      <th>3</th>\n",
       "      <td>5</td>\n",
       "      <td>5</td>\n",
       "    </tr>\n",
       "  </tbody>\n",
       "</table>\n",
       "</div>"
      ],
      "text/plain": [
       "   col-1  col-2\n",
       "2      4      2\n",
       "3      5      5"
      ]
     },
     "execution_count": 15,
     "metadata": {},
     "output_type": "execute_result"
    }
   ],
   "source": [
    "# loc[filas,[columnas]] devuelve un rango bidimensionl como otro dataframe. Los extremos si están incluidos.\n",
    "df.loc[2:3,['col-1','col-2']]"
   ]
  },
  {
   "cell_type": "code",
   "execution_count": 29,
   "metadata": {},
   "outputs": [
    {
     "data": {
      "text/html": [
       "<div>\n",
       "<style scoped>\n",
       "    .dataframe tbody tr th:only-of-type {\n",
       "        vertical-align: middle;\n",
       "    }\n",
       "\n",
       "    .dataframe tbody tr th {\n",
       "        vertical-align: top;\n",
       "    }\n",
       "\n",
       "    .dataframe thead th {\n",
       "        text-align: right;\n",
       "    }\n",
       "</style>\n",
       "<table border=\"1\" class=\"dataframe\">\n",
       "  <thead>\n",
       "    <tr style=\"text-align: right;\">\n",
       "      <th></th>\n",
       "      <th>col-2</th>\n",
       "    </tr>\n",
       "  </thead>\n",
       "  <tbody>\n",
       "    <tr>\n",
       "      <th>2</th>\n",
       "      <td>2</td>\n",
       "    </tr>\n",
       "  </tbody>\n",
       "</table>\n",
       "</div>"
      ],
      "text/plain": [
       "   col-2\n",
       "2      2"
      ]
     },
     "execution_count": 29,
     "metadata": {},
     "output_type": "execute_result"
    }
   ],
   "source": [
    "# iloc[filas posicion,columnas posicion] devuelve un rango bidimensionl como otro dataframe. El extremo final NO están incluido.\n",
    "# df.iloc[2:3,1:2]\n",
    "df.iloc[2:3][['col-2']] # Otra forma de usar iloc combinando inices y nombres de columnas\n",
    "# type(df.iloc[2,1:2]) # Cuando no se hace slice en filas o columnas o no se colocan [] devuelve una serie. Serie\n",
    "# type(df.iloc[[2],1:2]) # dataframe."
   ]
  },
  {
   "cell_type": "markdown",
   "metadata": {},
   "source": [
    "Selección por condiciones."
   ]
  },
  {
   "cell_type": "code",
   "execution_count": 17,
   "metadata": {},
   "outputs": [
    {
     "data": {
      "text/html": [
       "<div>\n",
       "<style scoped>\n",
       "    .dataframe tbody tr th:only-of-type {\n",
       "        vertical-align: middle;\n",
       "    }\n",
       "\n",
       "    .dataframe tbody tr th {\n",
       "        vertical-align: top;\n",
       "    }\n",
       "\n",
       "    .dataframe thead th {\n",
       "        text-align: right;\n",
       "    }\n",
       "</style>\n",
       "<table border=\"1\" class=\"dataframe\">\n",
       "  <thead>\n",
       "    <tr style=\"text-align: right;\">\n",
       "      <th></th>\n",
       "      <th>col-2</th>\n",
       "    </tr>\n",
       "  </thead>\n",
       "  <tbody>\n",
       "    <tr>\n",
       "      <th>0</th>\n",
       "      <td>6</td>\n",
       "    </tr>\n",
       "    <tr>\n",
       "      <th>1</th>\n",
       "      <td>1</td>\n",
       "    </tr>\n",
       "  </tbody>\n",
       "</table>\n",
       "</div>"
      ],
      "text/plain": [
       "   col-2\n",
       "0      6\n",
       "1      1"
      ]
     },
     "execution_count": 17,
     "metadata": {},
     "output_type": "execute_result"
    }
   ],
   "source": [
    "condicion=df['col-1']>5\n",
    "df[condicion]['col-2'] # Devuelve una serie.\n",
    "df[condicion][['col-2']] # Devuelve un dataframe.\n"
   ]
  },
  {
   "cell_type": "markdown",
   "metadata": {},
   "source": [
    "GroupBy. Agrupar por."
   ]
  },
  {
   "cell_type": "code",
   "execution_count": 18,
   "metadata": {},
   "outputs": [
    {
     "data": {
      "text/html": [
       "<div>\n",
       "<style scoped>\n",
       "    .dataframe tbody tr th:only-of-type {\n",
       "        vertical-align: middle;\n",
       "    }\n",
       "\n",
       "    .dataframe tbody tr th {\n",
       "        vertical-align: top;\n",
       "    }\n",
       "\n",
       "    .dataframe thead th {\n",
       "        text-align: right;\n",
       "    }\n",
       "</style>\n",
       "<table border=\"1\" class=\"dataframe\">\n",
       "  <thead>\n",
       "    <tr style=\"text-align: right;\">\n",
       "      <th></th>\n",
       "      <th>Tienda</th>\n",
       "      <th>Producto</th>\n",
       "      <th>CantidadVendida</th>\n",
       "      <th>PrecioUnitario</th>\n",
       "      <th>Venta</th>\n",
       "    </tr>\n",
       "  </thead>\n",
       "  <tbody>\n",
       "    <tr>\n",
       "      <th>0</th>\n",
       "      <td>Tienda1</td>\n",
       "      <td>ProdA</td>\n",
       "      <td>6</td>\n",
       "      <td>35.835765</td>\n",
       "      <td>215.014587</td>\n",
       "    </tr>\n",
       "    <tr>\n",
       "      <th>1</th>\n",
       "      <td>Tienda2</td>\n",
       "      <td>ProdA</td>\n",
       "      <td>1</td>\n",
       "      <td>27.503488</td>\n",
       "      <td>27.503488</td>\n",
       "    </tr>\n",
       "    <tr>\n",
       "      <th>2</th>\n",
       "      <td>Tienda1</td>\n",
       "      <td>ProdA</td>\n",
       "      <td>4</td>\n",
       "      <td>45.670920</td>\n",
       "      <td>182.683680</td>\n",
       "    </tr>\n",
       "    <tr>\n",
       "      <th>3</th>\n",
       "      <td>Tienda2</td>\n",
       "      <td>ProdB</td>\n",
       "      <td>4</td>\n",
       "      <td>48.546510</td>\n",
       "      <td>194.186042</td>\n",
       "    </tr>\n",
       "    <tr>\n",
       "      <th>4</th>\n",
       "      <td>Tienda1</td>\n",
       "      <td>ProdB</td>\n",
       "      <td>8</td>\n",
       "      <td>25.337661</td>\n",
       "      <td>202.701286</td>\n",
       "    </tr>\n",
       "    <tr>\n",
       "      <th>5</th>\n",
       "      <td>Tienda2</td>\n",
       "      <td>ProdB</td>\n",
       "      <td>4</td>\n",
       "      <td>41.669002</td>\n",
       "      <td>166.676006</td>\n",
       "    </tr>\n",
       "  </tbody>\n",
       "</table>\n",
       "</div>"
      ],
      "text/plain": [
       "    Tienda Producto  CantidadVendida  PrecioUnitario       Venta\n",
       "0  Tienda1    ProdA                6       35.835765  215.014587\n",
       "1  Tienda2    ProdA                1       27.503488   27.503488\n",
       "2  Tienda1    ProdA                4       45.670920  182.683680\n",
       "3  Tienda2    ProdB                4       48.546510  194.186042\n",
       "4  Tienda1    ProdB                8       25.337661  202.701286\n",
       "5  Tienda2    ProdB                4       41.669002  166.676006"
      ]
     },
     "execution_count": 18,
     "metadata": {},
     "output_type": "execute_result"
    }
   ],
   "source": [
    "# Paso 1: Crear DataFrame\n",
    "\n",
    "np.random.seed(0)\n",
    "data = {\n",
    "    \"Tienda\": [\"Tienda1\", \"Tienda2\", \"Tienda1\", \"Tienda2\", \"Tienda1\", \"Tienda2\"],\n",
    "    \"Producto\": [\"ProdA\", \"ProdA\", \"ProdA\", \"ProdB\", \"ProdB\", \"ProdB\"],\n",
    "    \"CantidadVendida\": np.random.randint(1, 10, 6),\n",
    "    \"PrecioUnitario\": np.random.uniform(10, 50, 6),\n",
    "}\n",
    "dfv = pd.DataFrame(data)\n",
    "\n",
    "# Paso 2: Agregar la columna \"Venta\"\n",
    "\n",
    "dfv[\"Venta\"] = dfv[\"CantidadVendida\"] * dfv[\"PrecioUnitario\"]\n",
    "dfv"
   ]
  },
  {
   "cell_type": "markdown",
   "metadata": {},
   "source": [
    "Agrupar por Tienda."
   ]
  },
  {
   "cell_type": "code",
   "execution_count": 19,
   "metadata": {},
   "outputs": [
    {
     "data": {
      "text/plain": [
       "pandas.core.groupby.generic.SeriesGroupBy"
      ]
     },
     "execution_count": 19,
     "metadata": {},
     "output_type": "execute_result"
    }
   ],
   "source": [
    "type(dfv.groupby('Tienda')['Producto']) # Devuelve un tipo pandas.core.groupby.generic.SeriesGroupBy\n",
    "# type(dfv.groupby('Tienda')['Producto'].nunique()) # Devuelve una serie\n",
    "# pd.DataFrame(dfv.groupby('Tienda')['Producto'].unique()) # Se puede convertir en un dataframe."
   ]
  },
  {
   "cell_type": "markdown",
   "metadata": {},
   "source": [
    "Cuando se agrupa se tiene que reducir por una función de agregación.  \n",
    "Ejemplo: Encontrar el total de ventas por tienda."
   ]
  },
  {
   "cell_type": "code",
   "execution_count": 22,
   "metadata": {},
   "outputs": [
    {
     "data": {
      "text/html": [
       "<div>\n",
       "<style scoped>\n",
       "    .dataframe tbody tr th:only-of-type {\n",
       "        vertical-align: middle;\n",
       "    }\n",
       "\n",
       "    .dataframe tbody tr th {\n",
       "        vertical-align: top;\n",
       "    }\n",
       "\n",
       "    .dataframe thead th {\n",
       "        text-align: right;\n",
       "    }\n",
       "</style>\n",
       "<table border=\"1\" class=\"dataframe\">\n",
       "  <thead>\n",
       "    <tr style=\"text-align: right;\">\n",
       "      <th></th>\n",
       "      <th>Venta</th>\n",
       "    </tr>\n",
       "    <tr>\n",
       "      <th>Tienda</th>\n",
       "      <th></th>\n",
       "    </tr>\n",
       "  </thead>\n",
       "  <tbody>\n",
       "    <tr>\n",
       "      <th>Tienda1</th>\n",
       "      <td>600.399553</td>\n",
       "    </tr>\n",
       "    <tr>\n",
       "      <th>Tienda2</th>\n",
       "      <td>388.365536</td>\n",
       "    </tr>\n",
       "  </tbody>\n",
       "</table>\n",
       "</div>"
      ],
      "text/plain": [
       "              Venta\n",
       "Tienda             \n",
       "Tienda1  600.399553\n",
       "Tienda2  388.365536"
      ]
     },
     "execution_count": 22,
     "metadata": {},
     "output_type": "execute_result"
    }
   ],
   "source": [
    "dfv.groupby('Tienda')['Venta'].sum()    #Devuelve una serie\n",
    "type(dfv.groupby('Tienda')['Venta'].sum())\n",
    "dfv.groupby('Tienda')[['Venta']].sum()  # Devuelve un dataframe"
   ]
  },
  {
   "cell_type": "markdown",
   "metadata": {},
   "source": [
    "Encontrar el producto más vendido por tienda."
   ]
  },
  {
   "cell_type": "code",
   "execution_count": 37,
   "metadata": {},
   "outputs": [
    {
     "data": {
      "text/plain": [
       "Tienda\n",
       "Tienda1    4\n",
       "Tienda2    3\n",
       "Name: CantidadVendida, dtype: int64"
      ]
     },
     "execution_count": 37,
     "metadata": {},
     "output_type": "execute_result"
    }
   ],
   "source": [
    "imax=dfv.groupby('Tienda')['CantidadVendida'].idxmax()\n",
    "dfv.iloc[imax,0:2]\n",
    "# dfv.iloc[imax][['Tienda','Producto']] # Otra forma de usar iloc\n",
    "imax"
   ]
  },
  {
   "cell_type": "markdown",
   "metadata": {},
   "source": [
    "Calcular el monto total de ventas por producto."
   ]
  },
  {
   "cell_type": "code",
   "execution_count": 30,
   "metadata": {},
   "outputs": [
    {
     "data": {
      "text/html": [
       "<div>\n",
       "<style scoped>\n",
       "    .dataframe tbody tr th:only-of-type {\n",
       "        vertical-align: middle;\n",
       "    }\n",
       "\n",
       "    .dataframe tbody tr th {\n",
       "        vertical-align: top;\n",
       "    }\n",
       "\n",
       "    .dataframe thead th {\n",
       "        text-align: right;\n",
       "    }\n",
       "</style>\n",
       "<table border=\"1\" class=\"dataframe\">\n",
       "  <thead>\n",
       "    <tr style=\"text-align: right;\">\n",
       "      <th></th>\n",
       "      <th>Venta</th>\n",
       "    </tr>\n",
       "    <tr>\n",
       "      <th>Producto</th>\n",
       "      <th></th>\n",
       "    </tr>\n",
       "  </thead>\n",
       "  <tbody>\n",
       "    <tr>\n",
       "      <th>ProdA</th>\n",
       "      <td>425.201756</td>\n",
       "    </tr>\n",
       "    <tr>\n",
       "      <th>ProdB</th>\n",
       "      <td>563.563334</td>\n",
       "    </tr>\n",
       "  </tbody>\n",
       "</table>\n",
       "</div>"
      ],
      "text/plain": [
       "               Venta\n",
       "Producto            \n",
       "ProdA     425.201756\n",
       "ProdB     563.563334"
      ]
     },
     "execution_count": 30,
     "metadata": {},
     "output_type": "execute_result"
    }
   ],
   "source": [
    "dfv.groupby('Producto')[['Venta']].sum()"
   ]
  },
  {
   "cell_type": "markdown",
   "metadata": {},
   "source": [
    "Encontrar la tienda con el mayor monto total de ventas."
   ]
  },
  {
   "cell_type": "code",
   "execution_count": 42,
   "metadata": {},
   "outputs": [
    {
     "data": {
      "text/plain": [
       "'Tienda1'"
      ]
     },
     "execution_count": 42,
     "metadata": {},
     "output_type": "execute_result"
    }
   ],
   "source": [
    "imax=dfv.groupby('Tienda')[['Venta']].sum().idxmax()\n",
    "imax.iloc[0]"
   ]
  },
  {
   "cell_type": "markdown",
   "metadata": {},
   "source": [
    "Calcular el precio promedio de cada producto"
   ]
  },
  {
   "cell_type": "code",
   "execution_count": 45,
   "metadata": {},
   "outputs": [
    {
     "data": {
      "text/html": [
       "<div>\n",
       "<style scoped>\n",
       "    .dataframe tbody tr th:only-of-type {\n",
       "        vertical-align: middle;\n",
       "    }\n",
       "\n",
       "    .dataframe tbody tr th {\n",
       "        vertical-align: top;\n",
       "    }\n",
       "\n",
       "    .dataframe thead th {\n",
       "        text-align: right;\n",
       "    }\n",
       "</style>\n",
       "<table border=\"1\" class=\"dataframe\">\n",
       "  <thead>\n",
       "    <tr style=\"text-align: right;\">\n",
       "      <th></th>\n",
       "      <th>PrecioUnitario</th>\n",
       "    </tr>\n",
       "    <tr>\n",
       "      <th>Producto</th>\n",
       "      <th></th>\n",
       "    </tr>\n",
       "  </thead>\n",
       "  <tbody>\n",
       "    <tr>\n",
       "      <th>ProdA</th>\n",
       "      <td>36.336724</td>\n",
       "    </tr>\n",
       "    <tr>\n",
       "      <th>ProdB</th>\n",
       "      <td>38.517724</td>\n",
       "    </tr>\n",
       "  </tbody>\n",
       "</table>\n",
       "</div>"
      ],
      "text/plain": [
       "          PrecioUnitario\n",
       "Producto                \n",
       "ProdA          36.336724\n",
       "ProdB          38.517724"
      ]
     },
     "execution_count": 45,
     "metadata": {},
     "output_type": "execute_result"
    }
   ],
   "source": [
    "dfv.groupby('Producto')[['PrecioUnitario']].mean()"
   ]
  }
 ],
 "metadata": {
  "kernelspec": {
   "display_name": ".venv",
   "language": "python",
   "name": "python3"
  },
  "language_info": {
   "codemirror_mode": {
    "name": "ipython",
    "version": 3
   },
   "file_extension": ".py",
   "mimetype": "text/x-python",
   "name": "python",
   "nbconvert_exporter": "python",
   "pygments_lexer": "ipython3",
   "version": "3.11.5"
  }
 },
 "nbformat": 4,
 "nbformat_minor": 2
}
