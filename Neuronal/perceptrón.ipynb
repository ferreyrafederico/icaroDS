{
 "cells": [
  {
   "cell_type": "markdown",
   "metadata": {},
   "source": [
    "<img src=\"perceptrón.jpg\" alt=\"Texto alternativo\" width=\"50%\"><img src=\"perceptrón2.jpg\" alt=\"Texto alternativo\" width=\"50%\">"
   ]
  },
  {
   "cell_type": "code",
   "execution_count": 1,
   "metadata": {},
   "outputs": [],
   "source": [
    "import numpy as np\n",
    "import pandas as pd\n",
    "import matplotlib.pyplot as plt"
   ]
  },
  {
   "cell_type": "code",
   "execution_count": 153,
   "metadata": {},
   "outputs": [
    {
     "data": {
      "image/png": "[encoded data removed]",
      "text/plain": [
       "<Figure size 700x500 with 1 Axes>"
      ]
     },
     "metadata": {},
     "output_type": "display_data"
    },
    {
     "data": {
      "text/plain": [
       "array([[0.3, 0.4],\n",
       "       [0.4, 0.3],\n",
       "       [0.3, 0.2],\n",
       "       [0.4, 0.1],\n",
       "       [0.5, 0.2]])"
      ]
     },
     "execution_count": 153,
     "metadata": {},
     "output_type": "execute_result"
    }
   ],
   "source": [
    "# Datos de 10 personas\n",
    "X=np.array([[0.3,0.4 ],[0.4,0.3],[0.3,0.2],[0.4,0.1],[0.5,0.2],[0.4,0.8],[0.6,0.8],[0.5,0.6],[0.7,0.6],[0.8,0.5]])\n",
    "y=np.array([0,0,0,0,0,1,1,1,1,1])\n",
    "\n",
    "# Grafica de 10 personas\n",
    "plt.figure(figsize=(7,5))\n",
    "plt.title(\"Tarjeta Platinum\")\n",
    "plt.scatter(X[y==0].T[0],X[y==0].T[1],marker=\"x\",s=50,color=\"Red\",label=\"Denegada\")\n",
    "plt.scatter(X[y==1].T[0],X[y==1].T[1],marker=\"o\",s=50,color=\"Green\",label=\"Aprobada\")\n",
    "plt.xlabel(\"Edad\")\n",
    "plt.ylabel(\"Ahorro\")\n",
    "plt.xlim((0,1.01))\n",
    "plt.ylim((0,1.01))\n",
    "plt.grid()\n",
    "plt.show()\n",
    "X[y==0]"
   ]
  },
  {
   "cell_type": "code",
   "execution_count": 154,
   "metadata": {},
   "outputs": [
    {
     "data": {
      "text/plain": [
       "(array([ 0.22385822, -0.60438528]), -0.8171981644055901, 0)"
      ]
     },
     "execution_count": 154,
     "metadata": {},
     "output_type": "execute_result"
    }
   ],
   "source": [
    "def activacion(w,x,b):\n",
    "    if np.dot(w,x)+b>0:\n",
    "        return 1\n",
    "    return 0\n",
    "\n",
    "w=np.random.uniform(-1,1,size=2)\n",
    "b=np.random.uniform(-1,1)\n",
    "\n",
    "w,b,activacion(w,[0.5,0.4],b)"
   ]
  },
  {
   "cell_type": "code",
   "execution_count": 170,
   "metadata": {},
   "outputs": [
    {
     "name": "stdout",
     "output_type": "stream",
     "text": [
      "5555567788777777766766765565545443222222223222221222100000000000000000000000000000000000000000000000"
     ]
    },
    {
     "data": {
      "text/plain": [
       "1"
      ]
     },
     "execution_count": 170,
     "metadata": {},
     "output_type": "execute_result"
    }
   ],
   "source": [
    "tasa=0.01\n",
    "epocas=100\n",
    "w=np.random.uniform(-1,1,size=2)\n",
    "b=np.random.uniform(-1,1)\n",
    "\n",
    "for e in range(epocas):\n",
    "    error2=0\n",
    "    for i,x in enumerate(X):\n",
    "        y_p=activacion(w,x,b)\n",
    "        error=y[i]-y_p\n",
    "        error2+=error**2\n",
    "        w+=tasa*error*x\n",
    "        b+=tasa*error\n",
    "    print(f'{error2}',end='')\n",
    "\n",
    "activacion(w,[0.6,0.5],b)\n"
   ]
  },
  {
   "cell_type": "markdown",
   "metadata": {},
   "source": [
    "#### Armado de clase perceptron."
   ]
  },
  {
   "cell_type": "code",
   "execution_count": 156,
   "metadata": {},
   "outputs": [],
   "source": [
    "import numpy as np\n",
    "\n",
    "class Fperceptron:\n",
    "\n",
    "    def __init__(self, epocas=100, tasa=0.01):\n",
    "        self.epocas = epocas\n",
    "        self.tasa = tasa\n",
    "    \n",
    "    def activacion(self, w, x, b):\n",
    "        if np.dot(w, x) + b > 0:\n",
    "            return 1\n",
    "        return 0\n",
    "    \n",
    "    def fit(self, X, y):\n",
    "        nx = X.shape[1]\n",
    "        w = np.random.uniform(-1, 1, size=nx)\n",
    "        b = np.random.uniform(-1, 1)\n",
    "\n",
    "        for e in range(self.epocas):\n",
    "            error2 = 0\n",
    "            for i, x in enumerate(X):\n",
    "                y_p = self.activacion(w, x, b)\n",
    "                error = y[i] - y_p\n",
    "                error2 += error**2\n",
    "                w += self.tasa * error * x\n",
    "                b += self.tasa * error\n",
    "        return self\n",
    "    \n",
    "    def predict(self, X):\n",
    "        yp = []\n",
    "        for x in X:\n",
    "            yp.append(self.activacion(w, x, b))\n",
    "        return yp"
   ]
  },
  {
   "cell_type": "code",
   "execution_count": 157,
   "metadata": {},
   "outputs": [
    {
     "data": {
      "text/plain": [
       "([1, 1, 0, 1], array([1, 1, 0, 0]))"
      ]
     },
     "execution_count": 157,
     "metadata": {},
     "output_type": "execute_result"
    }
   ],
   "source": [
    "from sklearn.linear_model import Perceptron\n",
    "perceptron1=Fperceptron(epocas=200,tasa=0.01).fit(X,y)\n",
    "yp=perceptron1.predict([[0.5,0.8],[0.4,0.8],[0.2,0.2],[0.4,0.45]])\n",
    "perceptron2 = Perceptron(max_iter=200).fit(X,y)\n",
    "yp2=perceptron2.predict([[0.5,0.8],[0.4,0.8],[0.2,0.2],[0.4,0.45]])\n",
    "yp,yp2\n"
   ]
  },
  {
   "cell_type": "code",
   "execution_count": 200,
   "metadata": {},
   "outputs": [],
   "source": [
    "import numpy as np\n",
    "\n",
    "class Fperceptron:\n",
    "\n",
    "    def __init__(self, epocas=100, tasa=0.01, shuffle=True):\n",
    "        self.epocas = epocas\n",
    "        self.tasa = tasa\n",
    "        self.shuffle = shuffle\n",
    "        self.w=None\n",
    "        self.b=None\n",
    "    \n",
    "    def activacion(self, w, x, b):\n",
    "        if np.dot(w, x) + b > 0:\n",
    "            return 1\n",
    "        return 0\n",
    "    \n",
    "    def fit(self, X, y):\n",
    "        nx = X.shape[1]\n",
    "        self.w = np.random.uniform(-1, 1, size=nx)\n",
    "        self.b = np.random.uniform(-1, 1)\n",
    "\n",
    "        for e in range(self.epocas):\n",
    "            error2 = 0\n",
    "            if self.shuffle:\n",
    "                # Mezclar los datos\n",
    "                indices = np.random.permutation(len(X))\n",
    "                X = X[indices]\n",
    "                y = y[indices]\n",
    "            for i, x in enumerate(X):\n",
    "                y_p = self.activacion(self.w, x, self.b)\n",
    "                error = y[i] - y_p\n",
    "                error2 += error**2\n",
    "                self.w += self.tasa * error * x\n",
    "                self.b += self.tasa * error\n",
    "        return self\n",
    "    \n",
    "    def predict(self, X):\n",
    "        yp = []\n",
    "        for x in X:\n",
    "            yp.append(self.activacion(self.w, x, self.b))\n",
    "        return np.array(yp)"
   ]
  },
  {
   "cell_type": "code",
   "execution_count": 215,
   "metadata": {},
   "outputs": [
    {
     "data": {
      "text/plain": [
       "(array([1, 1, 0, 0]), array([1, 1, 0, 0]))"
      ]
     },
     "execution_count": 215,
     "metadata": {},
     "output_type": "execute_result"
    }
   ],
   "source": [
    "from sklearn.linear_model import Perceptron\n",
    "perceptron1=Fperceptron(epocas=200,tasa=0.01).fit(X,y)\n",
    "yp=perceptron1.predict([[0.5,0.8],[0.4,0.8],[0.2,0.2],[0.4,0.45]])\n",
    "perceptron2 = Perceptron(max_iter=200).fit(X,y)\n",
    "yp2=perceptron2.predict([[0.5,0.8],[0.4,0.8],[0.2,0.2],[0.4,0.45]])\n",
    "yp,yp2"
   ]
  },
  {
   "cell_type": "code",
   "execution_count": 216,
   "metadata": {},
   "outputs": [
    {
     "data": {
      "image/png": "[encoded data removed]",
      "text/plain": [
       "<Figure size 700x700 with 1 Axes>"
      ]
     },
     "metadata": {},
     "output_type": "display_data"
    }
   ],
   "source": [
    "# Crear un array de dos componentes que va de 0 a 1 en incrementos de 0.05\n",
    "componentes = np.arange(0., 1.05, 0.05)\n",
    "\n",
    "# Crear el array final de arrays de dos componentes\n",
    "Xtest = np.array([[a, b] for a in componentes for b in componentes])\n",
    "ytest=perceptron1.predict(Xtest)\n",
    "\n",
    "plt.figure(figsize=(7,7))\n",
    "plt.title(\"Tarjeta Platinum\")\n",
    "plt.scatter(X[y==0].T[0],X[y==0].T[1],marker=\"x\",s=50,color=\"Red\",label=\"Denegada\")\n",
    "plt.scatter(X[y==1].T[0],X[y==1].T[1],marker=\"o\",s=50,color=\"Green\",label=\"Aprobada\")\n",
    "plt.scatter(Xtest[ytest==0].T[0],Xtest[ytest==0].T[1],marker=\"s\",s=320,color=\"Red\",alpha=0.2,)\n",
    "plt.scatter(Xtest[ytest==1].T[0],Xtest[ytest==1].T[1],marker=\"s\",s=320,color=\"Blue\",alpha=0.2)\n",
    "plt.xlabel(\"Edad\")\n",
    "plt.ylabel(\"Ahorro\")\n",
    "plt.xlim((0,1.01))\n",
    "plt.ylim((0,1.01))\n",
    "plt.grid()\n",
    "plt.show()"
   ]
  },
  {
   "cell_type": "markdown",
   "metadata": {},
   "source": [
    "#### Otro Perceptron"
   ]
  },
  {
   "cell_type": "code",
   "execution_count": 32,
   "metadata": {},
   "outputs": [],
   "source": [
    "def X_al(n,p):\n",
    "    x=np.random.uniform(-1,1,size=(n, p))\n",
    "    return x"
   ]
  },
  {
   "cell_type": "code",
   "execution_count": 31,
   "metadata": {},
   "outputs": [
    {
     "data": {
      "text/plain": [
       "(array([[-0.55595539],\n",
       "        [-0.00944325],\n",
       "        [-0.75416541],\n",
       "        [ 0.26825525],\n",
       "        [-0.19970654]]),\n",
       " array([[0.44404461],\n",
       "        [0.99055675],\n",
       "        [0.24583459],\n",
       "        [1.26825525],\n",
       "        [0.80029346]]))"
      ]
     },
     "execution_count": 31,
     "metadata": {},
     "output_type": "execute_result"
    }
   ],
   "source": [
    "a=X_al(5,1)\n",
    "b=X_al(1,5)\n",
    "a @ b\n",
    "a,a+1"
   ]
  },
  {
   "cell_type": "markdown",
   "metadata": {},
   "source": [
    "#### Perceptron"
   ]
  },
  {
   "cell_type": "code",
   "execution_count": 2,
   "metadata": {},
   "outputs": [],
   "source": [
    "class Fper:\n",
    "    def __init__(self,p,fact):\n",
    "        self.p=p\n",
    "        self.fact=fact\n",
    "        self.w=np.random.uniform(-1,1,size=(p, 1))\n",
    "        self.b=0.0\n",
    "    \n",
    "    def predict(self,X):\n",
    "        yp=self.fact(X @ self.w + self.b,'relu')\n",
    "        return yp\n",
    "    \n",
    "    def fit(self,X,y,epocas=100):\n",
    "        for i in range(epocas):\n",
    "            yp=[]\n",
    "            for j,x in enumerate(X):\n",
    "                ypj=self.predict(x)\n",
    "                yp.append(ypj)\n",
    "                e=(y[j]-ypj)*0.01\n",
    "                self.w=self.w+x[:,None]*e\n",
    "                self.b=self.b+e\n",
    "        return X,y,yp,e,self.w"
   ]
  },
  {
   "cell_type": "code",
   "execution_count": 30,
   "metadata": {},
   "outputs": [],
   "source": [
    "def fact(z, op,**kwargs):\n",
    "    funciones_activacion = {\n",
    "        'elu': elu,\n",
    "        'leaky_relu': leaky_relu,\n",
    "        'relu': relu,\n",
    "        'sigmoid': sigmoid,\n",
    "        'softplus': softplus,\n",
    "        'softmax': softmax,\n",
    "        'swish': swish,\n",
    "        'tanh': tanh\n",
    "    }\n",
    "    assert op in funciones_activacion, f\"Función de activación no válida. Por favor, elija entre {list(funciones_activacion.keys())}.\"\n",
    "    return funciones_activacion[op](z,**kwargs)\n",
    "\n",
    "def elu(z, alpha=1.0):\n",
    "    return np.where(z > 0, z, alpha * (np.exp(z) - 1))\n",
    "\n",
    "def leaky_relu(z, alpha=0.01):\n",
    "    return np.where(z > 0, z, alpha * z)\n",
    "\n",
    "def relu(z):\n",
    "    return np.maximum(0, z)\n",
    "\n",
    "def sigmoid(z):\n",
    "    return 1 / (1 + np.exp(-z))\n",
    "\n",
    "def softplus(z):\n",
    "    return np.log(1 + np.exp(z))\n",
    "\n",
    "def softmax(z):\n",
    "    exp_z = np.exp(z)\n",
    "    return exp_z / np.sum(exp_z)\n",
    "\n",
    "def swish(z):\n",
    "    return z * sigmoid(z)\n",
    "\n",
    "def tanh(z):\n",
    "    return np.tanh(z)"
   ]
  },
  {
   "cell_type": "code",
   "execution_count": 24,
   "metadata": {},
   "outputs": [
    {
     "data": {
      "text/plain": [
       "array([-2.0e+00,  2.0e+00,  3.0e+00, -2.0e-02,  1.1e+00,  1.0e-03,\n",
       "        2.0e-01,  5.0e-01, -1.0e+00, -6.0e+00])"
      ]
     },
     "execution_count": 24,
     "metadata": {},
     "output_type": "execute_result"
    }
   ],
   "source": [
    "zz=np.array([-1.,2.,3.,-0.01,1.1,0.001,0.2,0.5,-0.5,-3.])\n",
    "fact(zz,'leaky_relu',alpha=2)"
   ]
  },
  {
   "cell_type": "code",
   "execution_count": 120,
   "metadata": {},
   "outputs": [
    {
     "data": {
      "text/plain": [
       "(array([[0, 0],\n",
       "        [0, 1],\n",
       "        [1, 0],\n",
       "        [1, 1]]),\n",
       " array([[0],\n",
       "        [1],\n",
       "        [1],\n",
       "        [1]]))"
      ]
     },
     "execution_count": 120,
     "metadata": {},
     "output_type": "execute_result"
    }
   ],
   "source": [
    "X=np.array([[0,0],[0,1],[1,0],[1,1]])\n",
    "y=np.array([[0],[1],[1],[1]])\n",
    "X,y"
   ]
  },
  {
   "cell_type": "code",
   "execution_count": 186,
   "metadata": {},
   "outputs": [],
   "source": [
    "fperceptron=Fper(2,fact)"
   ]
  },
  {
   "cell_type": "code",
   "execution_count": 187,
   "metadata": {},
   "outputs": [
    {
     "data": {
      "text/plain": [
       "(array([[0, 0],\n",
       "        [0, 1],\n",
       "        [1, 0],\n",
       "        [1, 1]]),\n",
       " array([[0],\n",
       "        [1],\n",
       "        [1],\n",
       "        [1]]),\n",
       " [array([0.48600576]),\n",
       "  array([0.92261767]),\n",
       "  array([0.64091163]),\n",
       "  array([1.0903392])],\n",
       " array([-0.00090339]),\n",
       " array([[0.1616796],\n",
       "        [0.4413424]]))"
      ]
     },
     "execution_count": 187,
     "metadata": {},
     "output_type": "execute_result"
    }
   ],
   "source": [
    "fperceptron.fit(X,y,epocas=100)"
   ]
  },
  {
   "cell_type": "code",
   "execution_count": 195,
   "metadata": {},
   "outputs": [
    {
     "data": {
      "text/plain": [
       "array([0.92594942])"
      ]
     },
     "execution_count": 195,
     "metadata": {},
     "output_type": "execute_result"
    }
   ],
   "source": [
    "fperceptron.predict([0,1])"
   ]
  },
  {
   "cell_type": "code",
   "execution_count": 48,
   "metadata": {},
   "outputs": [
    {
     "data": {
      "text/plain": [
       "array([0, 1, 2, 3, 4, 5, 6, 7, 8, 9])"
      ]
     },
     "execution_count": 48,
     "metadata": {},
     "output_type": "execute_result"
    }
   ],
   "source": [
    "np.arange(10)"
   ]
  },
  {
   "cell_type": "code",
   "execution_count": 50,
   "metadata": {},
   "outputs": [
    {
     "data": {
      "text/plain": [
       "array([[-0.38159462,  0.62520284, -0.05278895],\n",
       "       [ 0.46477197,  0.53654719,  0.56501423],\n",
       "       [ 0.46794144,  0.61214151, -0.42724197],\n",
       "       [ 0.36633094,  0.2963245 , -0.75143007],\n",
       "       [ 0.4014423 , -0.22418163, -0.19825772]])"
      ]
     },
     "execution_count": 50,
     "metadata": {},
     "output_type": "execute_result"
    }
   ],
   "source": [
    "prob=X_al(5,3)\n",
    "prob"
   ]
  },
  {
   "cell_type": "code",
   "execution_count": 56,
   "metadata": {},
   "outputs": [
    {
     "data": {
      "text/plain": [
       "array([ 0.46477197,  0.61214151, -0.75143007])"
      ]
     },
     "execution_count": 56,
     "metadata": {},
     "output_type": "execute_result"
    }
   ],
   "source": [
    "prob[[1,2,3],np.arange(3)]"
   ]
  },
  {
   "cell_type": "code",
   "execution_count": 58,
   "metadata": {},
   "outputs": [
    {
     "data": {
      "text/plain": [
       "array([3, 5, 7])"
      ]
     },
     "execution_count": 58,
     "metadata": {},
     "output_type": "execute_result"
    }
   ],
   "source": [
    "a=np.array([1,2,3])\n",
    "b=np.array([2,3,4])\n",
    "a+b"
   ]
  },
  {
   "cell_type": "code",
   "execution_count": 87,
   "metadata": {},
   "outputs": [
    {
     "data": {
      "text/plain": [
       "array([[-0.43257979],\n",
       "       [-0.07429665]])"
      ]
     },
     "execution_count": 87,
     "metadata": {},
     "output_type": "execute_result"
    }
   ],
   "source": [
    "a=np.random.uniform(-1,1,size=(5, 1))\n",
    "b=np.random.uniform(-1,1,size=(5,2))\n",
    "b.T@a"
   ]
  }
 ],
 "metadata": {
  "kernelspec": {
   "display_name": ".venv",
   "language": "python",
   "name": "python3"
  },
  "language_info": {
   "codemirror_mode": {
    "name": "ipython",
    "version": 3
   },
   "file_extension": ".py",
   "mimetype": "text/x-python",
   "name": "python",
   "nbconvert_exporter": "python",
   "pygments_lexer": "ipython3",
   "version": "3.11.5"
  }
 },
 "nbformat": 4,
 "nbformat_minor": 2
}
